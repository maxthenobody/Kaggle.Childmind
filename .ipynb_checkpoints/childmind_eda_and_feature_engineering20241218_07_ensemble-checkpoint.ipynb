{
 "cells": [
  {
   "cell_type": "code",
   "execution_count": 1,
   "metadata": {},
   "outputs": [
    {
     "data": {
      "text/plain": [
       "polars.config.Config"
      ]
     },
     "execution_count": 1,
     "metadata": {},
     "output_type": "execute_result"
    }
   ],
   "source": [
    "import numpy as np\n",
    "import pandas as pd\n",
    "import os\n",
    "import re\n",
    "from sklearn.base import clone\n",
    "from sklearn.metrics import cohen_kappa_score\n",
    "from sklearn.model_selection import StratifiedKFold, ShuffleSplit\n",
    "from scipy.optimize import minimize\n",
    "from concurrent.futures import ThreadPoolExecutor\n",
    "from tqdm import tqdm\n",
    "import polars as pl\n",
    "import polars.selectors as cs\n",
    "import matplotlib.pyplot as plt\n",
    "from matplotlib.ticker import MaxNLocator, FormatStrFormatter, PercentFormatter\n",
    "import seaborn as sns\n",
    "\n",
    "from sklearn.preprocessing import StandardScaler\n",
    "import matplotlib.pyplot as plt\n",
    "import torch\n",
    "import torch.nn as nn\n",
    "import torch.optim as optim\n",
    "\n",
    "from colorama import Fore, Style\n",
    "from IPython.display import clear_output\n",
    "import warnings\n",
    "import lightgbm as lgb\n",
    "from lightgbm import LGBMRegressor\n",
    "from xgboost import XGBRegressor\n",
    "from catboost import CatBoostRegressor\n",
    "from sklearn.ensemble import VotingRegressor, RandomForestRegressor, GradientBoostingRegressor\n",
    "from sklearn.impute import SimpleImputer, KNNImputer\n",
    "from sklearn.pipeline import Pipeline\n",
    "#from pytorch_tabnet.tab_model import TabNetRegressor\n",
    "\n",
    "import optuna\n",
    "from optuna.visualization import plot_contour\n",
    "from optuna.visualization import plot_edf\n",
    "from optuna.visualization import plot_intermediate_values\n",
    "from optuna.visualization import plot_optimization_history\n",
    "from optuna.visualization import plot_parallel_coordinate\n",
    "from optuna.visualization import plot_param_importances\n",
    "from optuna.visualization import plot_rank\n",
    "from optuna.visualization import plot_slice\n",
    "from optuna.visualization import plot_timeline\n",
    "\n",
    "import shap\n",
    "\n",
    "import gc\n",
    "gc.enable()\n",
    "\n",
    "optuna.logging.set_verbosity(optuna.logging.WARNING)\n",
    "warnings.filterwarnings('ignore')\n",
    "pd.options.display.max_columns = None\n",
    "pd.set_option('display.max_rows', 500)\n",
    "pd.set_option('display.max_columns', 500)\n",
    "pd.set_option('display.max_colwidth', None)\n",
    "\n",
    "pl.Config.set_tbl_rows(-1)\n",
    "pl.Config.set_tbl_cols(-1)\n",
    "pl.Config.set_fmt_str_lengths(10000)"
   ]
  },
  {
   "cell_type": "markdown",
   "metadata": {},
   "source": [
    "# Preprocessing & Feature Engineering"
   ]
  },
  {
   "cell_type": "code",
   "execution_count": 2,
   "metadata": {},
   "outputs": [],
   "source": [
    "#from IPython.display import display as ipydisplay, HTML\n",
    "#ipydisplay(HTML(\"<style>.jp-CodeCell.jp-mod-outputsScrolled .jp-Cell-outputArea { max-height: 80em; }</style>\"))"
   ]
  },
  {
   "cell_type": "code",
   "execution_count": 3,
   "metadata": {},
   "outputs": [],
   "source": [
    "#SEED = 42\n",
    "n_splits = 5"
   ]
  },
  {
   "cell_type": "code",
   "execution_count": 4,
   "metadata": {},
   "outputs": [],
   "source": [
    "path = \"I:/Kaggle/child-mind-institute-problematic-internet-use/\""
   ]
  },
  {
   "cell_type": "code",
   "execution_count": 5,
   "metadata": {},
   "outputs": [],
   "source": [
    "train = pd.read_csv(path + 'train.csv', dtype={'id': str})\n",
    "test = pd.read_csv(path + 'test.csv', dtype={'id': str})\n",
    "#sample = pd.read_csv(path + 'sample_submission.csv', dtype={'id': str})"
   ]
  },
  {
   "cell_type": "code",
   "execution_count": 6,
   "metadata": {
    "scrolled": true
   },
   "outputs": [],
   "source": [
    "data_dict = pd.read_csv(path + 'data_dictionary.csv')"
   ]
  },
  {
   "cell_type": "code",
   "execution_count": 7,
   "metadata": {},
   "outputs": [],
   "source": [
    "train_target = train[test.columns]"
   ]
  },
  {
   "cell_type": "code",
   "execution_count": 8,
   "metadata": {},
   "outputs": [],
   "source": [
    "concat_df = pd.concat([train_target, test], ignore_index=True)"
   ]
  },
  {
   "cell_type": "code",
   "execution_count": 9,
   "metadata": {},
   "outputs": [],
   "source": [
    "concat_df['total_num_nan'] = concat_df.isna().sum(axis=1)"
   ]
  },
  {
   "cell_type": "code",
   "execution_count": 10,
   "metadata": {},
   "outputs": [
    {
     "data": {
      "text/plain": [
       "0"
      ]
     },
     "execution_count": 10,
     "metadata": {},
     "output_type": "execute_result"
    }
   ],
   "source": [
    "del train_target\n",
    "gc.collect()"
   ]
  },
  {
   "cell_type": "code",
   "execution_count": 11,
   "metadata": {},
   "outputs": [],
   "source": [
    "nan_df = concat_df[concat_df['total_num_nan'] == concat_df['total_num_nan'].max()]"
   ]
  },
  {
   "cell_type": "code",
   "execution_count": 12,
   "metadata": {},
   "outputs": [],
   "source": [
    "for col in concat_df.columns:\n",
    "    if col == 'id':\n",
    "        continue\n",
    "    new_col_name = col + '_isnan'\n",
    "    concat_df[new_col_name] = concat_df[col].isna().astype(int)"
   ]
  },
  {
   "cell_type": "code",
   "execution_count": 13,
   "metadata": {},
   "outputs": [],
   "source": [
    "instruments = data_dict['Instrument'].unique().tolist()\n",
    "instruments.remove('Identifier')"
   ]
  },
  {
   "cell_type": "code",
   "execution_count": 14,
   "metadata": {},
   "outputs": [
    {
     "data": {
      "text/plain": [
       "0"
      ]
     },
     "execution_count": 14,
     "metadata": {},
     "output_type": "execute_result"
    }
   ],
   "source": [
    "for instrument in instruments:\n",
    "    if 'Parent-Child Internet Addiction Test' == instrument:\n",
    "        continue\n",
    "    instrument_df = data_dict[data_dict['Instrument'] == instrument]\n",
    "    field_list = instrument_df['Field'].unique().tolist()\n",
    "    concat_df[instrument + '_num_nan'] = concat_df[field_list].isna().sum(axis=1)\n",
    "\n",
    "del instrument_df, field_list\n",
    "gc.collect()"
   ]
  },
  {
   "cell_type": "code",
   "execution_count": 15,
   "metadata": {
    "scrolled": true
   },
   "outputs": [],
   "source": [
    "train_parquet_id_folders_list = os.listdir(path + 'series_train.parquet/')"
   ]
  },
  {
   "cell_type": "code",
   "execution_count": 16,
   "metadata": {
    "scrolled": true
   },
   "outputs": [],
   "source": [
    "train_parquet_id_list = [v.replace('id=', '') for v in train_parquet_id_folders_list]"
   ]
  },
  {
   "cell_type": "code",
   "execution_count": 17,
   "metadata": {},
   "outputs": [],
   "source": [
    "test_parquet_id_folders_list = os.listdir(path + 'series_test.parquet/')"
   ]
  },
  {
   "cell_type": "code",
   "execution_count": 18,
   "metadata": {},
   "outputs": [],
   "source": [
    "test_parquet_id_list = [v.replace('id=', '') for v in test_parquet_id_folders_list]"
   ]
  },
  {
   "cell_type": "code",
   "execution_count": 19,
   "metadata": {},
   "outputs": [],
   "source": [
    "train_temp_df = concat_df.head(train.shape[0]).reset_index(drop=True)"
   ]
  },
  {
   "cell_type": "code",
   "execution_count": 20,
   "metadata": {},
   "outputs": [],
   "source": [
    "test_temp_df = concat_df.tail(test.shape[0]).reset_index(drop=True)"
   ]
  },
  {
   "cell_type": "code",
   "execution_count": 21,
   "metadata": {},
   "outputs": [
    {
     "data": {
      "text/plain": [
       "0"
      ]
     },
     "execution_count": 21,
     "metadata": {},
     "output_type": "execute_result"
    }
   ],
   "source": [
    "del concat_df\n",
    "gc.collect()"
   ]
  },
  {
   "cell_type": "code",
   "execution_count": 22,
   "metadata": {},
   "outputs": [],
   "source": [
    "train_temp_df['has_parquet'] = train_temp_df['id'].isin(train_parquet_id_list).astype(int)"
   ]
  },
  {
   "cell_type": "code",
   "execution_count": 23,
   "metadata": {},
   "outputs": [],
   "source": [
    "test_temp_df['has_parquet'] = test_temp_df['id'].isin(test_parquet_id_list).astype(int)"
   ]
  },
  {
   "cell_type": "code",
   "execution_count": 24,
   "metadata": {},
   "outputs": [],
   "source": [
    "# https://www.kaggle.com/code/antoninadolgorukova/cmi-piu-actigraphy-data-eda\n",
    "entropy = lambda x: -(x / x.sum() * np.log(x / x.sum() + 1e-9)).sum()"
   ]
  },
  {
   "cell_type": "code",
   "execution_count": 25,
   "metadata": {},
   "outputs": [],
   "source": [
    "def feat_engi(df, target_cols):\n",
    "    stats_df = df[target_cols].describe(percentiles=[0.01, 0.03] + [(i+1)*0.05 for i in range(19)] + [0.97, 0.99]).T\n",
    "    count = stats_df['count'][0]\n",
    "    stats_df.drop('count', axis=1, inplace=True)\n",
    "    \n",
    "    column_names_list = []\n",
    "    for idx in stats_df.index:\n",
    "        for col in stats_df.columns:\n",
    "            column_names_list.append(str(idx) + '_' + str(col))\n",
    "\n",
    "    reshaped_df = pd.DataFrame(stats_df.values.reshape(-1)).T.reset_index(drop=True)\n",
    "    reshaped_df.columns = column_names_list\n",
    "\n",
    "    reshaped_df['count'] = count\n",
    "\n",
    "    return reshaped_df"
   ]
  },
  {
   "cell_type": "code",
   "execution_count": 26,
   "metadata": {},
   "outputs": [],
   "source": [
    "def groupby_feat_engi(df, col_to_group, target_col):\n",
    "    stats_df = pd.DataFrame(\n",
    "        df.groupby(col_to_group)[target_col].describe(percentiles=[0.01, 0.03] + [(i+1)*0.05 for i in range(19)] + [0.97, 0.99])\n",
    "    )\n",
    "\n",
    "    stats_df['sum'] = df.groupby(col_to_group)[target_col].sum()\n",
    "    stats_df['entropy'] = df.groupby(col_to_group)[target_col].apply(entropy)\n",
    "    \n",
    "    column_names_list = []\n",
    "    for idx in stats_df.index:\n",
    "        for col in stats_df.columns:\n",
    "            column_names_list.append(target_col + '_' + col_to_group + '_' + str(idx) + '_' + str(col))\n",
    "\n",
    "    reshaped_df = pd.DataFrame(stats_df.values.reshape(-1)).T.reset_index(drop=True)\n",
    "    reshaped_df.columns = column_names_list\n",
    "\n",
    "    return reshaped_df"
   ]
  },
  {
   "cell_type": "code",
   "execution_count": 27,
   "metadata": {},
   "outputs": [],
   "source": [
    "def uncommon_groupby_feat_engi(df, col_to_group, target_col):\n",
    "    stats_df = pd.DataFrame(\n",
    "        df.groupby(col_to_group)[target_col].describe()\n",
    "        #df.groupby(col_to_group)[target_col].describe(percentiles=[0.01, 0.03] + [(i+1)*0.05 for i in range(19)] + [0.97, 0.99])\n",
    "    )\n",
    "\n",
    "    stats_df['sum'] = df.groupby(col_to_group)[target_col].sum()\n",
    "    stats_df['entropy'] = df.groupby(col_to_group)[target_col].apply(entropy)\n",
    "\n",
    "    \n",
    "    #stats_stats_df = stats_df.describe(percentiles=[0.01, 0.03] + [(i+1)*0.05 for i in range(19)] + [0.97, 0.99])\n",
    "    stats_stats_df = stats_df.describe()\n",
    "    stats_stats_count = stats_stats_df['count'][0]\n",
    "    stats_stats_df.drop('count', axis=0, inplace=True)\n",
    "    stats_stats_df = stats_stats_df.T\n",
    "    \n",
    "    column_names_list = []\n",
    "    for idx in stats_stats_df.index:\n",
    "        for col in stats_stats_df.columns:\n",
    "            column_names_list.append(target_col + '_' + col_to_group + '_' + str(idx) + '_' + str(col))\n",
    "    \n",
    "    reshaped_df = pd.DataFrame(stats_stats_df.values.reshape(-1)).T.reset_index(drop=True)\n",
    "    reshaped_df.columns = column_names_list\n",
    "\n",
    "    current_cols = reshaped_df.columns.tolist()\n",
    "    count_col_name = target_col + '_' + col_to_group + '_count'\n",
    "    reshaped_df[count_col_name] = stats_stats_count\n",
    "\n",
    "    reshaped_df = reshaped_df[[count_col_name] + current_cols]\n",
    "\n",
    "    return reshaped_df"
   ]
  },
  {
   "cell_type": "code",
   "execution_count": 28,
   "metadata": {},
   "outputs": [],
   "source": [
    "def read_parquet(dataset='train'):\n",
    "    parquet_id_folders_list = os.listdir(path + 'series_' + dataset + '.parquet/')\n",
    "    ts_list = []\n",
    "    ts_features_list = []\n",
    "    for id_folder in tqdm(parquet_id_folders_list):\n",
    "        iid = id_folder.replace('id=', '')\n",
    "    \n",
    "        parquet_files_path = path + 'series_' + dataset + '.parquet/' + id_folder + '/'\n",
    "        parquet_files_list = os.listdir(parquet_files_path)\n",
    "    \n",
    "        dfs_list = []\n",
    "        for parquet_filename in parquet_files_list:\n",
    "            if '.parquet' in parquet_filename:\n",
    "                parquet_df = pd.read_parquet(parquet_files_path + parquet_filename)\n",
    "                dfs_list.append(parquet_df)\n",
    "        parquet_concat_df = pd.concat(dfs_list, ignore_index=True)\n",
    "        current_cols = parquet_concat_df.columns.tolist()\n",
    "        \n",
    "        parquet_concat_df['id'] = iid\n",
    "        \n",
    "        parquet_concat_df = parquet_concat_df[['id'] + current_cols]\n",
    "        \n",
    "        parquet_concat_df['day_since_wear'] = (parquet_concat_df['relative_date_PCIAT'] - parquet_concat_df['relative_date_PCIAT'].min()).astype(int)\n",
    "        parquet_concat_df['time_of_day_sec'] = parquet_concat_df['time_of_day'] / 1e9\n",
    "        parquet_concat_df.drop('time_of_day', axis=1, inplace=True)\n",
    "        parquet_concat_df['time_of_day_min'] = parquet_concat_df['time_of_day_sec'] / 60\n",
    "        parquet_concat_df['time_of_day_hour'] = parquet_concat_df['time_of_day_min'] / 60\n",
    "        parquet_concat_df['time_of_day_day'] = parquet_concat_df['time_of_day_hour'] / 24\n",
    "        parquet_concat_df['time_of_day_hour_window'] = parquet_concat_df['time_of_day_hour'].astype(int)\n",
    "        parquet_concat_df['time_of_day_min_window'] = parquet_concat_df['time_of_day_min'].astype(int)\n",
    "        parquet_concat_df['time_of_day_15_min_window'] = (parquet_concat_df['time_of_day_min'] / 15).astype(int)\n",
    "        parquet_concat_df['timestamp_day'] = parquet_concat_df['day_since_wear'] + parquet_concat_df['time_of_day_day']\n",
    "    \n",
    "        if parquet_concat_df['timestamp_day'].nunique() != parquet_concat_df.shape[0]:\n",
    "            print('yes')\n",
    "    \n",
    "        parquet_concat_df['timestamp_hour'] = parquet_concat_df['timestamp_day'] * 24\n",
    "        parquet_concat_df['timestamp_min'] = parquet_concat_df['timestamp_day'] * 24 * 60\n",
    "        parquet_concat_df['timestamp_sec'] = parquet_concat_df['timestamp_day'] * 24 * 60 * 60\n",
    "        parquet_concat_df['timestamp_15_min'] = parquet_concat_df['timestamp_day'] * 24 * (60/15)\n",
    "    \n",
    "        parquet_concat_df['timestamp_hour_window'] = parquet_concat_df['timestamp_hour'].astype(int)\n",
    "        parquet_concat_df['timestamp_min_window'] = parquet_concat_df['timestamp_min'].astype(int)\n",
    "        parquet_concat_df['timestamp_15_min_window'] = parquet_concat_df['timestamp_15_min'].astype(int)\n",
    "    \n",
    "        battery_voltage_start = parquet_concat_df['battery_voltage'][0]\n",
    "        parquet_concat_df['battery_use_since_wear'] = -(parquet_concat_df['battery_voltage'] - battery_voltage_start)\n",
    "        \n",
    "    \n",
    "        worn_df = parquet_concat_df[parquet_concat_df['non-wear_flag'] == 0].reset_index(drop=True)\n",
    "    \n",
    "        \n",
    "        feature_cols = ['X', 'Y', 'Z', 'enmo', 'anglez', 'light', 'battery_use_since_wear']\n",
    "    \n",
    "        features_df = feat_engi(worn_df, feature_cols)\n",
    "    \n",
    "        groupby_cols = ['weekday', 'time_of_day_hour_window']#, 'time_of_day_15_min_window']\n",
    "    \n",
    "        groupby_df_list = []\n",
    "        for groupby_col in groupby_cols:\n",
    "            for feature_col in feature_cols:\n",
    "                groupby_features_df = groupby_feat_engi(worn_df, groupby_col, feature_col)\n",
    "                groupby_df_list.append(groupby_features_df)\n",
    "    \n",
    "        groupby_concat_df = pd.concat(groupby_df_list, axis=1)\n",
    "    \n",
    "        uncommon_groupby_cols = ['day_since_wear', 'timestamp_hour_window']#, 'timestamp_15_min_window']#, 'timestamp_min_window']\n",
    "    \n",
    "        uncommon_groupby_df_list = []\n",
    "        for uncommon_groupby_col in uncommon_groupby_cols:\n",
    "            for unc_feature_col in feature_cols:\n",
    "                uncommon_groupby_df = uncommon_groupby_feat_engi(worn_df, uncommon_groupby_col, unc_feature_col)\n",
    "                uncommon_groupby_df_list.append(uncommon_groupby_df)\n",
    "    \n",
    "        features_concat_df = pd.concat([features_df, groupby_concat_df, uncommon_groupby_df], axis=1)\n",
    "        features_current_cols = features_concat_df.columns.tolist()\n",
    "        features_concat_df['id'] = iid\n",
    "        features_concat_df = features_concat_df[['id'] + features_current_cols]\n",
    "    \n",
    "        for q in [1,2,3,4]:\n",
    "            if q in worn_df['quarter'].tolist():\n",
    "                features_concat_df['data_collected_in_quarter_' + str(q)] = 1\n",
    "            else:\n",
    "                features_concat_df['data_collected_in_quarter_' + str(q)] = 0\n",
    "\n",
    "        features_concat_df['id'] = features_concat_df['id'].astype(str)\n",
    "\n",
    "        #features_concat_df.to_csv(path + 'series_' + dataset + '.parquet/id=' + iid + '/features.csv', index=False)\n",
    "        \n",
    "        ts_list.append(parquet_concat_df)\n",
    "        ts_features_list.append(features_concat_df)\n",
    "\n",
    "        gc.collect()\n",
    "    gc.collect()\n",
    "    \n",
    "    return ts_list, ts_features_list"
   ]
  },
  {
   "cell_type": "code",
   "execution_count": 29,
   "metadata": {},
   "outputs": [],
   "source": [
    "def read_features_files():\n",
    "    temp_dfs_list = []\n",
    "    ts_features_folders_list = os.listdir(path + 'train_ts_features/')\n",
    "    for temp_id_folder in tqdm(ts_features_folders_list):\n",
    "        temp_files_list = os.listdir(path + 'train_ts_features/' + temp_id_folder + '/')\n",
    "        for temp_filename in temp_files_list:\n",
    "            if '.csv' in temp_filename:\n",
    "                temp_df = pd.read_csv(path + 'train_ts_features/' + temp_id_folder + '/' + temp_filename, dtype={'id': str})\n",
    "                temp_dfs_list.append(temp_df)\n",
    "    gc.collect()\n",
    "    return temp_dfs_list"
   ]
  },
  {
   "cell_type": "code",
   "execution_count": 30,
   "metadata": {
    "scrolled": true
   },
   "outputs": [
    {
     "name": "stderr",
     "output_type": "stream",
     "text": [
      "100%|████████████████████████████████████████████████████████████████████████████████| 996/996 [04:50<00:00,  3.43it/s]\n"
     ]
    }
   ],
   "source": [
    "train_ts_features_list = read_features_files()"
   ]
  },
  {
   "cell_type": "code",
   "execution_count": 31,
   "metadata": {},
   "outputs": [
    {
     "name": "stderr",
     "output_type": "stream",
     "text": [
      "100%|████████████████████████████████████████████████████████████████████████████████████| 2/2 [00:04<00:00,  2.43s/it]\n"
     ]
    }
   ],
   "source": [
    "test_ts_list, test_ts_features_list = read_parquet(dataset='test')"
   ]
  },
  {
   "cell_type": "code",
   "execution_count": 32,
   "metadata": {},
   "outputs": [],
   "source": [
    "train_ts_features_concat_df = pd.concat(train_ts_features_list, ignore_index=True)\n",
    "test_ts_features_concat_df = pd.concat(test_ts_features_list, ignore_index=True)"
   ]
  },
  {
   "cell_type": "code",
   "execution_count": 33,
   "metadata": {},
   "outputs": [
    {
     "data": {
      "text/plain": [
       "0"
      ]
     },
     "execution_count": 33,
     "metadata": {},
     "output_type": "execute_result"
    }
   ],
   "source": [
    "del train_ts_features_list, test_ts_features_list\n",
    "gc.collect()"
   ]
  },
  {
   "cell_type": "code",
   "execution_count": 34,
   "metadata": {},
   "outputs": [],
   "source": [
    "train_merge_df = train_temp_df.merge(train_ts_features_concat_df, how='left', on='id')\n",
    "test_merge_df = test_temp_df.merge(test_ts_features_concat_df, how='left', on='id')"
   ]
  },
  {
   "cell_type": "code",
   "execution_count": 35,
   "metadata": {},
   "outputs": [
    {
     "data": {
      "text/plain": [
       "0"
      ]
     },
     "execution_count": 35,
     "metadata": {},
     "output_type": "execute_result"
    }
   ],
   "source": [
    "del train_ts_features_concat_df, test_ts_features_concat_df\n",
    "gc.collect()"
   ]
  },
  {
   "cell_type": "code",
   "execution_count": 36,
   "metadata": {},
   "outputs": [],
   "source": [
    "cat_cols = []\n",
    "for i in range(data_dict.shape[0]):\n",
    "    col = data_dict['Field'][i]\n",
    "    if col == 'id':\n",
    "        continue\n",
    "    if (data_dict['Type'][i] == 'str') | ('categori' in data_dict['Type'][i]):\n",
    "        cat_cols.append(col)"
   ]
  },
  {
   "cell_type": "code",
   "execution_count": 37,
   "metadata": {},
   "outputs": [],
   "source": [
    "ordinal_variables = ['FGC-FGC_CU_Zone', 'FGC-FGC_CU_Zone', 'FGC-FGC_GSND_Zone', 'FGC-FGC_GSD_Zone', 'FGC-FGC_PU_Zone',\n",
    "                     'FGC-FGC_SRL_Zone', 'FGC-FGC_SRR_Zone', 'FGC-FGC_TL_Zone', 'BIA-BIA_Activity_Level_num', 'BIA-BIA_Frame_num',\n",
    "                     'PreInt_EduHx-computerinternet_hoursday']\n",
    "\n",
    "ordinal_variables += [col for col in cat_cols if (('PCIAT' in col)&('Season' not in col))]"
   ]
  },
  {
   "cell_type": "code",
   "execution_count": 38,
   "metadata": {},
   "outputs": [],
   "source": [
    "cat_cols = list(set(cat_cols) - set(ordinal_variables))\n",
    "cat_cols = [col for col in cat_cols if 'PCIAT' not in col]"
   ]
  },
  {
   "cell_type": "code",
   "execution_count": 39,
   "metadata": {},
   "outputs": [],
   "source": [
    "merge_concat_df = pd.concat([train_merge_df, test_merge_df], ignore_index=True)"
   ]
  },
  {
   "cell_type": "code",
   "execution_count": 40,
   "metadata": {},
   "outputs": [
    {
     "data": {
      "text/plain": [
       "0"
      ]
     },
     "execution_count": 40,
     "metadata": {},
     "output_type": "execute_result"
    }
   ],
   "source": [
    "del train_merge_df, test_merge_df\n",
    "gc.collect()"
   ]
  },
  {
   "cell_type": "code",
   "execution_count": 41,
   "metadata": {},
   "outputs": [],
   "source": [
    "def remove_pciat_cols(df):\n",
    "    cols_to_drop = []\n",
    "    for col in df.columns:\n",
    "        if 'PCIAT' in col:\n",
    "            cols_to_drop.append(col)\n",
    "\n",
    "    df.drop(cols_to_drop, axis=1, inplace=True)\n",
    "    \n",
    "    return df"
   ]
  },
  {
   "cell_type": "code",
   "execution_count": 42,
   "metadata": {},
   "outputs": [],
   "source": [
    "merge_concat_df = remove_pciat_cols(merge_concat_df)"
   ]
  },
  {
   "cell_type": "code",
   "execution_count": 43,
   "metadata": {},
   "outputs": [],
   "source": [
    "def one_hot_cat_cols(df):\n",
    "    for col in tqdm(cat_cols):\n",
    "        df[col] = df[col].fillna('Missing').apply(str)\n",
    "        unique_list = sorted(df[col].unique().tolist())\n",
    "\n",
    "        for v in unique_list:\n",
    "            new_col_name = col + '_' + v\n",
    "            df[new_col_name] = (df[col] == v).astype(int)\n",
    "    \n",
    "    df = df.drop(cat_cols, axis=1)\n",
    "\n",
    "    return df"
   ]
  },
  {
   "cell_type": "code",
   "execution_count": 44,
   "metadata": {},
   "outputs": [
    {
     "name": "stderr",
     "output_type": "stream",
     "text": [
      "100%|█████████████████████████████████████████████████████████████████████████████████| 11/11 [00:00<00:00, 207.56it/s]\n"
     ]
    }
   ],
   "source": [
    "merge_concat_df = one_hot_cat_cols(merge_concat_df)"
   ]
  },
  {
   "cell_type": "code",
   "execution_count": 45,
   "metadata": {},
   "outputs": [],
   "source": [
    "# https://www.kaggle.com/code/ichigoe/lb0-494-with-tabnet\n",
    "def feature_engineering(df):\n",
    "    df['BMI_Age'] = df['Physical-BMI'] * df['Basic_Demos-Age']\n",
    "    df['Internet_Hours_Age'] = df['PreInt_EduHx-computerinternet_hoursday'] * df['Basic_Demos-Age']\n",
    "    df['BMI_Internet_Hours'] = df['Physical-BMI'] * df['PreInt_EduHx-computerinternet_hoursday']\n",
    "    df['BFP_BMI'] = df['BIA-BIA_Fat'] / df['BIA-BIA_BMI']\n",
    "    df['FFMI_BFP'] = df['BIA-BIA_FFMI'] / df['BIA-BIA_Fat']\n",
    "    df['FMI_BFP'] = df['BIA-BIA_FMI'] / df['BIA-BIA_Fat']\n",
    "    df['LST_TBW'] = df['BIA-BIA_LST'] / df['BIA-BIA_TBW']\n",
    "    df['BFP_BMR'] = df['BIA-BIA_Fat'] * df['BIA-BIA_BMR']\n",
    "    df['BFP_DEE'] = df['BIA-BIA_Fat'] * df['BIA-BIA_DEE']\n",
    "    df['BMR_Weight'] = df['BIA-BIA_BMR'] / df['Physical-Weight']\n",
    "    df['DEE_Weight'] = df['BIA-BIA_DEE'] / df['Physical-Weight']\n",
    "    df['SMM_Height'] = df['BIA-BIA_SMM'] / df['Physical-Height']\n",
    "    df['Muscle_to_Fat'] = df['BIA-BIA_SMM'] / df['BIA-BIA_FMI']\n",
    "    df['Hydration_Status'] = df['BIA-BIA_TBW'] / df['Physical-Weight']\n",
    "    df['ICW_TBW'] = df['BIA-BIA_ICW'] / df['BIA-BIA_TBW']\n",
    "    \n",
    "    return df"
   ]
  },
  {
   "cell_type": "code",
   "execution_count": 46,
   "metadata": {},
   "outputs": [],
   "source": [
    "merge_concat_df = feature_engineering(merge_concat_df)"
   ]
  },
  {
   "cell_type": "code",
   "execution_count": 47,
   "metadata": {},
   "outputs": [],
   "source": [
    "no_id_cols = [col for col in merge_concat_df.columns if col != 'id']"
   ]
  },
  {
   "cell_type": "code",
   "execution_count": 48,
   "metadata": {},
   "outputs": [
    {
     "name": "stdout",
     "output_type": "stream",
     "text": [
      "inf in data\n"
     ]
    }
   ],
   "source": [
    "if np.any(np.isinf(merge_concat_df[no_id_cols])):\n",
    "    print('inf in data')\n",
    "    merge_concat_df[no_id_cols] = merge_concat_df[no_id_cols].replace([np.inf, -np.inf], np.nan)"
   ]
  },
  {
   "cell_type": "code",
   "execution_count": 49,
   "metadata": {},
   "outputs": [],
   "source": [
    "imputer = KNNImputer(n_neighbors=5)\n",
    "merge_concat_df[no_id_cols] = imputer.fit_transform(merge_concat_df[no_id_cols])"
   ]
  },
  {
   "cell_type": "code",
   "execution_count": 50,
   "metadata": {},
   "outputs": [
    {
     "data": {
      "text/plain": [
       "0"
      ]
     },
     "execution_count": 50,
     "metadata": {},
     "output_type": "execute_result"
    }
   ],
   "source": [
    "del imputer\n",
    "gc.collect()"
   ]
  },
  {
   "cell_type": "code",
   "execution_count": 51,
   "metadata": {},
   "outputs": [],
   "source": [
    "train_df = merge_concat_df.head(train.shape[0]).reset_index(drop=True)\n",
    "test_df = merge_concat_df.tail(test.shape[0]).reset_index(drop=True)"
   ]
  },
  {
   "cell_type": "code",
   "execution_count": 52,
   "metadata": {},
   "outputs": [],
   "source": [
    "train_df['sii'] = train['sii']"
   ]
  },
  {
   "cell_type": "code",
   "execution_count": 53,
   "metadata": {},
   "outputs": [
    {
     "data": {
      "text/plain": [
       "0"
      ]
     },
     "execution_count": 53,
     "metadata": {},
     "output_type": "execute_result"
    }
   ],
   "source": [
    "del train, test\n",
    "gc.collect()"
   ]
  },
  {
   "cell_type": "code",
   "execution_count": 54,
   "metadata": {},
   "outputs": [],
   "source": [
    "train_nonan_df = train_df[~train_df['sii'].isna()].reset_index(drop=True)"
   ]
  },
  {
   "cell_type": "code",
   "execution_count": 55,
   "metadata": {},
   "outputs": [
    {
     "data": {
      "text/plain": [
       "0"
      ]
     },
     "execution_count": 55,
     "metadata": {},
     "output_type": "execute_result"
    }
   ],
   "source": [
    "del train_df\n",
    "gc.collect()"
   ]
  },
  {
   "cell_type": "code",
   "execution_count": 56,
   "metadata": {
    "scrolled": true
   },
   "outputs": [],
   "source": [
    "selected_cols_df = pd.read_csv(path + 'selected_cols.csv')"
   ]
  },
  {
   "cell_type": "code",
   "execution_count": 57,
   "metadata": {},
   "outputs": [],
   "source": [
    "train_cols = selected_cols_df['cols'].tolist()"
   ]
  },
  {
   "cell_type": "code",
   "execution_count": 58,
   "metadata": {},
   "outputs": [
    {
     "data": {
      "text/plain": [
       "0"
      ]
     },
     "execution_count": 58,
     "metadata": {},
     "output_type": "execute_result"
    }
   ],
   "source": [
    "del selected_cols_df\n",
    "gc.collect()"
   ]
  },
  {
   "cell_type": "code",
   "execution_count": 60,
   "metadata": {},
   "outputs": [],
   "source": [
    "test_cols = train_cols.copy()\n",
    "test_cols.remove('sii')"
   ]
  },
  {
   "cell_type": "code",
   "execution_count": 61,
   "metadata": {},
   "outputs": [],
   "source": [
    "train_final_df = train_nonan_df[train_cols].copy()\n",
    "test_final_df = test_df[test_cols].copy()"
   ]
  },
  {
   "cell_type": "code",
   "execution_count": 62,
   "metadata": {},
   "outputs": [
    {
     "data": {
      "text/plain": [
       "474"
      ]
     },
     "execution_count": 62,
     "metadata": {},
     "output_type": "execute_result"
    }
   ],
   "source": [
    "del train_nonan_df, test_df\n",
    "gc.collect()"
   ]
  },
  {
   "cell_type": "code",
   "execution_count": 75,
   "metadata": {},
   "outputs": [
    {
     "name": "stdout",
     "output_type": "stream",
     "text": [
      "(2736, 105)\n"
     ]
    },
    {
     "data": {
      "text/html": [
       "<div>\n",
       "<style scoped>\n",
       "    .dataframe tbody tr th:only-of-type {\n",
       "        vertical-align: middle;\n",
       "    }\n",
       "\n",
       "    .dataframe tbody tr th {\n",
       "        vertical-align: top;\n",
       "    }\n",
       "\n",
       "    .dataframe thead th {\n",
       "        text-align: right;\n",
       "    }\n",
       "</style>\n",
       "<table border=\"1\" class=\"dataframe\">\n",
       "  <thead>\n",
       "    <tr style=\"text-align: right;\">\n",
       "      <th></th>\n",
       "      <th>id</th>\n",
       "      <th>Basic_Demos-Age</th>\n",
       "      <th>CGAS-CGAS_Score</th>\n",
       "      <th>Physical-BMI</th>\n",
       "      <th>Physical-Height</th>\n",
       "      <th>Physical-Weight</th>\n",
       "      <th>Physical-Waist_Circumference</th>\n",
       "      <th>Physical-Systolic_BP</th>\n",
       "      <th>FGC-FGC_CU</th>\n",
       "      <th>FGC-FGC_GSND</th>\n",
       "      <th>FGC-FGC_GSD</th>\n",
       "      <th>FGC-FGC_PU</th>\n",
       "      <th>BIA-BIA_Activity_Level_num</th>\n",
       "      <th>BIA-BIA_Fat</th>\n",
       "      <th>SDS-SDS_Total_Raw</th>\n",
       "      <th>PreInt_EduHx-computerinternet_hoursday</th>\n",
       "      <th>Physical-Waist_Circumference_isnan</th>\n",
       "      <th>PAQ_C-Season_isnan</th>\n",
       "      <th>enmo_mean</th>\n",
       "      <th>anglez_max</th>\n",
       "      <th>X_weekday_4_entropy</th>\n",
       "      <th>X_weekday_5_entropy</th>\n",
       "      <th>Y_weekday_4_entropy</th>\n",
       "      <th>Z_weekday_1_min</th>\n",
       "      <th>Z_weekday_4_std</th>\n",
       "      <th>Z_weekday_5_std</th>\n",
       "      <th>enmo_weekday_1_15%</th>\n",
       "      <th>enmo_weekday_3_mean</th>\n",
       "      <th>anglez_weekday_3_entropy</th>\n",
       "      <th>light_weekday_1_std</th>\n",
       "      <th>light_weekday_3_max</th>\n",
       "      <th>light_weekday_4_max</th>\n",
       "      <th>light_weekday_4_entropy</th>\n",
       "      <th>battery_use_since_wear_weekday_3_mean</th>\n",
       "      <th>battery_use_since_wear_weekday_3_30%</th>\n",
       "      <th>battery_use_since_wear_weekday_5_max</th>\n",
       "      <th>X_time_of_day_hour_window_1_sum</th>\n",
       "      <th>X_time_of_day_hour_window_2_sum</th>\n",
       "      <th>X_time_of_day_hour_window_4_mean</th>\n",
       "      <th>X_time_of_day_hour_window_15_max</th>\n",
       "      <th>X_time_of_day_hour_window_19_entropy</th>\n",
       "      <th>X_time_of_day_hour_window_22_sum</th>\n",
       "      <th>X_time_of_day_hour_window_23_mean</th>\n",
       "      <th>Y_time_of_day_hour_window_0_sum</th>\n",
       "      <th>Y_time_of_day_hour_window_2_std</th>\n",
       "      <th>Y_time_of_day_hour_window_5_entropy</th>\n",
       "      <th>Y_time_of_day_hour_window_6_mean</th>\n",
       "      <th>Y_time_of_day_hour_window_8_sum</th>\n",
       "      <th>Y_time_of_day_hour_window_9_sum</th>\n",
       "      <th>Y_time_of_day_hour_window_9_entropy</th>\n",
       "      <th>Y_time_of_day_hour_window_11_mean</th>\n",
       "      <th>Y_time_of_day_hour_window_13_3%</th>\n",
       "      <th>Y_time_of_day_hour_window_14_min</th>\n",
       "      <th>Y_time_of_day_hour_window_15_min</th>\n",
       "      <th>Y_time_of_day_hour_window_20_sum</th>\n",
       "      <th>Y_time_of_day_hour_window_21_sum</th>\n",
       "      <th>Y_time_of_day_hour_window_21_entropy</th>\n",
       "      <th>Z_time_of_day_hour_window_0_min</th>\n",
       "      <th>Z_time_of_day_hour_window_1_mean</th>\n",
       "      <th>Z_time_of_day_hour_window_2_mean</th>\n",
       "      <th>Z_time_of_day_hour_window_5_mean</th>\n",
       "      <th>Z_time_of_day_hour_window_5_sum</th>\n",
       "      <th>Z_time_of_day_hour_window_9_sum</th>\n",
       "      <th>Z_time_of_day_hour_window_11_std</th>\n",
       "      <th>Z_time_of_day_hour_window_15_std</th>\n",
       "      <th>Z_time_of_day_hour_window_15_entropy</th>\n",
       "      <th>Z_time_of_day_hour_window_16_max</th>\n",
       "      <th>Z_time_of_day_hour_window_21_mean</th>\n",
       "      <th>Z_time_of_day_hour_window_22_min</th>\n",
       "      <th>Z_time_of_day_hour_window_23_min</th>\n",
       "      <th>enmo_time_of_day_hour_window_3_std</th>\n",
       "      <th>enmo_time_of_day_hour_window_4_std</th>\n",
       "      <th>enmo_time_of_day_hour_window_8_mean</th>\n",
       "      <th>enmo_time_of_day_hour_window_14_mean</th>\n",
       "      <th>enmo_time_of_day_hour_window_15_10%</th>\n",
       "      <th>enmo_time_of_day_hour_window_16_max</th>\n",
       "      <th>enmo_time_of_day_hour_window_18_mean</th>\n",
       "      <th>enmo_time_of_day_hour_window_18_max</th>\n",
       "      <th>enmo_time_of_day_hour_window_19_10%</th>\n",
       "      <th>anglez_time_of_day_hour_window_8_entropy</th>\n",
       "      <th>anglez_time_of_day_hour_window_12_entropy</th>\n",
       "      <th>light_time_of_day_hour_window_7_std</th>\n",
       "      <th>light_time_of_day_hour_window_7_70%</th>\n",
       "      <th>light_time_of_day_hour_window_8_mean</th>\n",
       "      <th>light_time_of_day_hour_window_8_std</th>\n",
       "      <th>light_time_of_day_hour_window_10_max</th>\n",
       "      <th>light_time_of_day_hour_window_12_1%</th>\n",
       "      <th>light_time_of_day_hour_window_13_std</th>\n",
       "      <th>light_time_of_day_hour_window_13_max</th>\n",
       "      <th>light_time_of_day_hour_window_19_35%</th>\n",
       "      <th>light_time_of_day_hour_window_19_max</th>\n",
       "      <th>light_time_of_day_hour_window_20_std</th>\n",
       "      <th>light_time_of_day_hour_window_21_std</th>\n",
       "      <th>battery_use_since_wear_time_of_day_hour_window_8_mean</th>\n",
       "      <th>battery_use_since_wear_time_of_day_hour_window_14_1%</th>\n",
       "      <th>battery_use_since_wear_time_of_day_hour_window_16_min</th>\n",
       "      <th>battery_use_since_wear_time_of_day_hour_window_16_5%</th>\n",
       "      <th>battery_use_since_wear_time_of_day_hour_window_18_5%</th>\n",
       "      <th>battery_use_since_wear_timestamp_hour_window_mean_min</th>\n",
       "      <th>PAQ_C-Season_Winter</th>\n",
       "      <th>Basic_Demos-Sex_0</th>\n",
       "      <th>Basic_Demos-Sex_1</th>\n",
       "      <th>FMI_BFP</th>\n",
       "      <th>Muscle_to_Fat</th>\n",
       "      <th>sii</th>\n",
       "    </tr>\n",
       "  </thead>\n",
       "  <tbody>\n",
       "    <tr>\n",
       "      <th>0</th>\n",
       "      <td>00008ff9</td>\n",
       "      <td>5.0</td>\n",
       "      <td>51.0</td>\n",
       "      <td>16.877316</td>\n",
       "      <td>46.0</td>\n",
       "      <td>50.8</td>\n",
       "      <td>25.0</td>\n",
       "      <td>130.2</td>\n",
       "      <td>0.0</td>\n",
       "      <td>20.50</td>\n",
       "      <td>21.18</td>\n",
       "      <td>0.0</td>\n",
       "      <td>2.0</td>\n",
       "      <td>9.213770</td>\n",
       "      <td>41.6</td>\n",
       "      <td>3.0</td>\n",
       "      <td>1.0</td>\n",
       "      <td>1.0</td>\n",
       "      <td>0.045088</td>\n",
       "      <td>89.296684</td>\n",
       "      <td>39.926039</td>\n",
       "      <td>34.137011</td>\n",
       "      <td>32.881972</td>\n",
       "      <td>-1.001339</td>\n",
       "      <td>0.545945</td>\n",
       "      <td>0.502684</td>\n",
       "      <td>0.002152</td>\n",
       "      <td>0.046002</td>\n",
       "      <td>26.211493</td>\n",
       "      <td>30.577977</td>\n",
       "      <td>1519.440030</td>\n",
       "      <td>929.050000</td>\n",
       "      <td>9.275002</td>\n",
       "      <td>213.972368</td>\n",
       "      <td>136.85000</td>\n",
       "      <td>696.71665</td>\n",
       "      <td>-211.553589</td>\n",
       "      <td>239.102159</td>\n",
       "      <td>-0.011758</td>\n",
       "      <td>1.140360</td>\n",
       "      <td>22.976666</td>\n",
       "      <td>-150.355033</td>\n",
       "      <td>-0.020638</td>\n",
       "      <td>-43.818953</td>\n",
       "      <td>0.304632</td>\n",
       "      <td>23.115072</td>\n",
       "      <td>-0.007757</td>\n",
       "      <td>-332.684457</td>\n",
       "      <td>-156.169044</td>\n",
       "      <td>52.527369</td>\n",
       "      <td>0.077756</td>\n",
       "      <td>-0.815943</td>\n",
       "      <td>-1.395185</td>\n",
       "      <td>-1.295111</td>\n",
       "      <td>-18.909606</td>\n",
       "      <td>228.457314</td>\n",
       "      <td>16.746607</td>\n",
       "      <td>-0.989829</td>\n",
       "      <td>-0.219695</td>\n",
       "      <td>-0.243437</td>\n",
       "      <td>-0.026439</td>\n",
       "      <td>232.212733</td>\n",
       "      <td>-752.212750</td>\n",
       "      <td>0.494078</td>\n",
       "      <td>0.513271</td>\n",
       "      <td>18.664069</td>\n",
       "      <td>1.461590</td>\n",
       "      <td>0.019698</td>\n",
       "      <td>-0.601909</td>\n",
       "      <td>-0.973880</td>\n",
       "      <td>0.022801</td>\n",
       "      <td>0.021542</td>\n",
       "      <td>0.044125</td>\n",
       "      <td>0.061529</td>\n",
       "      <td>0.001617</td>\n",
       "      <td>2.518643</td>\n",
       "      <td>0.052438</td>\n",
       "      <td>1.742300</td>\n",
       "      <td>0.001565</td>\n",
       "      <td>55.225293</td>\n",
       "      <td>17.738485</td>\n",
       "      <td>30.704474</td>\n",
       "      <td>38.370415</td>\n",
       "      <td>15.214690</td>\n",
       "      <td>25.508007</td>\n",
       "      <td>1343.000024</td>\n",
       "      <td>0.073666</td>\n",
       "      <td>39.113261</td>\n",
       "      <td>1403.999985</td>\n",
       "      <td>2.858217</td>\n",
       "      <td>86.159849</td>\n",
       "      <td>13.298962</td>\n",
       "      <td>24.520308</td>\n",
       "      <td>286.112347</td>\n",
       "      <td>6.200000</td>\n",
       "      <td>9.6</td>\n",
       "      <td>30.200000</td>\n",
       "      <td>33.334136</td>\n",
       "      <td>0.297317</td>\n",
       "      <td>0.0</td>\n",
       "      <td>1.0</td>\n",
       "      <td>0.0</td>\n",
       "      <td>0.332267</td>\n",
       "      <td>6.383063</td>\n",
       "      <td>2.0</td>\n",
       "    </tr>\n",
       "    <tr>\n",
       "      <th>1</th>\n",
       "      <td>000fd460</td>\n",
       "      <td>9.0</td>\n",
       "      <td>63.2</td>\n",
       "      <td>14.035590</td>\n",
       "      <td>48.0</td>\n",
       "      <td>46.0</td>\n",
       "      <td>22.0</td>\n",
       "      <td>122.0</td>\n",
       "      <td>3.0</td>\n",
       "      <td>23.08</td>\n",
       "      <td>24.94</td>\n",
       "      <td>5.0</td>\n",
       "      <td>2.0</td>\n",
       "      <td>3.970850</td>\n",
       "      <td>46.0</td>\n",
       "      <td>0.0</td>\n",
       "      <td>0.0</td>\n",
       "      <td>0.0</td>\n",
       "      <td>0.052679</td>\n",
       "      <td>89.456932</td>\n",
       "      <td>18.003700</td>\n",
       "      <td>18.304327</td>\n",
       "      <td>53.061190</td>\n",
       "      <td>-1.000690</td>\n",
       "      <td>0.529854</td>\n",
       "      <td>0.540959</td>\n",
       "      <td>0.003071</td>\n",
       "      <td>0.043606</td>\n",
       "      <td>22.763406</td>\n",
       "      <td>62.688214</td>\n",
       "      <td>1090.320020</td>\n",
       "      <td>1148.777557</td>\n",
       "      <td>8.891857</td>\n",
       "      <td>316.855106</td>\n",
       "      <td>284.86665</td>\n",
       "      <td>507.16665</td>\n",
       "      <td>-98.813717</td>\n",
       "      <td>383.965568</td>\n",
       "      <td>0.007261</td>\n",
       "      <td>1.058457</td>\n",
       "      <td>17.475854</td>\n",
       "      <td>561.547091</td>\n",
       "      <td>-0.103908</td>\n",
       "      <td>-306.613574</td>\n",
       "      <td>0.404812</td>\n",
       "      <td>25.279001</td>\n",
       "      <td>0.055939</td>\n",
       "      <td>151.477521</td>\n",
       "      <td>184.093170</td>\n",
       "      <td>59.785731</td>\n",
       "      <td>0.028424</td>\n",
       "      <td>-0.885720</td>\n",
       "      <td>-1.567546</td>\n",
       "      <td>-1.615314</td>\n",
       "      <td>-51.054434</td>\n",
       "      <td>223.565190</td>\n",
       "      <td>17.279529</td>\n",
       "      <td>-0.984249</td>\n",
       "      <td>-0.052453</td>\n",
       "      <td>-0.103421</td>\n",
       "      <td>0.090573</td>\n",
       "      <td>539.487087</td>\n",
       "      <td>-806.503931</td>\n",
       "      <td>0.577153</td>\n",
       "      <td>0.514021</td>\n",
       "      <td>18.904598</td>\n",
       "      <td>1.241939</td>\n",
       "      <td>-0.071049</td>\n",
       "      <td>-0.978247</td>\n",
       "      <td>-0.754005</td>\n",
       "      <td>0.017955</td>\n",
       "      <td>0.021796</td>\n",
       "      <td>0.058982</td>\n",
       "      <td>0.082104</td>\n",
       "      <td>0.002075</td>\n",
       "      <td>1.770745</td>\n",
       "      <td>0.057765</td>\n",
       "      <td>2.416968</td>\n",
       "      <td>0.001470</td>\n",
       "      <td>20.438158</td>\n",
       "      <td>12.446348</td>\n",
       "      <td>32.719406</td>\n",
       "      <td>13.489636</td>\n",
       "      <td>19.015883</td>\n",
       "      <td>49.706047</td>\n",
       "      <td>706.656366</td>\n",
       "      <td>0.806746</td>\n",
       "      <td>155.748372</td>\n",
       "      <td>1562.680920</td>\n",
       "      <td>3.737898</td>\n",
       "      <td>92.163605</td>\n",
       "      <td>10.445207</td>\n",
       "      <td>8.533079</td>\n",
       "      <td>251.225998</td>\n",
       "      <td>25.250000</td>\n",
       "      <td>7.0</td>\n",
       "      <td>36.183301</td>\n",
       "      <td>34.116699</td>\n",
       "      <td>1.023610</td>\n",
       "      <td>0.0</td>\n",
       "      <td>1.0</td>\n",
       "      <td>0.0</td>\n",
       "      <td>0.305154</td>\n",
       "      <td>12.718037</td>\n",
       "      <td>0.0</td>\n",
       "    </tr>\n",
       "    <tr>\n",
       "      <th>2</th>\n",
       "      <td>00105258</td>\n",
       "      <td>10.0</td>\n",
       "      <td>71.0</td>\n",
       "      <td>16.648696</td>\n",
       "      <td>56.5</td>\n",
       "      <td>75.6</td>\n",
       "      <td>27.0</td>\n",
       "      <td>117.0</td>\n",
       "      <td>20.0</td>\n",
       "      <td>10.20</td>\n",
       "      <td>14.70</td>\n",
       "      <td>7.0</td>\n",
       "      <td>2.4</td>\n",
       "      <td>-24.811978</td>\n",
       "      <td>38.0</td>\n",
       "      <td>2.0</td>\n",
       "      <td>1.0</td>\n",
       "      <td>0.0</td>\n",
       "      <td>0.051544</td>\n",
       "      <td>89.528796</td>\n",
       "      <td>72.632825</td>\n",
       "      <td>64.814719</td>\n",
       "      <td>132.689714</td>\n",
       "      <td>-1.001535</td>\n",
       "      <td>0.581180</td>\n",
       "      <td>0.508000</td>\n",
       "      <td>0.001253</td>\n",
       "      <td>0.046373</td>\n",
       "      <td>15.113260</td>\n",
       "      <td>82.795443</td>\n",
       "      <td>1914.673352</td>\n",
       "      <td>2174.520020</td>\n",
       "      <td>8.914334</td>\n",
       "      <td>280.658752</td>\n",
       "      <td>204.99334</td>\n",
       "      <td>475.76665</td>\n",
       "      <td>-406.720744</td>\n",
       "      <td>-27.948322</td>\n",
       "      <td>-0.157110</td>\n",
       "      <td>1.251344</td>\n",
       "      <td>20.592004</td>\n",
       "      <td>426.822872</td>\n",
       "      <td>-0.055080</td>\n",
       "      <td>-525.753946</td>\n",
       "      <td>0.353414</td>\n",
       "      <td>17.038335</td>\n",
       "      <td>-0.100803</td>\n",
       "      <td>-287.683429</td>\n",
       "      <td>48.409760</td>\n",
       "      <td>73.123344</td>\n",
       "      <td>0.018078</td>\n",
       "      <td>-0.865696</td>\n",
       "      <td>-2.338892</td>\n",
       "      <td>-1.792149</td>\n",
       "      <td>-189.599450</td>\n",
       "      <td>-69.776136</td>\n",
       "      <td>81.312502</td>\n",
       "      <td>-0.907346</td>\n",
       "      <td>0.000650</td>\n",
       "      <td>0.000123</td>\n",
       "      <td>-0.083917</td>\n",
       "      <td>-782.812247</td>\n",
       "      <td>-1515.544268</td>\n",
       "      <td>0.518400</td>\n",
       "      <td>0.454301</td>\n",
       "      <td>31.276516</td>\n",
       "      <td>1.612058</td>\n",
       "      <td>-0.107542</td>\n",
       "      <td>-0.997746</td>\n",
       "      <td>-0.993624</td>\n",
       "      <td>0.012943</td>\n",
       "      <td>0.013302</td>\n",
       "      <td>0.049712</td>\n",
       "      <td>0.075791</td>\n",
       "      <td>0.004364</td>\n",
       "      <td>2.637164</td>\n",
       "      <td>0.077506</td>\n",
       "      <td>3.443518</td>\n",
       "      <td>0.001415</td>\n",
       "      <td>45.355287</td>\n",
       "      <td>34.054314</td>\n",
       "      <td>65.634326</td>\n",
       "      <td>20.288210</td>\n",
       "      <td>22.907549</td>\n",
       "      <td>44.251033</td>\n",
       "      <td>2086.549777</td>\n",
       "      <td>0.118659</td>\n",
       "      <td>196.358112</td>\n",
       "      <td>1703.840015</td>\n",
       "      <td>4.245884</td>\n",
       "      <td>179.400383</td>\n",
       "      <td>10.215226</td>\n",
       "      <td>12.217950</td>\n",
       "      <td>285.961932</td>\n",
       "      <td>23.036171</td>\n",
       "      <td>9.0</td>\n",
       "      <td>49.449165</td>\n",
       "      <td>38.000000</td>\n",
       "      <td>3.893122</td>\n",
       "      <td>0.0</td>\n",
       "      <td>0.0</td>\n",
       "      <td>1.0</td>\n",
       "      <td>0.244420</td>\n",
       "      <td>9.755870</td>\n",
       "      <td>0.0</td>\n",
       "    </tr>\n",
       "    <tr>\n",
       "      <th>3</th>\n",
       "      <td>00115b9f</td>\n",
       "      <td>9.0</td>\n",
       "      <td>71.0</td>\n",
       "      <td>18.292347</td>\n",
       "      <td>56.0</td>\n",
       "      <td>81.6</td>\n",
       "      <td>26.4</td>\n",
       "      <td>117.0</td>\n",
       "      <td>18.0</td>\n",
       "      <td>17.66</td>\n",
       "      <td>19.24</td>\n",
       "      <td>5.0</td>\n",
       "      <td>3.0</td>\n",
       "      <td>18.824300</td>\n",
       "      <td>31.0</td>\n",
       "      <td>0.0</td>\n",
       "      <td>1.0</td>\n",
       "      <td>0.0</td>\n",
       "      <td>0.047388</td>\n",
       "      <td>89.751656</td>\n",
       "      <td>11.136038</td>\n",
       "      <td>10.005599</td>\n",
       "      <td>12.516920</td>\n",
       "      <td>-1.013281</td>\n",
       "      <td>0.664023</td>\n",
       "      <td>0.581047</td>\n",
       "      <td>0.001123</td>\n",
       "      <td>0.047503</td>\n",
       "      <td>9.765900</td>\n",
       "      <td>20.560743</td>\n",
       "      <td>2509.250000</td>\n",
       "      <td>2318.199951</td>\n",
       "      <td>6.922735</td>\n",
       "      <td>178.458450</td>\n",
       "      <td>95.00000</td>\n",
       "      <td>359.00000</td>\n",
       "      <td>170.965439</td>\n",
       "      <td>-12.885210</td>\n",
       "      <td>-0.110789</td>\n",
       "      <td>1.023125</td>\n",
       "      <td>8.228292</td>\n",
       "      <td>17.042252</td>\n",
       "      <td>-0.028194</td>\n",
       "      <td>38.194061</td>\n",
       "      <td>0.202894</td>\n",
       "      <td>22.678757</td>\n",
       "      <td>-0.112217</td>\n",
       "      <td>163.961899</td>\n",
       "      <td>712.567383</td>\n",
       "      <td>9.328824</td>\n",
       "      <td>0.162170</td>\n",
       "      <td>-0.899747</td>\n",
       "      <td>-1.449167</td>\n",
       "      <td>-1.696042</td>\n",
       "      <td>-162.726105</td>\n",
       "      <td>10.201592</td>\n",
       "      <td>113.857529</td>\n",
       "      <td>-1.007734</td>\n",
       "      <td>0.001678</td>\n",
       "      <td>0.481678</td>\n",
       "      <td>0.174127</td>\n",
       "      <td>88.456406</td>\n",
       "      <td>-556.077881</td>\n",
       "      <td>0.578686</td>\n",
       "      <td>0.545946</td>\n",
       "      <td>14.085580</td>\n",
       "      <td>0.999349</td>\n",
       "      <td>-0.258508</td>\n",
       "      <td>-0.994922</td>\n",
       "      <td>-1.004505</td>\n",
       "      <td>0.039797</td>\n",
       "      <td>0.022768</td>\n",
       "      <td>0.040718</td>\n",
       "      <td>0.045689</td>\n",
       "      <td>0.000264</td>\n",
       "      <td>3.573040</td>\n",
       "      <td>0.058005</td>\n",
       "      <td>1.273030</td>\n",
       "      <td>0.000296</td>\n",
       "      <td>8.397519</td>\n",
       "      <td>14.401575</td>\n",
       "      <td>54.115761</td>\n",
       "      <td>12.572705</td>\n",
       "      <td>17.601913</td>\n",
       "      <td>42.592899</td>\n",
       "      <td>2633.250000</td>\n",
       "      <td>0.000000</td>\n",
       "      <td>177.174103</td>\n",
       "      <td>2409.500000</td>\n",
       "      <td>4.770065</td>\n",
       "      <td>577.500000</td>\n",
       "      <td>5.821051</td>\n",
       "      <td>17.455950</td>\n",
       "      <td>145.146576</td>\n",
       "      <td>30.000000</td>\n",
       "      <td>7.0</td>\n",
       "      <td>7.000000</td>\n",
       "      <td>13.000000</td>\n",
       "      <td>6.585714</td>\n",
       "      <td>1.0</td>\n",
       "      <td>1.0</td>\n",
       "      <td>0.0</td>\n",
       "      <td>0.224196</td>\n",
       "      <td>6.274343</td>\n",
       "      <td>1.0</td>\n",
       "    </tr>\n",
       "    <tr>\n",
       "      <th>4</th>\n",
       "      <td>001f3379</td>\n",
       "      <td>13.0</td>\n",
       "      <td>50.0</td>\n",
       "      <td>22.279952</td>\n",
       "      <td>59.5</td>\n",
       "      <td>112.2</td>\n",
       "      <td>32.0</td>\n",
       "      <td>102.0</td>\n",
       "      <td>12.0</td>\n",
       "      <td>16.50</td>\n",
       "      <td>17.90</td>\n",
       "      <td>6.0</td>\n",
       "      <td>2.0</td>\n",
       "      <td>67.971500</td>\n",
       "      <td>40.0</td>\n",
       "      <td>0.0</td>\n",
       "      <td>1.0</td>\n",
       "      <td>0.0</td>\n",
       "      <td>0.016461</td>\n",
       "      <td>89.476036</td>\n",
       "      <td>13.664883</td>\n",
       "      <td>28.633865</td>\n",
       "      <td>13.941320</td>\n",
       "      <td>-1.011558</td>\n",
       "      <td>0.595851</td>\n",
       "      <td>0.636366</td>\n",
       "      <td>0.000000</td>\n",
       "      <td>0.010586</td>\n",
       "      <td>632.172974</td>\n",
       "      <td>19.922426</td>\n",
       "      <td>2179.000000</td>\n",
       "      <td>2578.000000</td>\n",
       "      <td>7.511941</td>\n",
       "      <td>139.089218</td>\n",
       "      <td>64.00000</td>\n",
       "      <td>432.00000</td>\n",
       "      <td>-1119.969482</td>\n",
       "      <td>-740.448975</td>\n",
       "      <td>-0.098163</td>\n",
       "      <td>1.006678</td>\n",
       "      <td>14.030548</td>\n",
       "      <td>1375.584717</td>\n",
       "      <td>0.253121</td>\n",
       "      <td>-80.104980</td>\n",
       "      <td>0.276741</td>\n",
       "      <td>14.871807</td>\n",
       "      <td>0.002315</td>\n",
       "      <td>150.408401</td>\n",
       "      <td>735.050537</td>\n",
       "      <td>15.849753</td>\n",
       "      <td>0.051869</td>\n",
       "      <td>-0.856981</td>\n",
       "      <td>-1.502655</td>\n",
       "      <td>-1.522690</td>\n",
       "      <td>100.479034</td>\n",
       "      <td>-963.386169</td>\n",
       "      <td>13.613046</td>\n",
       "      <td>-0.988334</td>\n",
       "      <td>-0.035043</td>\n",
       "      <td>-0.011308</td>\n",
       "      <td>-0.114499</td>\n",
       "      <td>-577.073242</td>\n",
       "      <td>447.497681</td>\n",
       "      <td>0.489062</td>\n",
       "      <td>0.562955</td>\n",
       "      <td>12.457760</td>\n",
       "      <td>1.126889</td>\n",
       "      <td>0.258789</td>\n",
       "      <td>-1.014619</td>\n",
       "      <td>-1.006673</td>\n",
       "      <td>0.009234</td>\n",
       "      <td>0.008684</td>\n",
       "      <td>0.020525</td>\n",
       "      <td>0.033071</td>\n",
       "      <td>0.001325</td>\n",
       "      <td>0.710641</td>\n",
       "      <td>0.018750</td>\n",
       "      <td>2.952888</td>\n",
       "      <td>0.000188</td>\n",
       "      <td>69.492538</td>\n",
       "      <td>13.413841</td>\n",
       "      <td>25.219738</td>\n",
       "      <td>10.659063</td>\n",
       "      <td>23.471333</td>\n",
       "      <td>38.886051</td>\n",
       "      <td>442.799988</td>\n",
       "      <td>0.000000</td>\n",
       "      <td>274.752411</td>\n",
       "      <td>2576.600098</td>\n",
       "      <td>0.878989</td>\n",
       "      <td>1481.599976</td>\n",
       "      <td>6.074192</td>\n",
       "      <td>4.627489</td>\n",
       "      <td>279.661560</td>\n",
       "      <td>28.834326</td>\n",
       "      <td>32.0</td>\n",
       "      <td>35.000000</td>\n",
       "      <td>37.666504</td>\n",
       "      <td>21.541666</td>\n",
       "      <td>0.0</td>\n",
       "      <td>0.0</td>\n",
       "      <td>1.0</td>\n",
       "      <td>0.198595</td>\n",
       "      <td>2.621003</td>\n",
       "      <td>1.0</td>\n",
       "    </tr>\n",
       "  </tbody>\n",
       "</table>\n",
       "</div>"
      ],
      "text/plain": [
       "         id  Basic_Demos-Age  CGAS-CGAS_Score  Physical-BMI  Physical-Height  \\\n",
       "0  00008ff9              5.0             51.0     16.877316             46.0   \n",
       "1  000fd460              9.0             63.2     14.035590             48.0   \n",
       "2  00105258             10.0             71.0     16.648696             56.5   \n",
       "3  00115b9f              9.0             71.0     18.292347             56.0   \n",
       "4  001f3379             13.0             50.0     22.279952             59.5   \n",
       "\n",
       "   Physical-Weight  Physical-Waist_Circumference  Physical-Systolic_BP  \\\n",
       "0             50.8                          25.0                 130.2   \n",
       "1             46.0                          22.0                 122.0   \n",
       "2             75.6                          27.0                 117.0   \n",
       "3             81.6                          26.4                 117.0   \n",
       "4            112.2                          32.0                 102.0   \n",
       "\n",
       "   FGC-FGC_CU  FGC-FGC_GSND  FGC-FGC_GSD  FGC-FGC_PU  \\\n",
       "0         0.0         20.50        21.18         0.0   \n",
       "1         3.0         23.08        24.94         5.0   \n",
       "2        20.0         10.20        14.70         7.0   \n",
       "3        18.0         17.66        19.24         5.0   \n",
       "4        12.0         16.50        17.90         6.0   \n",
       "\n",
       "   BIA-BIA_Activity_Level_num  BIA-BIA_Fat  SDS-SDS_Total_Raw  \\\n",
       "0                         2.0     9.213770               41.6   \n",
       "1                         2.0     3.970850               46.0   \n",
       "2                         2.4   -24.811978               38.0   \n",
       "3                         3.0    18.824300               31.0   \n",
       "4                         2.0    67.971500               40.0   \n",
       "\n",
       "   PreInt_EduHx-computerinternet_hoursday  Physical-Waist_Circumference_isnan  \\\n",
       "0                                     3.0                                 1.0   \n",
       "1                                     0.0                                 0.0   \n",
       "2                                     2.0                                 1.0   \n",
       "3                                     0.0                                 1.0   \n",
       "4                                     0.0                                 1.0   \n",
       "\n",
       "   PAQ_C-Season_isnan  enmo_mean  anglez_max  X_weekday_4_entropy  \\\n",
       "0                 1.0   0.045088   89.296684            39.926039   \n",
       "1                 0.0   0.052679   89.456932            18.003700   \n",
       "2                 0.0   0.051544   89.528796            72.632825   \n",
       "3                 0.0   0.047388   89.751656            11.136038   \n",
       "4                 0.0   0.016461   89.476036            13.664883   \n",
       "\n",
       "   X_weekday_5_entropy  Y_weekday_4_entropy  Z_weekday_1_min  Z_weekday_4_std  \\\n",
       "0            34.137011            32.881972        -1.001339         0.545945   \n",
       "1            18.304327            53.061190        -1.000690         0.529854   \n",
       "2            64.814719           132.689714        -1.001535         0.581180   \n",
       "3            10.005599            12.516920        -1.013281         0.664023   \n",
       "4            28.633865            13.941320        -1.011558         0.595851   \n",
       "\n",
       "   Z_weekday_5_std  enmo_weekday_1_15%  enmo_weekday_3_mean  \\\n",
       "0         0.502684            0.002152             0.046002   \n",
       "1         0.540959            0.003071             0.043606   \n",
       "2         0.508000            0.001253             0.046373   \n",
       "3         0.581047            0.001123             0.047503   \n",
       "4         0.636366            0.000000             0.010586   \n",
       "\n",
       "   anglez_weekday_3_entropy  light_weekday_1_std  light_weekday_3_max  \\\n",
       "0                 26.211493            30.577977          1519.440030   \n",
       "1                 22.763406            62.688214          1090.320020   \n",
       "2                 15.113260            82.795443          1914.673352   \n",
       "3                  9.765900            20.560743          2509.250000   \n",
       "4                632.172974            19.922426          2179.000000   \n",
       "\n",
       "   light_weekday_4_max  light_weekday_4_entropy  \\\n",
       "0           929.050000                 9.275002   \n",
       "1          1148.777557                 8.891857   \n",
       "2          2174.520020                 8.914334   \n",
       "3          2318.199951                 6.922735   \n",
       "4          2578.000000                 7.511941   \n",
       "\n",
       "   battery_use_since_wear_weekday_3_mean  \\\n",
       "0                             213.972368   \n",
       "1                             316.855106   \n",
       "2                             280.658752   \n",
       "3                             178.458450   \n",
       "4                             139.089218   \n",
       "\n",
       "   battery_use_since_wear_weekday_3_30%  battery_use_since_wear_weekday_5_max  \\\n",
       "0                             136.85000                             696.71665   \n",
       "1                             284.86665                             507.16665   \n",
       "2                             204.99334                             475.76665   \n",
       "3                              95.00000                             359.00000   \n",
       "4                              64.00000                             432.00000   \n",
       "\n",
       "   X_time_of_day_hour_window_1_sum  X_time_of_day_hour_window_2_sum  \\\n",
       "0                      -211.553589                       239.102159   \n",
       "1                       -98.813717                       383.965568   \n",
       "2                      -406.720744                       -27.948322   \n",
       "3                       170.965439                       -12.885210   \n",
       "4                     -1119.969482                      -740.448975   \n",
       "\n",
       "   X_time_of_day_hour_window_4_mean  X_time_of_day_hour_window_15_max  \\\n",
       "0                         -0.011758                          1.140360   \n",
       "1                          0.007261                          1.058457   \n",
       "2                         -0.157110                          1.251344   \n",
       "3                         -0.110789                          1.023125   \n",
       "4                         -0.098163                          1.006678   \n",
       "\n",
       "   X_time_of_day_hour_window_19_entropy  X_time_of_day_hour_window_22_sum  \\\n",
       "0                             22.976666                       -150.355033   \n",
       "1                             17.475854                        561.547091   \n",
       "2                             20.592004                        426.822872   \n",
       "3                              8.228292                         17.042252   \n",
       "4                             14.030548                       1375.584717   \n",
       "\n",
       "   X_time_of_day_hour_window_23_mean  Y_time_of_day_hour_window_0_sum  \\\n",
       "0                          -0.020638                       -43.818953   \n",
       "1                          -0.103908                      -306.613574   \n",
       "2                          -0.055080                      -525.753946   \n",
       "3                          -0.028194                        38.194061   \n",
       "4                           0.253121                       -80.104980   \n",
       "\n",
       "   Y_time_of_day_hour_window_2_std  Y_time_of_day_hour_window_5_entropy  \\\n",
       "0                         0.304632                            23.115072   \n",
       "1                         0.404812                            25.279001   \n",
       "2                         0.353414                            17.038335   \n",
       "3                         0.202894                            22.678757   \n",
       "4                         0.276741                            14.871807   \n",
       "\n",
       "   Y_time_of_day_hour_window_6_mean  Y_time_of_day_hour_window_8_sum  \\\n",
       "0                         -0.007757                      -332.684457   \n",
       "1                          0.055939                       151.477521   \n",
       "2                         -0.100803                      -287.683429   \n",
       "3                         -0.112217                       163.961899   \n",
       "4                          0.002315                       150.408401   \n",
       "\n",
       "   Y_time_of_day_hour_window_9_sum  Y_time_of_day_hour_window_9_entropy  \\\n",
       "0                      -156.169044                            52.527369   \n",
       "1                       184.093170                            59.785731   \n",
       "2                        48.409760                            73.123344   \n",
       "3                       712.567383                             9.328824   \n",
       "4                       735.050537                            15.849753   \n",
       "\n",
       "   Y_time_of_day_hour_window_11_mean  Y_time_of_day_hour_window_13_3%  \\\n",
       "0                           0.077756                        -0.815943   \n",
       "1                           0.028424                        -0.885720   \n",
       "2                           0.018078                        -0.865696   \n",
       "3                           0.162170                        -0.899747   \n",
       "4                           0.051869                        -0.856981   \n",
       "\n",
       "   Y_time_of_day_hour_window_14_min  Y_time_of_day_hour_window_15_min  \\\n",
       "0                         -1.395185                         -1.295111   \n",
       "1                         -1.567546                         -1.615314   \n",
       "2                         -2.338892                         -1.792149   \n",
       "3                         -1.449167                         -1.696042   \n",
       "4                         -1.502655                         -1.522690   \n",
       "\n",
       "   Y_time_of_day_hour_window_20_sum  Y_time_of_day_hour_window_21_sum  \\\n",
       "0                        -18.909606                        228.457314   \n",
       "1                        -51.054434                        223.565190   \n",
       "2                       -189.599450                        -69.776136   \n",
       "3                       -162.726105                         10.201592   \n",
       "4                        100.479034                       -963.386169   \n",
       "\n",
       "   Y_time_of_day_hour_window_21_entropy  Z_time_of_day_hour_window_0_min  \\\n",
       "0                             16.746607                        -0.989829   \n",
       "1                             17.279529                        -0.984249   \n",
       "2                             81.312502                        -0.907346   \n",
       "3                            113.857529                        -1.007734   \n",
       "4                             13.613046                        -0.988334   \n",
       "\n",
       "   Z_time_of_day_hour_window_1_mean  Z_time_of_day_hour_window_2_mean  \\\n",
       "0                         -0.219695                         -0.243437   \n",
       "1                         -0.052453                         -0.103421   \n",
       "2                          0.000650                          0.000123   \n",
       "3                          0.001678                          0.481678   \n",
       "4                         -0.035043                         -0.011308   \n",
       "\n",
       "   Z_time_of_day_hour_window_5_mean  Z_time_of_day_hour_window_5_sum  \\\n",
       "0                         -0.026439                       232.212733   \n",
       "1                          0.090573                       539.487087   \n",
       "2                         -0.083917                      -782.812247   \n",
       "3                          0.174127                        88.456406   \n",
       "4                         -0.114499                      -577.073242   \n",
       "\n",
       "   Z_time_of_day_hour_window_9_sum  Z_time_of_day_hour_window_11_std  \\\n",
       "0                      -752.212750                          0.494078   \n",
       "1                      -806.503931                          0.577153   \n",
       "2                     -1515.544268                          0.518400   \n",
       "3                      -556.077881                          0.578686   \n",
       "4                       447.497681                          0.489062   \n",
       "\n",
       "   Z_time_of_day_hour_window_15_std  Z_time_of_day_hour_window_15_entropy  \\\n",
       "0                          0.513271                             18.664069   \n",
       "1                          0.514021                             18.904598   \n",
       "2                          0.454301                             31.276516   \n",
       "3                          0.545946                             14.085580   \n",
       "4                          0.562955                             12.457760   \n",
       "\n",
       "   Z_time_of_day_hour_window_16_max  Z_time_of_day_hour_window_21_mean  \\\n",
       "0                          1.461590                           0.019698   \n",
       "1                          1.241939                          -0.071049   \n",
       "2                          1.612058                          -0.107542   \n",
       "3                          0.999349                          -0.258508   \n",
       "4                          1.126889                           0.258789   \n",
       "\n",
       "   Z_time_of_day_hour_window_22_min  Z_time_of_day_hour_window_23_min  \\\n",
       "0                         -0.601909                         -0.973880   \n",
       "1                         -0.978247                         -0.754005   \n",
       "2                         -0.997746                         -0.993624   \n",
       "3                         -0.994922                         -1.004505   \n",
       "4                         -1.014619                         -1.006673   \n",
       "\n",
       "   enmo_time_of_day_hour_window_3_std  enmo_time_of_day_hour_window_4_std  \\\n",
       "0                            0.022801                            0.021542   \n",
       "1                            0.017955                            0.021796   \n",
       "2                            0.012943                            0.013302   \n",
       "3                            0.039797                            0.022768   \n",
       "4                            0.009234                            0.008684   \n",
       "\n",
       "   enmo_time_of_day_hour_window_8_mean  enmo_time_of_day_hour_window_14_mean  \\\n",
       "0                             0.044125                              0.061529   \n",
       "1                             0.058982                              0.082104   \n",
       "2                             0.049712                              0.075791   \n",
       "3                             0.040718                              0.045689   \n",
       "4                             0.020525                              0.033071   \n",
       "\n",
       "   enmo_time_of_day_hour_window_15_10%  enmo_time_of_day_hour_window_16_max  \\\n",
       "0                             0.001617                             2.518643   \n",
       "1                             0.002075                             1.770745   \n",
       "2                             0.004364                             2.637164   \n",
       "3                             0.000264                             3.573040   \n",
       "4                             0.001325                             0.710641   \n",
       "\n",
       "   enmo_time_of_day_hour_window_18_mean  enmo_time_of_day_hour_window_18_max  \\\n",
       "0                              0.052438                             1.742300   \n",
       "1                              0.057765                             2.416968   \n",
       "2                              0.077506                             3.443518   \n",
       "3                              0.058005                             1.273030   \n",
       "4                              0.018750                             2.952888   \n",
       "\n",
       "   enmo_time_of_day_hour_window_19_10%  \\\n",
       "0                             0.001565   \n",
       "1                             0.001470   \n",
       "2                             0.001415   \n",
       "3                             0.000296   \n",
       "4                             0.000188   \n",
       "\n",
       "   anglez_time_of_day_hour_window_8_entropy  \\\n",
       "0                                 55.225293   \n",
       "1                                 20.438158   \n",
       "2                                 45.355287   \n",
       "3                                  8.397519   \n",
       "4                                 69.492538   \n",
       "\n",
       "   anglez_time_of_day_hour_window_12_entropy  \\\n",
       "0                                  17.738485   \n",
       "1                                  12.446348   \n",
       "2                                  34.054314   \n",
       "3                                  14.401575   \n",
       "4                                  13.413841   \n",
       "\n",
       "   light_time_of_day_hour_window_7_std  light_time_of_day_hour_window_7_70%  \\\n",
       "0                            30.704474                            38.370415   \n",
       "1                            32.719406                            13.489636   \n",
       "2                            65.634326                            20.288210   \n",
       "3                            54.115761                            12.572705   \n",
       "4                            25.219738                            10.659063   \n",
       "\n",
       "   light_time_of_day_hour_window_8_mean  light_time_of_day_hour_window_8_std  \\\n",
       "0                             15.214690                            25.508007   \n",
       "1                             19.015883                            49.706047   \n",
       "2                             22.907549                            44.251033   \n",
       "3                             17.601913                            42.592899   \n",
       "4                             23.471333                            38.886051   \n",
       "\n",
       "   light_time_of_day_hour_window_10_max  light_time_of_day_hour_window_12_1%  \\\n",
       "0                           1343.000024                             0.073666   \n",
       "1                            706.656366                             0.806746   \n",
       "2                           2086.549777                             0.118659   \n",
       "3                           2633.250000                             0.000000   \n",
       "4                            442.799988                             0.000000   \n",
       "\n",
       "   light_time_of_day_hour_window_13_std  light_time_of_day_hour_window_13_max  \\\n",
       "0                             39.113261                           1403.999985   \n",
       "1                            155.748372                           1562.680920   \n",
       "2                            196.358112                           1703.840015   \n",
       "3                            177.174103                           2409.500000   \n",
       "4                            274.752411                           2576.600098   \n",
       "\n",
       "   light_time_of_day_hour_window_19_35%  light_time_of_day_hour_window_19_max  \\\n",
       "0                              2.858217                             86.159849   \n",
       "1                              3.737898                             92.163605   \n",
       "2                              4.245884                            179.400383   \n",
       "3                              4.770065                            577.500000   \n",
       "4                              0.878989                           1481.599976   \n",
       "\n",
       "   light_time_of_day_hour_window_20_std  light_time_of_day_hour_window_21_std  \\\n",
       "0                             13.298962                             24.520308   \n",
       "1                             10.445207                              8.533079   \n",
       "2                             10.215226                             12.217950   \n",
       "3                              5.821051                             17.455950   \n",
       "4                              6.074192                              4.627489   \n",
       "\n",
       "   battery_use_since_wear_time_of_day_hour_window_8_mean  \\\n",
       "0                                             286.112347   \n",
       "1                                             251.225998   \n",
       "2                                             285.961932   \n",
       "3                                             145.146576   \n",
       "4                                             279.661560   \n",
       "\n",
       "   battery_use_since_wear_time_of_day_hour_window_14_1%  \\\n",
       "0                                              6.200000   \n",
       "1                                             25.250000   \n",
       "2                                             23.036171   \n",
       "3                                             30.000000   \n",
       "4                                             28.834326   \n",
       "\n",
       "   battery_use_since_wear_time_of_day_hour_window_16_min  \\\n",
       "0                                                    9.6   \n",
       "1                                                    7.0   \n",
       "2                                                    9.0   \n",
       "3                                                    7.0   \n",
       "4                                                   32.0   \n",
       "\n",
       "   battery_use_since_wear_time_of_day_hour_window_16_5%  \\\n",
       "0                                             30.200000   \n",
       "1                                             36.183301   \n",
       "2                                             49.449165   \n",
       "3                                              7.000000   \n",
       "4                                             35.000000   \n",
       "\n",
       "   battery_use_since_wear_time_of_day_hour_window_18_5%  \\\n",
       "0                                             33.334136   \n",
       "1                                             34.116699   \n",
       "2                                             38.000000   \n",
       "3                                             13.000000   \n",
       "4                                             37.666504   \n",
       "\n",
       "   battery_use_since_wear_timestamp_hour_window_mean_min  PAQ_C-Season_Winter  \\\n",
       "0                                               0.297317                  0.0   \n",
       "1                                               1.023610                  0.0   \n",
       "2                                               3.893122                  0.0   \n",
       "3                                               6.585714                  1.0   \n",
       "4                                              21.541666                  0.0   \n",
       "\n",
       "   Basic_Demos-Sex_0  Basic_Demos-Sex_1   FMI_BFP  Muscle_to_Fat  sii  \n",
       "0                1.0                0.0  0.332267       6.383063  2.0  \n",
       "1                1.0                0.0  0.305154      12.718037  0.0  \n",
       "2                0.0                1.0  0.244420       9.755870  0.0  \n",
       "3                1.0                0.0  0.224196       6.274343  1.0  \n",
       "4                0.0                1.0  0.198595       2.621003  1.0  "
      ]
     },
     "execution_count": 75,
     "metadata": {},
     "output_type": "execute_result"
    }
   ],
   "source": [
    "print(train_final_df.shape)\n",
    "train_final_df.head()"
   ]
  },
  {
   "cell_type": "code",
   "execution_count": 76,
   "metadata": {},
   "outputs": [
    {
     "name": "stdout",
     "output_type": "stream",
     "text": [
      "(20, 104)\n"
     ]
    },
    {
     "data": {
      "text/html": [
       "<div>\n",
       "<style scoped>\n",
       "    .dataframe tbody tr th:only-of-type {\n",
       "        vertical-align: middle;\n",
       "    }\n",
       "\n",
       "    .dataframe tbody tr th {\n",
       "        vertical-align: top;\n",
       "    }\n",
       "\n",
       "    .dataframe thead th {\n",
       "        text-align: right;\n",
       "    }\n",
       "</style>\n",
       "<table border=\"1\" class=\"dataframe\">\n",
       "  <thead>\n",
       "    <tr style=\"text-align: right;\">\n",
       "      <th></th>\n",
       "      <th>id</th>\n",
       "      <th>Basic_Demos-Age</th>\n",
       "      <th>CGAS-CGAS_Score</th>\n",
       "      <th>Physical-BMI</th>\n",
       "      <th>Physical-Height</th>\n",
       "      <th>Physical-Weight</th>\n",
       "      <th>Physical-Waist_Circumference</th>\n",
       "      <th>Physical-Systolic_BP</th>\n",
       "      <th>FGC-FGC_CU</th>\n",
       "      <th>FGC-FGC_GSND</th>\n",
       "      <th>FGC-FGC_GSD</th>\n",
       "      <th>FGC-FGC_PU</th>\n",
       "      <th>BIA-BIA_Activity_Level_num</th>\n",
       "      <th>BIA-BIA_Fat</th>\n",
       "      <th>SDS-SDS_Total_Raw</th>\n",
       "      <th>PreInt_EduHx-computerinternet_hoursday</th>\n",
       "      <th>Physical-Waist_Circumference_isnan</th>\n",
       "      <th>PAQ_C-Season_isnan</th>\n",
       "      <th>enmo_mean</th>\n",
       "      <th>anglez_max</th>\n",
       "      <th>X_weekday_4_entropy</th>\n",
       "      <th>X_weekday_5_entropy</th>\n",
       "      <th>Y_weekday_4_entropy</th>\n",
       "      <th>Z_weekday_1_min</th>\n",
       "      <th>Z_weekday_4_std</th>\n",
       "      <th>Z_weekday_5_std</th>\n",
       "      <th>enmo_weekday_1_15%</th>\n",
       "      <th>enmo_weekday_3_mean</th>\n",
       "      <th>anglez_weekday_3_entropy</th>\n",
       "      <th>light_weekday_1_std</th>\n",
       "      <th>light_weekday_3_max</th>\n",
       "      <th>light_weekday_4_max</th>\n",
       "      <th>light_weekday_4_entropy</th>\n",
       "      <th>battery_use_since_wear_weekday_3_mean</th>\n",
       "      <th>battery_use_since_wear_weekday_3_30%</th>\n",
       "      <th>battery_use_since_wear_weekday_5_max</th>\n",
       "      <th>X_time_of_day_hour_window_1_sum</th>\n",
       "      <th>X_time_of_day_hour_window_2_sum</th>\n",
       "      <th>X_time_of_day_hour_window_4_mean</th>\n",
       "      <th>X_time_of_day_hour_window_15_max</th>\n",
       "      <th>X_time_of_day_hour_window_19_entropy</th>\n",
       "      <th>X_time_of_day_hour_window_22_sum</th>\n",
       "      <th>X_time_of_day_hour_window_23_mean</th>\n",
       "      <th>Y_time_of_day_hour_window_0_sum</th>\n",
       "      <th>Y_time_of_day_hour_window_2_std</th>\n",
       "      <th>Y_time_of_day_hour_window_5_entropy</th>\n",
       "      <th>Y_time_of_day_hour_window_6_mean</th>\n",
       "      <th>Y_time_of_day_hour_window_8_sum</th>\n",
       "      <th>Y_time_of_day_hour_window_9_sum</th>\n",
       "      <th>Y_time_of_day_hour_window_9_entropy</th>\n",
       "      <th>Y_time_of_day_hour_window_11_mean</th>\n",
       "      <th>Y_time_of_day_hour_window_13_3%</th>\n",
       "      <th>Y_time_of_day_hour_window_14_min</th>\n",
       "      <th>Y_time_of_day_hour_window_15_min</th>\n",
       "      <th>Y_time_of_day_hour_window_20_sum</th>\n",
       "      <th>Y_time_of_day_hour_window_21_sum</th>\n",
       "      <th>Y_time_of_day_hour_window_21_entropy</th>\n",
       "      <th>Z_time_of_day_hour_window_0_min</th>\n",
       "      <th>Z_time_of_day_hour_window_1_mean</th>\n",
       "      <th>Z_time_of_day_hour_window_2_mean</th>\n",
       "      <th>Z_time_of_day_hour_window_5_mean</th>\n",
       "      <th>Z_time_of_day_hour_window_5_sum</th>\n",
       "      <th>Z_time_of_day_hour_window_9_sum</th>\n",
       "      <th>Z_time_of_day_hour_window_11_std</th>\n",
       "      <th>Z_time_of_day_hour_window_15_std</th>\n",
       "      <th>Z_time_of_day_hour_window_15_entropy</th>\n",
       "      <th>Z_time_of_day_hour_window_16_max</th>\n",
       "      <th>Z_time_of_day_hour_window_21_mean</th>\n",
       "      <th>Z_time_of_day_hour_window_22_min</th>\n",
       "      <th>Z_time_of_day_hour_window_23_min</th>\n",
       "      <th>enmo_time_of_day_hour_window_3_std</th>\n",
       "      <th>enmo_time_of_day_hour_window_4_std</th>\n",
       "      <th>enmo_time_of_day_hour_window_8_mean</th>\n",
       "      <th>enmo_time_of_day_hour_window_14_mean</th>\n",
       "      <th>enmo_time_of_day_hour_window_15_10%</th>\n",
       "      <th>enmo_time_of_day_hour_window_16_max</th>\n",
       "      <th>enmo_time_of_day_hour_window_18_mean</th>\n",
       "      <th>enmo_time_of_day_hour_window_18_max</th>\n",
       "      <th>enmo_time_of_day_hour_window_19_10%</th>\n",
       "      <th>anglez_time_of_day_hour_window_8_entropy</th>\n",
       "      <th>anglez_time_of_day_hour_window_12_entropy</th>\n",
       "      <th>light_time_of_day_hour_window_7_std</th>\n",
       "      <th>light_time_of_day_hour_window_7_70%</th>\n",
       "      <th>light_time_of_day_hour_window_8_mean</th>\n",
       "      <th>light_time_of_day_hour_window_8_std</th>\n",
       "      <th>light_time_of_day_hour_window_10_max</th>\n",
       "      <th>light_time_of_day_hour_window_12_1%</th>\n",
       "      <th>light_time_of_day_hour_window_13_std</th>\n",
       "      <th>light_time_of_day_hour_window_13_max</th>\n",
       "      <th>light_time_of_day_hour_window_19_35%</th>\n",
       "      <th>light_time_of_day_hour_window_19_max</th>\n",
       "      <th>light_time_of_day_hour_window_20_std</th>\n",
       "      <th>light_time_of_day_hour_window_21_std</th>\n",
       "      <th>battery_use_since_wear_time_of_day_hour_window_8_mean</th>\n",
       "      <th>battery_use_since_wear_time_of_day_hour_window_14_1%</th>\n",
       "      <th>battery_use_since_wear_time_of_day_hour_window_16_min</th>\n",
       "      <th>battery_use_since_wear_time_of_day_hour_window_16_5%</th>\n",
       "      <th>battery_use_since_wear_time_of_day_hour_window_18_5%</th>\n",
       "      <th>battery_use_since_wear_timestamp_hour_window_mean_min</th>\n",
       "      <th>PAQ_C-Season_Winter</th>\n",
       "      <th>Basic_Demos-Sex_0</th>\n",
       "      <th>Basic_Demos-Sex_1</th>\n",
       "      <th>FMI_BFP</th>\n",
       "      <th>Muscle_to_Fat</th>\n",
       "    </tr>\n",
       "  </thead>\n",
       "  <tbody>\n",
       "    <tr>\n",
       "      <th>0</th>\n",
       "      <td>00008ff9</td>\n",
       "      <td>5.0</td>\n",
       "      <td>51.0</td>\n",
       "      <td>16.877316</td>\n",
       "      <td>46.000</td>\n",
       "      <td>50.8</td>\n",
       "      <td>25.0</td>\n",
       "      <td>130.2</td>\n",
       "      <td>0.0</td>\n",
       "      <td>20.50</td>\n",
       "      <td>21.18</td>\n",
       "      <td>0.0</td>\n",
       "      <td>2.0</td>\n",
       "      <td>9.213770</td>\n",
       "      <td>41.6</td>\n",
       "      <td>3.0</td>\n",
       "      <td>1.0</td>\n",
       "      <td>1.0</td>\n",
       "      <td>0.045088</td>\n",
       "      <td>89.296684</td>\n",
       "      <td>39.926039</td>\n",
       "      <td>34.137011</td>\n",
       "      <td>32.881972</td>\n",
       "      <td>-1.001339</td>\n",
       "      <td>0.545945</td>\n",
       "      <td>0.502684</td>\n",
       "      <td>0.002152</td>\n",
       "      <td>0.046002</td>\n",
       "      <td>26.211493</td>\n",
       "      <td>30.577977</td>\n",
       "      <td>1519.440030</td>\n",
       "      <td>929.050000</td>\n",
       "      <td>9.275002</td>\n",
       "      <td>213.972368</td>\n",
       "      <td>136.85000</td>\n",
       "      <td>696.71665</td>\n",
       "      <td>-211.553589</td>\n",
       "      <td>239.102159</td>\n",
       "      <td>-0.011758</td>\n",
       "      <td>1.140360</td>\n",
       "      <td>22.976666</td>\n",
       "      <td>-150.355033</td>\n",
       "      <td>-0.020638</td>\n",
       "      <td>-43.818953</td>\n",
       "      <td>0.304632</td>\n",
       "      <td>23.115072</td>\n",
       "      <td>-0.007757</td>\n",
       "      <td>-332.684457</td>\n",
       "      <td>-156.169044</td>\n",
       "      <td>52.527369</td>\n",
       "      <td>0.077756</td>\n",
       "      <td>-0.815943</td>\n",
       "      <td>-1.395185</td>\n",
       "      <td>-1.295111</td>\n",
       "      <td>-18.909606</td>\n",
       "      <td>228.457314</td>\n",
       "      <td>16.746607</td>\n",
       "      <td>-0.989829</td>\n",
       "      <td>-0.219695</td>\n",
       "      <td>-0.243437</td>\n",
       "      <td>-0.026439</td>\n",
       "      <td>232.212733</td>\n",
       "      <td>-752.212750</td>\n",
       "      <td>0.494078</td>\n",
       "      <td>0.513271</td>\n",
       "      <td>18.664069</td>\n",
       "      <td>1.461590</td>\n",
       "      <td>0.019698</td>\n",
       "      <td>-0.601909</td>\n",
       "      <td>-0.973880</td>\n",
       "      <td>0.022801</td>\n",
       "      <td>0.021542</td>\n",
       "      <td>0.044125</td>\n",
       "      <td>0.061529</td>\n",
       "      <td>0.001617</td>\n",
       "      <td>2.518643</td>\n",
       "      <td>0.052438</td>\n",
       "      <td>1.742300</td>\n",
       "      <td>0.001565</td>\n",
       "      <td>55.225293</td>\n",
       "      <td>17.738485</td>\n",
       "      <td>30.704474</td>\n",
       "      <td>38.370415</td>\n",
       "      <td>15.214690</td>\n",
       "      <td>25.508007</td>\n",
       "      <td>1343.000024</td>\n",
       "      <td>0.073666</td>\n",
       "      <td>39.113261</td>\n",
       "      <td>1403.999985</td>\n",
       "      <td>2.858217</td>\n",
       "      <td>86.159849</td>\n",
       "      <td>13.298962</td>\n",
       "      <td>24.520308</td>\n",
       "      <td>286.112347</td>\n",
       "      <td>6.200000</td>\n",
       "      <td>9.6</td>\n",
       "      <td>30.200000</td>\n",
       "      <td>33.334136</td>\n",
       "      <td>0.297317</td>\n",
       "      <td>0.0</td>\n",
       "      <td>1.0</td>\n",
       "      <td>0.0</td>\n",
       "      <td>0.332267</td>\n",
       "      <td>6.383063</td>\n",
       "    </tr>\n",
       "    <tr>\n",
       "      <th>1</th>\n",
       "      <td>000fd460</td>\n",
       "      <td>9.0</td>\n",
       "      <td>63.2</td>\n",
       "      <td>14.035590</td>\n",
       "      <td>48.000</td>\n",
       "      <td>46.0</td>\n",
       "      <td>22.0</td>\n",
       "      <td>122.0</td>\n",
       "      <td>3.0</td>\n",
       "      <td>23.08</td>\n",
       "      <td>24.94</td>\n",
       "      <td>5.0</td>\n",
       "      <td>2.0</td>\n",
       "      <td>3.970850</td>\n",
       "      <td>46.0</td>\n",
       "      <td>0.0</td>\n",
       "      <td>0.0</td>\n",
       "      <td>0.0</td>\n",
       "      <td>0.052679</td>\n",
       "      <td>89.456932</td>\n",
       "      <td>18.003700</td>\n",
       "      <td>18.304327</td>\n",
       "      <td>53.061190</td>\n",
       "      <td>-1.000690</td>\n",
       "      <td>0.529854</td>\n",
       "      <td>0.540959</td>\n",
       "      <td>0.003071</td>\n",
       "      <td>0.043606</td>\n",
       "      <td>22.763406</td>\n",
       "      <td>62.688214</td>\n",
       "      <td>1090.320020</td>\n",
       "      <td>1148.777557</td>\n",
       "      <td>8.891857</td>\n",
       "      <td>316.855106</td>\n",
       "      <td>284.86665</td>\n",
       "      <td>507.16665</td>\n",
       "      <td>-98.813717</td>\n",
       "      <td>383.965568</td>\n",
       "      <td>0.007261</td>\n",
       "      <td>1.058457</td>\n",
       "      <td>17.475854</td>\n",
       "      <td>561.547091</td>\n",
       "      <td>-0.103908</td>\n",
       "      <td>-306.613574</td>\n",
       "      <td>0.404812</td>\n",
       "      <td>25.279001</td>\n",
       "      <td>0.055939</td>\n",
       "      <td>151.477521</td>\n",
       "      <td>184.093170</td>\n",
       "      <td>59.785731</td>\n",
       "      <td>0.028424</td>\n",
       "      <td>-0.885720</td>\n",
       "      <td>-1.567546</td>\n",
       "      <td>-1.615314</td>\n",
       "      <td>-51.054434</td>\n",
       "      <td>223.565190</td>\n",
       "      <td>17.279529</td>\n",
       "      <td>-0.984249</td>\n",
       "      <td>-0.052453</td>\n",
       "      <td>-0.103421</td>\n",
       "      <td>0.090573</td>\n",
       "      <td>539.487087</td>\n",
       "      <td>-806.503931</td>\n",
       "      <td>0.577153</td>\n",
       "      <td>0.514021</td>\n",
       "      <td>18.904598</td>\n",
       "      <td>1.241939</td>\n",
       "      <td>-0.071049</td>\n",
       "      <td>-0.978247</td>\n",
       "      <td>-0.754005</td>\n",
       "      <td>0.017955</td>\n",
       "      <td>0.021796</td>\n",
       "      <td>0.058982</td>\n",
       "      <td>0.082104</td>\n",
       "      <td>0.002075</td>\n",
       "      <td>1.770745</td>\n",
       "      <td>0.057765</td>\n",
       "      <td>2.416968</td>\n",
       "      <td>0.001470</td>\n",
       "      <td>20.438158</td>\n",
       "      <td>12.446348</td>\n",
       "      <td>32.719406</td>\n",
       "      <td>13.489636</td>\n",
       "      <td>19.015883</td>\n",
       "      <td>49.706047</td>\n",
       "      <td>706.656366</td>\n",
       "      <td>0.806746</td>\n",
       "      <td>155.748372</td>\n",
       "      <td>1562.680920</td>\n",
       "      <td>3.737898</td>\n",
       "      <td>92.163605</td>\n",
       "      <td>10.445207</td>\n",
       "      <td>8.533079</td>\n",
       "      <td>251.225998</td>\n",
       "      <td>25.250000</td>\n",
       "      <td>7.0</td>\n",
       "      <td>36.183301</td>\n",
       "      <td>34.116699</td>\n",
       "      <td>1.023610</td>\n",
       "      <td>0.0</td>\n",
       "      <td>1.0</td>\n",
       "      <td>0.0</td>\n",
       "      <td>0.305154</td>\n",
       "      <td>12.718037</td>\n",
       "    </tr>\n",
       "    <tr>\n",
       "      <th>2</th>\n",
       "      <td>00105258</td>\n",
       "      <td>10.0</td>\n",
       "      <td>71.0</td>\n",
       "      <td>16.648696</td>\n",
       "      <td>56.500</td>\n",
       "      <td>75.6</td>\n",
       "      <td>27.0</td>\n",
       "      <td>117.0</td>\n",
       "      <td>20.0</td>\n",
       "      <td>10.20</td>\n",
       "      <td>14.70</td>\n",
       "      <td>7.0</td>\n",
       "      <td>2.4</td>\n",
       "      <td>-24.811978</td>\n",
       "      <td>38.0</td>\n",
       "      <td>2.0</td>\n",
       "      <td>1.0</td>\n",
       "      <td>0.0</td>\n",
       "      <td>0.051544</td>\n",
       "      <td>89.528796</td>\n",
       "      <td>72.632825</td>\n",
       "      <td>64.814719</td>\n",
       "      <td>132.689714</td>\n",
       "      <td>-1.001535</td>\n",
       "      <td>0.581180</td>\n",
       "      <td>0.508000</td>\n",
       "      <td>0.001253</td>\n",
       "      <td>0.046373</td>\n",
       "      <td>15.113260</td>\n",
       "      <td>82.795443</td>\n",
       "      <td>1914.673352</td>\n",
       "      <td>2174.520020</td>\n",
       "      <td>8.914334</td>\n",
       "      <td>280.658752</td>\n",
       "      <td>204.99334</td>\n",
       "      <td>475.76665</td>\n",
       "      <td>-406.720744</td>\n",
       "      <td>-27.948322</td>\n",
       "      <td>-0.157110</td>\n",
       "      <td>1.251344</td>\n",
       "      <td>20.592004</td>\n",
       "      <td>426.822872</td>\n",
       "      <td>-0.055080</td>\n",
       "      <td>-525.753946</td>\n",
       "      <td>0.353414</td>\n",
       "      <td>17.038335</td>\n",
       "      <td>-0.100803</td>\n",
       "      <td>-287.683429</td>\n",
       "      <td>48.409760</td>\n",
       "      <td>73.123344</td>\n",
       "      <td>0.018078</td>\n",
       "      <td>-0.865696</td>\n",
       "      <td>-2.338892</td>\n",
       "      <td>-1.792149</td>\n",
       "      <td>-189.599450</td>\n",
       "      <td>-69.776136</td>\n",
       "      <td>81.312502</td>\n",
       "      <td>-0.907346</td>\n",
       "      <td>0.000650</td>\n",
       "      <td>0.000123</td>\n",
       "      <td>-0.083917</td>\n",
       "      <td>-782.812247</td>\n",
       "      <td>-1515.544268</td>\n",
       "      <td>0.518400</td>\n",
       "      <td>0.454301</td>\n",
       "      <td>31.276516</td>\n",
       "      <td>1.612058</td>\n",
       "      <td>-0.107542</td>\n",
       "      <td>-0.997746</td>\n",
       "      <td>-0.993624</td>\n",
       "      <td>0.012943</td>\n",
       "      <td>0.013302</td>\n",
       "      <td>0.049712</td>\n",
       "      <td>0.075791</td>\n",
       "      <td>0.004364</td>\n",
       "      <td>2.637164</td>\n",
       "      <td>0.077506</td>\n",
       "      <td>3.443518</td>\n",
       "      <td>0.001415</td>\n",
       "      <td>45.355287</td>\n",
       "      <td>34.054314</td>\n",
       "      <td>65.634326</td>\n",
       "      <td>20.288210</td>\n",
       "      <td>22.907549</td>\n",
       "      <td>44.251033</td>\n",
       "      <td>2086.549777</td>\n",
       "      <td>0.118659</td>\n",
       "      <td>196.358112</td>\n",
       "      <td>1703.840015</td>\n",
       "      <td>4.245884</td>\n",
       "      <td>179.400383</td>\n",
       "      <td>10.215226</td>\n",
       "      <td>12.217950</td>\n",
       "      <td>285.961932</td>\n",
       "      <td>23.036171</td>\n",
       "      <td>9.0</td>\n",
       "      <td>49.449165</td>\n",
       "      <td>38.000000</td>\n",
       "      <td>3.893122</td>\n",
       "      <td>0.0</td>\n",
       "      <td>0.0</td>\n",
       "      <td>1.0</td>\n",
       "      <td>0.244420</td>\n",
       "      <td>9.755870</td>\n",
       "    </tr>\n",
       "    <tr>\n",
       "      <th>3</th>\n",
       "      <td>00115b9f</td>\n",
       "      <td>9.0</td>\n",
       "      <td>71.0</td>\n",
       "      <td>18.292347</td>\n",
       "      <td>56.000</td>\n",
       "      <td>81.6</td>\n",
       "      <td>26.4</td>\n",
       "      <td>117.0</td>\n",
       "      <td>18.0</td>\n",
       "      <td>17.66</td>\n",
       "      <td>19.24</td>\n",
       "      <td>5.0</td>\n",
       "      <td>3.0</td>\n",
       "      <td>18.824300</td>\n",
       "      <td>31.0</td>\n",
       "      <td>0.0</td>\n",
       "      <td>1.0</td>\n",
       "      <td>0.0</td>\n",
       "      <td>0.047388</td>\n",
       "      <td>89.751656</td>\n",
       "      <td>11.136038</td>\n",
       "      <td>10.005599</td>\n",
       "      <td>12.516920</td>\n",
       "      <td>-1.013281</td>\n",
       "      <td>0.664023</td>\n",
       "      <td>0.581047</td>\n",
       "      <td>0.001123</td>\n",
       "      <td>0.047503</td>\n",
       "      <td>9.765900</td>\n",
       "      <td>20.560743</td>\n",
       "      <td>2509.250000</td>\n",
       "      <td>2318.199951</td>\n",
       "      <td>6.922735</td>\n",
       "      <td>178.458450</td>\n",
       "      <td>95.00000</td>\n",
       "      <td>359.00000</td>\n",
       "      <td>170.965439</td>\n",
       "      <td>-12.885210</td>\n",
       "      <td>-0.110789</td>\n",
       "      <td>1.023125</td>\n",
       "      <td>8.228292</td>\n",
       "      <td>17.042252</td>\n",
       "      <td>-0.028194</td>\n",
       "      <td>38.194061</td>\n",
       "      <td>0.202894</td>\n",
       "      <td>22.678757</td>\n",
       "      <td>-0.112217</td>\n",
       "      <td>163.961899</td>\n",
       "      <td>712.567383</td>\n",
       "      <td>9.328824</td>\n",
       "      <td>0.162170</td>\n",
       "      <td>-0.899747</td>\n",
       "      <td>-1.449167</td>\n",
       "      <td>-1.696042</td>\n",
       "      <td>-162.726105</td>\n",
       "      <td>10.201592</td>\n",
       "      <td>113.857529</td>\n",
       "      <td>-1.007734</td>\n",
       "      <td>0.001678</td>\n",
       "      <td>0.481678</td>\n",
       "      <td>0.174127</td>\n",
       "      <td>88.456406</td>\n",
       "      <td>-556.077881</td>\n",
       "      <td>0.578686</td>\n",
       "      <td>0.545946</td>\n",
       "      <td>14.085580</td>\n",
       "      <td>0.999349</td>\n",
       "      <td>-0.258508</td>\n",
       "      <td>-0.994922</td>\n",
       "      <td>-1.004505</td>\n",
       "      <td>0.039797</td>\n",
       "      <td>0.022768</td>\n",
       "      <td>0.040718</td>\n",
       "      <td>0.045689</td>\n",
       "      <td>0.000264</td>\n",
       "      <td>3.573040</td>\n",
       "      <td>0.058005</td>\n",
       "      <td>1.273030</td>\n",
       "      <td>0.000296</td>\n",
       "      <td>8.397519</td>\n",
       "      <td>14.401575</td>\n",
       "      <td>54.115761</td>\n",
       "      <td>12.572705</td>\n",
       "      <td>17.601913</td>\n",
       "      <td>42.592899</td>\n",
       "      <td>2633.250000</td>\n",
       "      <td>0.000000</td>\n",
       "      <td>177.174103</td>\n",
       "      <td>2409.500000</td>\n",
       "      <td>4.770065</td>\n",
       "      <td>577.500000</td>\n",
       "      <td>5.821051</td>\n",
       "      <td>17.455950</td>\n",
       "      <td>145.146576</td>\n",
       "      <td>30.000000</td>\n",
       "      <td>7.0</td>\n",
       "      <td>7.000000</td>\n",
       "      <td>13.000000</td>\n",
       "      <td>6.585714</td>\n",
       "      <td>1.0</td>\n",
       "      <td>1.0</td>\n",
       "      <td>0.0</td>\n",
       "      <td>0.224196</td>\n",
       "      <td>6.274343</td>\n",
       "    </tr>\n",
       "    <tr>\n",
       "      <th>4</th>\n",
       "      <td>0016bb22</td>\n",
       "      <td>18.0</td>\n",
       "      <td>65.8</td>\n",
       "      <td>22.367377</td>\n",
       "      <td>66.878</td>\n",
       "      <td>20.0</td>\n",
       "      <td>31.7</td>\n",
       "      <td>113.6</td>\n",
       "      <td>5.8</td>\n",
       "      <td>28.28</td>\n",
       "      <td>27.96</td>\n",
       "      <td>4.2</td>\n",
       "      <td>3.0</td>\n",
       "      <td>26.554596</td>\n",
       "      <td>65.2</td>\n",
       "      <td>2.2</td>\n",
       "      <td>1.0</td>\n",
       "      <td>1.0</td>\n",
       "      <td>0.046710</td>\n",
       "      <td>88.557333</td>\n",
       "      <td>30.512318</td>\n",
       "      <td>34.729864</td>\n",
       "      <td>46.095550</td>\n",
       "      <td>-0.601322</td>\n",
       "      <td>0.513992</td>\n",
       "      <td>0.363256</td>\n",
       "      <td>0.006451</td>\n",
       "      <td>0.059423</td>\n",
       "      <td>23.805539</td>\n",
       "      <td>45.642145</td>\n",
       "      <td>2073.289981</td>\n",
       "      <td>1052.849274</td>\n",
       "      <td>8.676221</td>\n",
       "      <td>208.150089</td>\n",
       "      <td>166.18335</td>\n",
       "      <td>586.00000</td>\n",
       "      <td>-458.982312</td>\n",
       "      <td>-346.688521</td>\n",
       "      <td>-0.027934</td>\n",
       "      <td>1.010730</td>\n",
       "      <td>40.286681</td>\n",
       "      <td>-925.913538</td>\n",
       "      <td>-0.036889</td>\n",
       "      <td>311.321217</td>\n",
       "      <td>0.327984</td>\n",
       "      <td>34.068309</td>\n",
       "      <td>0.035641</td>\n",
       "      <td>-430.698573</td>\n",
       "      <td>-310.559863</td>\n",
       "      <td>21.064805</td>\n",
       "      <td>0.094592</td>\n",
       "      <td>-0.874560</td>\n",
       "      <td>-1.485158</td>\n",
       "      <td>-1.314069</td>\n",
       "      <td>179.947000</td>\n",
       "      <td>302.276663</td>\n",
       "      <td>23.480862</td>\n",
       "      <td>-0.986945</td>\n",
       "      <td>-0.156401</td>\n",
       "      <td>-0.091592</td>\n",
       "      <td>-0.194812</td>\n",
       "      <td>-199.920056</td>\n",
       "      <td>-714.911292</td>\n",
       "      <td>0.376802</td>\n",
       "      <td>0.491894</td>\n",
       "      <td>11.501916</td>\n",
       "      <td>1.059301</td>\n",
       "      <td>-0.320264</td>\n",
       "      <td>-1.001321</td>\n",
       "      <td>-0.951278</td>\n",
       "      <td>0.029679</td>\n",
       "      <td>0.018844</td>\n",
       "      <td>0.060554</td>\n",
       "      <td>0.057553</td>\n",
       "      <td>0.001492</td>\n",
       "      <td>1.551091</td>\n",
       "      <td>0.043170</td>\n",
       "      <td>1.558729</td>\n",
       "      <td>0.000776</td>\n",
       "      <td>17.597503</td>\n",
       "      <td>18.880747</td>\n",
       "      <td>54.116080</td>\n",
       "      <td>13.750061</td>\n",
       "      <td>33.682291</td>\n",
       "      <td>81.571663</td>\n",
       "      <td>1129.729980</td>\n",
       "      <td>0.143672</td>\n",
       "      <td>212.683105</td>\n",
       "      <td>2043.039990</td>\n",
       "      <td>2.632023</td>\n",
       "      <td>121.178068</td>\n",
       "      <td>13.463926</td>\n",
       "      <td>14.782193</td>\n",
       "      <td>232.641109</td>\n",
       "      <td>17.101328</td>\n",
       "      <td>15.4</td>\n",
       "      <td>38.600000</td>\n",
       "      <td>41.910000</td>\n",
       "      <td>5.256589</td>\n",
       "      <td>0.0</td>\n",
       "      <td>0.0</td>\n",
       "      <td>1.0</td>\n",
       "      <td>0.195376</td>\n",
       "      <td>10.738625</td>\n",
       "    </tr>\n",
       "  </tbody>\n",
       "</table>\n",
       "</div>"
      ],
      "text/plain": [
       "         id  Basic_Demos-Age  CGAS-CGAS_Score  Physical-BMI  Physical-Height  \\\n",
       "0  00008ff9              5.0             51.0     16.877316           46.000   \n",
       "1  000fd460              9.0             63.2     14.035590           48.000   \n",
       "2  00105258             10.0             71.0     16.648696           56.500   \n",
       "3  00115b9f              9.0             71.0     18.292347           56.000   \n",
       "4  0016bb22             18.0             65.8     22.367377           66.878   \n",
       "\n",
       "   Physical-Weight  Physical-Waist_Circumference  Physical-Systolic_BP  \\\n",
       "0             50.8                          25.0                 130.2   \n",
       "1             46.0                          22.0                 122.0   \n",
       "2             75.6                          27.0                 117.0   \n",
       "3             81.6                          26.4                 117.0   \n",
       "4             20.0                          31.7                 113.6   \n",
       "\n",
       "   FGC-FGC_CU  FGC-FGC_GSND  FGC-FGC_GSD  FGC-FGC_PU  \\\n",
       "0         0.0         20.50        21.18         0.0   \n",
       "1         3.0         23.08        24.94         5.0   \n",
       "2        20.0         10.20        14.70         7.0   \n",
       "3        18.0         17.66        19.24         5.0   \n",
       "4         5.8         28.28        27.96         4.2   \n",
       "\n",
       "   BIA-BIA_Activity_Level_num  BIA-BIA_Fat  SDS-SDS_Total_Raw  \\\n",
       "0                         2.0     9.213770               41.6   \n",
       "1                         2.0     3.970850               46.0   \n",
       "2                         2.4   -24.811978               38.0   \n",
       "3                         3.0    18.824300               31.0   \n",
       "4                         3.0    26.554596               65.2   \n",
       "\n",
       "   PreInt_EduHx-computerinternet_hoursday  Physical-Waist_Circumference_isnan  \\\n",
       "0                                     3.0                                 1.0   \n",
       "1                                     0.0                                 0.0   \n",
       "2                                     2.0                                 1.0   \n",
       "3                                     0.0                                 1.0   \n",
       "4                                     2.2                                 1.0   \n",
       "\n",
       "   PAQ_C-Season_isnan  enmo_mean  anglez_max  X_weekday_4_entropy  \\\n",
       "0                 1.0   0.045088   89.296684            39.926039   \n",
       "1                 0.0   0.052679   89.456932            18.003700   \n",
       "2                 0.0   0.051544   89.528796            72.632825   \n",
       "3                 0.0   0.047388   89.751656            11.136038   \n",
       "4                 1.0   0.046710   88.557333            30.512318   \n",
       "\n",
       "   X_weekday_5_entropy  Y_weekday_4_entropy  Z_weekday_1_min  Z_weekday_4_std  \\\n",
       "0            34.137011            32.881972        -1.001339         0.545945   \n",
       "1            18.304327            53.061190        -1.000690         0.529854   \n",
       "2            64.814719           132.689714        -1.001535         0.581180   \n",
       "3            10.005599            12.516920        -1.013281         0.664023   \n",
       "4            34.729864            46.095550        -0.601322         0.513992   \n",
       "\n",
       "   Z_weekday_5_std  enmo_weekday_1_15%  enmo_weekday_3_mean  \\\n",
       "0         0.502684            0.002152             0.046002   \n",
       "1         0.540959            0.003071             0.043606   \n",
       "2         0.508000            0.001253             0.046373   \n",
       "3         0.581047            0.001123             0.047503   \n",
       "4         0.363256            0.006451             0.059423   \n",
       "\n",
       "   anglez_weekday_3_entropy  light_weekday_1_std  light_weekday_3_max  \\\n",
       "0                 26.211493            30.577977          1519.440030   \n",
       "1                 22.763406            62.688214          1090.320020   \n",
       "2                 15.113260            82.795443          1914.673352   \n",
       "3                  9.765900            20.560743          2509.250000   \n",
       "4                 23.805539            45.642145          2073.289981   \n",
       "\n",
       "   light_weekday_4_max  light_weekday_4_entropy  \\\n",
       "0           929.050000                 9.275002   \n",
       "1          1148.777557                 8.891857   \n",
       "2          2174.520020                 8.914334   \n",
       "3          2318.199951                 6.922735   \n",
       "4          1052.849274                 8.676221   \n",
       "\n",
       "   battery_use_since_wear_weekday_3_mean  \\\n",
       "0                             213.972368   \n",
       "1                             316.855106   \n",
       "2                             280.658752   \n",
       "3                             178.458450   \n",
       "4                             208.150089   \n",
       "\n",
       "   battery_use_since_wear_weekday_3_30%  battery_use_since_wear_weekday_5_max  \\\n",
       "0                             136.85000                             696.71665   \n",
       "1                             284.86665                             507.16665   \n",
       "2                             204.99334                             475.76665   \n",
       "3                              95.00000                             359.00000   \n",
       "4                             166.18335                             586.00000   \n",
       "\n",
       "   X_time_of_day_hour_window_1_sum  X_time_of_day_hour_window_2_sum  \\\n",
       "0                      -211.553589                       239.102159   \n",
       "1                       -98.813717                       383.965568   \n",
       "2                      -406.720744                       -27.948322   \n",
       "3                       170.965439                       -12.885210   \n",
       "4                      -458.982312                      -346.688521   \n",
       "\n",
       "   X_time_of_day_hour_window_4_mean  X_time_of_day_hour_window_15_max  \\\n",
       "0                         -0.011758                          1.140360   \n",
       "1                          0.007261                          1.058457   \n",
       "2                         -0.157110                          1.251344   \n",
       "3                         -0.110789                          1.023125   \n",
       "4                         -0.027934                          1.010730   \n",
       "\n",
       "   X_time_of_day_hour_window_19_entropy  X_time_of_day_hour_window_22_sum  \\\n",
       "0                             22.976666                       -150.355033   \n",
       "1                             17.475854                        561.547091   \n",
       "2                             20.592004                        426.822872   \n",
       "3                              8.228292                         17.042252   \n",
       "4                             40.286681                       -925.913538   \n",
       "\n",
       "   X_time_of_day_hour_window_23_mean  Y_time_of_day_hour_window_0_sum  \\\n",
       "0                          -0.020638                       -43.818953   \n",
       "1                          -0.103908                      -306.613574   \n",
       "2                          -0.055080                      -525.753946   \n",
       "3                          -0.028194                        38.194061   \n",
       "4                          -0.036889                       311.321217   \n",
       "\n",
       "   Y_time_of_day_hour_window_2_std  Y_time_of_day_hour_window_5_entropy  \\\n",
       "0                         0.304632                            23.115072   \n",
       "1                         0.404812                            25.279001   \n",
       "2                         0.353414                            17.038335   \n",
       "3                         0.202894                            22.678757   \n",
       "4                         0.327984                            34.068309   \n",
       "\n",
       "   Y_time_of_day_hour_window_6_mean  Y_time_of_day_hour_window_8_sum  \\\n",
       "0                         -0.007757                      -332.684457   \n",
       "1                          0.055939                       151.477521   \n",
       "2                         -0.100803                      -287.683429   \n",
       "3                         -0.112217                       163.961899   \n",
       "4                          0.035641                      -430.698573   \n",
       "\n",
       "   Y_time_of_day_hour_window_9_sum  Y_time_of_day_hour_window_9_entropy  \\\n",
       "0                      -156.169044                            52.527369   \n",
       "1                       184.093170                            59.785731   \n",
       "2                        48.409760                            73.123344   \n",
       "3                       712.567383                             9.328824   \n",
       "4                      -310.559863                            21.064805   \n",
       "\n",
       "   Y_time_of_day_hour_window_11_mean  Y_time_of_day_hour_window_13_3%  \\\n",
       "0                           0.077756                        -0.815943   \n",
       "1                           0.028424                        -0.885720   \n",
       "2                           0.018078                        -0.865696   \n",
       "3                           0.162170                        -0.899747   \n",
       "4                           0.094592                        -0.874560   \n",
       "\n",
       "   Y_time_of_day_hour_window_14_min  Y_time_of_day_hour_window_15_min  \\\n",
       "0                         -1.395185                         -1.295111   \n",
       "1                         -1.567546                         -1.615314   \n",
       "2                         -2.338892                         -1.792149   \n",
       "3                         -1.449167                         -1.696042   \n",
       "4                         -1.485158                         -1.314069   \n",
       "\n",
       "   Y_time_of_day_hour_window_20_sum  Y_time_of_day_hour_window_21_sum  \\\n",
       "0                        -18.909606                        228.457314   \n",
       "1                        -51.054434                        223.565190   \n",
       "2                       -189.599450                        -69.776136   \n",
       "3                       -162.726105                         10.201592   \n",
       "4                        179.947000                        302.276663   \n",
       "\n",
       "   Y_time_of_day_hour_window_21_entropy  Z_time_of_day_hour_window_0_min  \\\n",
       "0                             16.746607                        -0.989829   \n",
       "1                             17.279529                        -0.984249   \n",
       "2                             81.312502                        -0.907346   \n",
       "3                            113.857529                        -1.007734   \n",
       "4                             23.480862                        -0.986945   \n",
       "\n",
       "   Z_time_of_day_hour_window_1_mean  Z_time_of_day_hour_window_2_mean  \\\n",
       "0                         -0.219695                         -0.243437   \n",
       "1                         -0.052453                         -0.103421   \n",
       "2                          0.000650                          0.000123   \n",
       "3                          0.001678                          0.481678   \n",
       "4                         -0.156401                         -0.091592   \n",
       "\n",
       "   Z_time_of_day_hour_window_5_mean  Z_time_of_day_hour_window_5_sum  \\\n",
       "0                         -0.026439                       232.212733   \n",
       "1                          0.090573                       539.487087   \n",
       "2                         -0.083917                      -782.812247   \n",
       "3                          0.174127                        88.456406   \n",
       "4                         -0.194812                      -199.920056   \n",
       "\n",
       "   Z_time_of_day_hour_window_9_sum  Z_time_of_day_hour_window_11_std  \\\n",
       "0                      -752.212750                          0.494078   \n",
       "1                      -806.503931                          0.577153   \n",
       "2                     -1515.544268                          0.518400   \n",
       "3                      -556.077881                          0.578686   \n",
       "4                      -714.911292                          0.376802   \n",
       "\n",
       "   Z_time_of_day_hour_window_15_std  Z_time_of_day_hour_window_15_entropy  \\\n",
       "0                          0.513271                             18.664069   \n",
       "1                          0.514021                             18.904598   \n",
       "2                          0.454301                             31.276516   \n",
       "3                          0.545946                             14.085580   \n",
       "4                          0.491894                             11.501916   \n",
       "\n",
       "   Z_time_of_day_hour_window_16_max  Z_time_of_day_hour_window_21_mean  \\\n",
       "0                          1.461590                           0.019698   \n",
       "1                          1.241939                          -0.071049   \n",
       "2                          1.612058                          -0.107542   \n",
       "3                          0.999349                          -0.258508   \n",
       "4                          1.059301                          -0.320264   \n",
       "\n",
       "   Z_time_of_day_hour_window_22_min  Z_time_of_day_hour_window_23_min  \\\n",
       "0                         -0.601909                         -0.973880   \n",
       "1                         -0.978247                         -0.754005   \n",
       "2                         -0.997746                         -0.993624   \n",
       "3                         -0.994922                         -1.004505   \n",
       "4                         -1.001321                         -0.951278   \n",
       "\n",
       "   enmo_time_of_day_hour_window_3_std  enmo_time_of_day_hour_window_4_std  \\\n",
       "0                            0.022801                            0.021542   \n",
       "1                            0.017955                            0.021796   \n",
       "2                            0.012943                            0.013302   \n",
       "3                            0.039797                            0.022768   \n",
       "4                            0.029679                            0.018844   \n",
       "\n",
       "   enmo_time_of_day_hour_window_8_mean  enmo_time_of_day_hour_window_14_mean  \\\n",
       "0                             0.044125                              0.061529   \n",
       "1                             0.058982                              0.082104   \n",
       "2                             0.049712                              0.075791   \n",
       "3                             0.040718                              0.045689   \n",
       "4                             0.060554                              0.057553   \n",
       "\n",
       "   enmo_time_of_day_hour_window_15_10%  enmo_time_of_day_hour_window_16_max  \\\n",
       "0                             0.001617                             2.518643   \n",
       "1                             0.002075                             1.770745   \n",
       "2                             0.004364                             2.637164   \n",
       "3                             0.000264                             3.573040   \n",
       "4                             0.001492                             1.551091   \n",
       "\n",
       "   enmo_time_of_day_hour_window_18_mean  enmo_time_of_day_hour_window_18_max  \\\n",
       "0                              0.052438                             1.742300   \n",
       "1                              0.057765                             2.416968   \n",
       "2                              0.077506                             3.443518   \n",
       "3                              0.058005                             1.273030   \n",
       "4                              0.043170                             1.558729   \n",
       "\n",
       "   enmo_time_of_day_hour_window_19_10%  \\\n",
       "0                             0.001565   \n",
       "1                             0.001470   \n",
       "2                             0.001415   \n",
       "3                             0.000296   \n",
       "4                             0.000776   \n",
       "\n",
       "   anglez_time_of_day_hour_window_8_entropy  \\\n",
       "0                                 55.225293   \n",
       "1                                 20.438158   \n",
       "2                                 45.355287   \n",
       "3                                  8.397519   \n",
       "4                                 17.597503   \n",
       "\n",
       "   anglez_time_of_day_hour_window_12_entropy  \\\n",
       "0                                  17.738485   \n",
       "1                                  12.446348   \n",
       "2                                  34.054314   \n",
       "3                                  14.401575   \n",
       "4                                  18.880747   \n",
       "\n",
       "   light_time_of_day_hour_window_7_std  light_time_of_day_hour_window_7_70%  \\\n",
       "0                            30.704474                            38.370415   \n",
       "1                            32.719406                            13.489636   \n",
       "2                            65.634326                            20.288210   \n",
       "3                            54.115761                            12.572705   \n",
       "4                            54.116080                            13.750061   \n",
       "\n",
       "   light_time_of_day_hour_window_8_mean  light_time_of_day_hour_window_8_std  \\\n",
       "0                             15.214690                            25.508007   \n",
       "1                             19.015883                            49.706047   \n",
       "2                             22.907549                            44.251033   \n",
       "3                             17.601913                            42.592899   \n",
       "4                             33.682291                            81.571663   \n",
       "\n",
       "   light_time_of_day_hour_window_10_max  light_time_of_day_hour_window_12_1%  \\\n",
       "0                           1343.000024                             0.073666   \n",
       "1                            706.656366                             0.806746   \n",
       "2                           2086.549777                             0.118659   \n",
       "3                           2633.250000                             0.000000   \n",
       "4                           1129.729980                             0.143672   \n",
       "\n",
       "   light_time_of_day_hour_window_13_std  light_time_of_day_hour_window_13_max  \\\n",
       "0                             39.113261                           1403.999985   \n",
       "1                            155.748372                           1562.680920   \n",
       "2                            196.358112                           1703.840015   \n",
       "3                            177.174103                           2409.500000   \n",
       "4                            212.683105                           2043.039990   \n",
       "\n",
       "   light_time_of_day_hour_window_19_35%  light_time_of_day_hour_window_19_max  \\\n",
       "0                              2.858217                             86.159849   \n",
       "1                              3.737898                             92.163605   \n",
       "2                              4.245884                            179.400383   \n",
       "3                              4.770065                            577.500000   \n",
       "4                              2.632023                            121.178068   \n",
       "\n",
       "   light_time_of_day_hour_window_20_std  light_time_of_day_hour_window_21_std  \\\n",
       "0                             13.298962                             24.520308   \n",
       "1                             10.445207                              8.533079   \n",
       "2                             10.215226                             12.217950   \n",
       "3                              5.821051                             17.455950   \n",
       "4                             13.463926                             14.782193   \n",
       "\n",
       "   battery_use_since_wear_time_of_day_hour_window_8_mean  \\\n",
       "0                                             286.112347   \n",
       "1                                             251.225998   \n",
       "2                                             285.961932   \n",
       "3                                             145.146576   \n",
       "4                                             232.641109   \n",
       "\n",
       "   battery_use_since_wear_time_of_day_hour_window_14_1%  \\\n",
       "0                                              6.200000   \n",
       "1                                             25.250000   \n",
       "2                                             23.036171   \n",
       "3                                             30.000000   \n",
       "4                                             17.101328   \n",
       "\n",
       "   battery_use_since_wear_time_of_day_hour_window_16_min  \\\n",
       "0                                                    9.6   \n",
       "1                                                    7.0   \n",
       "2                                                    9.0   \n",
       "3                                                    7.0   \n",
       "4                                                   15.4   \n",
       "\n",
       "   battery_use_since_wear_time_of_day_hour_window_16_5%  \\\n",
       "0                                             30.200000   \n",
       "1                                             36.183301   \n",
       "2                                             49.449165   \n",
       "3                                              7.000000   \n",
       "4                                             38.600000   \n",
       "\n",
       "   battery_use_since_wear_time_of_day_hour_window_18_5%  \\\n",
       "0                                             33.334136   \n",
       "1                                             34.116699   \n",
       "2                                             38.000000   \n",
       "3                                             13.000000   \n",
       "4                                             41.910000   \n",
       "\n",
       "   battery_use_since_wear_timestamp_hour_window_mean_min  PAQ_C-Season_Winter  \\\n",
       "0                                               0.297317                  0.0   \n",
       "1                                               1.023610                  0.0   \n",
       "2                                               3.893122                  0.0   \n",
       "3                                               6.585714                  1.0   \n",
       "4                                               5.256589                  0.0   \n",
       "\n",
       "   Basic_Demos-Sex_0  Basic_Demos-Sex_1   FMI_BFP  Muscle_to_Fat  \n",
       "0                1.0                0.0  0.332267       6.383063  \n",
       "1                1.0                0.0  0.305154      12.718037  \n",
       "2                0.0                1.0  0.244420       9.755870  \n",
       "3                1.0                0.0  0.224196       6.274343  \n",
       "4                0.0                1.0  0.195376      10.738625  "
      ]
     },
     "execution_count": 76,
     "metadata": {},
     "output_type": "execute_result"
    }
   ],
   "source": [
    "print(test_final_df.shape)\n",
    "test_final_df.head()"
   ]
  },
  {
   "cell_type": "markdown",
   "metadata": {},
   "source": [
    "# Parameter tuning, training, prediction & submission"
   ]
  },
  {
   "cell_type": "code",
   "execution_count": 78,
   "metadata": {},
   "outputs": [],
   "source": [
    "# https://www.kaggle.com/code/ichigoe/lb0-494-with-tabnet\n",
    "def quadratic_weighted_kappa(y_true, y_pred):\n",
    "    return cohen_kappa_score(y_true, y_pred, weights='quadratic')\n",
    "\n",
    "def threshold_Rounder(oof_non_rounded, thresholds):\n",
    "    return np.where(oof_non_rounded < thresholds[0], 0,\n",
    "                    np.where(oof_non_rounded < thresholds[1], 1,\n",
    "                             np.where(oof_non_rounded < thresholds[2], 2, 3)))\n",
    "\n",
    "def evaluate_predictions(thresholds, y_true, oof_non_rounded):\n",
    "    rounded_p = threshold_Rounder(oof_non_rounded, thresholds)\n",
    "    return -quadratic_weighted_kappa(y_true, rounded_p)"
   ]
  },
  {
   "cell_type": "code",
   "execution_count": 91,
   "metadata": {},
   "outputs": [],
   "source": [
    "def ensemble(train_data, test_data, xgb_params, lgb_params, cat_params):\n",
    "    X = train_data.drop(['id', 'sii'], axis=1)\n",
    "    y = train_data['sii']\n",
    "\n",
    "    test_data = test_data.drop('id', axis=1)\n",
    "\n",
    "    xgb_oof_non_rounded = np.zeros(len(y), dtype=float)\n",
    "    lgb_oof_non_rounded = np.zeros(len(y), dtype=float)\n",
    "    cat_oof_non_rounded = np.zeros(len(y), dtype=float)\n",
    "    \n",
    "    xgb_test_preds = np.zeros((len(test_data), n_splits), dtype=float)\n",
    "    lgb_test_preds = np.zeros((len(test_data), n_splits), dtype=float)\n",
    "    cat_test_preds = np.zeros((len(test_data), n_splits), dtype=float)\n",
    "\n",
    "    SKF = StratifiedKFold(n_splits=n_splits, shuffle=True, random_state=6)\n",
    "    \n",
    "    for fold, (train_idx, test_idx) in enumerate(SKF.split(X, y)):\n",
    "        X_train, X_val = X.iloc[train_idx], X.iloc[test_idx]\n",
    "        y_train, y_val = y.iloc[train_idx], y.iloc[test_idx]\n",
    "\n",
    "        xgb_model = XGBRegressor(**xgb_params)\n",
    "        lgb_model = LGBMRegressor(**lgb_params)\n",
    "        cat_model = CatBoostRegressor(**cat_params)\n",
    "\n",
    "        xgb_model.fit(X_train, y_train, eval_set=[(X_train, y_train), (X_val, y_val)], verbose=0)\n",
    "        lgb_model.fit(X_train, y_train, eval_set=[(X_train, y_train), (X_val, y_val)])\n",
    "        cat_model.fit(X_train, y_train, eval_set=(X_val, y_val), plot=True)\n",
    "        \n",
    "        xgb_y_val_pred = xgb_model.predict(X_val)\n",
    "        lgb_y_val_pred = lgb_model.predict(X_val)\n",
    "        cat_y_val_pred = cat_model.predict(X_val)\n",
    "\n",
    "        xgb_oof_non_rounded[test_idx] = xgb_y_val_pred\n",
    "        lgb_oof_non_rounded[test_idx] = lgb_y_val_pred\n",
    "        cat_oof_non_rounded[test_idx] = cat_y_val_pred\n",
    "        \n",
    "        xgb_test_preds[:, fold] = xgb_model.predict(test_data)\n",
    "        lgb_test_preds[:, fold] = lgb_model.predict(test_data)\n",
    "        cat_test_preds[:, fold] = cat_model.predict(test_data)\n",
    "\n",
    "    xgb_tpm = xgb_test_preds.mean(axis=1)\n",
    "    lgb_tpm = lgb_test_preds.mean(axis=1)\n",
    "    cat_tpm = cat_test_preds.mean(axis=1)\n",
    "\n",
    "    return xgb_oof_non_rounded, lgb_oof_non_rounded, cat_oof_non_rounded, xgb_tpm, lgb_tpm, cat_tpm"
   ]
  },
  {
   "cell_type": "code",
   "execution_count": 92,
   "metadata": {},
   "outputs": [],
   "source": [
    "xgb_params_df = pd.read_csv(path + 'xgb_params.csv')\n",
    "lgb_params_df = pd.read_csv(path + 'lgb_params.csv')\n",
    "cat_params_df = pd.read_csv(path + 'cat_params.csv')"
   ]
  },
  {
   "cell_type": "code",
   "execution_count": 127,
   "metadata": {},
   "outputs": [],
   "source": [
    "def create_params_dict(params_df):\n",
    "    params_dict = {}\n",
    "    for col in params_df.columns:\n",
    "        v = params_df[col][0]\n",
    "        if type(v) == np.int64:\n",
    "            v = int(v)\n",
    "        params_dict[col] = v\n",
    "\n",
    "    return params_dict"
   ]
  },
  {
   "cell_type": "code",
   "execution_count": 132,
   "metadata": {},
   "outputs": [],
   "source": [
    "xgb_params_dict = create_params_dict(xgb_params_df)\n",
    "lgb_params_dict = create_params_dict(lgb_params_df)\n",
    "cat_params_dict = create_params_dict(cat_params_df)"
   ]
  },
  {
   "cell_type": "code",
   "execution_count": 139,
   "metadata": {},
   "outputs": [],
   "source": [
    "cat_params_dict['iterations'] = 2000"
   ]
  },
  {
   "cell_type": "code",
   "execution_count": 141,
   "metadata": {
    "scrolled": true
   },
   "outputs": [
    {
     "data": {
      "application/vnd.jupyter.widget-view+json": {
       "model_id": "0358e6cf720247cb8f6dc41342061316",
       "version_major": 2,
       "version_minor": 0
      },
      "text/plain": [
       "MetricVisualizer(layout=Layout(align_self='stretch', height='500px'))"
      ]
     },
     "metadata": {},
     "output_type": "display_data"
    },
    {
     "data": {
      "application/vnd.jupyter.widget-view+json": {
       "model_id": "09c1c624140944d6be7d170eae4d7096",
       "version_major": 2,
       "version_minor": 0
      },
      "text/plain": [
       "MetricVisualizer(layout=Layout(align_self='stretch', height='500px'))"
      ]
     },
     "metadata": {},
     "output_type": "display_data"
    },
    {
     "data": {
      "application/vnd.jupyter.widget-view+json": {
       "model_id": "677077499acc46e0ad9963eb34797cce",
       "version_major": 2,
       "version_minor": 0
      },
      "text/plain": [
       "MetricVisualizer(layout=Layout(align_self='stretch', height='500px'))"
      ]
     },
     "metadata": {},
     "output_type": "display_data"
    },
    {
     "data": {
      "application/vnd.jupyter.widget-view+json": {
       "model_id": "c59398ba2e174614859fb60436bdec6d",
       "version_major": 2,
       "version_minor": 0
      },
      "text/plain": [
       "MetricVisualizer(layout=Layout(align_self='stretch', height='500px'))"
      ]
     },
     "metadata": {},
     "output_type": "display_data"
    },
    {
     "data": {
      "application/vnd.jupyter.widget-view+json": {
       "model_id": "277e5f6353a44940a8d3ff2e59cf2a81",
       "version_major": 2,
       "version_minor": 0
      },
      "text/plain": [
       "MetricVisualizer(layout=Layout(align_self='stretch', height='500px'))"
      ]
     },
     "metadata": {},
     "output_type": "display_data"
    }
   ],
   "source": [
    "xgb_train, lgb_train, cat_train, xgb_test, lgb_test, cat_test = ensemble(\n",
    "    train_final_df, test_final_df, xgb_params_dict, lgb_params_dict, cat_params_dict\n",
    ")"
   ]
  },
  {
   "cell_type": "code",
   "execution_count": 163,
   "metadata": {},
   "outputs": [],
   "source": [
    "def meta_learner_param_tune(y, xgb_train_meta, lgb_train_meta, cat_train_meta, xgb_test_meta, lgb_test_meta, cat_test_meta, optuna_n_trials):\n",
    "    y = y.copy()\n",
    "\n",
    "    X = pd.DataFrame({\n",
    "        'xgb_meta': xgb_train_meta,\n",
    "        'lgb_meta': lgb_train_meta,\n",
    "        'cat_meta': cat_train_meta,\n",
    "    })\n",
    "\n",
    "    test_data = pd.DataFrame({\n",
    "        'xgb_meta': xgb_test_meta,\n",
    "        'lgb_meta': lgb_test_meta,\n",
    "        'cat_meta': cat_test_meta,\n",
    "    })\n",
    "\n",
    "    SKF = StratifiedKFold(n_splits=n_splits, shuffle=True, random_state=6)\n",
    "\n",
    "    base_params = {\n",
    "        'iterations': 1500,\n",
    "        'verbose': 0,\n",
    "        'task_type': 'GPU',\n",
    "        'use_best_model': True,\n",
    "        'depth': 3\n",
    "    }\n",
    "\n",
    "    def objective(trial):\n",
    "\n",
    "        oof_non_rounded = np.zeros(len(y), dtype=float)\n",
    "        \n",
    "        params_to_tune = {\n",
    "            'learning_rate': trial.suggest_float('learning_rate', 0.01, 0.7),\n",
    "            'l2_leaf_reg': trial.suggest_int('l2_leaf_reg', 1, 2000),\n",
    "            'early_stopping_rounds': trial.suggest_int('early_stopping_rounds', 10, 30),\n",
    "            'bagging_temperature': trial.suggest_float('bagging_temperature', 0, 2),\n",
    "            'random_strength': trial.suggest_float('random_strength', 0, 5)\n",
    "        }\n",
    "        \n",
    "        for fold, (train_idx, test_idx) in enumerate(SKF.split(X, y)):\n",
    "            X_train, X_val = X.iloc[train_idx], X.iloc[test_idx]\n",
    "            y_train, y_val = y.iloc[train_idx], y.iloc[test_idx]\n",
    "    \n",
    "            model = CatBoostRegressor(\n",
    "                **base_params,\n",
    "                **params_to_tune\n",
    "            )\n",
    "            \n",
    "            model.fit(X_train, y_train, eval_set=(X_val, y_val))\n",
    "            \n",
    "            y_val_pred = model.predict(X_val)\n",
    "    \n",
    "            oof_non_rounded[test_idx] = y_val_pred\n",
    "\n",
    "        # https://www.kaggle.com/competitions/child-mind-institute-problematic-internet-use/discussion/551533\n",
    "        y_preds_df = pd.DataFrame({'y':y, 'preds':oof_non_rounded})\n",
    "        oof_initial_thresholds = y_preds_df.groupby('y')['preds'].mean().iloc[1:].values.tolist()\n",
    "    \n",
    "        KappaOPtimizer = minimize(evaluate_predictions,\n",
    "                                  x0=oof_initial_thresholds, args=(y, oof_non_rounded), \n",
    "                                  method='Nelder-Mead')\n",
    "        assert KappaOPtimizer.success, \"Optimization did not converge.\"\n",
    "        \n",
    "        oof_tuned = threshold_Rounder(oof_non_rounded, KappaOPtimizer.x)\n",
    "        tKappa = quadratic_weighted_kappa(y, oof_tuned)\n",
    "\n",
    "        del y_preds_df, oof_initial_thresholds\n",
    "        gc.collect()\n",
    "    \n",
    "        return tKappa\n",
    "\n",
    "    with tqdm(total=optuna_n_trials, desc=\"Optimizing\", unit=\"trial\") as pbar:\n",
    "        \n",
    "        # Define a callback function to update the progress bar\n",
    "        def progress_bar_callback(study, trial):\n",
    "            pbar.update(1)\n",
    "    \n",
    "        study = optuna.create_study(direction=\"maximize\")\n",
    "        study.optimize(objective, n_trials=optuna_n_trials, callbacks=[progress_bar_callback])\n",
    "\n",
    "    best_params = study.best_params\n",
    "    #best_seed = best_params['fold_seed']\n",
    "    #best_params.pop('fold_seed')\n",
    "    \n",
    "    oof_non_rounded = np.zeros(len(y), dtype=float)\n",
    "    test_preds = np.zeros((len(xgb_test_meta), n_splits))\n",
    "\n",
    "    for fold, (train_idx, test_idx) in enumerate(SKF.split(X, y)):\n",
    "        X_train, X_val = X.iloc[train_idx], X.iloc[test_idx]\n",
    "        y_train, y_val = y.iloc[train_idx], y.iloc[test_idx]\n",
    "\n",
    "        model = CatBoostRegressor(\n",
    "            **base_params,\n",
    "            **best_params\n",
    "        )\n",
    "        \n",
    "        model.fit(X_train, y_train, eval_set=(X_val, y_val), plot=True)\n",
    "\n",
    "        y_train_pred = model.predict(X_train)\n",
    "        y_val_pred = model.predict(X_val)\n",
    "\n",
    "        oof_non_rounded[test_idx] = y_val_pred\n",
    "\n",
    "        train_y_preds_df = pd.DataFrame({'y':y_train, 'preds':y_train_pred})\n",
    "        train_oof_initial_thresholds = train_y_preds_df.groupby('y')['preds'].mean().iloc[1:].values.tolist()\n",
    "\n",
    "        train_KappaOPtimizer = minimize(evaluate_predictions,\n",
    "                                  x0=train_oof_initial_thresholds, args=(y_train, y_train_pred), \n",
    "                                  method='Nelder-Mead')\n",
    "        assert train_KappaOPtimizer.success, \"Train Optimization did not converge.\"\n",
    "\n",
    "        train_pred_tuned = threshold_Rounder(y_train_pred, train_KappaOPtimizer.x)\n",
    "        train_Kappa = quadratic_weighted_kappa(y_train, train_pred_tuned)\n",
    "\n",
    "        print(f\"----> || Train Optimized QWK SCORE :: {Fore.CYAN}{Style.BRIGHT} {train_Kappa:.3f}{Style.RESET_ALL}\")\n",
    "\n",
    "        val_y_preds_df = pd.DataFrame({'y':y_val, 'preds':y_val_pred})\n",
    "        val_oof_initial_thresholds = val_y_preds_df.groupby('y')['preds'].mean().iloc[1:].values.tolist()\n",
    "\n",
    "        val_KappaOPtimizer = minimize(evaluate_predictions,\n",
    "                                  x0=val_oof_initial_thresholds, args=(y_val, y_val_pred), \n",
    "                                  method='Nelder-Mead')\n",
    "        assert val_KappaOPtimizer.success, \"Val Optimization did not converge.\"\n",
    "\n",
    "        val_pred_tuned = threshold_Rounder(y_val_pred, val_KappaOPtimizer.x)\n",
    "        val_Kappa = quadratic_weighted_kappa(y_val, val_pred_tuned)\n",
    "\n",
    "        print(f\"----> || Val Optimized QWK SCORE :: {Fore.CYAN}{Style.BRIGHT} {val_Kappa:.3f}{Style.RESET_ALL}\")\n",
    "\n",
    "        train_optimized_val_pred_tuned = threshold_Rounder(y_val_pred, train_KappaOPtimizer.x)\n",
    "        train_optimized_val_Kappa = quadratic_weighted_kappa(y_val, train_optimized_val_pred_tuned)\n",
    "\n",
    "        print(f\"----> || Train Optimized Val QWK SCORE :: {Fore.CYAN}{Style.BRIGHT} {train_optimized_val_Kappa:.3f}{Style.RESET_ALL}\")\n",
    "\n",
    "        val_optimized_train_pred_tuned = threshold_Rounder(y_train_pred, val_KappaOPtimizer.x)\n",
    "        val_optimized_train_Kappa = quadratic_weighted_kappa(y_train, val_optimized_train_pred_tuned)\n",
    "\n",
    "        print(f\"----> || Val Optimized Train QWK SCORE :: {Fore.CYAN}{Style.BRIGHT} {val_optimized_train_Kappa:.3f}{Style.RESET_ALL}\")\n",
    "        \n",
    "        test_preds[:, fold] = model.predict(test_data)\n",
    "\n",
    "    y_preds_df = pd.DataFrame({'y':y, 'preds':oof_non_rounded})\n",
    "    oof_initial_thresholds = y_preds_df.groupby('y')['preds'].mean().iloc[1:].values.tolist()\n",
    "\n",
    "    KappaOPtimizer = minimize(evaluate_predictions,\n",
    "                              x0=oof_initial_thresholds, args=(y, oof_non_rounded), \n",
    "                              method='Nelder-Mead')\n",
    "    assert KappaOPtimizer.success, \"Optimization did not converge.\"\n",
    "    \n",
    "    oof_tuned = threshold_Rounder(oof_non_rounded, KappaOPtimizer.x)\n",
    "    tKappa = quadratic_weighted_kappa(y, oof_tuned)\n",
    "\n",
    "    print(f\"----> || Optimized QWK SCORE :: {Fore.CYAN}{Style.BRIGHT} {tKappa:.3f}{Style.RESET_ALL}\")\n",
    "\n",
    "    tpm = test_preds.mean(axis=1)\n",
    "    tpTuned = threshold_Rounder(tpm, KappaOPtimizer.x)\n",
    "    \n",
    "    submission = pd.DataFrame({\n",
    "        'id': test_final_df['id'],\n",
    "        'sii': tpTuned\n",
    "    })\n",
    "\n",
    "    return submission, study, tpm"
   ]
  },
  {
   "cell_type": "code",
   "execution_count": 164,
   "metadata": {
    "scrolled": true
   },
   "outputs": [
    {
     "name": "stderr",
     "output_type": "stream",
     "text": [
      "Optimizing: 100%|█████████████████████████████████████████████████████████████████| 300/300 [34:16<00:00,  6.86s/trial]\n"
     ]
    },
    {
     "data": {
      "application/vnd.jupyter.widget-view+json": {
       "model_id": "9ea449dfa01b4a4b8b98fa2ffa5c6e3f",
       "version_major": 2,
       "version_minor": 0
      },
      "text/plain": [
       "MetricVisualizer(layout=Layout(align_self='stretch', height='500px'))"
      ]
     },
     "metadata": {},
     "output_type": "display_data"
    },
    {
     "name": "stdout",
     "output_type": "stream",
     "text": [
      "----> || Train Optimized QWK SCORE :: \u001b[36m\u001b[1m 0.517\u001b[0m\n",
      "----> || Val Optimized QWK SCORE :: \u001b[36m\u001b[1m 0.485\u001b[0m\n",
      "----> || Train Optimized Val QWK SCORE :: \u001b[36m\u001b[1m 0.502\u001b[0m\n",
      "----> || Val Optimized Train QWK SCORE :: \u001b[36m\u001b[1m 0.466\u001b[0m\n"
     ]
    },
    {
     "data": {
      "application/vnd.jupyter.widget-view+json": {
       "model_id": "5ea6733382514ae1bc8e784d94c5a8c6",
       "version_major": 2,
       "version_minor": 0
      },
      "text/plain": [
       "MetricVisualizer(layout=Layout(align_self='stretch', height='500px'))"
      ]
     },
     "metadata": {},
     "output_type": "display_data"
    },
    {
     "name": "stdout",
     "output_type": "stream",
     "text": [
      "----> || Train Optimized QWK SCORE :: \u001b[36m\u001b[1m 0.529\u001b[0m\n",
      "----> || Val Optimized QWK SCORE :: \u001b[36m\u001b[1m 0.519\u001b[0m\n",
      "----> || Train Optimized Val QWK SCORE :: \u001b[36m\u001b[1m 0.494\u001b[0m\n",
      "----> || Val Optimized Train QWK SCORE :: \u001b[36m\u001b[1m 0.525\u001b[0m\n"
     ]
    },
    {
     "data": {
      "application/vnd.jupyter.widget-view+json": {
       "model_id": "c413f311e6544e6894e0770249831796",
       "version_major": 2,
       "version_minor": 0
      },
      "text/plain": [
       "MetricVisualizer(layout=Layout(align_self='stretch', height='500px'))"
      ]
     },
     "metadata": {},
     "output_type": "display_data"
    },
    {
     "name": "stdout",
     "output_type": "stream",
     "text": [
      "----> || Train Optimized QWK SCORE :: \u001b[36m\u001b[1m 0.510\u001b[0m\n",
      "----> || Val Optimized QWK SCORE :: \u001b[36m\u001b[1m 0.558\u001b[0m\n",
      "----> || Train Optimized Val QWK SCORE :: \u001b[36m\u001b[1m 0.495\u001b[0m\n",
      "----> || Val Optimized Train QWK SCORE :: \u001b[36m\u001b[1m 0.516\u001b[0m\n"
     ]
    },
    {
     "data": {
      "application/vnd.jupyter.widget-view+json": {
       "model_id": "b130a6cccb98402f84e1b4295ccb33bb",
       "version_major": 2,
       "version_minor": 0
      },
      "text/plain": [
       "MetricVisualizer(layout=Layout(align_self='stretch', height='500px'))"
      ]
     },
     "metadata": {},
     "output_type": "display_data"
    },
    {
     "name": "stdout",
     "output_type": "stream",
     "text": [
      "----> || Train Optimized QWK SCORE :: \u001b[36m\u001b[1m 0.519\u001b[0m\n",
      "----> || Val Optimized QWK SCORE :: \u001b[36m\u001b[1m 0.598\u001b[0m\n",
      "----> || Train Optimized Val QWK SCORE :: \u001b[36m\u001b[1m 0.552\u001b[0m\n",
      "----> || Val Optimized Train QWK SCORE :: \u001b[36m\u001b[1m 0.504\u001b[0m\n"
     ]
    },
    {
     "data": {
      "application/vnd.jupyter.widget-view+json": {
       "model_id": "a860bac8ffea4c5dac13c4a9b5737394",
       "version_major": 2,
       "version_minor": 0
      },
      "text/plain": [
       "MetricVisualizer(layout=Layout(align_self='stretch', height='500px'))"
      ]
     },
     "metadata": {},
     "output_type": "display_data"
    },
    {
     "name": "stdout",
     "output_type": "stream",
     "text": [
      "----> || Train Optimized QWK SCORE :: \u001b[36m\u001b[1m 0.561\u001b[0m\n",
      "----> || Val Optimized QWK SCORE :: \u001b[36m\u001b[1m 0.478\u001b[0m\n",
      "----> || Train Optimized Val QWK SCORE :: \u001b[36m\u001b[1m 0.464\u001b[0m\n",
      "----> || Val Optimized Train QWK SCORE :: \u001b[36m\u001b[1m 0.547\u001b[0m\n",
      "----> || Optimized QWK SCORE :: \u001b[36m\u001b[1m 0.527\u001b[0m\n"
     ]
    }
   ],
   "source": [
    "submission_df, meta_study, my_test_preds = meta_learner_param_tune(\n",
    "    train_final_df['sii'], xgb_train, lgb_train, cat_train, xgb_test, lgb_test, cat_test, 300\n",
    ")"
   ]
  },
  {
   "cell_type": "code",
   "execution_count": 165,
   "metadata": {
    "scrolled": true
   },
   "outputs": [
    {
     "data": {
      "application/vnd.plotly.v1+json": {
       "config": {
        "plotlyServerURL": "https://plot.ly"
       },
       "data": [
        {
         "marker": {
          "color": [
           0,
           1,
           2,
           3,
           4,
           5,
           6,
           7,
           8,
           9,
           10,
           11,
           12,
           13,
           14,
           15,
           16,
           17,
           18,
           19,
           20,
           21,
           22,
           23,
           24,
           25,
           26,
           27,
           28,
           29,
           30,
           31,
           32,
           33,
           34,
           35,
           36,
           37,
           38,
           39,
           40,
           41,
           42,
           43,
           44,
           45,
           46,
           47,
           48,
           49,
           50,
           51,
           52,
           53,
           54,
           55,
           56,
           57,
           58,
           59,
           60,
           61,
           62,
           63,
           64,
           65,
           66,
           67,
           68,
           69,
           70,
           71,
           72,
           73,
           74,
           75,
           76,
           77,
           78,
           79,
           80,
           81,
           82,
           83,
           84,
           85,
           86,
           87,
           88,
           89,
           90,
           91,
           92,
           93,
           94,
           95,
           96,
           97,
           98,
           99,
           100,
           101,
           102,
           103,
           104,
           105,
           106,
           107,
           108,
           109,
           110,
           111,
           112,
           113,
           114,
           115,
           116,
           117,
           118,
           119,
           120,
           121,
           122,
           123,
           124,
           125,
           126,
           127,
           128,
           129,
           130,
           131,
           132,
           133,
           134,
           135,
           136,
           137,
           138,
           139,
           140,
           141,
           142,
           143,
           144,
           145,
           146,
           147,
           148,
           149,
           150,
           151,
           152,
           153,
           154,
           155,
           156,
           157,
           158,
           159,
           160,
           161,
           162,
           163,
           164,
           165,
           166,
           167,
           168,
           169,
           170,
           171,
           172,
           173,
           174,
           175,
           176,
           177,
           178,
           179,
           180,
           181,
           182,
           183,
           184,
           185,
           186,
           187,
           188,
           189,
           190,
           191,
           192,
           193,
           194,
           195,
           196,
           197,
           198,
           199,
           200,
           201,
           202,
           203,
           204,
           205,
           206,
           207,
           208,
           209,
           210,
           211,
           212,
           213,
           214,
           215,
           216,
           217,
           218,
           219,
           220,
           221,
           222,
           223,
           224,
           225,
           226,
           227,
           228,
           229,
           230,
           231,
           232,
           233,
           234,
           235,
           236,
           237,
           238,
           239,
           240,
           241,
           242,
           243,
           244,
           245,
           246,
           247,
           248,
           249,
           250,
           251,
           252,
           253,
           254,
           255,
           256,
           257,
           258,
           259,
           260,
           261,
           262,
           263,
           264,
           265,
           266,
           267,
           268,
           269,
           270,
           271,
           272,
           273,
           274,
           275,
           276,
           277,
           278,
           279,
           280,
           281,
           282,
           283,
           284,
           285,
           286,
           287,
           288,
           289,
           290,
           291,
           292,
           293,
           294,
           295,
           296,
           297,
           298,
           299
          ],
          "colorbar": {
           "title": {
            "text": "Trial"
           },
           "x": 1,
           "xpad": 40,
           "y": 0.5
          },
          "colorscale": [
           [
            0,
            "rgb(247,251,255)"
           ],
           [
            0.125,
            "rgb(222,235,247)"
           ],
           [
            0.25,
            "rgb(198,219,239)"
           ],
           [
            0.375,
            "rgb(158,202,225)"
           ],
           [
            0.5,
            "rgb(107,174,214)"
           ],
           [
            0.625,
            "rgb(66,146,198)"
           ],
           [
            0.75,
            "rgb(33,113,181)"
           ],
           [
            0.875,
            "rgb(8,81,156)"
           ],
           [
            1,
            "rgb(8,48,107)"
           ]
          ],
          "line": {
           "color": "Grey",
           "width": 0.5
          }
         },
         "mode": "markers",
         "name": "Feasible Trial",
         "showlegend": false,
         "type": "scatter",
         "x": [
          0.14182378650211488,
          0.41024381782097447,
          0.17435233302866773,
          0.2588969023769481,
          0.43542661047052417,
          0.26267816818013373,
          0.43481001176259715,
          0.11786995206341862,
          0.48931237020417634,
          0.09559181347586589,
          0.6927705270494275,
          0.584401226947634,
          0.5975309474310079,
          0.557633733625326,
          0.5520644538486985,
          0.6793808343653049,
          0.511079229193286,
          0.3182880875851054,
          0.6160969230399196,
          0.492571333729667,
          0.3581796485605952,
          0.5164024492633671,
          0.6085498077205146,
          0.0337242163472643,
          0.5502951681885941,
          0.4692677734185732,
          0.6529703643440709,
          0.6628092119336353,
          0.6305175736325936,
          0.6413732951091733,
          0.6432562935660348,
          0.6979682247370848,
          0.6953567410004817,
          0.6405402609328,
          0.6422378233687832,
          0.5751950685846587,
          0.6997069176464993,
          0.6513001435236034,
          0.39640170853138046,
          0.17371935263361124,
          0.5332699780345516,
          0.5658789222115318,
          0.6593742131323982,
          0.586063457922218,
          0.5937817630507729,
          0.6232060401685064,
          0.6661783772654903,
          0.46762987860289285,
          0.2811561323490762,
          0.575442430073952,
          0.678771235803334,
          0.609755346637853,
          0.6172261812882465,
          0.6402241067901289,
          0.5344470557111343,
          0.596493304613265,
          0.6732718240384733,
          0.6150079479593762,
          0.6998339835845202,
          0.6023390250255163,
          0.2288316522478032,
          0.6293100102168843,
          0.5692087022978549,
          0.6730720740048867,
          0.644359417969407,
          0.5488351555249356,
          0.5426222003235791,
          0.48075198328689905,
          0.5168338045814462,
          0.44368408414513616,
          0.5638719990596869,
          0.5710902790059117,
          0.5096937972131683,
          0.5515764803591857,
          0.5583609234543121,
          0.4960355466421565,
          0.39721765289498057,
          0.5708467583739589,
          0.5294229524546958,
          0.44406850549910687,
          0.5499573218116363,
          0.585671115870103,
          0.607545189296951,
          0.5675956086950894,
          0.6330130444996849,
          0.624284984239438,
          0.6808216169671243,
          0.6272179728840775,
          0.6325632335567672,
          0.5976256118942918,
          0.6232259739716077,
          0.6549571677558396,
          0.5797164656907436,
          0.6850595604501116,
          0.6605719853007443,
          0.6151448739295974,
          0.5904458592691622,
          0.01406720870783884,
          0.6318908782550674,
          0.6074802536226092,
          0.6385542371283055,
          0.6339821361532018,
          0.6512989870544279,
          0.6509209883622005,
          0.6558869619988715,
          0.6239342564219037,
          0.6684065049057036,
          0.5831880147739579,
          0.09239207195508914,
          0.6500430096880894,
          0.559804365342707,
          0.6393180650414448,
          0.5982022468196471,
          0.6836669257041096,
          0.6283911551553356,
          0.648293713286533,
          0.6685205871044798,
          0.6144762440642999,
          0.5244008185748624,
          0.5160255727680395,
          0.5361749467700879,
          0.5719218204386649,
          0.36798742213277336,
          0.5879347644032584,
          0.6055912500706488,
          0.6349189512241226,
          0.525730190796809,
          0.5466709460620478,
          0.5022713416270651,
          0.5598575536536387,
          0.4828287552956277,
          0.5636513752391804,
          0.620228021527998,
          0.5748719571438825,
          0.6459844613300797,
          0.5420875402644808,
          0.5990456321883966,
          0.5919517227818791,
          0.30549114318400783,
          0.5985161228359853,
          0.5569484484745771,
          0.6636198620841216,
          0.6255430039683249,
          0.610584229088651,
          0.5828156673405935,
          0.6384764084338695,
          0.6895587008786577,
          0.6522747132443112,
          0.6554034403584114,
          0.667092696984831,
          0.6408195802156654,
          0.604509358314417,
          0.6225149205859507,
          0.574355037674139,
          0.6765593129092352,
          0.6306841458661586,
          0.525574713289223,
          0.6501422094357144,
          0.5640997431442847,
          0.6131296247520719,
          0.5883007058328457,
          0.588924033326983,
          0.5435415246075597,
          0.20853671724426998,
          0.6001527093239877,
          0.6404147221767494,
          0.5579378807926699,
          0.6216848380289582,
          0.6557000051610806,
          0.5757924718917887,
          0.5912355293994471,
          0.6367620508862987,
          0.6394522078799842,
          0.6257552010586195,
          0.625962086322918,
          0.6133371408875992,
          0.6149340883004807,
          0.604690312348858,
          0.6022483316144426,
          0.6256906831239214,
          0.6102841209335856,
          0.6268700372638842,
          0.5840694980680063,
          0.594896282280291,
          0.60964575141747,
          0.6318468884024282,
          0.6709434465318209,
          0.6739923254640414,
          0.6591452123577083,
          0.557615452977287,
          0.5595700995409145,
          0.5358146828122176,
          0.5513763454711336,
          0.567530674305522,
          0.5805652616225385,
          0.5687989872282804,
          0.5497256819473563,
          0.5240145696807836,
          0.5074677332994506,
          0.5348973781878388,
          0.549845301904247,
          0.5288710348792918,
          0.564037098698449,
          0.5532917118584754,
          0.54701224689119,
          0.5277267768349708,
          0.5209726846198629,
          0.556189465632797,
          0.5520539510588676,
          0.5151481587280078,
          0.538822938862738,
          0.5741410370863578,
          0.5632942443467205,
          0.5815555647791135,
          0.5657257191225179,
          0.545772725174688,
          0.46246632675071075,
          0.5870778900568657,
          0.574986372585464,
          0.5961037114511116,
          0.5561765158650075,
          0.6231065237945042,
          0.6143130675251127,
          0.49328911197814374,
          0.5949077323207952,
          0.6229435893066279,
          0.5967580368032555,
          0.6171549268972746,
          0.6421288345087062,
          0.6439243238037214,
          0.6289282175519991,
          0.6399722521353547,
          0.6043523362997344,
          0.6070977296565396,
          0.6196038058719325,
          0.5936672972978956,
          0.5832577910203331,
          0.604322828365353,
          0.5905147422425915,
          0.6289611263283136,
          0.5796573206750565,
          0.6016248072226814,
          0.5884412905510561,
          0.6127201516817615,
          0.5888259631724753,
          0.6223387157918665,
          0.5425989936291558,
          0.5750847751572425,
          0.5696254913977752,
          0.5597801183821597,
          0.6369884759180118,
          0.6026576396828791,
          0.5768464333971802,
          0.6485388200884112,
          0.535605529535041,
          0.6149039496839188,
          0.5549024832295448,
          0.5519355710963577,
          0.5597082285570593,
          0.5414410259397437,
          0.5729674999770455,
          0.5219265175712444,
          0.5514216221251464,
          0.5826060186742622,
          0.5316877337669762,
          0.4125719804685821,
          0.06857285061287288,
          0.5703810654969242,
          0.507373188603188,
          0.3375099527408553,
          0.5438264412239375,
          0.5628685508107504,
          0.5063349935740015,
          0.508468404007475,
          0.5244320347152928,
          0.561196073569394,
          0.567461702915263,
          0.15848740131252254,
          0.5366322167155697,
          0.5540556696218931,
          0.5167760611631347,
          0.5467734739860967,
          0.5740712078611813,
          0.5632171264898482,
          0.5658007476954467,
          0.5645888119977345,
          0.6275195333901814,
          0.5310196143245717,
          0.5980676287260295,
          0.5785522101774896,
          0.5545239313728162,
          0.6327178422369071,
          0.25085869537949945,
          0.594605292263225,
          0.47681310896990126,
          0.4939895751341107,
          0.5429903146663309,
          0.5629812317701136,
          0.6062820668335935,
          0.6105729259719206
         ],
         "y": [
          0.5105520384385376,
          0.5117557283045034,
          0.5111011715378173,
          0.5118251280472446,
          0.508688780799259,
          0.502422904200309,
          0.5077450702120048,
          0.5068761017811202,
          0.5179582842847459,
          0.5041228822467456,
          0.5065805115929254,
          0.5176581525972694,
          0.5151565334557799,
          0.5129692082172743,
          0.5164989676666533,
          0.5115633400743305,
          0.5103259450785704,
          0.5143034486183181,
          0.5101669518821805,
          0.5088250492990645,
          0.5108948679683327,
          0.5116036064725434,
          0.5155016479535784,
          0.510535702490257,
          0.5176288711755088,
          0.5099963209272349,
          0.5209281164695178,
          0.5119003000826531,
          0.5194116618109963,
          0.5154183986030842,
          0.5192545221998903,
          0.5216443392582002,
          0.5175565393363311,
          0.5221885753613213,
          0.5214192472508321,
          0.520258663571547,
          0.507934546219216,
          0.5144321084834816,
          0.512550107924761,
          0.5126574462830329,
          0.5098320886491863,
          0.516208039187437,
          0.5072605259054944,
          0.5060582937500164,
          0.5114366975969721,
          0.5199951608703771,
          0.5047752032363579,
          0.511851921089927,
          0.5147729122231757,
          0.5176114973106606,
          0.518453389547838,
          0.5217101359476163,
          0.5123151903999825,
          0.5119921010454067,
          0.515251271509416,
          0.5183016653341725,
          0.509261235466214,
          0.5213435969209237,
          0.5171737688956782,
          0.5050027300511264,
          0.507280772968143,
          0.5099694443005853,
          0.5240374780797992,
          0.511590259584645,
          0.5087932800047491,
          0.5230586545896388,
          0.5132513891227479,
          0.5098103453359499,
          0.5157279215753718,
          0.5152726176474335,
          0.5225464601674759,
          0.5220841141027321,
          0.5091231410192523,
          0.5215321924854998,
          0.5212797769915154,
          0.5143363715819702,
          0.5164757006184351,
          0.5093911015325832,
          0.5067424105619299,
          0.516765408587688,
          0.5111266759045212,
          0.5150135753000192,
          0.5201262570677527,
          0.5106156117748067,
          0.5224459235948542,
          0.5236512177349909,
          0.5121052316174268,
          0.5242701123559599,
          0.5120137655914996,
          0.5084158391936504,
          0.5189906519867217,
          0.5080132892873349,
          0.5131127323272895,
          0.5152081884060504,
          0.5172362340305938,
          0.5180434369228605,
          0.508333394491373,
          0.5117905247464768,
          0.5258155547240804,
          0.5165582208410217,
          0.5219119530327474,
          0.5135416728734973,
          0.5223757315068067,
          0.5229275046148683,
          0.5161874711262271,
          0.5103741407716541,
          0.5097420776720515,
          0.5123884829898353,
          0.5102043845090245,
          0.517798235827628,
          0.5098875786883744,
          0.5164440034326456,
          0.5086955761365709,
          0.5201959162903123,
          0.5135490878543777,
          0.5200518162681492,
          0.5193742430872418,
          0.5040191914871861,
          0.5243879932034385,
          0.5177610027061672,
          0.5100611495045697,
          0.5142877513540358,
          0.5180457437454238,
          0.5207735526030238,
          0.5205132949767838,
          0.5081068805542177,
          0.5157313710768465,
          0.5149509514241815,
          0.5162873299995328,
          0.5237566087952517,
          0.5093142675321157,
          0.514853631496738,
          0.5213482432174852,
          0.5185606346031333,
          0.519244187335907,
          0.5136123527021536,
          0.525640566238093,
          0.5024431245909005,
          0.5073738631222062,
          0.5199327054709793,
          0.5201118380119076,
          0.5110277614617761,
          0.517156421719933,
          0.5186610436218262,
          0.5133938983050848,
          0.5221408567789763,
          0.5167605774911128,
          0.5221386115830129,
          0.5124721808844308,
          0.5165720421517848,
          0.52099212190779,
          0.5112984228761679,
          0.5154339440299425,
          0.5125469943684621,
          0.5143488945909076,
          0.5121362800823374,
          0.515322990844354,
          0.5179339296857333,
          0.5194087831357227,
          0.5156250280122842,
          0.5225590248178609,
          0.5050398419941429,
          0.509339953785729,
          0.5156587221489015,
          0.5061620241253206,
          0.5185193764332539,
          0.5178886562971992,
          0.5129917969792106,
          0.5147348741896289,
          0.51083839966018,
          0.5204726461198668,
          0.5235899703151645,
          0.5193811900649881,
          0.5232329443387898,
          0.5238545776457524,
          0.5227184016112215,
          0.5220015207479076,
          0.5224004529156445,
          0.507820499299539,
          0.5119125085162162,
          0.5155688567052932,
          0.5192405964972049,
          0.5091816249409542,
          0.5165209496507797,
          0.5206506850527195,
          0.5119362500337372,
          0.5225584818391351,
          0.5200305450117553,
          0.5159643476942259,
          0.5259738901209255,
          0.5230142613624658,
          0.5086739209055744,
          0.5148573365644202,
          0.5155699716625282,
          0.5044805484252756,
          0.5225043171547195,
          0.5241080805830496,
          0.5251587844828959,
          0.5134018599940777,
          0.5181680298823264,
          0.51761636017428,
          0.5197929249352891,
          0.5176094902909323,
          0.5268583669279858,
          0.5169192730156766,
          0.50887553768118,
          0.5044892342289424,
          0.5180498460106935,
          0.5092413484472362,
          0.517283911371078,
          0.5168148841370849,
          0.5200631902956209,
          0.5161146193256285,
          0.5152234287510182,
          0.5097143174248966,
          0.5097652750403154,
          0.5136454471953993,
          0.5149050103885058,
          0.5142289276357395,
          0.5003055308297447,
          0.517644283427416,
          0.523721604495719,
          0.5191429763340554,
          0.514672328637602,
          0.5230284309620132,
          0.5129366389951872,
          0.5200820559932977,
          0.5123067806264059,
          0.5234625817357462,
          0.5135782927078938,
          0.5160065295373328,
          0.5190349190820366,
          0.5261956799260188,
          0.5184555413670273,
          0.5145625996299257,
          0.5246381299406898,
          0.5228726309241455,
          0.5202885794307965,
          0.5165303058418664,
          0.5138974800993763,
          0.5086814640040338,
          0.5214935570061218,
          0.5108196501911317,
          0.5163938129734778,
          0.511049408831927,
          0.5144769896037754,
          0.5140703098558388,
          0.5236734649979744,
          0.5134968579513262,
          0.5195266064234975,
          0.5092153252512164,
          0.5135102703054051,
          0.5158183502042601,
          0.5199723884031293,
          0.5107865074391033,
          0.5172018683028325,
          0.5231946407665196,
          0.5059651078900768,
          0.5141686155792288,
          0.505457912319492,
          0.5137306523814298,
          0.5040617212687775,
          0.5088158723652951,
          0.522051946947798,
          0.5213273362231795,
          0.5134606455182225,
          0.5145954962468724,
          0.5263229342918161,
          0.5253237462981792,
          0.5153207374216776,
          0.5194433628468402,
          0.5255218793956485,
          0.5110797511340589,
          0.5092895571405593,
          0.5084761200803158,
          0.5238922066892246,
          0.5162063022351715,
          0.5123736022262364,
          0.5122398910056385,
          0.5067408717698305,
          0.50661721296526,
          0.5044877222692634,
          0.522209329152687,
          0.5233092307412435,
          0.5140282557283112,
          0.5031485195399605,
          0.5061371841155236,
          0.5155211965868709,
          0.520166157126315,
          0.5214932558615077,
          0.5082050659909071,
          0.5044608865228859,
          0.5141337811363,
          0.5157010220238951,
          0.5175957953371367,
          0.5113060453468672,
          0.5029240243589764,
          0.5144404256443241,
          0.5238114456372589,
          0.5178268681528937
         ]
        }
       ],
       "layout": {
        "autosize": true,
        "template": {
         "data": {
          "bar": [
           {
            "error_x": {
             "color": "#2a3f5f"
            },
            "error_y": {
             "color": "#2a3f5f"
            },
            "marker": {
             "line": {
              "color": "#E5ECF6",
              "width": 0.5
             },
             "pattern": {
              "fillmode": "overlay",
              "size": 10,
              "solidity": 0.2
             }
            },
            "type": "bar"
           }
          ],
          "barpolar": [
           {
            "marker": {
             "line": {
              "color": "#E5ECF6",
              "width": 0.5
             },
             "pattern": {
              "fillmode": "overlay",
              "size": 10,
              "solidity": 0.2
             }
            },
            "type": "barpolar"
           }
          ],
          "carpet": [
           {
            "aaxis": {
             "endlinecolor": "#2a3f5f",
             "gridcolor": "white",
             "linecolor": "white",
             "minorgridcolor": "white",
             "startlinecolor": "#2a3f5f"
            },
            "baxis": {
             "endlinecolor": "#2a3f5f",
             "gridcolor": "white",
             "linecolor": "white",
             "minorgridcolor": "white",
             "startlinecolor": "#2a3f5f"
            },
            "type": "carpet"
           }
          ],
          "choropleth": [
           {
            "colorbar": {
             "outlinewidth": 0,
             "ticks": ""
            },
            "type": "choropleth"
           }
          ],
          "contour": [
           {
            "colorbar": {
             "outlinewidth": 0,
             "ticks": ""
            },
            "colorscale": [
             [
              0,
              "#0d0887"
             ],
             [
              0.1111111111111111,
              "#46039f"
             ],
             [
              0.2222222222222222,
              "#7201a8"
             ],
             [
              0.3333333333333333,
              "#9c179e"
             ],
             [
              0.4444444444444444,
              "#bd3786"
             ],
             [
              0.5555555555555556,
              "#d8576b"
             ],
             [
              0.6666666666666666,
              "#ed7953"
             ],
             [
              0.7777777777777778,
              "#fb9f3a"
             ],
             [
              0.8888888888888888,
              "#fdca26"
             ],
             [
              1,
              "#f0f921"
             ]
            ],
            "type": "contour"
           }
          ],
          "contourcarpet": [
           {
            "colorbar": {
             "outlinewidth": 0,
             "ticks": ""
            },
            "type": "contourcarpet"
           }
          ],
          "heatmap": [
           {
            "colorbar": {
             "outlinewidth": 0,
             "ticks": ""
            },
            "colorscale": [
             [
              0,
              "#0d0887"
             ],
             [
              0.1111111111111111,
              "#46039f"
             ],
             [
              0.2222222222222222,
              "#7201a8"
             ],
             [
              0.3333333333333333,
              "#9c179e"
             ],
             [
              0.4444444444444444,
              "#bd3786"
             ],
             [
              0.5555555555555556,
              "#d8576b"
             ],
             [
              0.6666666666666666,
              "#ed7953"
             ],
             [
              0.7777777777777778,
              "#fb9f3a"
             ],
             [
              0.8888888888888888,
              "#fdca26"
             ],
             [
              1,
              "#f0f921"
             ]
            ],
            "type": "heatmap"
           }
          ],
          "heatmapgl": [
           {
            "colorbar": {
             "outlinewidth": 0,
             "ticks": ""
            },
            "colorscale": [
             [
              0,
              "#0d0887"
             ],
             [
              0.1111111111111111,
              "#46039f"
             ],
             [
              0.2222222222222222,
              "#7201a8"
             ],
             [
              0.3333333333333333,
              "#9c179e"
             ],
             [
              0.4444444444444444,
              "#bd3786"
             ],
             [
              0.5555555555555556,
              "#d8576b"
             ],
             [
              0.6666666666666666,
              "#ed7953"
             ],
             [
              0.7777777777777778,
              "#fb9f3a"
             ],
             [
              0.8888888888888888,
              "#fdca26"
             ],
             [
              1,
              "#f0f921"
             ]
            ],
            "type": "heatmapgl"
           }
          ],
          "histogram": [
           {
            "marker": {
             "pattern": {
              "fillmode": "overlay",
              "size": 10,
              "solidity": 0.2
             }
            },
            "type": "histogram"
           }
          ],
          "histogram2d": [
           {
            "colorbar": {
             "outlinewidth": 0,
             "ticks": ""
            },
            "colorscale": [
             [
              0,
              "#0d0887"
             ],
             [
              0.1111111111111111,
              "#46039f"
             ],
             [
              0.2222222222222222,
              "#7201a8"
             ],
             [
              0.3333333333333333,
              "#9c179e"
             ],
             [
              0.4444444444444444,
              "#bd3786"
             ],
             [
              0.5555555555555556,
              "#d8576b"
             ],
             [
              0.6666666666666666,
              "#ed7953"
             ],
             [
              0.7777777777777778,
              "#fb9f3a"
             ],
             [
              0.8888888888888888,
              "#fdca26"
             ],
             [
              1,
              "#f0f921"
             ]
            ],
            "type": "histogram2d"
           }
          ],
          "histogram2dcontour": [
           {
            "colorbar": {
             "outlinewidth": 0,
             "ticks": ""
            },
            "colorscale": [
             [
              0,
              "#0d0887"
             ],
             [
              0.1111111111111111,
              "#46039f"
             ],
             [
              0.2222222222222222,
              "#7201a8"
             ],
             [
              0.3333333333333333,
              "#9c179e"
             ],
             [
              0.4444444444444444,
              "#bd3786"
             ],
             [
              0.5555555555555556,
              "#d8576b"
             ],
             [
              0.6666666666666666,
              "#ed7953"
             ],
             [
              0.7777777777777778,
              "#fb9f3a"
             ],
             [
              0.8888888888888888,
              "#fdca26"
             ],
             [
              1,
              "#f0f921"
             ]
            ],
            "type": "histogram2dcontour"
           }
          ],
          "mesh3d": [
           {
            "colorbar": {
             "outlinewidth": 0,
             "ticks": ""
            },
            "type": "mesh3d"
           }
          ],
          "parcoords": [
           {
            "line": {
             "colorbar": {
              "outlinewidth": 0,
              "ticks": ""
             }
            },
            "type": "parcoords"
           }
          ],
          "pie": [
           {
            "automargin": true,
            "type": "pie"
           }
          ],
          "scatter": [
           {
            "fillpattern": {
             "fillmode": "overlay",
             "size": 10,
             "solidity": 0.2
            },
            "type": "scatter"
           }
          ],
          "scatter3d": [
           {
            "line": {
             "colorbar": {
              "outlinewidth": 0,
              "ticks": ""
             }
            },
            "marker": {
             "colorbar": {
              "outlinewidth": 0,
              "ticks": ""
             }
            },
            "type": "scatter3d"
           }
          ],
          "scattercarpet": [
           {
            "marker": {
             "colorbar": {
              "outlinewidth": 0,
              "ticks": ""
             }
            },
            "type": "scattercarpet"
           }
          ],
          "scattergeo": [
           {
            "marker": {
             "colorbar": {
              "outlinewidth": 0,
              "ticks": ""
             }
            },
            "type": "scattergeo"
           }
          ],
          "scattergl": [
           {
            "marker": {
             "colorbar": {
              "outlinewidth": 0,
              "ticks": ""
             }
            },
            "type": "scattergl"
           }
          ],
          "scattermapbox": [
           {
            "marker": {
             "colorbar": {
              "outlinewidth": 0,
              "ticks": ""
             }
            },
            "type": "scattermapbox"
           }
          ],
          "scatterpolar": [
           {
            "marker": {
             "colorbar": {
              "outlinewidth": 0,
              "ticks": ""
             }
            },
            "type": "scatterpolar"
           }
          ],
          "scatterpolargl": [
           {
            "marker": {
             "colorbar": {
              "outlinewidth": 0,
              "ticks": ""
             }
            },
            "type": "scatterpolargl"
           }
          ],
          "scatterternary": [
           {
            "marker": {
             "colorbar": {
              "outlinewidth": 0,
              "ticks": ""
             }
            },
            "type": "scatterternary"
           }
          ],
          "surface": [
           {
            "colorbar": {
             "outlinewidth": 0,
             "ticks": ""
            },
            "colorscale": [
             [
              0,
              "#0d0887"
             ],
             [
              0.1111111111111111,
              "#46039f"
             ],
             [
              0.2222222222222222,
              "#7201a8"
             ],
             [
              0.3333333333333333,
              "#9c179e"
             ],
             [
              0.4444444444444444,
              "#bd3786"
             ],
             [
              0.5555555555555556,
              "#d8576b"
             ],
             [
              0.6666666666666666,
              "#ed7953"
             ],
             [
              0.7777777777777778,
              "#fb9f3a"
             ],
             [
              0.8888888888888888,
              "#fdca26"
             ],
             [
              1,
              "#f0f921"
             ]
            ],
            "type": "surface"
           }
          ],
          "table": [
           {
            "cells": {
             "fill": {
              "color": "#EBF0F8"
             },
             "line": {
              "color": "white"
             }
            },
            "header": {
             "fill": {
              "color": "#C8D4E3"
             },
             "line": {
              "color": "white"
             }
            },
            "type": "table"
           }
          ]
         },
         "layout": {
          "annotationdefaults": {
           "arrowcolor": "#2a3f5f",
           "arrowhead": 0,
           "arrowwidth": 1
          },
          "autotypenumbers": "strict",
          "coloraxis": {
           "colorbar": {
            "outlinewidth": 0,
            "ticks": ""
           }
          },
          "colorscale": {
           "diverging": [
            [
             0,
             "#8e0152"
            ],
            [
             0.1,
             "#c51b7d"
            ],
            [
             0.2,
             "#de77ae"
            ],
            [
             0.3,
             "#f1b6da"
            ],
            [
             0.4,
             "#fde0ef"
            ],
            [
             0.5,
             "#f7f7f7"
            ],
            [
             0.6,
             "#e6f5d0"
            ],
            [
             0.7,
             "#b8e186"
            ],
            [
             0.8,
             "#7fbc41"
            ],
            [
             0.9,
             "#4d9221"
            ],
            [
             1,
             "#276419"
            ]
           ],
           "sequential": [
            [
             0,
             "#0d0887"
            ],
            [
             0.1111111111111111,
             "#46039f"
            ],
            [
             0.2222222222222222,
             "#7201a8"
            ],
            [
             0.3333333333333333,
             "#9c179e"
            ],
            [
             0.4444444444444444,
             "#bd3786"
            ],
            [
             0.5555555555555556,
             "#d8576b"
            ],
            [
             0.6666666666666666,
             "#ed7953"
            ],
            [
             0.7777777777777778,
             "#fb9f3a"
            ],
            [
             0.8888888888888888,
             "#fdca26"
            ],
            [
             1,
             "#f0f921"
            ]
           ],
           "sequentialminus": [
            [
             0,
             "#0d0887"
            ],
            [
             0.1111111111111111,
             "#46039f"
            ],
            [
             0.2222222222222222,
             "#7201a8"
            ],
            [
             0.3333333333333333,
             "#9c179e"
            ],
            [
             0.4444444444444444,
             "#bd3786"
            ],
            [
             0.5555555555555556,
             "#d8576b"
            ],
            [
             0.6666666666666666,
             "#ed7953"
            ],
            [
             0.7777777777777778,
             "#fb9f3a"
            ],
            [
             0.8888888888888888,
             "#fdca26"
            ],
            [
             1,
             "#f0f921"
            ]
           ]
          },
          "colorway": [
           "#636efa",
           "#EF553B",
           "#00cc96",
           "#ab63fa",
           "#FFA15A",
           "#19d3f3",
           "#FF6692",
           "#B6E880",
           "#FF97FF",
           "#FECB52"
          ],
          "font": {
           "color": "#2a3f5f"
          },
          "geo": {
           "bgcolor": "white",
           "lakecolor": "white",
           "landcolor": "#E5ECF6",
           "showlakes": true,
           "showland": true,
           "subunitcolor": "white"
          },
          "hoverlabel": {
           "align": "left"
          },
          "hovermode": "closest",
          "mapbox": {
           "style": "light"
          },
          "paper_bgcolor": "white",
          "plot_bgcolor": "#E5ECF6",
          "polar": {
           "angularaxis": {
            "gridcolor": "white",
            "linecolor": "white",
            "ticks": ""
           },
           "bgcolor": "#E5ECF6",
           "radialaxis": {
            "gridcolor": "white",
            "linecolor": "white",
            "ticks": ""
           }
          },
          "scene": {
           "xaxis": {
            "backgroundcolor": "#E5ECF6",
            "gridcolor": "white",
            "gridwidth": 2,
            "linecolor": "white",
            "showbackground": true,
            "ticks": "",
            "zerolinecolor": "white"
           },
           "yaxis": {
            "backgroundcolor": "#E5ECF6",
            "gridcolor": "white",
            "gridwidth": 2,
            "linecolor": "white",
            "showbackground": true,
            "ticks": "",
            "zerolinecolor": "white"
           },
           "zaxis": {
            "backgroundcolor": "#E5ECF6",
            "gridcolor": "white",
            "gridwidth": 2,
            "linecolor": "white",
            "showbackground": true,
            "ticks": "",
            "zerolinecolor": "white"
           }
          },
          "shapedefaults": {
           "line": {
            "color": "#2a3f5f"
           }
          },
          "ternary": {
           "aaxis": {
            "gridcolor": "white",
            "linecolor": "white",
            "ticks": ""
           },
           "baxis": {
            "gridcolor": "white",
            "linecolor": "white",
            "ticks": ""
           },
           "bgcolor": "#E5ECF6",
           "caxis": {
            "gridcolor": "white",
            "linecolor": "white",
            "ticks": ""
           }
          },
          "title": {
           "x": 0.05
          },
          "xaxis": {
           "automargin": true,
           "gridcolor": "white",
           "linecolor": "white",
           "ticks": "",
           "title": {
            "standoff": 15
           },
           "zerolinecolor": "white",
           "zerolinewidth": 2
          },
          "yaxis": {
           "automargin": true,
           "gridcolor": "white",
           "linecolor": "white",
           "ticks": "",
           "title": {
            "standoff": 15
           },
           "zerolinecolor": "white",
           "zerolinewidth": 2
          }
         }
        },
        "title": {
         "text": "Slice Plot"
        },
        "xaxis": {
         "autorange": true,
         "range": [
          -0.027694229505805218,
          0.7415954217981643
         ],
         "title": {
          "text": "learning_rate"
         },
         "type": "linear"
        },
        "yaxis": {
         "autorange": true,
         "range": [
          0.49811427736532676,
          0.5290496203924038
         ],
         "title": {
          "text": "Objective Value"
         },
         "type": "linear"
        }
       }
      },
      "image/png": "[encoded data removed]",
      "text/html": [
       "<div>                            <div id=\"c88161b4-49a2-4f4d-a469-1d83c1cd127c\" class=\"plotly-graph-div\" style=\"height:525px; width:100%;\"></div>            <script type=\"text/javascript\">                require([\"plotly\"], function(Plotly) {                    window.PLOTLYENV=window.PLOTLYENV || {};                                    if (document.getElementById(\"c88161b4-49a2-4f4d-a469-1d83c1cd127c\")) {                    Plotly.newPlot(                        \"c88161b4-49a2-4f4d-a469-1d83c1cd127c\",                        [{\"marker\":{\"color\":[0,1,2,3,4,5,6,7,8,9,10,11,12,13,14,15,16,17,18,19,20,21,22,23,24,25,26,27,28,29,30,31,32,33,34,35,36,37,38,39,40,41,42,43,44,45,46,47,48,49,50,51,52,53,54,55,56,57,58,59,60,61,62,63,64,65,66,67,68,69,70,71,72,73,74,75,76,77,78,79,80,81,82,83,84,85,86,87,88,89,90,91,92,93,94,95,96,97,98,99,100,101,102,103,104,105,106,107,108,109,110,111,112,113,114,115,116,117,118,119,120,121,122,123,124,125,126,127,128,129,130,131,132,133,134,135,136,137,138,139,140,141,142,143,144,145,146,147,148,149,150,151,152,153,154,155,156,157,158,159,160,161,162,163,164,165,166,167,168,169,170,171,172,173,174,175,176,177,178,179,180,181,182,183,184,185,186,187,188,189,190,191,192,193,194,195,196,197,198,199,200,201,202,203,204,205,206,207,208,209,210,211,212,213,214,215,216,217,218,219,220,221,222,223,224,225,226,227,228,229,230,231,232,233,234,235,236,237,238,239,240,241,242,243,244,245,246,247,248,249,250,251,252,253,254,255,256,257,258,259,260,261,262,263,264,265,266,267,268,269,270,271,272,273,274,275,276,277,278,279,280,281,282,283,284,285,286,287,288,289,290,291,292,293,294,295,296,297,298,299],\"colorbar\":{\"title\":{\"text\":\"Trial\"},\"x\":1.0,\"xpad\":40},\"colorscale\":[[0.0,\"rgb(247,251,255)\"],[0.125,\"rgb(222,235,247)\"],[0.25,\"rgb(198,219,239)\"],[0.375,\"rgb(158,202,225)\"],[0.5,\"rgb(107,174,214)\"],[0.625,\"rgb(66,146,198)\"],[0.75,\"rgb(33,113,181)\"],[0.875,\"rgb(8,81,156)\"],[1.0,\"rgb(8,48,107)\"]],\"line\":{\"color\":\"Grey\",\"width\":0.5}},\"mode\":\"markers\",\"name\":\"Feasible Trial\",\"showlegend\":false,\"x\":[0.14182378650211488,0.41024381782097447,0.17435233302866773,0.2588969023769481,0.43542661047052417,0.26267816818013373,0.43481001176259715,0.11786995206341862,0.48931237020417634,0.09559181347586589,0.6927705270494275,0.584401226947634,0.5975309474310079,0.557633733625326,0.5520644538486985,0.6793808343653049,0.511079229193286,0.3182880875851054,0.6160969230399196,0.492571333729667,0.3581796485605952,0.5164024492633671,0.6085498077205146,0.0337242163472643,0.5502951681885941,0.4692677734185732,0.6529703643440709,0.6628092119336353,0.6305175736325936,0.6413732951091733,0.6432562935660348,0.6979682247370848,0.6953567410004817,0.6405402609328,0.6422378233687832,0.5751950685846587,0.6997069176464993,0.6513001435236034,0.39640170853138046,0.17371935263361124,0.5332699780345516,0.5658789222115318,0.6593742131323982,0.586063457922218,0.5937817630507729,0.6232060401685064,0.6661783772654903,0.46762987860289285,0.2811561323490762,0.575442430073952,0.678771235803334,0.609755346637853,0.6172261812882465,0.6402241067901289,0.5344470557111343,0.596493304613265,0.6732718240384733,0.6150079479593762,0.6998339835845202,0.6023390250255163,0.2288316522478032,0.6293100102168843,0.5692087022978549,0.6730720740048867,0.644359417969407,0.5488351555249356,0.5426222003235791,0.48075198328689905,0.5168338045814462,0.44368408414513616,0.5638719990596869,0.5710902790059117,0.5096937972131683,0.5515764803591857,0.5583609234543121,0.4960355466421565,0.39721765289498057,0.5708467583739589,0.5294229524546958,0.44406850549910687,0.5499573218116363,0.585671115870103,0.607545189296951,0.5675956086950894,0.6330130444996849,0.624284984239438,0.6808216169671243,0.6272179728840775,0.6325632335567672,0.5976256118942918,0.6232259739716077,0.6549571677558396,0.5797164656907436,0.6850595604501116,0.6605719853007443,0.6151448739295974,0.5904458592691622,0.01406720870783884,0.6318908782550674,0.6074802536226092,0.6385542371283055,0.6339821361532018,0.6512989870544279,0.6509209883622005,0.6558869619988715,0.6239342564219037,0.6684065049057036,0.5831880147739579,0.09239207195508914,0.6500430096880894,0.559804365342707,0.6393180650414448,0.5982022468196471,0.6836669257041096,0.6283911551553356,0.648293713286533,0.6685205871044798,0.6144762440642999,0.5244008185748624,0.5160255727680395,0.5361749467700879,0.5719218204386649,0.36798742213277336,0.5879347644032584,0.6055912500706488,0.6349189512241226,0.525730190796809,0.5466709460620478,0.5022713416270651,0.5598575536536387,0.4828287552956277,0.5636513752391804,0.620228021527998,0.5748719571438825,0.6459844613300797,0.5420875402644808,0.5990456321883966,0.5919517227818791,0.30549114318400783,0.5985161228359853,0.5569484484745771,0.6636198620841216,0.6255430039683249,0.610584229088651,0.5828156673405935,0.6384764084338695,0.6895587008786577,0.6522747132443112,0.6554034403584114,0.667092696984831,0.6408195802156654,0.604509358314417,0.6225149205859507,0.574355037674139,0.6765593129092352,0.6306841458661586,0.525574713289223,0.6501422094357144,0.5640997431442847,0.6131296247520719,0.5883007058328457,0.588924033326983,0.5435415246075597,0.20853671724426998,0.6001527093239877,0.6404147221767494,0.5579378807926699,0.6216848380289582,0.6557000051610806,0.5757924718917887,0.5912355293994471,0.6367620508862987,0.6394522078799842,0.6257552010586195,0.625962086322918,0.6133371408875992,0.6149340883004807,0.604690312348858,0.6022483316144426,0.6256906831239214,0.6102841209335856,0.6268700372638842,0.5840694980680063,0.594896282280291,0.60964575141747,0.6318468884024282,0.6709434465318209,0.6739923254640414,0.6591452123577083,0.557615452977287,0.5595700995409145,0.5358146828122176,0.5513763454711336,0.567530674305522,0.5805652616225385,0.5687989872282804,0.5497256819473563,0.5240145696807836,0.5074677332994506,0.5348973781878388,0.549845301904247,0.5288710348792918,0.564037098698449,0.5532917118584754,0.54701224689119,0.5277267768349708,0.5209726846198629,0.556189465632797,0.5520539510588676,0.5151481587280078,0.538822938862738,0.5741410370863578,0.5632942443467205,0.5815555647791135,0.5657257191225179,0.545772725174688,0.46246632675071075,0.5870778900568657,0.574986372585464,0.5961037114511116,0.5561765158650075,0.6231065237945042,0.6143130675251127,0.49328911197814374,0.5949077323207952,0.6229435893066279,0.5967580368032555,0.6171549268972746,0.6421288345087062,0.6439243238037214,0.6289282175519991,0.6399722521353547,0.6043523362997344,0.6070977296565396,0.6196038058719325,0.5936672972978956,0.5832577910203331,0.604322828365353,0.5905147422425915,0.6289611263283136,0.5796573206750565,0.6016248072226814,0.5884412905510561,0.6127201516817615,0.5888259631724753,0.6223387157918665,0.5425989936291558,0.5750847751572425,0.5696254913977752,0.5597801183821597,0.6369884759180118,0.6026576396828791,0.5768464333971802,0.6485388200884112,0.535605529535041,0.6149039496839188,0.5549024832295448,0.5519355710963577,0.5597082285570593,0.5414410259397437,0.5729674999770455,0.5219265175712444,0.5514216221251464,0.5826060186742622,0.5316877337669762,0.4125719804685821,0.06857285061287288,0.5703810654969242,0.507373188603188,0.3375099527408553,0.5438264412239375,0.5628685508107504,0.5063349935740015,0.508468404007475,0.5244320347152928,0.561196073569394,0.567461702915263,0.15848740131252254,0.5366322167155697,0.5540556696218931,0.5167760611631347,0.5467734739860967,0.5740712078611813,0.5632171264898482,0.5658007476954467,0.5645888119977345,0.6275195333901814,0.5310196143245717,0.5980676287260295,0.5785522101774896,0.5545239313728162,0.6327178422369071,0.25085869537949945,0.594605292263225,0.47681310896990126,0.4939895751341107,0.5429903146663309,0.5629812317701136,0.6062820668335935,0.6105729259719206],\"y\":[0.5105520384385376,0.5117557283045034,0.5111011715378173,0.5118251280472446,0.508688780799259,0.502422904200309,0.5077450702120048,0.5068761017811202,0.5179582842847459,0.5041228822467456,0.5065805115929254,0.5176581525972694,0.5151565334557799,0.5129692082172743,0.5164989676666533,0.5115633400743305,0.5103259450785704,0.5143034486183181,0.5101669518821805,0.5088250492990645,0.5108948679683327,0.5116036064725434,0.5155016479535784,0.510535702490257,0.5176288711755088,0.5099963209272349,0.5209281164695178,0.5119003000826531,0.5194116618109963,0.5154183986030842,0.5192545221998903,0.5216443392582002,0.5175565393363311,0.5221885753613213,0.5214192472508321,0.520258663571547,0.507934546219216,0.5144321084834816,0.512550107924761,0.5126574462830329,0.5098320886491863,0.516208039187437,0.5072605259054944,0.5060582937500164,0.5114366975969721,0.5199951608703771,0.5047752032363579,0.511851921089927,0.5147729122231757,0.5176114973106606,0.518453389547838,0.5217101359476163,0.5123151903999825,0.5119921010454067,0.515251271509416,0.5183016653341725,0.509261235466214,0.5213435969209237,0.5171737688956782,0.5050027300511264,0.507280772968143,0.5099694443005853,0.5240374780797992,0.511590259584645,0.5087932800047491,0.5230586545896388,0.5132513891227479,0.5098103453359499,0.5157279215753718,0.5152726176474335,0.5225464601674759,0.5220841141027321,0.5091231410192523,0.5215321924854998,0.5212797769915154,0.5143363715819702,0.5164757006184351,0.5093911015325832,0.5067424105619299,0.516765408587688,0.5111266759045212,0.5150135753000192,0.5201262570677527,0.5106156117748067,0.5224459235948542,0.5236512177349909,0.5121052316174268,0.5242701123559599,0.5120137655914996,0.5084158391936504,0.5189906519867217,0.5080132892873349,0.5131127323272895,0.5152081884060504,0.5172362340305938,0.5180434369228605,0.508333394491373,0.5117905247464768,0.5258155547240804,0.5165582208410217,0.5219119530327474,0.5135416728734973,0.5223757315068067,0.5229275046148683,0.5161874711262271,0.5103741407716541,0.5097420776720515,0.5123884829898353,0.5102043845090245,0.517798235827628,0.5098875786883744,0.5164440034326456,0.5086955761365709,0.5201959162903123,0.5135490878543777,0.5200518162681492,0.5193742430872418,0.5040191914871861,0.5243879932034385,0.5177610027061672,0.5100611495045697,0.5142877513540358,0.5180457437454238,0.5207735526030238,0.5205132949767838,0.5081068805542177,0.5157313710768465,0.5149509514241815,0.5162873299995328,0.5237566087952517,0.5093142675321157,0.514853631496738,0.5213482432174852,0.5185606346031333,0.519244187335907,0.5136123527021536,0.525640566238093,0.5024431245909005,0.5073738631222062,0.5199327054709793,0.5201118380119076,0.5110277614617761,0.517156421719933,0.5186610436218262,0.5133938983050848,0.5221408567789763,0.5167605774911128,0.5221386115830129,0.5124721808844308,0.5165720421517848,0.52099212190779,0.5112984228761679,0.5154339440299425,0.5125469943684621,0.5143488945909076,0.5121362800823374,0.515322990844354,0.5179339296857333,0.5194087831357227,0.5156250280122842,0.5225590248178609,0.5050398419941429,0.509339953785729,0.5156587221489015,0.5061620241253206,0.5185193764332539,0.5178886562971992,0.5129917969792106,0.5147348741896289,0.51083839966018,0.5204726461198668,0.5235899703151645,0.5193811900649881,0.5232329443387898,0.5238545776457524,0.5227184016112215,0.5220015207479076,0.5224004529156445,0.507820499299539,0.5119125085162162,0.5155688567052932,0.5192405964972049,0.5091816249409542,0.5165209496507797,0.5206506850527195,0.5119362500337372,0.5225584818391351,0.5200305450117553,0.5159643476942259,0.5259738901209255,0.5230142613624658,0.5086739209055744,0.5148573365644202,0.5155699716625282,0.5044805484252756,0.5225043171547195,0.5241080805830496,0.5251587844828959,0.5134018599940777,0.5181680298823264,0.51761636017428,0.5197929249352891,0.5176094902909323,0.5268583669279858,0.5169192730156766,0.50887553768118,0.5044892342289424,0.5180498460106935,0.5092413484472362,0.517283911371078,0.5168148841370849,0.5200631902956209,0.5161146193256285,0.5152234287510182,0.5097143174248966,0.5097652750403154,0.5136454471953993,0.5149050103885058,0.5142289276357395,0.5003055308297447,0.517644283427416,0.523721604495719,0.5191429763340554,0.514672328637602,0.5230284309620132,0.5129366389951872,0.5200820559932977,0.5123067806264059,0.5234625817357462,0.5135782927078938,0.5160065295373328,0.5190349190820366,0.5261956799260188,0.5184555413670273,0.5145625996299257,0.5246381299406898,0.5228726309241455,0.5202885794307965,0.5165303058418664,0.5138974800993763,0.5086814640040338,0.5214935570061218,0.5108196501911317,0.5163938129734778,0.511049408831927,0.5144769896037754,0.5140703098558388,0.5236734649979744,0.5134968579513262,0.5195266064234975,0.5092153252512164,0.5135102703054051,0.5158183502042601,0.5199723884031293,0.5107865074391033,0.5172018683028325,0.5231946407665196,0.5059651078900768,0.5141686155792288,0.505457912319492,0.5137306523814298,0.5040617212687775,0.5088158723652951,0.522051946947798,0.5213273362231795,0.5134606455182225,0.5145954962468724,0.5263229342918161,0.5253237462981792,0.5153207374216776,0.5194433628468402,0.5255218793956485,0.5110797511340589,0.5092895571405593,0.5084761200803158,0.5238922066892246,0.5162063022351715,0.5123736022262364,0.5122398910056385,0.5067408717698305,0.50661721296526,0.5044877222692634,0.522209329152687,0.5233092307412435,0.5140282557283112,0.5031485195399605,0.5061371841155236,0.5155211965868709,0.520166157126315,0.5214932558615077,0.5082050659909071,0.5044608865228859,0.5141337811363,0.5157010220238951,0.5175957953371367,0.5113060453468672,0.5029240243589764,0.5144404256443241,0.5238114456372589,0.5178268681528937],\"type\":\"scatter\"}],                        {\"title\":{\"text\":\"Slice Plot\"},\"template\":{\"data\":{\"histogram2dcontour\":[{\"type\":\"histogram2dcontour\",\"colorbar\":{\"outlinewidth\":0,\"ticks\":\"\"},\"colorscale\":[[0.0,\"#0d0887\"],[0.1111111111111111,\"#46039f\"],[0.2222222222222222,\"#7201a8\"],[0.3333333333333333,\"#9c179e\"],[0.4444444444444444,\"#bd3786\"],[0.5555555555555556,\"#d8576b\"],[0.6666666666666666,\"#ed7953\"],[0.7777777777777778,\"#fb9f3a\"],[0.8888888888888888,\"#fdca26\"],[1.0,\"#f0f921\"]]}],\"choropleth\":[{\"type\":\"choropleth\",\"colorbar\":{\"outlinewidth\":0,\"ticks\":\"\"}}],\"histogram2d\":[{\"type\":\"histogram2d\",\"colorbar\":{\"outlinewidth\":0,\"ticks\":\"\"},\"colorscale\":[[0.0,\"#0d0887\"],[0.1111111111111111,\"#46039f\"],[0.2222222222222222,\"#7201a8\"],[0.3333333333333333,\"#9c179e\"],[0.4444444444444444,\"#bd3786\"],[0.5555555555555556,\"#d8576b\"],[0.6666666666666666,\"#ed7953\"],[0.7777777777777778,\"#fb9f3a\"],[0.8888888888888888,\"#fdca26\"],[1.0,\"#f0f921\"]]}],\"heatmap\":[{\"type\":\"heatmap\",\"colorbar\":{\"outlinewidth\":0,\"ticks\":\"\"},\"colorscale\":[[0.0,\"#0d0887\"],[0.1111111111111111,\"#46039f\"],[0.2222222222222222,\"#7201a8\"],[0.3333333333333333,\"#9c179e\"],[0.4444444444444444,\"#bd3786\"],[0.5555555555555556,\"#d8576b\"],[0.6666666666666666,\"#ed7953\"],[0.7777777777777778,\"#fb9f3a\"],[0.8888888888888888,\"#fdca26\"],[1.0,\"#f0f921\"]]}],\"heatmapgl\":[{\"type\":\"heatmapgl\",\"colorbar\":{\"outlinewidth\":0,\"ticks\":\"\"},\"colorscale\":[[0.0,\"#0d0887\"],[0.1111111111111111,\"#46039f\"],[0.2222222222222222,\"#7201a8\"],[0.3333333333333333,\"#9c179e\"],[0.4444444444444444,\"#bd3786\"],[0.5555555555555556,\"#d8576b\"],[0.6666666666666666,\"#ed7953\"],[0.7777777777777778,\"#fb9f3a\"],[0.8888888888888888,\"#fdca26\"],[1.0,\"#f0f921\"]]}],\"contourcarpet\":[{\"type\":\"contourcarpet\",\"colorbar\":{\"outlinewidth\":0,\"ticks\":\"\"}}],\"contour\":[{\"type\":\"contour\",\"colorbar\":{\"outlinewidth\":0,\"ticks\":\"\"},\"colorscale\":[[0.0,\"#0d0887\"],[0.1111111111111111,\"#46039f\"],[0.2222222222222222,\"#7201a8\"],[0.3333333333333333,\"#9c179e\"],[0.4444444444444444,\"#bd3786\"],[0.5555555555555556,\"#d8576b\"],[0.6666666666666666,\"#ed7953\"],[0.7777777777777778,\"#fb9f3a\"],[0.8888888888888888,\"#fdca26\"],[1.0,\"#f0f921\"]]}],\"surface\":[{\"type\":\"surface\",\"colorbar\":{\"outlinewidth\":0,\"ticks\":\"\"},\"colorscale\":[[0.0,\"#0d0887\"],[0.1111111111111111,\"#46039f\"],[0.2222222222222222,\"#7201a8\"],[0.3333333333333333,\"#9c179e\"],[0.4444444444444444,\"#bd3786\"],[0.5555555555555556,\"#d8576b\"],[0.6666666666666666,\"#ed7953\"],[0.7777777777777778,\"#fb9f3a\"],[0.8888888888888888,\"#fdca26\"],[1.0,\"#f0f921\"]]}],\"mesh3d\":[{\"type\":\"mesh3d\",\"colorbar\":{\"outlinewidth\":0,\"ticks\":\"\"}}],\"scatter\":[{\"fillpattern\":{\"fillmode\":\"overlay\",\"size\":10,\"solidity\":0.2},\"type\":\"scatter\"}],\"parcoords\":[{\"type\":\"parcoords\",\"line\":{\"colorbar\":{\"outlinewidth\":0,\"ticks\":\"\"}}}],\"scatterpolargl\":[{\"type\":\"scatterpolargl\",\"marker\":{\"colorbar\":{\"outlinewidth\":0,\"ticks\":\"\"}}}],\"bar\":[{\"error_x\":{\"color\":\"#2a3f5f\"},\"error_y\":{\"color\":\"#2a3f5f\"},\"marker\":{\"line\":{\"color\":\"#E5ECF6\",\"width\":0.5},\"pattern\":{\"fillmode\":\"overlay\",\"size\":10,\"solidity\":0.2}},\"type\":\"bar\"}],\"scattergeo\":[{\"type\":\"scattergeo\",\"marker\":{\"colorbar\":{\"outlinewidth\":0,\"ticks\":\"\"}}}],\"scatterpolar\":[{\"type\":\"scatterpolar\",\"marker\":{\"colorbar\":{\"outlinewidth\":0,\"ticks\":\"\"}}}],\"histogram\":[{\"marker\":{\"pattern\":{\"fillmode\":\"overlay\",\"size\":10,\"solidity\":0.2}},\"type\":\"histogram\"}],\"scattergl\":[{\"type\":\"scattergl\",\"marker\":{\"colorbar\":{\"outlinewidth\":0,\"ticks\":\"\"}}}],\"scatter3d\":[{\"type\":\"scatter3d\",\"line\":{\"colorbar\":{\"outlinewidth\":0,\"ticks\":\"\"}},\"marker\":{\"colorbar\":{\"outlinewidth\":0,\"ticks\":\"\"}}}],\"scattermapbox\":[{\"type\":\"scattermapbox\",\"marker\":{\"colorbar\":{\"outlinewidth\":0,\"ticks\":\"\"}}}],\"scatterternary\":[{\"type\":\"scatterternary\",\"marker\":{\"colorbar\":{\"outlinewidth\":0,\"ticks\":\"\"}}}],\"scattercarpet\":[{\"type\":\"scattercarpet\",\"marker\":{\"colorbar\":{\"outlinewidth\":0,\"ticks\":\"\"}}}],\"carpet\":[{\"aaxis\":{\"endlinecolor\":\"#2a3f5f\",\"gridcolor\":\"white\",\"linecolor\":\"white\",\"minorgridcolor\":\"white\",\"startlinecolor\":\"#2a3f5f\"},\"baxis\":{\"endlinecolor\":\"#2a3f5f\",\"gridcolor\":\"white\",\"linecolor\":\"white\",\"minorgridcolor\":\"white\",\"startlinecolor\":\"#2a3f5f\"},\"type\":\"carpet\"}],\"table\":[{\"cells\":{\"fill\":{\"color\":\"#EBF0F8\"},\"line\":{\"color\":\"white\"}},\"header\":{\"fill\":{\"color\":\"#C8D4E3\"},\"line\":{\"color\":\"white\"}},\"type\":\"table\"}],\"barpolar\":[{\"marker\":{\"line\":{\"color\":\"#E5ECF6\",\"width\":0.5},\"pattern\":{\"fillmode\":\"overlay\",\"size\":10,\"solidity\":0.2}},\"type\":\"barpolar\"}],\"pie\":[{\"automargin\":true,\"type\":\"pie\"}]},\"layout\":{\"autotypenumbers\":\"strict\",\"colorway\":[\"#636efa\",\"#EF553B\",\"#00cc96\",\"#ab63fa\",\"#FFA15A\",\"#19d3f3\",\"#FF6692\",\"#B6E880\",\"#FF97FF\",\"#FECB52\"],\"font\":{\"color\":\"#2a3f5f\"},\"hovermode\":\"closest\",\"hoverlabel\":{\"align\":\"left\"},\"paper_bgcolor\":\"white\",\"plot_bgcolor\":\"#E5ECF6\",\"polar\":{\"bgcolor\":\"#E5ECF6\",\"angularaxis\":{\"gridcolor\":\"white\",\"linecolor\":\"white\",\"ticks\":\"\"},\"radialaxis\":{\"gridcolor\":\"white\",\"linecolor\":\"white\",\"ticks\":\"\"}},\"ternary\":{\"bgcolor\":\"#E5ECF6\",\"aaxis\":{\"gridcolor\":\"white\",\"linecolor\":\"white\",\"ticks\":\"\"},\"baxis\":{\"gridcolor\":\"white\",\"linecolor\":\"white\",\"ticks\":\"\"},\"caxis\":{\"gridcolor\":\"white\",\"linecolor\":\"white\",\"ticks\":\"\"}},\"coloraxis\":{\"colorbar\":{\"outlinewidth\":0,\"ticks\":\"\"}},\"colorscale\":{\"sequential\":[[0.0,\"#0d0887\"],[0.1111111111111111,\"#46039f\"],[0.2222222222222222,\"#7201a8\"],[0.3333333333333333,\"#9c179e\"],[0.4444444444444444,\"#bd3786\"],[0.5555555555555556,\"#d8576b\"],[0.6666666666666666,\"#ed7953\"],[0.7777777777777778,\"#fb9f3a\"],[0.8888888888888888,\"#fdca26\"],[1.0,\"#f0f921\"]],\"sequentialminus\":[[0.0,\"#0d0887\"],[0.1111111111111111,\"#46039f\"],[0.2222222222222222,\"#7201a8\"],[0.3333333333333333,\"#9c179e\"],[0.4444444444444444,\"#bd3786\"],[0.5555555555555556,\"#d8576b\"],[0.6666666666666666,\"#ed7953\"],[0.7777777777777778,\"#fb9f3a\"],[0.8888888888888888,\"#fdca26\"],[1.0,\"#f0f921\"]],\"diverging\":[[0,\"#8e0152\"],[0.1,\"#c51b7d\"],[0.2,\"#de77ae\"],[0.3,\"#f1b6da\"],[0.4,\"#fde0ef\"],[0.5,\"#f7f7f7\"],[0.6,\"#e6f5d0\"],[0.7,\"#b8e186\"],[0.8,\"#7fbc41\"],[0.9,\"#4d9221\"],[1,\"#276419\"]]},\"xaxis\":{\"gridcolor\":\"white\",\"linecolor\":\"white\",\"ticks\":\"\",\"title\":{\"standoff\":15},\"zerolinecolor\":\"white\",\"automargin\":true,\"zerolinewidth\":2},\"yaxis\":{\"gridcolor\":\"white\",\"linecolor\":\"white\",\"ticks\":\"\",\"title\":{\"standoff\":15},\"zerolinecolor\":\"white\",\"automargin\":true,\"zerolinewidth\":2},\"scene\":{\"xaxis\":{\"backgroundcolor\":\"#E5ECF6\",\"gridcolor\":\"white\",\"linecolor\":\"white\",\"showbackground\":true,\"ticks\":\"\",\"zerolinecolor\":\"white\",\"gridwidth\":2},\"yaxis\":{\"backgroundcolor\":\"#E5ECF6\",\"gridcolor\":\"white\",\"linecolor\":\"white\",\"showbackground\":true,\"ticks\":\"\",\"zerolinecolor\":\"white\",\"gridwidth\":2},\"zaxis\":{\"backgroundcolor\":\"#E5ECF6\",\"gridcolor\":\"white\",\"linecolor\":\"white\",\"showbackground\":true,\"ticks\":\"\",\"zerolinecolor\":\"white\",\"gridwidth\":2}},\"shapedefaults\":{\"line\":{\"color\":\"#2a3f5f\"}},\"annotationdefaults\":{\"arrowcolor\":\"#2a3f5f\",\"arrowhead\":0,\"arrowwidth\":1},\"geo\":{\"bgcolor\":\"white\",\"landcolor\":\"#E5ECF6\",\"subunitcolor\":\"white\",\"showland\":true,\"showlakes\":true,\"lakecolor\":\"white\"},\"title\":{\"x\":0.05},\"mapbox\":{\"style\":\"light\"}}},\"xaxis\":{\"title\":{\"text\":\"learning_rate\"}},\"yaxis\":{\"title\":{\"text\":\"Objective Value\"}}},                        {\"responsive\": true}                    ).then(function(){\n",
       "                            \n",
       "var gd = document.getElementById('c88161b4-49a2-4f4d-a469-1d83c1cd127c');\n",
       "var x = new MutationObserver(function (mutations, observer) {{\n",
       "        var display = window.getComputedStyle(gd).display;\n",
       "        if (!display || display === 'none') {{\n",
       "            console.log([gd, 'removed!']);\n",
       "            Plotly.purge(gd);\n",
       "            observer.disconnect();\n",
       "        }}\n",
       "}});\n",
       "\n",
       "// Listen for the removal of the full notebook cells\n",
       "var notebookContainer = gd.closest('#notebook-container');\n",
       "if (notebookContainer) {{\n",
       "    x.observe(notebookContainer, {childList: true});\n",
       "}}\n",
       "\n",
       "// Listen for the clearing of the current output cell\n",
       "var outputEl = gd.closest('.output');\n",
       "if (outputEl) {{\n",
       "    x.observe(outputEl, {childList: true});\n",
       "}}\n",
       "\n",
       "                        })                };                });            </script>        </div>"
      ]
     },
     "metadata": {},
     "output_type": "display_data"
    },
    {
     "data": {
      "application/vnd.plotly.v1+json": {
       "config": {
        "plotlyServerURL": "https://plot.ly"
       },
       "data": [
        {
         "marker": {
          "color": [
           0,
           1,
           2,
           3,
           4,
           5,
           6,
           7,
           8,
           9,
           10,
           11,
           12,
           13,
           14,
           15,
           16,
           17,
           18,
           19,
           20,
           21,
           22,
           23,
           24,
           25,
           26,
           27,
           28,
           29,
           30,
           31,
           32,
           33,
           34,
           35,
           36,
           37,
           38,
           39,
           40,
           41,
           42,
           43,
           44,
           45,
           46,
           47,
           48,
           49,
           50,
           51,
           52,
           53,
           54,
           55,
           56,
           57,
           58,
           59,
           60,
           61,
           62,
           63,
           64,
           65,
           66,
           67,
           68,
           69,
           70,
           71,
           72,
           73,
           74,
           75,
           76,
           77,
           78,
           79,
           80,
           81,
           82,
           83,
           84,
           85,
           86,
           87,
           88,
           89,
           90,
           91,
           92,
           93,
           94,
           95,
           96,
           97,
           98,
           99,
           100,
           101,
           102,
           103,
           104,
           105,
           106,
           107,
           108,
           109,
           110,
           111,
           112,
           113,
           114,
           115,
           116,
           117,
           118,
           119,
           120,
           121,
           122,
           123,
           124,
           125,
           126,
           127,
           128,
           129,
           130,
           131,
           132,
           133,
           134,
           135,
           136,
           137,
           138,
           139,
           140,
           141,
           142,
           143,
           144,
           145,
           146,
           147,
           148,
           149,
           150,
           151,
           152,
           153,
           154,
           155,
           156,
           157,
           158,
           159,
           160,
           161,
           162,
           163,
           164,
           165,
           166,
           167,
           168,
           169,
           170,
           171,
           172,
           173,
           174,
           175,
           176,
           177,
           178,
           179,
           180,
           181,
           182,
           183,
           184,
           185,
           186,
           187,
           188,
           189,
           190,
           191,
           192,
           193,
           194,
           195,
           196,
           197,
           198,
           199,
           200,
           201,
           202,
           203,
           204,
           205,
           206,
           207,
           208,
           209,
           210,
           211,
           212,
           213,
           214,
           215,
           216,
           217,
           218,
           219,
           220,
           221,
           222,
           223,
           224,
           225,
           226,
           227,
           228,
           229,
           230,
           231,
           232,
           233,
           234,
           235,
           236,
           237,
           238,
           239,
           240,
           241,
           242,
           243,
           244,
           245,
           246,
           247,
           248,
           249,
           250,
           251,
           252,
           253,
           254,
           255,
           256,
           257,
           258,
           259,
           260,
           261,
           262,
           263,
           264,
           265,
           266,
           267,
           268,
           269,
           270,
           271,
           272,
           273,
           274,
           275,
           276,
           277,
           278,
           279,
           280,
           281,
           282,
           283,
           284,
           285,
           286,
           287,
           288,
           289,
           290,
           291,
           292,
           293,
           294,
           295,
           296,
           297,
           298,
           299
          ],
          "colorbar": {
           "title": {
            "text": "Trial"
           },
           "x": 1,
           "xpad": 40,
           "y": 0.5
          },
          "colorscale": [
           [
            0,
            "rgb(247,251,255)"
           ],
           [
            0.125,
            "rgb(222,235,247)"
           ],
           [
            0.25,
            "rgb(198,219,239)"
           ],
           [
            0.375,
            "rgb(158,202,225)"
           ],
           [
            0.5,
            "rgb(107,174,214)"
           ],
           [
            0.625,
            "rgb(66,146,198)"
           ],
           [
            0.75,
            "rgb(33,113,181)"
           ],
           [
            0.875,
            "rgb(8,81,156)"
           ],
           [
            1,
            "rgb(8,48,107)"
           ]
          ],
          "line": {
           "color": "Grey",
           "width": 0.5
          }
         },
         "mode": "markers",
         "name": "Feasible Trial",
         "showlegend": false,
         "type": "scatter",
         "x": [
          1637,
          1697,
          805,
          208,
          1323,
          1372,
          1582,
          954,
          496,
          1473,
          287,
          37,
          14,
          567,
          492,
          30,
          561,
          338,
          730,
          1993,
          1114,
          490,
          180,
          443,
          702,
          723,
          996,
          1128,
          923,
          898,
          1089,
          1204,
          1146,
          1082,
          1314,
          1268,
          1783,
          1239,
          1416,
          1492,
          1018,
          1265,
          1241,
          1640,
          1347,
          1001,
          1200,
          1523,
          849,
          1404,
          1301,
          1031,
          1048,
          1195,
          799,
          958,
          1327,
          1076,
          821,
          1062,
          949,
          1156,
          1086,
          1070,
          995,
          881,
          764,
          648,
          1165,
          895,
          1100,
          1114,
          879,
          1123,
          1127,
          950,
          1215,
          1033,
          1109,
          1403,
          1178,
          1301,
          978,
          1261,
          1107,
          1110,
          853,
          1023,
          916,
          1051,
          1091,
          1001,
          1210,
          1147,
          1042,
          667,
          933,
          1226,
          1091,
          1004,
          785,
          823,
          1098,
          1106,
          1119,
          1086,
          1186,
          964,
          1160,
          893,
          1362,
          779,
          1080,
          1276,
          1033,
          738,
          981,
          1108,
          927,
          849,
          1151,
          931,
          871,
          1060,
          1005,
          2000,
          1086,
          966,
          601,
          1137,
          1136,
          1236,
          1030,
          1164,
          1107,
          1204,
          1041,
          1063,
          1000,
          928,
          1126,
          1869,
          1175,
          1038,
          804,
          1087,
          1099,
          1069,
          1068,
          970,
          1014,
          1141,
          1200,
          1092,
          1045,
          1246,
          1115,
          978,
          1171,
          904,
          1026,
          1066,
          1015,
          1137,
          1041,
          148,
          946,
          1095,
          1004,
          1181,
          1078,
          1136,
          1123,
          1054,
          1046,
          1041,
          963,
          1029,
          911,
          1023,
          991,
          1036,
          1149,
          1048,
          950,
          1114,
          1048,
          878,
          1000,
          1049,
          1048,
          1047,
          993,
          1072,
          1145,
          933,
          944,
          849,
          831,
          898,
          855,
          929,
          953,
          913,
          877,
          983,
          1030,
          976,
          383,
          1077,
          915,
          834,
          948,
          901,
          1028,
          749,
          1058,
          986,
          938,
          1112,
          858,
          1101,
          1078,
          1151,
          1028,
          1008,
          1103,
          1058,
          1175,
          1198,
          1173,
          1142,
          1111,
          1055,
          1106,
          1013,
          1011,
          998,
          1146,
          1085,
          1221,
          1022,
          973,
          1021,
          1061,
          1113,
          1027,
          964,
          972,
          909,
          1169,
          1091,
          799,
          953,
          1126,
          1001,
          885,
          849,
          871,
          898,
          973,
          936,
          818,
          1076,
          885,
          1131,
          930,
          1198,
          1258,
          1296,
          1240,
          1218,
          1215,
          1264,
          1199,
          1287,
          1248,
          1311,
          1193,
          1401,
          1343,
          1253,
          1334,
          1284,
          1290,
          1258,
          1369,
          1285,
          1221,
          1203,
          1158,
          1177,
          1309,
          1169,
          1236,
          1277,
          1139,
          1231,
          1184,
          1187
         ],
         "y": [
          0.5105520384385376,
          0.5117557283045034,
          0.5111011715378173,
          0.5118251280472446,
          0.508688780799259,
          0.502422904200309,
          0.5077450702120048,
          0.5068761017811202,
          0.5179582842847459,
          0.5041228822467456,
          0.5065805115929254,
          0.5176581525972694,
          0.5151565334557799,
          0.5129692082172743,
          0.5164989676666533,
          0.5115633400743305,
          0.5103259450785704,
          0.5143034486183181,
          0.5101669518821805,
          0.5088250492990645,
          0.5108948679683327,
          0.5116036064725434,
          0.5155016479535784,
          0.510535702490257,
          0.5176288711755088,
          0.5099963209272349,
          0.5209281164695178,
          0.5119003000826531,
          0.5194116618109963,
          0.5154183986030842,
          0.5192545221998903,
          0.5216443392582002,
          0.5175565393363311,
          0.5221885753613213,
          0.5214192472508321,
          0.520258663571547,
          0.507934546219216,
          0.5144321084834816,
          0.512550107924761,
          0.5126574462830329,
          0.5098320886491863,
          0.516208039187437,
          0.5072605259054944,
          0.5060582937500164,
          0.5114366975969721,
          0.5199951608703771,
          0.5047752032363579,
          0.511851921089927,
          0.5147729122231757,
          0.5176114973106606,
          0.518453389547838,
          0.5217101359476163,
          0.5123151903999825,
          0.5119921010454067,
          0.515251271509416,
          0.5183016653341725,
          0.509261235466214,
          0.5213435969209237,
          0.5171737688956782,
          0.5050027300511264,
          0.507280772968143,
          0.5099694443005853,
          0.5240374780797992,
          0.511590259584645,
          0.5087932800047491,
          0.5230586545896388,
          0.5132513891227479,
          0.5098103453359499,
          0.5157279215753718,
          0.5152726176474335,
          0.5225464601674759,
          0.5220841141027321,
          0.5091231410192523,
          0.5215321924854998,
          0.5212797769915154,
          0.5143363715819702,
          0.5164757006184351,
          0.5093911015325832,
          0.5067424105619299,
          0.516765408587688,
          0.5111266759045212,
          0.5150135753000192,
          0.5201262570677527,
          0.5106156117748067,
          0.5224459235948542,
          0.5236512177349909,
          0.5121052316174268,
          0.5242701123559599,
          0.5120137655914996,
          0.5084158391936504,
          0.5189906519867217,
          0.5080132892873349,
          0.5131127323272895,
          0.5152081884060504,
          0.5172362340305938,
          0.5180434369228605,
          0.508333394491373,
          0.5117905247464768,
          0.5258155547240804,
          0.5165582208410217,
          0.5219119530327474,
          0.5135416728734973,
          0.5223757315068067,
          0.5229275046148683,
          0.5161874711262271,
          0.5103741407716541,
          0.5097420776720515,
          0.5123884829898353,
          0.5102043845090245,
          0.517798235827628,
          0.5098875786883744,
          0.5164440034326456,
          0.5086955761365709,
          0.5201959162903123,
          0.5135490878543777,
          0.5200518162681492,
          0.5193742430872418,
          0.5040191914871861,
          0.5243879932034385,
          0.5177610027061672,
          0.5100611495045697,
          0.5142877513540358,
          0.5180457437454238,
          0.5207735526030238,
          0.5205132949767838,
          0.5081068805542177,
          0.5157313710768465,
          0.5149509514241815,
          0.5162873299995328,
          0.5237566087952517,
          0.5093142675321157,
          0.514853631496738,
          0.5213482432174852,
          0.5185606346031333,
          0.519244187335907,
          0.5136123527021536,
          0.525640566238093,
          0.5024431245909005,
          0.5073738631222062,
          0.5199327054709793,
          0.5201118380119076,
          0.5110277614617761,
          0.517156421719933,
          0.5186610436218262,
          0.5133938983050848,
          0.5221408567789763,
          0.5167605774911128,
          0.5221386115830129,
          0.5124721808844308,
          0.5165720421517848,
          0.52099212190779,
          0.5112984228761679,
          0.5154339440299425,
          0.5125469943684621,
          0.5143488945909076,
          0.5121362800823374,
          0.515322990844354,
          0.5179339296857333,
          0.5194087831357227,
          0.5156250280122842,
          0.5225590248178609,
          0.5050398419941429,
          0.509339953785729,
          0.5156587221489015,
          0.5061620241253206,
          0.5185193764332539,
          0.5178886562971992,
          0.5129917969792106,
          0.5147348741896289,
          0.51083839966018,
          0.5204726461198668,
          0.5235899703151645,
          0.5193811900649881,
          0.5232329443387898,
          0.5238545776457524,
          0.5227184016112215,
          0.5220015207479076,
          0.5224004529156445,
          0.507820499299539,
          0.5119125085162162,
          0.5155688567052932,
          0.5192405964972049,
          0.5091816249409542,
          0.5165209496507797,
          0.5206506850527195,
          0.5119362500337372,
          0.5225584818391351,
          0.5200305450117553,
          0.5159643476942259,
          0.5259738901209255,
          0.5230142613624658,
          0.5086739209055744,
          0.5148573365644202,
          0.5155699716625282,
          0.5044805484252756,
          0.5225043171547195,
          0.5241080805830496,
          0.5251587844828959,
          0.5134018599940777,
          0.5181680298823264,
          0.51761636017428,
          0.5197929249352891,
          0.5176094902909323,
          0.5268583669279858,
          0.5169192730156766,
          0.50887553768118,
          0.5044892342289424,
          0.5180498460106935,
          0.5092413484472362,
          0.517283911371078,
          0.5168148841370849,
          0.5200631902956209,
          0.5161146193256285,
          0.5152234287510182,
          0.5097143174248966,
          0.5097652750403154,
          0.5136454471953993,
          0.5149050103885058,
          0.5142289276357395,
          0.5003055308297447,
          0.517644283427416,
          0.523721604495719,
          0.5191429763340554,
          0.514672328637602,
          0.5230284309620132,
          0.5129366389951872,
          0.5200820559932977,
          0.5123067806264059,
          0.5234625817357462,
          0.5135782927078938,
          0.5160065295373328,
          0.5190349190820366,
          0.5261956799260188,
          0.5184555413670273,
          0.5145625996299257,
          0.5246381299406898,
          0.5228726309241455,
          0.5202885794307965,
          0.5165303058418664,
          0.5138974800993763,
          0.5086814640040338,
          0.5214935570061218,
          0.5108196501911317,
          0.5163938129734778,
          0.511049408831927,
          0.5144769896037754,
          0.5140703098558388,
          0.5236734649979744,
          0.5134968579513262,
          0.5195266064234975,
          0.5092153252512164,
          0.5135102703054051,
          0.5158183502042601,
          0.5199723884031293,
          0.5107865074391033,
          0.5172018683028325,
          0.5231946407665196,
          0.5059651078900768,
          0.5141686155792288,
          0.505457912319492,
          0.5137306523814298,
          0.5040617212687775,
          0.5088158723652951,
          0.522051946947798,
          0.5213273362231795,
          0.5134606455182225,
          0.5145954962468724,
          0.5263229342918161,
          0.5253237462981792,
          0.5153207374216776,
          0.5194433628468402,
          0.5255218793956485,
          0.5110797511340589,
          0.5092895571405593,
          0.5084761200803158,
          0.5238922066892246,
          0.5162063022351715,
          0.5123736022262364,
          0.5122398910056385,
          0.5067408717698305,
          0.50661721296526,
          0.5044877222692634,
          0.522209329152687,
          0.5233092307412435,
          0.5140282557283112,
          0.5031485195399605,
          0.5061371841155236,
          0.5155211965868709,
          0.520166157126315,
          0.5214932558615077,
          0.5082050659909071,
          0.5044608865228859,
          0.5141337811363,
          0.5157010220238951,
          0.5175957953371367,
          0.5113060453468672,
          0.5029240243589764,
          0.5144404256443241,
          0.5238114456372589,
          0.5178268681528937
         ]
        }
       ],
       "layout": {
        "autosize": true,
        "template": {
         "data": {
          "bar": [
           {
            "error_x": {
             "color": "#2a3f5f"
            },
            "error_y": {
             "color": "#2a3f5f"
            },
            "marker": {
             "line": {
              "color": "#E5ECF6",
              "width": 0.5
             },
             "pattern": {
              "fillmode": "overlay",
              "size": 10,
              "solidity": 0.2
             }
            },
            "type": "bar"
           }
          ],
          "barpolar": [
           {
            "marker": {
             "line": {
              "color": "#E5ECF6",
              "width": 0.5
             },
             "pattern": {
              "fillmode": "overlay",
              "size": 10,
              "solidity": 0.2
             }
            },
            "type": "barpolar"
           }
          ],
          "carpet": [
           {
            "aaxis": {
             "endlinecolor": "#2a3f5f",
             "gridcolor": "white",
             "linecolor": "white",
             "minorgridcolor": "white",
             "startlinecolor": "#2a3f5f"
            },
            "baxis": {
             "endlinecolor": "#2a3f5f",
             "gridcolor": "white",
             "linecolor": "white",
             "minorgridcolor": "white",
             "startlinecolor": "#2a3f5f"
            },
            "type": "carpet"
           }
          ],
          "choropleth": [
           {
            "colorbar": {
             "outlinewidth": 0,
             "ticks": ""
            },
            "type": "choropleth"
           }
          ],
          "contour": [
           {
            "colorbar": {
             "outlinewidth": 0,
             "ticks": ""
            },
            "colorscale": [
             [
              0,
              "#0d0887"
             ],
             [
              0.1111111111111111,
              "#46039f"
             ],
             [
              0.2222222222222222,
              "#7201a8"
             ],
             [
              0.3333333333333333,
              "#9c179e"
             ],
             [
              0.4444444444444444,
              "#bd3786"
             ],
             [
              0.5555555555555556,
              "#d8576b"
             ],
             [
              0.6666666666666666,
              "#ed7953"
             ],
             [
              0.7777777777777778,
              "#fb9f3a"
             ],
             [
              0.8888888888888888,
              "#fdca26"
             ],
             [
              1,
              "#f0f921"
             ]
            ],
            "type": "contour"
           }
          ],
          "contourcarpet": [
           {
            "colorbar": {
             "outlinewidth": 0,
             "ticks": ""
            },
            "type": "contourcarpet"
           }
          ],
          "heatmap": [
           {
            "colorbar": {
             "outlinewidth": 0,
             "ticks": ""
            },
            "colorscale": [
             [
              0,
              "#0d0887"
             ],
             [
              0.1111111111111111,
              "#46039f"
             ],
             [
              0.2222222222222222,
              "#7201a8"
             ],
             [
              0.3333333333333333,
              "#9c179e"
             ],
             [
              0.4444444444444444,
              "#bd3786"
             ],
             [
              0.5555555555555556,
              "#d8576b"
             ],
             [
              0.6666666666666666,
              "#ed7953"
             ],
             [
              0.7777777777777778,
              "#fb9f3a"
             ],
             [
              0.8888888888888888,
              "#fdca26"
             ],
             [
              1,
              "#f0f921"
             ]
            ],
            "type": "heatmap"
           }
          ],
          "heatmapgl": [
           {
            "colorbar": {
             "outlinewidth": 0,
             "ticks": ""
            },
            "colorscale": [
             [
              0,
              "#0d0887"
             ],
             [
              0.1111111111111111,
              "#46039f"
             ],
             [
              0.2222222222222222,
              "#7201a8"
             ],
             [
              0.3333333333333333,
              "#9c179e"
             ],
             [
              0.4444444444444444,
              "#bd3786"
             ],
             [
              0.5555555555555556,
              "#d8576b"
             ],
             [
              0.6666666666666666,
              "#ed7953"
             ],
             [
              0.7777777777777778,
              "#fb9f3a"
             ],
             [
              0.8888888888888888,
              "#fdca26"
             ],
             [
              1,
              "#f0f921"
             ]
            ],
            "type": "heatmapgl"
           }
          ],
          "histogram": [
           {
            "marker": {
             "pattern": {
              "fillmode": "overlay",
              "size": 10,
              "solidity": 0.2
             }
            },
            "type": "histogram"
           }
          ],
          "histogram2d": [
           {
            "colorbar": {
             "outlinewidth": 0,
             "ticks": ""
            },
            "colorscale": [
             [
              0,
              "#0d0887"
             ],
             [
              0.1111111111111111,
              "#46039f"
             ],
             [
              0.2222222222222222,
              "#7201a8"
             ],
             [
              0.3333333333333333,
              "#9c179e"
             ],
             [
              0.4444444444444444,
              "#bd3786"
             ],
             [
              0.5555555555555556,
              "#d8576b"
             ],
             [
              0.6666666666666666,
              "#ed7953"
             ],
             [
              0.7777777777777778,
              "#fb9f3a"
             ],
             [
              0.8888888888888888,
              "#fdca26"
             ],
             [
              1,
              "#f0f921"
             ]
            ],
            "type": "histogram2d"
           }
          ],
          "histogram2dcontour": [
           {
            "colorbar": {
             "outlinewidth": 0,
             "ticks": ""
            },
            "colorscale": [
             [
              0,
              "#0d0887"
             ],
             [
              0.1111111111111111,
              "#46039f"
             ],
             [
              0.2222222222222222,
              "#7201a8"
             ],
             [
              0.3333333333333333,
              "#9c179e"
             ],
             [
              0.4444444444444444,
              "#bd3786"
             ],
             [
              0.5555555555555556,
              "#d8576b"
             ],
             [
              0.6666666666666666,
              "#ed7953"
             ],
             [
              0.7777777777777778,
              "#fb9f3a"
             ],
             [
              0.8888888888888888,
              "#fdca26"
             ],
             [
              1,
              "#f0f921"
             ]
            ],
            "type": "histogram2dcontour"
           }
          ],
          "mesh3d": [
           {
            "colorbar": {
             "outlinewidth": 0,
             "ticks": ""
            },
            "type": "mesh3d"
           }
          ],
          "parcoords": [
           {
            "line": {
             "colorbar": {
              "outlinewidth": 0,
              "ticks": ""
             }
            },
            "type": "parcoords"
           }
          ],
          "pie": [
           {
            "automargin": true,
            "type": "pie"
           }
          ],
          "scatter": [
           {
            "fillpattern": {
             "fillmode": "overlay",
             "size": 10,
             "solidity": 0.2
            },
            "type": "scatter"
           }
          ],
          "scatter3d": [
           {
            "line": {
             "colorbar": {
              "outlinewidth": 0,
              "ticks": ""
             }
            },
            "marker": {
             "colorbar": {
              "outlinewidth": 0,
              "ticks": ""
             }
            },
            "type": "scatter3d"
           }
          ],
          "scattercarpet": [
           {
            "marker": {
             "colorbar": {
              "outlinewidth": 0,
              "ticks": ""
             }
            },
            "type": "scattercarpet"
           }
          ],
          "scattergeo": [
           {
            "marker": {
             "colorbar": {
              "outlinewidth": 0,
              "ticks": ""
             }
            },
            "type": "scattergeo"
           }
          ],
          "scattergl": [
           {
            "marker": {
             "colorbar": {
              "outlinewidth": 0,
              "ticks": ""
             }
            },
            "type": "scattergl"
           }
          ],
          "scattermapbox": [
           {
            "marker": {
             "colorbar": {
              "outlinewidth": 0,
              "ticks": ""
             }
            },
            "type": "scattermapbox"
           }
          ],
          "scatterpolar": [
           {
            "marker": {
             "colorbar": {
              "outlinewidth": 0,
              "ticks": ""
             }
            },
            "type": "scatterpolar"
           }
          ],
          "scatterpolargl": [
           {
            "marker": {
             "colorbar": {
              "outlinewidth": 0,
              "ticks": ""
             }
            },
            "type": "scatterpolargl"
           }
          ],
          "scatterternary": [
           {
            "marker": {
             "colorbar": {
              "outlinewidth": 0,
              "ticks": ""
             }
            },
            "type": "scatterternary"
           }
          ],
          "surface": [
           {
            "colorbar": {
             "outlinewidth": 0,
             "ticks": ""
            },
            "colorscale": [
             [
              0,
              "#0d0887"
             ],
             [
              0.1111111111111111,
              "#46039f"
             ],
             [
              0.2222222222222222,
              "#7201a8"
             ],
             [
              0.3333333333333333,
              "#9c179e"
             ],
             [
              0.4444444444444444,
              "#bd3786"
             ],
             [
              0.5555555555555556,
              "#d8576b"
             ],
             [
              0.6666666666666666,
              "#ed7953"
             ],
             [
              0.7777777777777778,
              "#fb9f3a"
             ],
             [
              0.8888888888888888,
              "#fdca26"
             ],
             [
              1,
              "#f0f921"
             ]
            ],
            "type": "surface"
           }
          ],
          "table": [
           {
            "cells": {
             "fill": {
              "color": "#EBF0F8"
             },
             "line": {
              "color": "white"
             }
            },
            "header": {
             "fill": {
              "color": "#C8D4E3"
             },
             "line": {
              "color": "white"
             }
            },
            "type": "table"
           }
          ]
         },
         "layout": {
          "annotationdefaults": {
           "arrowcolor": "#2a3f5f",
           "arrowhead": 0,
           "arrowwidth": 1
          },
          "autotypenumbers": "strict",
          "coloraxis": {
           "colorbar": {
            "outlinewidth": 0,
            "ticks": ""
           }
          },
          "colorscale": {
           "diverging": [
            [
             0,
             "#8e0152"
            ],
            [
             0.1,
             "#c51b7d"
            ],
            [
             0.2,
             "#de77ae"
            ],
            [
             0.3,
             "#f1b6da"
            ],
            [
             0.4,
             "#fde0ef"
            ],
            [
             0.5,
             "#f7f7f7"
            ],
            [
             0.6,
             "#e6f5d0"
            ],
            [
             0.7,
             "#b8e186"
            ],
            [
             0.8,
             "#7fbc41"
            ],
            [
             0.9,
             "#4d9221"
            ],
            [
             1,
             "#276419"
            ]
           ],
           "sequential": [
            [
             0,
             "#0d0887"
            ],
            [
             0.1111111111111111,
             "#46039f"
            ],
            [
             0.2222222222222222,
             "#7201a8"
            ],
            [
             0.3333333333333333,
             "#9c179e"
            ],
            [
             0.4444444444444444,
             "#bd3786"
            ],
            [
             0.5555555555555556,
             "#d8576b"
            ],
            [
             0.6666666666666666,
             "#ed7953"
            ],
            [
             0.7777777777777778,
             "#fb9f3a"
            ],
            [
             0.8888888888888888,
             "#fdca26"
            ],
            [
             1,
             "#f0f921"
            ]
           ],
           "sequentialminus": [
            [
             0,
             "#0d0887"
            ],
            [
             0.1111111111111111,
             "#46039f"
            ],
            [
             0.2222222222222222,
             "#7201a8"
            ],
            [
             0.3333333333333333,
             "#9c179e"
            ],
            [
             0.4444444444444444,
             "#bd3786"
            ],
            [
             0.5555555555555556,
             "#d8576b"
            ],
            [
             0.6666666666666666,
             "#ed7953"
            ],
            [
             0.7777777777777778,
             "#fb9f3a"
            ],
            [
             0.8888888888888888,
             "#fdca26"
            ],
            [
             1,
             "#f0f921"
            ]
           ]
          },
          "colorway": [
           "#636efa",
           "#EF553B",
           "#00cc96",
           "#ab63fa",
           "#FFA15A",
           "#19d3f3",
           "#FF6692",
           "#B6E880",
           "#FF97FF",
           "#FECB52"
          ],
          "font": {
           "color": "#2a3f5f"
          },
          "geo": {
           "bgcolor": "white",
           "lakecolor": "white",
           "landcolor": "#E5ECF6",
           "showlakes": true,
           "showland": true,
           "subunitcolor": "white"
          },
          "hoverlabel": {
           "align": "left"
          },
          "hovermode": "closest",
          "mapbox": {
           "style": "light"
          },
          "paper_bgcolor": "white",
          "plot_bgcolor": "#E5ECF6",
          "polar": {
           "angularaxis": {
            "gridcolor": "white",
            "linecolor": "white",
            "ticks": ""
           },
           "bgcolor": "#E5ECF6",
           "radialaxis": {
            "gridcolor": "white",
            "linecolor": "white",
            "ticks": ""
           }
          },
          "scene": {
           "xaxis": {
            "backgroundcolor": "#E5ECF6",
            "gridcolor": "white",
            "gridwidth": 2,
            "linecolor": "white",
            "showbackground": true,
            "ticks": "",
            "zerolinecolor": "white"
           },
           "yaxis": {
            "backgroundcolor": "#E5ECF6",
            "gridcolor": "white",
            "gridwidth": 2,
            "linecolor": "white",
            "showbackground": true,
            "ticks": "",
            "zerolinecolor": "white"
           },
           "zaxis": {
            "backgroundcolor": "#E5ECF6",
            "gridcolor": "white",
            "gridwidth": 2,
            "linecolor": "white",
            "showbackground": true,
            "ticks": "",
            "zerolinecolor": "white"
           }
          },
          "shapedefaults": {
           "line": {
            "color": "#2a3f5f"
           }
          },
          "ternary": {
           "aaxis": {
            "gridcolor": "white",
            "linecolor": "white",
            "ticks": ""
           },
           "baxis": {
            "gridcolor": "white",
            "linecolor": "white",
            "ticks": ""
           },
           "bgcolor": "#E5ECF6",
           "caxis": {
            "gridcolor": "white",
            "linecolor": "white",
            "ticks": ""
           }
          },
          "title": {
           "x": 0.05
          },
          "xaxis": {
           "automargin": true,
           "gridcolor": "white",
           "linecolor": "white",
           "ticks": "",
           "title": {
            "standoff": 15
           },
           "zerolinecolor": "white",
           "zerolinewidth": 2
          },
          "yaxis": {
           "automargin": true,
           "gridcolor": "white",
           "linecolor": "white",
           "ticks": "",
           "title": {
            "standoff": 15
           },
           "zerolinecolor": "white",
           "zerolinewidth": 2
          }
         }
        },
        "title": {
         "text": "Slice Plot"
        },
        "xaxis": {
         "autorange": true,
         "range": [
          -106.94230769230768,
          2120.9423076923076
         ],
         "title": {
          "text": "l2_leaf_reg"
         },
         "type": "linear"
        },
        "yaxis": {
         "autorange": true,
         "range": [
          0.49811427736532676,
          0.5290496203924038
         ],
         "title": {
          "text": "Objective Value"
         },
         "type": "linear"
        }
       }
      },
      "image/png": "[encoded data removed]",
      "text/html": [
       "<div>                            <div id=\"0dad30bd-7b06-4baa-a09a-841a47a5564e\" class=\"plotly-graph-div\" style=\"height:525px; width:100%;\"></div>            <script type=\"text/javascript\">                require([\"plotly\"], function(Plotly) {                    window.PLOTLYENV=window.PLOTLYENV || {};                                    if (document.getElementById(\"0dad30bd-7b06-4baa-a09a-841a47a5564e\")) {                    Plotly.newPlot(                        \"0dad30bd-7b06-4baa-a09a-841a47a5564e\",                        [{\"marker\":{\"color\":[0,1,2,3,4,5,6,7,8,9,10,11,12,13,14,15,16,17,18,19,20,21,22,23,24,25,26,27,28,29,30,31,32,33,34,35,36,37,38,39,40,41,42,43,44,45,46,47,48,49,50,51,52,53,54,55,56,57,58,59,60,61,62,63,64,65,66,67,68,69,70,71,72,73,74,75,76,77,78,79,80,81,82,83,84,85,86,87,88,89,90,91,92,93,94,95,96,97,98,99,100,101,102,103,104,105,106,107,108,109,110,111,112,113,114,115,116,117,118,119,120,121,122,123,124,125,126,127,128,129,130,131,132,133,134,135,136,137,138,139,140,141,142,143,144,145,146,147,148,149,150,151,152,153,154,155,156,157,158,159,160,161,162,163,164,165,166,167,168,169,170,171,172,173,174,175,176,177,178,179,180,181,182,183,184,185,186,187,188,189,190,191,192,193,194,195,196,197,198,199,200,201,202,203,204,205,206,207,208,209,210,211,212,213,214,215,216,217,218,219,220,221,222,223,224,225,226,227,228,229,230,231,232,233,234,235,236,237,238,239,240,241,242,243,244,245,246,247,248,249,250,251,252,253,254,255,256,257,258,259,260,261,262,263,264,265,266,267,268,269,270,271,272,273,274,275,276,277,278,279,280,281,282,283,284,285,286,287,288,289,290,291,292,293,294,295,296,297,298,299],\"colorbar\":{\"title\":{\"text\":\"Trial\"},\"x\":1.0,\"xpad\":40},\"colorscale\":[[0.0,\"rgb(247,251,255)\"],[0.125,\"rgb(222,235,247)\"],[0.25,\"rgb(198,219,239)\"],[0.375,\"rgb(158,202,225)\"],[0.5,\"rgb(107,174,214)\"],[0.625,\"rgb(66,146,198)\"],[0.75,\"rgb(33,113,181)\"],[0.875,\"rgb(8,81,156)\"],[1.0,\"rgb(8,48,107)\"]],\"line\":{\"color\":\"Grey\",\"width\":0.5}},\"mode\":\"markers\",\"name\":\"Feasible Trial\",\"showlegend\":false,\"x\":[1637,1697,805,208,1323,1372,1582,954,496,1473,287,37,14,567,492,30,561,338,730,1993,1114,490,180,443,702,723,996,1128,923,898,1089,1204,1146,1082,1314,1268,1783,1239,1416,1492,1018,1265,1241,1640,1347,1001,1200,1523,849,1404,1301,1031,1048,1195,799,958,1327,1076,821,1062,949,1156,1086,1070,995,881,764,648,1165,895,1100,1114,879,1123,1127,950,1215,1033,1109,1403,1178,1301,978,1261,1107,1110,853,1023,916,1051,1091,1001,1210,1147,1042,667,933,1226,1091,1004,785,823,1098,1106,1119,1086,1186,964,1160,893,1362,779,1080,1276,1033,738,981,1108,927,849,1151,931,871,1060,1005,2000,1086,966,601,1137,1136,1236,1030,1164,1107,1204,1041,1063,1000,928,1126,1869,1175,1038,804,1087,1099,1069,1068,970,1014,1141,1200,1092,1045,1246,1115,978,1171,904,1026,1066,1015,1137,1041,148,946,1095,1004,1181,1078,1136,1123,1054,1046,1041,963,1029,911,1023,991,1036,1149,1048,950,1114,1048,878,1000,1049,1048,1047,993,1072,1145,933,944,849,831,898,855,929,953,913,877,983,1030,976,383,1077,915,834,948,901,1028,749,1058,986,938,1112,858,1101,1078,1151,1028,1008,1103,1058,1175,1198,1173,1142,1111,1055,1106,1013,1011,998,1146,1085,1221,1022,973,1021,1061,1113,1027,964,972,909,1169,1091,799,953,1126,1001,885,849,871,898,973,936,818,1076,885,1131,930,1198,1258,1296,1240,1218,1215,1264,1199,1287,1248,1311,1193,1401,1343,1253,1334,1284,1290,1258,1369,1285,1221,1203,1158,1177,1309,1169,1236,1277,1139,1231,1184,1187],\"y\":[0.5105520384385376,0.5117557283045034,0.5111011715378173,0.5118251280472446,0.508688780799259,0.502422904200309,0.5077450702120048,0.5068761017811202,0.5179582842847459,0.5041228822467456,0.5065805115929254,0.5176581525972694,0.5151565334557799,0.5129692082172743,0.5164989676666533,0.5115633400743305,0.5103259450785704,0.5143034486183181,0.5101669518821805,0.5088250492990645,0.5108948679683327,0.5116036064725434,0.5155016479535784,0.510535702490257,0.5176288711755088,0.5099963209272349,0.5209281164695178,0.5119003000826531,0.5194116618109963,0.5154183986030842,0.5192545221998903,0.5216443392582002,0.5175565393363311,0.5221885753613213,0.5214192472508321,0.520258663571547,0.507934546219216,0.5144321084834816,0.512550107924761,0.5126574462830329,0.5098320886491863,0.516208039187437,0.5072605259054944,0.5060582937500164,0.5114366975969721,0.5199951608703771,0.5047752032363579,0.511851921089927,0.5147729122231757,0.5176114973106606,0.518453389547838,0.5217101359476163,0.5123151903999825,0.5119921010454067,0.515251271509416,0.5183016653341725,0.509261235466214,0.5213435969209237,0.5171737688956782,0.5050027300511264,0.507280772968143,0.5099694443005853,0.5240374780797992,0.511590259584645,0.5087932800047491,0.5230586545896388,0.5132513891227479,0.5098103453359499,0.5157279215753718,0.5152726176474335,0.5225464601674759,0.5220841141027321,0.5091231410192523,0.5215321924854998,0.5212797769915154,0.5143363715819702,0.5164757006184351,0.5093911015325832,0.5067424105619299,0.516765408587688,0.5111266759045212,0.5150135753000192,0.5201262570677527,0.5106156117748067,0.5224459235948542,0.5236512177349909,0.5121052316174268,0.5242701123559599,0.5120137655914996,0.5084158391936504,0.5189906519867217,0.5080132892873349,0.5131127323272895,0.5152081884060504,0.5172362340305938,0.5180434369228605,0.508333394491373,0.5117905247464768,0.5258155547240804,0.5165582208410217,0.5219119530327474,0.5135416728734973,0.5223757315068067,0.5229275046148683,0.5161874711262271,0.5103741407716541,0.5097420776720515,0.5123884829898353,0.5102043845090245,0.517798235827628,0.5098875786883744,0.5164440034326456,0.5086955761365709,0.5201959162903123,0.5135490878543777,0.5200518162681492,0.5193742430872418,0.5040191914871861,0.5243879932034385,0.5177610027061672,0.5100611495045697,0.5142877513540358,0.5180457437454238,0.5207735526030238,0.5205132949767838,0.5081068805542177,0.5157313710768465,0.5149509514241815,0.5162873299995328,0.5237566087952517,0.5093142675321157,0.514853631496738,0.5213482432174852,0.5185606346031333,0.519244187335907,0.5136123527021536,0.525640566238093,0.5024431245909005,0.5073738631222062,0.5199327054709793,0.5201118380119076,0.5110277614617761,0.517156421719933,0.5186610436218262,0.5133938983050848,0.5221408567789763,0.5167605774911128,0.5221386115830129,0.5124721808844308,0.5165720421517848,0.52099212190779,0.5112984228761679,0.5154339440299425,0.5125469943684621,0.5143488945909076,0.5121362800823374,0.515322990844354,0.5179339296857333,0.5194087831357227,0.5156250280122842,0.5225590248178609,0.5050398419941429,0.509339953785729,0.5156587221489015,0.5061620241253206,0.5185193764332539,0.5178886562971992,0.5129917969792106,0.5147348741896289,0.51083839966018,0.5204726461198668,0.5235899703151645,0.5193811900649881,0.5232329443387898,0.5238545776457524,0.5227184016112215,0.5220015207479076,0.5224004529156445,0.507820499299539,0.5119125085162162,0.5155688567052932,0.5192405964972049,0.5091816249409542,0.5165209496507797,0.5206506850527195,0.5119362500337372,0.5225584818391351,0.5200305450117553,0.5159643476942259,0.5259738901209255,0.5230142613624658,0.5086739209055744,0.5148573365644202,0.5155699716625282,0.5044805484252756,0.5225043171547195,0.5241080805830496,0.5251587844828959,0.5134018599940777,0.5181680298823264,0.51761636017428,0.5197929249352891,0.5176094902909323,0.5268583669279858,0.5169192730156766,0.50887553768118,0.5044892342289424,0.5180498460106935,0.5092413484472362,0.517283911371078,0.5168148841370849,0.5200631902956209,0.5161146193256285,0.5152234287510182,0.5097143174248966,0.5097652750403154,0.5136454471953993,0.5149050103885058,0.5142289276357395,0.5003055308297447,0.517644283427416,0.523721604495719,0.5191429763340554,0.514672328637602,0.5230284309620132,0.5129366389951872,0.5200820559932977,0.5123067806264059,0.5234625817357462,0.5135782927078938,0.5160065295373328,0.5190349190820366,0.5261956799260188,0.5184555413670273,0.5145625996299257,0.5246381299406898,0.5228726309241455,0.5202885794307965,0.5165303058418664,0.5138974800993763,0.5086814640040338,0.5214935570061218,0.5108196501911317,0.5163938129734778,0.511049408831927,0.5144769896037754,0.5140703098558388,0.5236734649979744,0.5134968579513262,0.5195266064234975,0.5092153252512164,0.5135102703054051,0.5158183502042601,0.5199723884031293,0.5107865074391033,0.5172018683028325,0.5231946407665196,0.5059651078900768,0.5141686155792288,0.505457912319492,0.5137306523814298,0.5040617212687775,0.5088158723652951,0.522051946947798,0.5213273362231795,0.5134606455182225,0.5145954962468724,0.5263229342918161,0.5253237462981792,0.5153207374216776,0.5194433628468402,0.5255218793956485,0.5110797511340589,0.5092895571405593,0.5084761200803158,0.5238922066892246,0.5162063022351715,0.5123736022262364,0.5122398910056385,0.5067408717698305,0.50661721296526,0.5044877222692634,0.522209329152687,0.5233092307412435,0.5140282557283112,0.5031485195399605,0.5061371841155236,0.5155211965868709,0.520166157126315,0.5214932558615077,0.5082050659909071,0.5044608865228859,0.5141337811363,0.5157010220238951,0.5175957953371367,0.5113060453468672,0.5029240243589764,0.5144404256443241,0.5238114456372589,0.5178268681528937],\"type\":\"scatter\"}],                        {\"title\":{\"text\":\"Slice Plot\"},\"template\":{\"data\":{\"histogram2dcontour\":[{\"type\":\"histogram2dcontour\",\"colorbar\":{\"outlinewidth\":0,\"ticks\":\"\"},\"colorscale\":[[0.0,\"#0d0887\"],[0.1111111111111111,\"#46039f\"],[0.2222222222222222,\"#7201a8\"],[0.3333333333333333,\"#9c179e\"],[0.4444444444444444,\"#bd3786\"],[0.5555555555555556,\"#d8576b\"],[0.6666666666666666,\"#ed7953\"],[0.7777777777777778,\"#fb9f3a\"],[0.8888888888888888,\"#fdca26\"],[1.0,\"#f0f921\"]]}],\"choropleth\":[{\"type\":\"choropleth\",\"colorbar\":{\"outlinewidth\":0,\"ticks\":\"\"}}],\"histogram2d\":[{\"type\":\"histogram2d\",\"colorbar\":{\"outlinewidth\":0,\"ticks\":\"\"},\"colorscale\":[[0.0,\"#0d0887\"],[0.1111111111111111,\"#46039f\"],[0.2222222222222222,\"#7201a8\"],[0.3333333333333333,\"#9c179e\"],[0.4444444444444444,\"#bd3786\"],[0.5555555555555556,\"#d8576b\"],[0.6666666666666666,\"#ed7953\"],[0.7777777777777778,\"#fb9f3a\"],[0.8888888888888888,\"#fdca26\"],[1.0,\"#f0f921\"]]}],\"heatmap\":[{\"type\":\"heatmap\",\"colorbar\":{\"outlinewidth\":0,\"ticks\":\"\"},\"colorscale\":[[0.0,\"#0d0887\"],[0.1111111111111111,\"#46039f\"],[0.2222222222222222,\"#7201a8\"],[0.3333333333333333,\"#9c179e\"],[0.4444444444444444,\"#bd3786\"],[0.5555555555555556,\"#d8576b\"],[0.6666666666666666,\"#ed7953\"],[0.7777777777777778,\"#fb9f3a\"],[0.8888888888888888,\"#fdca26\"],[1.0,\"#f0f921\"]]}],\"heatmapgl\":[{\"type\":\"heatmapgl\",\"colorbar\":{\"outlinewidth\":0,\"ticks\":\"\"},\"colorscale\":[[0.0,\"#0d0887\"],[0.1111111111111111,\"#46039f\"],[0.2222222222222222,\"#7201a8\"],[0.3333333333333333,\"#9c179e\"],[0.4444444444444444,\"#bd3786\"],[0.5555555555555556,\"#d8576b\"],[0.6666666666666666,\"#ed7953\"],[0.7777777777777778,\"#fb9f3a\"],[0.8888888888888888,\"#fdca26\"],[1.0,\"#f0f921\"]]}],\"contourcarpet\":[{\"type\":\"contourcarpet\",\"colorbar\":{\"outlinewidth\":0,\"ticks\":\"\"}}],\"contour\":[{\"type\":\"contour\",\"colorbar\":{\"outlinewidth\":0,\"ticks\":\"\"},\"colorscale\":[[0.0,\"#0d0887\"],[0.1111111111111111,\"#46039f\"],[0.2222222222222222,\"#7201a8\"],[0.3333333333333333,\"#9c179e\"],[0.4444444444444444,\"#bd3786\"],[0.5555555555555556,\"#d8576b\"],[0.6666666666666666,\"#ed7953\"],[0.7777777777777778,\"#fb9f3a\"],[0.8888888888888888,\"#fdca26\"],[1.0,\"#f0f921\"]]}],\"surface\":[{\"type\":\"surface\",\"colorbar\":{\"outlinewidth\":0,\"ticks\":\"\"},\"colorscale\":[[0.0,\"#0d0887\"],[0.1111111111111111,\"#46039f\"],[0.2222222222222222,\"#7201a8\"],[0.3333333333333333,\"#9c179e\"],[0.4444444444444444,\"#bd3786\"],[0.5555555555555556,\"#d8576b\"],[0.6666666666666666,\"#ed7953\"],[0.7777777777777778,\"#fb9f3a\"],[0.8888888888888888,\"#fdca26\"],[1.0,\"#f0f921\"]]}],\"mesh3d\":[{\"type\":\"mesh3d\",\"colorbar\":{\"outlinewidth\":0,\"ticks\":\"\"}}],\"scatter\":[{\"fillpattern\":{\"fillmode\":\"overlay\",\"size\":10,\"solidity\":0.2},\"type\":\"scatter\"}],\"parcoords\":[{\"type\":\"parcoords\",\"line\":{\"colorbar\":{\"outlinewidth\":0,\"ticks\":\"\"}}}],\"scatterpolargl\":[{\"type\":\"scatterpolargl\",\"marker\":{\"colorbar\":{\"outlinewidth\":0,\"ticks\":\"\"}}}],\"bar\":[{\"error_x\":{\"color\":\"#2a3f5f\"},\"error_y\":{\"color\":\"#2a3f5f\"},\"marker\":{\"line\":{\"color\":\"#E5ECF6\",\"width\":0.5},\"pattern\":{\"fillmode\":\"overlay\",\"size\":10,\"solidity\":0.2}},\"type\":\"bar\"}],\"scattergeo\":[{\"type\":\"scattergeo\",\"marker\":{\"colorbar\":{\"outlinewidth\":0,\"ticks\":\"\"}}}],\"scatterpolar\":[{\"type\":\"scatterpolar\",\"marker\":{\"colorbar\":{\"outlinewidth\":0,\"ticks\":\"\"}}}],\"histogram\":[{\"marker\":{\"pattern\":{\"fillmode\":\"overlay\",\"size\":10,\"solidity\":0.2}},\"type\":\"histogram\"}],\"scattergl\":[{\"type\":\"scattergl\",\"marker\":{\"colorbar\":{\"outlinewidth\":0,\"ticks\":\"\"}}}],\"scatter3d\":[{\"type\":\"scatter3d\",\"line\":{\"colorbar\":{\"outlinewidth\":0,\"ticks\":\"\"}},\"marker\":{\"colorbar\":{\"outlinewidth\":0,\"ticks\":\"\"}}}],\"scattermapbox\":[{\"type\":\"scattermapbox\",\"marker\":{\"colorbar\":{\"outlinewidth\":0,\"ticks\":\"\"}}}],\"scatterternary\":[{\"type\":\"scatterternary\",\"marker\":{\"colorbar\":{\"outlinewidth\":0,\"ticks\":\"\"}}}],\"scattercarpet\":[{\"type\":\"scattercarpet\",\"marker\":{\"colorbar\":{\"outlinewidth\":0,\"ticks\":\"\"}}}],\"carpet\":[{\"aaxis\":{\"endlinecolor\":\"#2a3f5f\",\"gridcolor\":\"white\",\"linecolor\":\"white\",\"minorgridcolor\":\"white\",\"startlinecolor\":\"#2a3f5f\"},\"baxis\":{\"endlinecolor\":\"#2a3f5f\",\"gridcolor\":\"white\",\"linecolor\":\"white\",\"minorgridcolor\":\"white\",\"startlinecolor\":\"#2a3f5f\"},\"type\":\"carpet\"}],\"table\":[{\"cells\":{\"fill\":{\"color\":\"#EBF0F8\"},\"line\":{\"color\":\"white\"}},\"header\":{\"fill\":{\"color\":\"#C8D4E3\"},\"line\":{\"color\":\"white\"}},\"type\":\"table\"}],\"barpolar\":[{\"marker\":{\"line\":{\"color\":\"#E5ECF6\",\"width\":0.5},\"pattern\":{\"fillmode\":\"overlay\",\"size\":10,\"solidity\":0.2}},\"type\":\"barpolar\"}],\"pie\":[{\"automargin\":true,\"type\":\"pie\"}]},\"layout\":{\"autotypenumbers\":\"strict\",\"colorway\":[\"#636efa\",\"#EF553B\",\"#00cc96\",\"#ab63fa\",\"#FFA15A\",\"#19d3f3\",\"#FF6692\",\"#B6E880\",\"#FF97FF\",\"#FECB52\"],\"font\":{\"color\":\"#2a3f5f\"},\"hovermode\":\"closest\",\"hoverlabel\":{\"align\":\"left\"},\"paper_bgcolor\":\"white\",\"plot_bgcolor\":\"#E5ECF6\",\"polar\":{\"bgcolor\":\"#E5ECF6\",\"angularaxis\":{\"gridcolor\":\"white\",\"linecolor\":\"white\",\"ticks\":\"\"},\"radialaxis\":{\"gridcolor\":\"white\",\"linecolor\":\"white\",\"ticks\":\"\"}},\"ternary\":{\"bgcolor\":\"#E5ECF6\",\"aaxis\":{\"gridcolor\":\"white\",\"linecolor\":\"white\",\"ticks\":\"\"},\"baxis\":{\"gridcolor\":\"white\",\"linecolor\":\"white\",\"ticks\":\"\"},\"caxis\":{\"gridcolor\":\"white\",\"linecolor\":\"white\",\"ticks\":\"\"}},\"coloraxis\":{\"colorbar\":{\"outlinewidth\":0,\"ticks\":\"\"}},\"colorscale\":{\"sequential\":[[0.0,\"#0d0887\"],[0.1111111111111111,\"#46039f\"],[0.2222222222222222,\"#7201a8\"],[0.3333333333333333,\"#9c179e\"],[0.4444444444444444,\"#bd3786\"],[0.5555555555555556,\"#d8576b\"],[0.6666666666666666,\"#ed7953\"],[0.7777777777777778,\"#fb9f3a\"],[0.8888888888888888,\"#fdca26\"],[1.0,\"#f0f921\"]],\"sequentialminus\":[[0.0,\"#0d0887\"],[0.1111111111111111,\"#46039f\"],[0.2222222222222222,\"#7201a8\"],[0.3333333333333333,\"#9c179e\"],[0.4444444444444444,\"#bd3786\"],[0.5555555555555556,\"#d8576b\"],[0.6666666666666666,\"#ed7953\"],[0.7777777777777778,\"#fb9f3a\"],[0.8888888888888888,\"#fdca26\"],[1.0,\"#f0f921\"]],\"diverging\":[[0,\"#8e0152\"],[0.1,\"#c51b7d\"],[0.2,\"#de77ae\"],[0.3,\"#f1b6da\"],[0.4,\"#fde0ef\"],[0.5,\"#f7f7f7\"],[0.6,\"#e6f5d0\"],[0.7,\"#b8e186\"],[0.8,\"#7fbc41\"],[0.9,\"#4d9221\"],[1,\"#276419\"]]},\"xaxis\":{\"gridcolor\":\"white\",\"linecolor\":\"white\",\"ticks\":\"\",\"title\":{\"standoff\":15},\"zerolinecolor\":\"white\",\"automargin\":true,\"zerolinewidth\":2},\"yaxis\":{\"gridcolor\":\"white\",\"linecolor\":\"white\",\"ticks\":\"\",\"title\":{\"standoff\":15},\"zerolinecolor\":\"white\",\"automargin\":true,\"zerolinewidth\":2},\"scene\":{\"xaxis\":{\"backgroundcolor\":\"#E5ECF6\",\"gridcolor\":\"white\",\"linecolor\":\"white\",\"showbackground\":true,\"ticks\":\"\",\"zerolinecolor\":\"white\",\"gridwidth\":2},\"yaxis\":{\"backgroundcolor\":\"#E5ECF6\",\"gridcolor\":\"white\",\"linecolor\":\"white\",\"showbackground\":true,\"ticks\":\"\",\"zerolinecolor\":\"white\",\"gridwidth\":2},\"zaxis\":{\"backgroundcolor\":\"#E5ECF6\",\"gridcolor\":\"white\",\"linecolor\":\"white\",\"showbackground\":true,\"ticks\":\"\",\"zerolinecolor\":\"white\",\"gridwidth\":2}},\"shapedefaults\":{\"line\":{\"color\":\"#2a3f5f\"}},\"annotationdefaults\":{\"arrowcolor\":\"#2a3f5f\",\"arrowhead\":0,\"arrowwidth\":1},\"geo\":{\"bgcolor\":\"white\",\"landcolor\":\"#E5ECF6\",\"subunitcolor\":\"white\",\"showland\":true,\"showlakes\":true,\"lakecolor\":\"white\"},\"title\":{\"x\":0.05},\"mapbox\":{\"style\":\"light\"}}},\"xaxis\":{\"title\":{\"text\":\"l2_leaf_reg\"}},\"yaxis\":{\"title\":{\"text\":\"Objective Value\"}}},                        {\"responsive\": true}                    ).then(function(){\n",
       "                            \n",
       "var gd = document.getElementById('0dad30bd-7b06-4baa-a09a-841a47a5564e');\n",
       "var x = new MutationObserver(function (mutations, observer) {{\n",
       "        var display = window.getComputedStyle(gd).display;\n",
       "        if (!display || display === 'none') {{\n",
       "            console.log([gd, 'removed!']);\n",
       "            Plotly.purge(gd);\n",
       "            observer.disconnect();\n",
       "        }}\n",
       "}});\n",
       "\n",
       "// Listen for the removal of the full notebook cells\n",
       "var notebookContainer = gd.closest('#notebook-container');\n",
       "if (notebookContainer) {{\n",
       "    x.observe(notebookContainer, {childList: true});\n",
       "}}\n",
       "\n",
       "// Listen for the clearing of the current output cell\n",
       "var outputEl = gd.closest('.output');\n",
       "if (outputEl) {{\n",
       "    x.observe(outputEl, {childList: true});\n",
       "}}\n",
       "\n",
       "                        })                };                });            </script>        </div>"
      ]
     },
     "metadata": {},
     "output_type": "display_data"
    },
    {
     "data": {
      "application/vnd.plotly.v1+json": {
       "config": {
        "plotlyServerURL": "https://plot.ly"
       },
       "data": [
        {
         "marker": {
          "color": [
           0,
           1,
           2,
           3,
           4,
           5,
           6,
           7,
           8,
           9,
           10,
           11,
           12,
           13,
           14,
           15,
           16,
           17,
           18,
           19,
           20,
           21,
           22,
           23,
           24,
           25,
           26,
           27,
           28,
           29,
           30,
           31,
           32,
           33,
           34,
           35,
           36,
           37,
           38,
           39,
           40,
           41,
           42,
           43,
           44,
           45,
           46,
           47,
           48,
           49,
           50,
           51,
           52,
           53,
           54,
           55,
           56,
           57,
           58,
           59,
           60,
           61,
           62,
           63,
           64,
           65,
           66,
           67,
           68,
           69,
           70,
           71,
           72,
           73,
           74,
           75,
           76,
           77,
           78,
           79,
           80,
           81,
           82,
           83,
           84,
           85,
           86,
           87,
           88,
           89,
           90,
           91,
           92,
           93,
           94,
           95,
           96,
           97,
           98,
           99,
           100,
           101,
           102,
           103,
           104,
           105,
           106,
           107,
           108,
           109,
           110,
           111,
           112,
           113,
           114,
           115,
           116,
           117,
           118,
           119,
           120,
           121,
           122,
           123,
           124,
           125,
           126,
           127,
           128,
           129,
           130,
           131,
           132,
           133,
           134,
           135,
           136,
           137,
           138,
           139,
           140,
           141,
           142,
           143,
           144,
           145,
           146,
           147,
           148,
           149,
           150,
           151,
           152,
           153,
           154,
           155,
           156,
           157,
           158,
           159,
           160,
           161,
           162,
           163,
           164,
           165,
           166,
           167,
           168,
           169,
           170,
           171,
           172,
           173,
           174,
           175,
           176,
           177,
           178,
           179,
           180,
           181,
           182,
           183,
           184,
           185,
           186,
           187,
           188,
           189,
           190,
           191,
           192,
           193,
           194,
           195,
           196,
           197,
           198,
           199,
           200,
           201,
           202,
           203,
           204,
           205,
           206,
           207,
           208,
           209,
           210,
           211,
           212,
           213,
           214,
           215,
           216,
           217,
           218,
           219,
           220,
           221,
           222,
           223,
           224,
           225,
           226,
           227,
           228,
           229,
           230,
           231,
           232,
           233,
           234,
           235,
           236,
           237,
           238,
           239,
           240,
           241,
           242,
           243,
           244,
           245,
           246,
           247,
           248,
           249,
           250,
           251,
           252,
           253,
           254,
           255,
           256,
           257,
           258,
           259,
           260,
           261,
           262,
           263,
           264,
           265,
           266,
           267,
           268,
           269,
           270,
           271,
           272,
           273,
           274,
           275,
           276,
           277,
           278,
           279,
           280,
           281,
           282,
           283,
           284,
           285,
           286,
           287,
           288,
           289,
           290,
           291,
           292,
           293,
           294,
           295,
           296,
           297,
           298,
           299
          ],
          "colorbar": {
           "title": {
            "text": "Trial"
           },
           "x": 1,
           "xpad": 40,
           "y": 0.5
          },
          "colorscale": [
           [
            0,
            "rgb(247,251,255)"
           ],
           [
            0.125,
            "rgb(222,235,247)"
           ],
           [
            0.25,
            "rgb(198,219,239)"
           ],
           [
            0.375,
            "rgb(158,202,225)"
           ],
           [
            0.5,
            "rgb(107,174,214)"
           ],
           [
            0.625,
            "rgb(66,146,198)"
           ],
           [
            0.75,
            "rgb(33,113,181)"
           ],
           [
            0.875,
            "rgb(8,81,156)"
           ],
           [
            1,
            "rgb(8,48,107)"
           ]
          ],
          "line": {
           "color": "Grey",
           "width": 0.5
          }
         },
         "mode": "markers",
         "name": "Feasible Trial",
         "showlegend": false,
         "type": "scatter",
         "x": [
          29,
          10,
          17,
          13,
          10,
          17,
          12,
          17,
          16,
          26,
          23,
          14,
          21,
          14,
          15,
          20,
          19,
          15,
          22,
          25,
          12,
          15,
          18,
          15,
          16,
          12,
          19,
          19,
          24,
          27,
          24,
          29,
          30,
          28,
          28,
          28,
          30,
          28,
          29,
          26,
          28,
          28,
          29,
          27,
          26,
          29,
          27,
          22,
          30,
          25,
          28,
          29,
          30,
          29,
          27,
          21,
          26,
          25,
          25,
          23,
          18,
          28,
          27,
          27,
          29,
          24,
          24,
          26,
          25,
          23,
          27,
          27,
          27,
          30,
          30,
          29,
          29,
          30,
          28,
          27,
          26,
          28,
          29,
          28,
          30,
          30,
          10,
          29,
          30,
          29,
          27,
          29,
          30,
          28,
          29,
          30,
          26,
          28,
          27,
          27,
          26,
          26,
          27,
          25,
          25,
          24,
          27,
          27,
          22,
          26,
          24,
          25,
          26,
          27,
          28,
          26,
          25,
          27,
          28,
          28,
          28,
          27,
          26,
          28,
          27,
          29,
          29,
          26,
          30,
          25,
          23,
          25,
          25,
          24,
          27,
          28,
          26,
          29,
          27,
          25,
          30,
          26,
          26,
          24,
          27,
          28,
          28,
          29,
          29,
          28,
          30,
          28,
          20,
          29,
          27,
          29,
          28,
          30,
          27,
          28,
          26,
          26,
          27,
          25,
          26,
          29,
          27,
          26,
          28,
          30,
          27,
          26,
          25,
          26,
          26,
          25,
          24,
          25,
          25,
          11,
          25,
          26,
          25,
          26,
          24,
          26,
          26,
          25,
          26,
          25,
          25,
          25,
          24,
          25,
          25,
          24,
          23,
          24,
          23,
          23,
          24,
          24,
          24,
          24,
          26,
          23,
          25,
          26,
          24,
          22,
          26,
          24,
          23,
          25,
          24,
          25,
          24,
          26,
          23,
          25,
          26,
          26,
          26,
          25,
          25,
          26,
          25,
          25,
          26,
          26,
          26,
          26,
          25,
          25,
          25,
          26,
          25,
          25,
          24,
          25,
          25,
          26,
          14,
          25,
          24,
          21,
          26,
          19,
          18,
          20,
          19,
          25,
          19,
          27,
          25,
          18,
          24,
          24,
          24,
          24,
          23,
          27,
          26,
          26,
          24,
          17,
          20,
          25,
          27,
          27,
          27,
          27,
          27,
          27,
          27,
          27,
          19,
          27,
          27,
          27,
          22,
          26,
          28,
          26,
          26,
          27,
          26,
          26,
          27,
          26,
          26,
          27,
          26,
          28,
          16,
          28,
          27,
          26,
          26,
          26
         ],
         "y": [
          0.5105520384385376,
          0.5117557283045034,
          0.5111011715378173,
          0.5118251280472446,
          0.508688780799259,
          0.502422904200309,
          0.5077450702120048,
          0.5068761017811202,
          0.5179582842847459,
          0.5041228822467456,
          0.5065805115929254,
          0.5176581525972694,
          0.5151565334557799,
          0.5129692082172743,
          0.5164989676666533,
          0.5115633400743305,
          0.5103259450785704,
          0.5143034486183181,
          0.5101669518821805,
          0.5088250492990645,
          0.5108948679683327,
          0.5116036064725434,
          0.5155016479535784,
          0.510535702490257,
          0.5176288711755088,
          0.5099963209272349,
          0.5209281164695178,
          0.5119003000826531,
          0.5194116618109963,
          0.5154183986030842,
          0.5192545221998903,
          0.5216443392582002,
          0.5175565393363311,
          0.5221885753613213,
          0.5214192472508321,
          0.520258663571547,
          0.507934546219216,
          0.5144321084834816,
          0.512550107924761,
          0.5126574462830329,
          0.5098320886491863,
          0.516208039187437,
          0.5072605259054944,
          0.5060582937500164,
          0.5114366975969721,
          0.5199951608703771,
          0.5047752032363579,
          0.511851921089927,
          0.5147729122231757,
          0.5176114973106606,
          0.518453389547838,
          0.5217101359476163,
          0.5123151903999825,
          0.5119921010454067,
          0.515251271509416,
          0.5183016653341725,
          0.509261235466214,
          0.5213435969209237,
          0.5171737688956782,
          0.5050027300511264,
          0.507280772968143,
          0.5099694443005853,
          0.5240374780797992,
          0.511590259584645,
          0.5087932800047491,
          0.5230586545896388,
          0.5132513891227479,
          0.5098103453359499,
          0.5157279215753718,
          0.5152726176474335,
          0.5225464601674759,
          0.5220841141027321,
          0.5091231410192523,
          0.5215321924854998,
          0.5212797769915154,
          0.5143363715819702,
          0.5164757006184351,
          0.5093911015325832,
          0.5067424105619299,
          0.516765408587688,
          0.5111266759045212,
          0.5150135753000192,
          0.5201262570677527,
          0.5106156117748067,
          0.5224459235948542,
          0.5236512177349909,
          0.5121052316174268,
          0.5242701123559599,
          0.5120137655914996,
          0.5084158391936504,
          0.5189906519867217,
          0.5080132892873349,
          0.5131127323272895,
          0.5152081884060504,
          0.5172362340305938,
          0.5180434369228605,
          0.508333394491373,
          0.5117905247464768,
          0.5258155547240804,
          0.5165582208410217,
          0.5219119530327474,
          0.5135416728734973,
          0.5223757315068067,
          0.5229275046148683,
          0.5161874711262271,
          0.5103741407716541,
          0.5097420776720515,
          0.5123884829898353,
          0.5102043845090245,
          0.517798235827628,
          0.5098875786883744,
          0.5164440034326456,
          0.5086955761365709,
          0.5201959162903123,
          0.5135490878543777,
          0.5200518162681492,
          0.5193742430872418,
          0.5040191914871861,
          0.5243879932034385,
          0.5177610027061672,
          0.5100611495045697,
          0.5142877513540358,
          0.5180457437454238,
          0.5207735526030238,
          0.5205132949767838,
          0.5081068805542177,
          0.5157313710768465,
          0.5149509514241815,
          0.5162873299995328,
          0.5237566087952517,
          0.5093142675321157,
          0.514853631496738,
          0.5213482432174852,
          0.5185606346031333,
          0.519244187335907,
          0.5136123527021536,
          0.525640566238093,
          0.5024431245909005,
          0.5073738631222062,
          0.5199327054709793,
          0.5201118380119076,
          0.5110277614617761,
          0.517156421719933,
          0.5186610436218262,
          0.5133938983050848,
          0.5221408567789763,
          0.5167605774911128,
          0.5221386115830129,
          0.5124721808844308,
          0.5165720421517848,
          0.52099212190779,
          0.5112984228761679,
          0.5154339440299425,
          0.5125469943684621,
          0.5143488945909076,
          0.5121362800823374,
          0.515322990844354,
          0.5179339296857333,
          0.5194087831357227,
          0.5156250280122842,
          0.5225590248178609,
          0.5050398419941429,
          0.509339953785729,
          0.5156587221489015,
          0.5061620241253206,
          0.5185193764332539,
          0.5178886562971992,
          0.5129917969792106,
          0.5147348741896289,
          0.51083839966018,
          0.5204726461198668,
          0.5235899703151645,
          0.5193811900649881,
          0.5232329443387898,
          0.5238545776457524,
          0.5227184016112215,
          0.5220015207479076,
          0.5224004529156445,
          0.507820499299539,
          0.5119125085162162,
          0.5155688567052932,
          0.5192405964972049,
          0.5091816249409542,
          0.5165209496507797,
          0.5206506850527195,
          0.5119362500337372,
          0.5225584818391351,
          0.5200305450117553,
          0.5159643476942259,
          0.5259738901209255,
          0.5230142613624658,
          0.5086739209055744,
          0.5148573365644202,
          0.5155699716625282,
          0.5044805484252756,
          0.5225043171547195,
          0.5241080805830496,
          0.5251587844828959,
          0.5134018599940777,
          0.5181680298823264,
          0.51761636017428,
          0.5197929249352891,
          0.5176094902909323,
          0.5268583669279858,
          0.5169192730156766,
          0.50887553768118,
          0.5044892342289424,
          0.5180498460106935,
          0.5092413484472362,
          0.517283911371078,
          0.5168148841370849,
          0.5200631902956209,
          0.5161146193256285,
          0.5152234287510182,
          0.5097143174248966,
          0.5097652750403154,
          0.5136454471953993,
          0.5149050103885058,
          0.5142289276357395,
          0.5003055308297447,
          0.517644283427416,
          0.523721604495719,
          0.5191429763340554,
          0.514672328637602,
          0.5230284309620132,
          0.5129366389951872,
          0.5200820559932977,
          0.5123067806264059,
          0.5234625817357462,
          0.5135782927078938,
          0.5160065295373328,
          0.5190349190820366,
          0.5261956799260188,
          0.5184555413670273,
          0.5145625996299257,
          0.5246381299406898,
          0.5228726309241455,
          0.5202885794307965,
          0.5165303058418664,
          0.5138974800993763,
          0.5086814640040338,
          0.5214935570061218,
          0.5108196501911317,
          0.5163938129734778,
          0.511049408831927,
          0.5144769896037754,
          0.5140703098558388,
          0.5236734649979744,
          0.5134968579513262,
          0.5195266064234975,
          0.5092153252512164,
          0.5135102703054051,
          0.5158183502042601,
          0.5199723884031293,
          0.5107865074391033,
          0.5172018683028325,
          0.5231946407665196,
          0.5059651078900768,
          0.5141686155792288,
          0.505457912319492,
          0.5137306523814298,
          0.5040617212687775,
          0.5088158723652951,
          0.522051946947798,
          0.5213273362231795,
          0.5134606455182225,
          0.5145954962468724,
          0.5263229342918161,
          0.5253237462981792,
          0.5153207374216776,
          0.5194433628468402,
          0.5255218793956485,
          0.5110797511340589,
          0.5092895571405593,
          0.5084761200803158,
          0.5238922066892246,
          0.5162063022351715,
          0.5123736022262364,
          0.5122398910056385,
          0.5067408717698305,
          0.50661721296526,
          0.5044877222692634,
          0.522209329152687,
          0.5233092307412435,
          0.5140282557283112,
          0.5031485195399605,
          0.5061371841155236,
          0.5155211965868709,
          0.520166157126315,
          0.5214932558615077,
          0.5082050659909071,
          0.5044608865228859,
          0.5141337811363,
          0.5157010220238951,
          0.5175957953371367,
          0.5113060453468672,
          0.5029240243589764,
          0.5144404256443241,
          0.5238114456372589,
          0.5178268681528937
         ]
        }
       ],
       "layout": {
        "autosize": true,
        "template": {
         "data": {
          "bar": [
           {
            "error_x": {
             "color": "#2a3f5f"
            },
            "error_y": {
             "color": "#2a3f5f"
            },
            "marker": {
             "line": {
              "color": "#E5ECF6",
              "width": 0.5
             },
             "pattern": {
              "fillmode": "overlay",
              "size": 10,
              "solidity": 0.2
             }
            },
            "type": "bar"
           }
          ],
          "barpolar": [
           {
            "marker": {
             "line": {
              "color": "#E5ECF6",
              "width": 0.5
             },
             "pattern": {
              "fillmode": "overlay",
              "size": 10,
              "solidity": 0.2
             }
            },
            "type": "barpolar"
           }
          ],
          "carpet": [
           {
            "aaxis": {
             "endlinecolor": "#2a3f5f",
             "gridcolor": "white",
             "linecolor": "white",
             "minorgridcolor": "white",
             "startlinecolor": "#2a3f5f"
            },
            "baxis": {
             "endlinecolor": "#2a3f5f",
             "gridcolor": "white",
             "linecolor": "white",
             "minorgridcolor": "white",
             "startlinecolor": "#2a3f5f"
            },
            "type": "carpet"
           }
          ],
          "choropleth": [
           {
            "colorbar": {
             "outlinewidth": 0,
             "ticks": ""
            },
            "type": "choropleth"
           }
          ],
          "contour": [
           {
            "colorbar": {
             "outlinewidth": 0,
             "ticks": ""
            },
            "colorscale": [
             [
              0,
              "#0d0887"
             ],
             [
              0.1111111111111111,
              "#46039f"
             ],
             [
              0.2222222222222222,
              "#7201a8"
             ],
             [
              0.3333333333333333,
              "#9c179e"
             ],
             [
              0.4444444444444444,
              "#bd3786"
             ],
             [
              0.5555555555555556,
              "#d8576b"
             ],
             [
              0.6666666666666666,
              "#ed7953"
             ],
             [
              0.7777777777777778,
              "#fb9f3a"
             ],
             [
              0.8888888888888888,
              "#fdca26"
             ],
             [
              1,
              "#f0f921"
             ]
            ],
            "type": "contour"
           }
          ],
          "contourcarpet": [
           {
            "colorbar": {
             "outlinewidth": 0,
             "ticks": ""
            },
            "type": "contourcarpet"
           }
          ],
          "heatmap": [
           {
            "colorbar": {
             "outlinewidth": 0,
             "ticks": ""
            },
            "colorscale": [
             [
              0,
              "#0d0887"
             ],
             [
              0.1111111111111111,
              "#46039f"
             ],
             [
              0.2222222222222222,
              "#7201a8"
             ],
             [
              0.3333333333333333,
              "#9c179e"
             ],
             [
              0.4444444444444444,
              "#bd3786"
             ],
             [
              0.5555555555555556,
              "#d8576b"
             ],
             [
              0.6666666666666666,
              "#ed7953"
             ],
             [
              0.7777777777777778,
              "#fb9f3a"
             ],
             [
              0.8888888888888888,
              "#fdca26"
             ],
             [
              1,
              "#f0f921"
             ]
            ],
            "type": "heatmap"
           }
          ],
          "heatmapgl": [
           {
            "colorbar": {
             "outlinewidth": 0,
             "ticks": ""
            },
            "colorscale": [
             [
              0,
              "#0d0887"
             ],
             [
              0.1111111111111111,
              "#46039f"
             ],
             [
              0.2222222222222222,
              "#7201a8"
             ],
             [
              0.3333333333333333,
              "#9c179e"
             ],
             [
              0.4444444444444444,
              "#bd3786"
             ],
             [
              0.5555555555555556,
              "#d8576b"
             ],
             [
              0.6666666666666666,
              "#ed7953"
             ],
             [
              0.7777777777777778,
              "#fb9f3a"
             ],
             [
              0.8888888888888888,
              "#fdca26"
             ],
             [
              1,
              "#f0f921"
             ]
            ],
            "type": "heatmapgl"
           }
          ],
          "histogram": [
           {
            "marker": {
             "pattern": {
              "fillmode": "overlay",
              "size": 10,
              "solidity": 0.2
             }
            },
            "type": "histogram"
           }
          ],
          "histogram2d": [
           {
            "colorbar": {
             "outlinewidth": 0,
             "ticks": ""
            },
            "colorscale": [
             [
              0,
              "#0d0887"
             ],
             [
              0.1111111111111111,
              "#46039f"
             ],
             [
              0.2222222222222222,
              "#7201a8"
             ],
             [
              0.3333333333333333,
              "#9c179e"
             ],
             [
              0.4444444444444444,
              "#bd3786"
             ],
             [
              0.5555555555555556,
              "#d8576b"
             ],
             [
              0.6666666666666666,
              "#ed7953"
             ],
             [
              0.7777777777777778,
              "#fb9f3a"
             ],
             [
              0.8888888888888888,
              "#fdca26"
             ],
             [
              1,
              "#f0f921"
             ]
            ],
            "type": "histogram2d"
           }
          ],
          "histogram2dcontour": [
           {
            "colorbar": {
             "outlinewidth": 0,
             "ticks": ""
            },
            "colorscale": [
             [
              0,
              "#0d0887"
             ],
             [
              0.1111111111111111,
              "#46039f"
             ],
             [
              0.2222222222222222,
              "#7201a8"
             ],
             [
              0.3333333333333333,
              "#9c179e"
             ],
             [
              0.4444444444444444,
              "#bd3786"
             ],
             [
              0.5555555555555556,
              "#d8576b"
             ],
             [
              0.6666666666666666,
              "#ed7953"
             ],
             [
              0.7777777777777778,
              "#fb9f3a"
             ],
             [
              0.8888888888888888,
              "#fdca26"
             ],
             [
              1,
              "#f0f921"
             ]
            ],
            "type": "histogram2dcontour"
           }
          ],
          "mesh3d": [
           {
            "colorbar": {
             "outlinewidth": 0,
             "ticks": ""
            },
            "type": "mesh3d"
           }
          ],
          "parcoords": [
           {
            "line": {
             "colorbar": {
              "outlinewidth": 0,
              "ticks": ""
             }
            },
            "type": "parcoords"
           }
          ],
          "pie": [
           {
            "automargin": true,
            "type": "pie"
           }
          ],
          "scatter": [
           {
            "fillpattern": {
             "fillmode": "overlay",
             "size": 10,
             "solidity": 0.2
            },
            "type": "scatter"
           }
          ],
          "scatter3d": [
           {
            "line": {
             "colorbar": {
              "outlinewidth": 0,
              "ticks": ""
             }
            },
            "marker": {
             "colorbar": {
              "outlinewidth": 0,
              "ticks": ""
             }
            },
            "type": "scatter3d"
           }
          ],
          "scattercarpet": [
           {
            "marker": {
             "colorbar": {
              "outlinewidth": 0,
              "ticks": ""
             }
            },
            "type": "scattercarpet"
           }
          ],
          "scattergeo": [
           {
            "marker": {
             "colorbar": {
              "outlinewidth": 0,
              "ticks": ""
             }
            },
            "type": "scattergeo"
           }
          ],
          "scattergl": [
           {
            "marker": {
             "colorbar": {
              "outlinewidth": 0,
              "ticks": ""
             }
            },
            "type": "scattergl"
           }
          ],
          "scattermapbox": [
           {
            "marker": {
             "colorbar": {
              "outlinewidth": 0,
              "ticks": ""
             }
            },
            "type": "scattermapbox"
           }
          ],
          "scatterpolar": [
           {
            "marker": {
             "colorbar": {
              "outlinewidth": 0,
              "ticks": ""
             }
            },
            "type": "scatterpolar"
           }
          ],
          "scatterpolargl": [
           {
            "marker": {
             "colorbar": {
              "outlinewidth": 0,
              "ticks": ""
             }
            },
            "type": "scatterpolargl"
           }
          ],
          "scatterternary": [
           {
            "marker": {
             "colorbar": {
              "outlinewidth": 0,
              "ticks": ""
             }
            },
            "type": "scatterternary"
           }
          ],
          "surface": [
           {
            "colorbar": {
             "outlinewidth": 0,
             "ticks": ""
            },
            "colorscale": [
             [
              0,
              "#0d0887"
             ],
             [
              0.1111111111111111,
              "#46039f"
             ],
             [
              0.2222222222222222,
              "#7201a8"
             ],
             [
              0.3333333333333333,
              "#9c179e"
             ],
             [
              0.4444444444444444,
              "#bd3786"
             ],
             [
              0.5555555555555556,
              "#d8576b"
             ],
             [
              0.6666666666666666,
              "#ed7953"
             ],
             [
              0.7777777777777778,
              "#fb9f3a"
             ],
             [
              0.8888888888888888,
              "#fdca26"
             ],
             [
              1,
              "#f0f921"
             ]
            ],
            "type": "surface"
           }
          ],
          "table": [
           {
            "cells": {
             "fill": {
              "color": "#EBF0F8"
             },
             "line": {
              "color": "white"
             }
            },
            "header": {
             "fill": {
              "color": "#C8D4E3"
             },
             "line": {
              "color": "white"
             }
            },
            "type": "table"
           }
          ]
         },
         "layout": {
          "annotationdefaults": {
           "arrowcolor": "#2a3f5f",
           "arrowhead": 0,
           "arrowwidth": 1
          },
          "autotypenumbers": "strict",
          "coloraxis": {
           "colorbar": {
            "outlinewidth": 0,
            "ticks": ""
           }
          },
          "colorscale": {
           "diverging": [
            [
             0,
             "#8e0152"
            ],
            [
             0.1,
             "#c51b7d"
            ],
            [
             0.2,
             "#de77ae"
            ],
            [
             0.3,
             "#f1b6da"
            ],
            [
             0.4,
             "#fde0ef"
            ],
            [
             0.5,
             "#f7f7f7"
            ],
            [
             0.6,
             "#e6f5d0"
            ],
            [
             0.7,
             "#b8e186"
            ],
            [
             0.8,
             "#7fbc41"
            ],
            [
             0.9,
             "#4d9221"
            ],
            [
             1,
             "#276419"
            ]
           ],
           "sequential": [
            [
             0,
             "#0d0887"
            ],
            [
             0.1111111111111111,
             "#46039f"
            ],
            [
             0.2222222222222222,
             "#7201a8"
            ],
            [
             0.3333333333333333,
             "#9c179e"
            ],
            [
             0.4444444444444444,
             "#bd3786"
            ],
            [
             0.5555555555555556,
             "#d8576b"
            ],
            [
             0.6666666666666666,
             "#ed7953"
            ],
            [
             0.7777777777777778,
             "#fb9f3a"
            ],
            [
             0.8888888888888888,
             "#fdca26"
            ],
            [
             1,
             "#f0f921"
            ]
           ],
           "sequentialminus": [
            [
             0,
             "#0d0887"
            ],
            [
             0.1111111111111111,
             "#46039f"
            ],
            [
             0.2222222222222222,
             "#7201a8"
            ],
            [
             0.3333333333333333,
             "#9c179e"
            ],
            [
             0.4444444444444444,
             "#bd3786"
            ],
            [
             0.5555555555555556,
             "#d8576b"
            ],
            [
             0.6666666666666666,
             "#ed7953"
            ],
            [
             0.7777777777777778,
             "#fb9f3a"
            ],
            [
             0.8888888888888888,
             "#fdca26"
            ],
            [
             1,
             "#f0f921"
            ]
           ]
          },
          "colorway": [
           "#636efa",
           "#EF553B",
           "#00cc96",
           "#ab63fa",
           "#FFA15A",
           "#19d3f3",
           "#FF6692",
           "#B6E880",
           "#FF97FF",
           "#FECB52"
          ],
          "font": {
           "color": "#2a3f5f"
          },
          "geo": {
           "bgcolor": "white",
           "lakecolor": "white",
           "landcolor": "#E5ECF6",
           "showlakes": true,
           "showland": true,
           "subunitcolor": "white"
          },
          "hoverlabel": {
           "align": "left"
          },
          "hovermode": "closest",
          "mapbox": {
           "style": "light"
          },
          "paper_bgcolor": "white",
          "plot_bgcolor": "#E5ECF6",
          "polar": {
           "angularaxis": {
            "gridcolor": "white",
            "linecolor": "white",
            "ticks": ""
           },
           "bgcolor": "#E5ECF6",
           "radialaxis": {
            "gridcolor": "white",
            "linecolor": "white",
            "ticks": ""
           }
          },
          "scene": {
           "xaxis": {
            "backgroundcolor": "#E5ECF6",
            "gridcolor": "white",
            "gridwidth": 2,
            "linecolor": "white",
            "showbackground": true,
            "ticks": "",
            "zerolinecolor": "white"
           },
           "yaxis": {
            "backgroundcolor": "#E5ECF6",
            "gridcolor": "white",
            "gridwidth": 2,
            "linecolor": "white",
            "showbackground": true,
            "ticks": "",
            "zerolinecolor": "white"
           },
           "zaxis": {
            "backgroundcolor": "#E5ECF6",
            "gridcolor": "white",
            "gridwidth": 2,
            "linecolor": "white",
            "showbackground": true,
            "ticks": "",
            "zerolinecolor": "white"
           }
          },
          "shapedefaults": {
           "line": {
            "color": "#2a3f5f"
           }
          },
          "ternary": {
           "aaxis": {
            "gridcolor": "white",
            "linecolor": "white",
            "ticks": ""
           },
           "baxis": {
            "gridcolor": "white",
            "linecolor": "white",
            "ticks": ""
           },
           "bgcolor": "#E5ECF6",
           "caxis": {
            "gridcolor": "white",
            "linecolor": "white",
            "ticks": ""
           }
          },
          "title": {
           "x": 0.05
          },
          "xaxis": {
           "automargin": true,
           "gridcolor": "white",
           "linecolor": "white",
           "ticks": "",
           "title": {
            "standoff": 15
           },
           "zerolinecolor": "white",
           "zerolinewidth": 2
          },
          "yaxis": {
           "automargin": true,
           "gridcolor": "white",
           "linecolor": "white",
           "ticks": "",
           "title": {
            "standoff": 15
           },
           "zerolinecolor": "white",
           "zerolinewidth": 2
          }
         }
        },
        "title": {
         "text": "Slice Plot"
        },
        "xaxis": {
         "autorange": true,
         "range": [
          8.782051282051283,
          31.21794871794872
         ],
         "title": {
          "text": "early_stopping_rounds"
         },
         "type": "linear"
        },
        "yaxis": {
         "autorange": true,
         "range": [
          0.49811427736532676,
          0.5290496203924038
         ],
         "title": {
          "text": "Objective Value"
         },
         "type": "linear"
        }
       }
      },
      "image/png": "[encoded data removed]",
      "text/html": [
       "<div>                            <div id=\"53fa6071-bf8d-45b6-a97d-38ed733e990e\" class=\"plotly-graph-div\" style=\"height:525px; width:100%;\"></div>            <script type=\"text/javascript\">                require([\"plotly\"], function(Plotly) {                    window.PLOTLYENV=window.PLOTLYENV || {};                                    if (document.getElementById(\"53fa6071-bf8d-45b6-a97d-38ed733e990e\")) {                    Plotly.newPlot(                        \"53fa6071-bf8d-45b6-a97d-38ed733e990e\",                        [{\"marker\":{\"color\":[0,1,2,3,4,5,6,7,8,9,10,11,12,13,14,15,16,17,18,19,20,21,22,23,24,25,26,27,28,29,30,31,32,33,34,35,36,37,38,39,40,41,42,43,44,45,46,47,48,49,50,51,52,53,54,55,56,57,58,59,60,61,62,63,64,65,66,67,68,69,70,71,72,73,74,75,76,77,78,79,80,81,82,83,84,85,86,87,88,89,90,91,92,93,94,95,96,97,98,99,100,101,102,103,104,105,106,107,108,109,110,111,112,113,114,115,116,117,118,119,120,121,122,123,124,125,126,127,128,129,130,131,132,133,134,135,136,137,138,139,140,141,142,143,144,145,146,147,148,149,150,151,152,153,154,155,156,157,158,159,160,161,162,163,164,165,166,167,168,169,170,171,172,173,174,175,176,177,178,179,180,181,182,183,184,185,186,187,188,189,190,191,192,193,194,195,196,197,198,199,200,201,202,203,204,205,206,207,208,209,210,211,212,213,214,215,216,217,218,219,220,221,222,223,224,225,226,227,228,229,230,231,232,233,234,235,236,237,238,239,240,241,242,243,244,245,246,247,248,249,250,251,252,253,254,255,256,257,258,259,260,261,262,263,264,265,266,267,268,269,270,271,272,273,274,275,276,277,278,279,280,281,282,283,284,285,286,287,288,289,290,291,292,293,294,295,296,297,298,299],\"colorbar\":{\"title\":{\"text\":\"Trial\"},\"x\":1.0,\"xpad\":40},\"colorscale\":[[0.0,\"rgb(247,251,255)\"],[0.125,\"rgb(222,235,247)\"],[0.25,\"rgb(198,219,239)\"],[0.375,\"rgb(158,202,225)\"],[0.5,\"rgb(107,174,214)\"],[0.625,\"rgb(66,146,198)\"],[0.75,\"rgb(33,113,181)\"],[0.875,\"rgb(8,81,156)\"],[1.0,\"rgb(8,48,107)\"]],\"line\":{\"color\":\"Grey\",\"width\":0.5}},\"mode\":\"markers\",\"name\":\"Feasible Trial\",\"showlegend\":false,\"x\":[29,10,17,13,10,17,12,17,16,26,23,14,21,14,15,20,19,15,22,25,12,15,18,15,16,12,19,19,24,27,24,29,30,28,28,28,30,28,29,26,28,28,29,27,26,29,27,22,30,25,28,29,30,29,27,21,26,25,25,23,18,28,27,27,29,24,24,26,25,23,27,27,27,30,30,29,29,30,28,27,26,28,29,28,30,30,10,29,30,29,27,29,30,28,29,30,26,28,27,27,26,26,27,25,25,24,27,27,22,26,24,25,26,27,28,26,25,27,28,28,28,27,26,28,27,29,29,26,30,25,23,25,25,24,27,28,26,29,27,25,30,26,26,24,27,28,28,29,29,28,30,28,20,29,27,29,28,30,27,28,26,26,27,25,26,29,27,26,28,30,27,26,25,26,26,25,24,25,25,11,25,26,25,26,24,26,26,25,26,25,25,25,24,25,25,24,23,24,23,23,24,24,24,24,26,23,25,26,24,22,26,24,23,25,24,25,24,26,23,25,26,26,26,25,25,26,25,25,26,26,26,26,25,25,25,26,25,25,24,25,25,26,14,25,24,21,26,19,18,20,19,25,19,27,25,18,24,24,24,24,23,27,26,26,24,17,20,25,27,27,27,27,27,27,27,27,19,27,27,27,22,26,28,26,26,27,26,26,27,26,26,27,26,28,16,28,27,26,26,26],\"y\":[0.5105520384385376,0.5117557283045034,0.5111011715378173,0.5118251280472446,0.508688780799259,0.502422904200309,0.5077450702120048,0.5068761017811202,0.5179582842847459,0.5041228822467456,0.5065805115929254,0.5176581525972694,0.5151565334557799,0.5129692082172743,0.5164989676666533,0.5115633400743305,0.5103259450785704,0.5143034486183181,0.5101669518821805,0.5088250492990645,0.5108948679683327,0.5116036064725434,0.5155016479535784,0.510535702490257,0.5176288711755088,0.5099963209272349,0.5209281164695178,0.5119003000826531,0.5194116618109963,0.5154183986030842,0.5192545221998903,0.5216443392582002,0.5175565393363311,0.5221885753613213,0.5214192472508321,0.520258663571547,0.507934546219216,0.5144321084834816,0.512550107924761,0.5126574462830329,0.5098320886491863,0.516208039187437,0.5072605259054944,0.5060582937500164,0.5114366975969721,0.5199951608703771,0.5047752032363579,0.511851921089927,0.5147729122231757,0.5176114973106606,0.518453389547838,0.5217101359476163,0.5123151903999825,0.5119921010454067,0.515251271509416,0.5183016653341725,0.509261235466214,0.5213435969209237,0.5171737688956782,0.5050027300511264,0.507280772968143,0.5099694443005853,0.5240374780797992,0.511590259584645,0.5087932800047491,0.5230586545896388,0.5132513891227479,0.5098103453359499,0.5157279215753718,0.5152726176474335,0.5225464601674759,0.5220841141027321,0.5091231410192523,0.5215321924854998,0.5212797769915154,0.5143363715819702,0.5164757006184351,0.5093911015325832,0.5067424105619299,0.516765408587688,0.5111266759045212,0.5150135753000192,0.5201262570677527,0.5106156117748067,0.5224459235948542,0.5236512177349909,0.5121052316174268,0.5242701123559599,0.5120137655914996,0.5084158391936504,0.5189906519867217,0.5080132892873349,0.5131127323272895,0.5152081884060504,0.5172362340305938,0.5180434369228605,0.508333394491373,0.5117905247464768,0.5258155547240804,0.5165582208410217,0.5219119530327474,0.5135416728734973,0.5223757315068067,0.5229275046148683,0.5161874711262271,0.5103741407716541,0.5097420776720515,0.5123884829898353,0.5102043845090245,0.517798235827628,0.5098875786883744,0.5164440034326456,0.5086955761365709,0.5201959162903123,0.5135490878543777,0.5200518162681492,0.5193742430872418,0.5040191914871861,0.5243879932034385,0.5177610027061672,0.5100611495045697,0.5142877513540358,0.5180457437454238,0.5207735526030238,0.5205132949767838,0.5081068805542177,0.5157313710768465,0.5149509514241815,0.5162873299995328,0.5237566087952517,0.5093142675321157,0.514853631496738,0.5213482432174852,0.5185606346031333,0.519244187335907,0.5136123527021536,0.525640566238093,0.5024431245909005,0.5073738631222062,0.5199327054709793,0.5201118380119076,0.5110277614617761,0.517156421719933,0.5186610436218262,0.5133938983050848,0.5221408567789763,0.5167605774911128,0.5221386115830129,0.5124721808844308,0.5165720421517848,0.52099212190779,0.5112984228761679,0.5154339440299425,0.5125469943684621,0.5143488945909076,0.5121362800823374,0.515322990844354,0.5179339296857333,0.5194087831357227,0.5156250280122842,0.5225590248178609,0.5050398419941429,0.509339953785729,0.5156587221489015,0.5061620241253206,0.5185193764332539,0.5178886562971992,0.5129917969792106,0.5147348741896289,0.51083839966018,0.5204726461198668,0.5235899703151645,0.5193811900649881,0.5232329443387898,0.5238545776457524,0.5227184016112215,0.5220015207479076,0.5224004529156445,0.507820499299539,0.5119125085162162,0.5155688567052932,0.5192405964972049,0.5091816249409542,0.5165209496507797,0.5206506850527195,0.5119362500337372,0.5225584818391351,0.5200305450117553,0.5159643476942259,0.5259738901209255,0.5230142613624658,0.5086739209055744,0.5148573365644202,0.5155699716625282,0.5044805484252756,0.5225043171547195,0.5241080805830496,0.5251587844828959,0.5134018599940777,0.5181680298823264,0.51761636017428,0.5197929249352891,0.5176094902909323,0.5268583669279858,0.5169192730156766,0.50887553768118,0.5044892342289424,0.5180498460106935,0.5092413484472362,0.517283911371078,0.5168148841370849,0.5200631902956209,0.5161146193256285,0.5152234287510182,0.5097143174248966,0.5097652750403154,0.5136454471953993,0.5149050103885058,0.5142289276357395,0.5003055308297447,0.517644283427416,0.523721604495719,0.5191429763340554,0.514672328637602,0.5230284309620132,0.5129366389951872,0.5200820559932977,0.5123067806264059,0.5234625817357462,0.5135782927078938,0.5160065295373328,0.5190349190820366,0.5261956799260188,0.5184555413670273,0.5145625996299257,0.5246381299406898,0.5228726309241455,0.5202885794307965,0.5165303058418664,0.5138974800993763,0.5086814640040338,0.5214935570061218,0.5108196501911317,0.5163938129734778,0.511049408831927,0.5144769896037754,0.5140703098558388,0.5236734649979744,0.5134968579513262,0.5195266064234975,0.5092153252512164,0.5135102703054051,0.5158183502042601,0.5199723884031293,0.5107865074391033,0.5172018683028325,0.5231946407665196,0.5059651078900768,0.5141686155792288,0.505457912319492,0.5137306523814298,0.5040617212687775,0.5088158723652951,0.522051946947798,0.5213273362231795,0.5134606455182225,0.5145954962468724,0.5263229342918161,0.5253237462981792,0.5153207374216776,0.5194433628468402,0.5255218793956485,0.5110797511340589,0.5092895571405593,0.5084761200803158,0.5238922066892246,0.5162063022351715,0.5123736022262364,0.5122398910056385,0.5067408717698305,0.50661721296526,0.5044877222692634,0.522209329152687,0.5233092307412435,0.5140282557283112,0.5031485195399605,0.5061371841155236,0.5155211965868709,0.520166157126315,0.5214932558615077,0.5082050659909071,0.5044608865228859,0.5141337811363,0.5157010220238951,0.5175957953371367,0.5113060453468672,0.5029240243589764,0.5144404256443241,0.5238114456372589,0.5178268681528937],\"type\":\"scatter\"}],                        {\"title\":{\"text\":\"Slice Plot\"},\"template\":{\"data\":{\"histogram2dcontour\":[{\"type\":\"histogram2dcontour\",\"colorbar\":{\"outlinewidth\":0,\"ticks\":\"\"},\"colorscale\":[[0.0,\"#0d0887\"],[0.1111111111111111,\"#46039f\"],[0.2222222222222222,\"#7201a8\"],[0.3333333333333333,\"#9c179e\"],[0.4444444444444444,\"#bd3786\"],[0.5555555555555556,\"#d8576b\"],[0.6666666666666666,\"#ed7953\"],[0.7777777777777778,\"#fb9f3a\"],[0.8888888888888888,\"#fdca26\"],[1.0,\"#f0f921\"]]}],\"choropleth\":[{\"type\":\"choropleth\",\"colorbar\":{\"outlinewidth\":0,\"ticks\":\"\"}}],\"histogram2d\":[{\"type\":\"histogram2d\",\"colorbar\":{\"outlinewidth\":0,\"ticks\":\"\"},\"colorscale\":[[0.0,\"#0d0887\"],[0.1111111111111111,\"#46039f\"],[0.2222222222222222,\"#7201a8\"],[0.3333333333333333,\"#9c179e\"],[0.4444444444444444,\"#bd3786\"],[0.5555555555555556,\"#d8576b\"],[0.6666666666666666,\"#ed7953\"],[0.7777777777777778,\"#fb9f3a\"],[0.8888888888888888,\"#fdca26\"],[1.0,\"#f0f921\"]]}],\"heatmap\":[{\"type\":\"heatmap\",\"colorbar\":{\"outlinewidth\":0,\"ticks\":\"\"},\"colorscale\":[[0.0,\"#0d0887\"],[0.1111111111111111,\"#46039f\"],[0.2222222222222222,\"#7201a8\"],[0.3333333333333333,\"#9c179e\"],[0.4444444444444444,\"#bd3786\"],[0.5555555555555556,\"#d8576b\"],[0.6666666666666666,\"#ed7953\"],[0.7777777777777778,\"#fb9f3a\"],[0.8888888888888888,\"#fdca26\"],[1.0,\"#f0f921\"]]}],\"heatmapgl\":[{\"type\":\"heatmapgl\",\"colorbar\":{\"outlinewidth\":0,\"ticks\":\"\"},\"colorscale\":[[0.0,\"#0d0887\"],[0.1111111111111111,\"#46039f\"],[0.2222222222222222,\"#7201a8\"],[0.3333333333333333,\"#9c179e\"],[0.4444444444444444,\"#bd3786\"],[0.5555555555555556,\"#d8576b\"],[0.6666666666666666,\"#ed7953\"],[0.7777777777777778,\"#fb9f3a\"],[0.8888888888888888,\"#fdca26\"],[1.0,\"#f0f921\"]]}],\"contourcarpet\":[{\"type\":\"contourcarpet\",\"colorbar\":{\"outlinewidth\":0,\"ticks\":\"\"}}],\"contour\":[{\"type\":\"contour\",\"colorbar\":{\"outlinewidth\":0,\"ticks\":\"\"},\"colorscale\":[[0.0,\"#0d0887\"],[0.1111111111111111,\"#46039f\"],[0.2222222222222222,\"#7201a8\"],[0.3333333333333333,\"#9c179e\"],[0.4444444444444444,\"#bd3786\"],[0.5555555555555556,\"#d8576b\"],[0.6666666666666666,\"#ed7953\"],[0.7777777777777778,\"#fb9f3a\"],[0.8888888888888888,\"#fdca26\"],[1.0,\"#f0f921\"]]}],\"surface\":[{\"type\":\"surface\",\"colorbar\":{\"outlinewidth\":0,\"ticks\":\"\"},\"colorscale\":[[0.0,\"#0d0887\"],[0.1111111111111111,\"#46039f\"],[0.2222222222222222,\"#7201a8\"],[0.3333333333333333,\"#9c179e\"],[0.4444444444444444,\"#bd3786\"],[0.5555555555555556,\"#d8576b\"],[0.6666666666666666,\"#ed7953\"],[0.7777777777777778,\"#fb9f3a\"],[0.8888888888888888,\"#fdca26\"],[1.0,\"#f0f921\"]]}],\"mesh3d\":[{\"type\":\"mesh3d\",\"colorbar\":{\"outlinewidth\":0,\"ticks\":\"\"}}],\"scatter\":[{\"fillpattern\":{\"fillmode\":\"overlay\",\"size\":10,\"solidity\":0.2},\"type\":\"scatter\"}],\"parcoords\":[{\"type\":\"parcoords\",\"line\":{\"colorbar\":{\"outlinewidth\":0,\"ticks\":\"\"}}}],\"scatterpolargl\":[{\"type\":\"scatterpolargl\",\"marker\":{\"colorbar\":{\"outlinewidth\":0,\"ticks\":\"\"}}}],\"bar\":[{\"error_x\":{\"color\":\"#2a3f5f\"},\"error_y\":{\"color\":\"#2a3f5f\"},\"marker\":{\"line\":{\"color\":\"#E5ECF6\",\"width\":0.5},\"pattern\":{\"fillmode\":\"overlay\",\"size\":10,\"solidity\":0.2}},\"type\":\"bar\"}],\"scattergeo\":[{\"type\":\"scattergeo\",\"marker\":{\"colorbar\":{\"outlinewidth\":0,\"ticks\":\"\"}}}],\"scatterpolar\":[{\"type\":\"scatterpolar\",\"marker\":{\"colorbar\":{\"outlinewidth\":0,\"ticks\":\"\"}}}],\"histogram\":[{\"marker\":{\"pattern\":{\"fillmode\":\"overlay\",\"size\":10,\"solidity\":0.2}},\"type\":\"histogram\"}],\"scattergl\":[{\"type\":\"scattergl\",\"marker\":{\"colorbar\":{\"outlinewidth\":0,\"ticks\":\"\"}}}],\"scatter3d\":[{\"type\":\"scatter3d\",\"line\":{\"colorbar\":{\"outlinewidth\":0,\"ticks\":\"\"}},\"marker\":{\"colorbar\":{\"outlinewidth\":0,\"ticks\":\"\"}}}],\"scattermapbox\":[{\"type\":\"scattermapbox\",\"marker\":{\"colorbar\":{\"outlinewidth\":0,\"ticks\":\"\"}}}],\"scatterternary\":[{\"type\":\"scatterternary\",\"marker\":{\"colorbar\":{\"outlinewidth\":0,\"ticks\":\"\"}}}],\"scattercarpet\":[{\"type\":\"scattercarpet\",\"marker\":{\"colorbar\":{\"outlinewidth\":0,\"ticks\":\"\"}}}],\"carpet\":[{\"aaxis\":{\"endlinecolor\":\"#2a3f5f\",\"gridcolor\":\"white\",\"linecolor\":\"white\",\"minorgridcolor\":\"white\",\"startlinecolor\":\"#2a3f5f\"},\"baxis\":{\"endlinecolor\":\"#2a3f5f\",\"gridcolor\":\"white\",\"linecolor\":\"white\",\"minorgridcolor\":\"white\",\"startlinecolor\":\"#2a3f5f\"},\"type\":\"carpet\"}],\"table\":[{\"cells\":{\"fill\":{\"color\":\"#EBF0F8\"},\"line\":{\"color\":\"white\"}},\"header\":{\"fill\":{\"color\":\"#C8D4E3\"},\"line\":{\"color\":\"white\"}},\"type\":\"table\"}],\"barpolar\":[{\"marker\":{\"line\":{\"color\":\"#E5ECF6\",\"width\":0.5},\"pattern\":{\"fillmode\":\"overlay\",\"size\":10,\"solidity\":0.2}},\"type\":\"barpolar\"}],\"pie\":[{\"automargin\":true,\"type\":\"pie\"}]},\"layout\":{\"autotypenumbers\":\"strict\",\"colorway\":[\"#636efa\",\"#EF553B\",\"#00cc96\",\"#ab63fa\",\"#FFA15A\",\"#19d3f3\",\"#FF6692\",\"#B6E880\",\"#FF97FF\",\"#FECB52\"],\"font\":{\"color\":\"#2a3f5f\"},\"hovermode\":\"closest\",\"hoverlabel\":{\"align\":\"left\"},\"paper_bgcolor\":\"white\",\"plot_bgcolor\":\"#E5ECF6\",\"polar\":{\"bgcolor\":\"#E5ECF6\",\"angularaxis\":{\"gridcolor\":\"white\",\"linecolor\":\"white\",\"ticks\":\"\"},\"radialaxis\":{\"gridcolor\":\"white\",\"linecolor\":\"white\",\"ticks\":\"\"}},\"ternary\":{\"bgcolor\":\"#E5ECF6\",\"aaxis\":{\"gridcolor\":\"white\",\"linecolor\":\"white\",\"ticks\":\"\"},\"baxis\":{\"gridcolor\":\"white\",\"linecolor\":\"white\",\"ticks\":\"\"},\"caxis\":{\"gridcolor\":\"white\",\"linecolor\":\"white\",\"ticks\":\"\"}},\"coloraxis\":{\"colorbar\":{\"outlinewidth\":0,\"ticks\":\"\"}},\"colorscale\":{\"sequential\":[[0.0,\"#0d0887\"],[0.1111111111111111,\"#46039f\"],[0.2222222222222222,\"#7201a8\"],[0.3333333333333333,\"#9c179e\"],[0.4444444444444444,\"#bd3786\"],[0.5555555555555556,\"#d8576b\"],[0.6666666666666666,\"#ed7953\"],[0.7777777777777778,\"#fb9f3a\"],[0.8888888888888888,\"#fdca26\"],[1.0,\"#f0f921\"]],\"sequentialminus\":[[0.0,\"#0d0887\"],[0.1111111111111111,\"#46039f\"],[0.2222222222222222,\"#7201a8\"],[0.3333333333333333,\"#9c179e\"],[0.4444444444444444,\"#bd3786\"],[0.5555555555555556,\"#d8576b\"],[0.6666666666666666,\"#ed7953\"],[0.7777777777777778,\"#fb9f3a\"],[0.8888888888888888,\"#fdca26\"],[1.0,\"#f0f921\"]],\"diverging\":[[0,\"#8e0152\"],[0.1,\"#c51b7d\"],[0.2,\"#de77ae\"],[0.3,\"#f1b6da\"],[0.4,\"#fde0ef\"],[0.5,\"#f7f7f7\"],[0.6,\"#e6f5d0\"],[0.7,\"#b8e186\"],[0.8,\"#7fbc41\"],[0.9,\"#4d9221\"],[1,\"#276419\"]]},\"xaxis\":{\"gridcolor\":\"white\",\"linecolor\":\"white\",\"ticks\":\"\",\"title\":{\"standoff\":15},\"zerolinecolor\":\"white\",\"automargin\":true,\"zerolinewidth\":2},\"yaxis\":{\"gridcolor\":\"white\",\"linecolor\":\"white\",\"ticks\":\"\",\"title\":{\"standoff\":15},\"zerolinecolor\":\"white\",\"automargin\":true,\"zerolinewidth\":2},\"scene\":{\"xaxis\":{\"backgroundcolor\":\"#E5ECF6\",\"gridcolor\":\"white\",\"linecolor\":\"white\",\"showbackground\":true,\"ticks\":\"\",\"zerolinecolor\":\"white\",\"gridwidth\":2},\"yaxis\":{\"backgroundcolor\":\"#E5ECF6\",\"gridcolor\":\"white\",\"linecolor\":\"white\",\"showbackground\":true,\"ticks\":\"\",\"zerolinecolor\":\"white\",\"gridwidth\":2},\"zaxis\":{\"backgroundcolor\":\"#E5ECF6\",\"gridcolor\":\"white\",\"linecolor\":\"white\",\"showbackground\":true,\"ticks\":\"\",\"zerolinecolor\":\"white\",\"gridwidth\":2}},\"shapedefaults\":{\"line\":{\"color\":\"#2a3f5f\"}},\"annotationdefaults\":{\"arrowcolor\":\"#2a3f5f\",\"arrowhead\":0,\"arrowwidth\":1},\"geo\":{\"bgcolor\":\"white\",\"landcolor\":\"#E5ECF6\",\"subunitcolor\":\"white\",\"showland\":true,\"showlakes\":true,\"lakecolor\":\"white\"},\"title\":{\"x\":0.05},\"mapbox\":{\"style\":\"light\"}}},\"xaxis\":{\"title\":{\"text\":\"early_stopping_rounds\"}},\"yaxis\":{\"title\":{\"text\":\"Objective Value\"}}},                        {\"responsive\": true}                    ).then(function(){\n",
       "                            \n",
       "var gd = document.getElementById('53fa6071-bf8d-45b6-a97d-38ed733e990e');\n",
       "var x = new MutationObserver(function (mutations, observer) {{\n",
       "        var display = window.getComputedStyle(gd).display;\n",
       "        if (!display || display === 'none') {{\n",
       "            console.log([gd, 'removed!']);\n",
       "            Plotly.purge(gd);\n",
       "            observer.disconnect();\n",
       "        }}\n",
       "}});\n",
       "\n",
       "// Listen for the removal of the full notebook cells\n",
       "var notebookContainer = gd.closest('#notebook-container');\n",
       "if (notebookContainer) {{\n",
       "    x.observe(notebookContainer, {childList: true});\n",
       "}}\n",
       "\n",
       "// Listen for the clearing of the current output cell\n",
       "var outputEl = gd.closest('.output');\n",
       "if (outputEl) {{\n",
       "    x.observe(outputEl, {childList: true});\n",
       "}}\n",
       "\n",
       "                        })                };                });            </script>        </div>"
      ]
     },
     "metadata": {},
     "output_type": "display_data"
    },
    {
     "data": {
      "application/vnd.plotly.v1+json": {
       "config": {
        "plotlyServerURL": "https://plot.ly"
       },
       "data": [
        {
         "marker": {
          "color": [
           0,
           1,
           2,
           3,
           4,
           5,
           6,
           7,
           8,
           9,
           10,
           11,
           12,
           13,
           14,
           15,
           16,
           17,
           18,
           19,
           20,
           21,
           22,
           23,
           24,
           25,
           26,
           27,
           28,
           29,
           30,
           31,
           32,
           33,
           34,
           35,
           36,
           37,
           38,
           39,
           40,
           41,
           42,
           43,
           44,
           45,
           46,
           47,
           48,
           49,
           50,
           51,
           52,
           53,
           54,
           55,
           56,
           57,
           58,
           59,
           60,
           61,
           62,
           63,
           64,
           65,
           66,
           67,
           68,
           69,
           70,
           71,
           72,
           73,
           74,
           75,
           76,
           77,
           78,
           79,
           80,
           81,
           82,
           83,
           84,
           85,
           86,
           87,
           88,
           89,
           90,
           91,
           92,
           93,
           94,
           95,
           96,
           97,
           98,
           99,
           100,
           101,
           102,
           103,
           104,
           105,
           106,
           107,
           108,
           109,
           110,
           111,
           112,
           113,
           114,
           115,
           116,
           117,
           118,
           119,
           120,
           121,
           122,
           123,
           124,
           125,
           126,
           127,
           128,
           129,
           130,
           131,
           132,
           133,
           134,
           135,
           136,
           137,
           138,
           139,
           140,
           141,
           142,
           143,
           144,
           145,
           146,
           147,
           148,
           149,
           150,
           151,
           152,
           153,
           154,
           155,
           156,
           157,
           158,
           159,
           160,
           161,
           162,
           163,
           164,
           165,
           166,
           167,
           168,
           169,
           170,
           171,
           172,
           173,
           174,
           175,
           176,
           177,
           178,
           179,
           180,
           181,
           182,
           183,
           184,
           185,
           186,
           187,
           188,
           189,
           190,
           191,
           192,
           193,
           194,
           195,
           196,
           197,
           198,
           199,
           200,
           201,
           202,
           203,
           204,
           205,
           206,
           207,
           208,
           209,
           210,
           211,
           212,
           213,
           214,
           215,
           216,
           217,
           218,
           219,
           220,
           221,
           222,
           223,
           224,
           225,
           226,
           227,
           228,
           229,
           230,
           231,
           232,
           233,
           234,
           235,
           236,
           237,
           238,
           239,
           240,
           241,
           242,
           243,
           244,
           245,
           246,
           247,
           248,
           249,
           250,
           251,
           252,
           253,
           254,
           255,
           256,
           257,
           258,
           259,
           260,
           261,
           262,
           263,
           264,
           265,
           266,
           267,
           268,
           269,
           270,
           271,
           272,
           273,
           274,
           275,
           276,
           277,
           278,
           279,
           280,
           281,
           282,
           283,
           284,
           285,
           286,
           287,
           288,
           289,
           290,
           291,
           292,
           293,
           294,
           295,
           296,
           297,
           298,
           299
          ],
          "colorbar": {
           "title": {
            "text": "Trial"
           },
           "x": 1,
           "xpad": 40,
           "y": 0.5
          },
          "colorscale": [
           [
            0,
            "rgb(247,251,255)"
           ],
           [
            0.125,
            "rgb(222,235,247)"
           ],
           [
            0.25,
            "rgb(198,219,239)"
           ],
           [
            0.375,
            "rgb(158,202,225)"
           ],
           [
            0.5,
            "rgb(107,174,214)"
           ],
           [
            0.625,
            "rgb(66,146,198)"
           ],
           [
            0.75,
            "rgb(33,113,181)"
           ],
           [
            0.875,
            "rgb(8,81,156)"
           ],
           [
            1,
            "rgb(8,48,107)"
           ]
          ],
          "line": {
           "color": "Grey",
           "width": 0.5
          }
         },
         "mode": "markers",
         "name": "Feasible Trial",
         "showlegend": false,
         "type": "scatter",
         "x": [
          1.6747241447892711,
          1.530114089417287,
          1.2795650210570602,
          1.1334726158275112,
          1.7513306161200675,
          0.4679839214975696,
          0.6405529505884129,
          0.8147683063831217,
          0.08918984682116493,
          0.3886780654056339,
          0.0446837289288728,
          1.1442867404026738,
          0.07278655822767499,
          0.986475347936745,
          1.367939868053039,
          1.9881140992768895,
          0.886479244965426,
          0.28931898342146867,
          0.6040783020681951,
          1.212007088734312,
          0.7676451854984695,
          1.4728283604166925,
          1.365267574767873,
          1.047541930481389,
          1.4141063288195626,
          1.812708825570468,
          1.5667605777131497,
          1.5876019387701406,
          1.8908677247935408,
          1.958457201593243,
          1.8339908917251906,
          1.8349764299256972,
          1.8207380603517722,
          1.6200118947527717,
          1.6299409559091707,
          1.6424574850487321,
          1.665446686865278,
          1.5372051882481428,
          1.7618637491378852,
          1.689323306649503,
          1.2511070491061513,
          1.6238530937640765,
          1.5231025274596202,
          1.737645420038219,
          1.4553324737816566,
          1.903988576128278,
          1.3162080794244606,
          1.6165931024891584,
          1.7031369708035673,
          1.5124738385089764,
          1.582544747912099,
          1.9197458289328826,
          1.9034378048402987,
          1.7765222742292002,
          1.9271417914941302,
          1.8472623344279482,
          1.9881752643662989,
          1.6633423336237172,
          1.7349592495092612,
          1.3652922745233045,
          1.1208205963350901,
          1.6655074137344394,
          1.6296374053943388,
          1.4451950046622317,
          1.5454867464608781,
          1.8658593243689965,
          1.8378580545226773,
          1.8578627911108967,
          1.7832714359937163,
          1.9796563358948036,
          1.7161123461604368,
          1.6833768317032536,
          1.776619587649391,
          1.7088230058074383,
          1.7044143292596987,
          1.9308528425884042,
          1.8615624925772747,
          0.1865443891559455,
          1.7471999246503094,
          1.491976644180943,
          0.6874711675468616,
          1.604093610764443,
          1.7965746663822504,
          1.4147654961576928,
          1.714477712994255,
          1.6957340395025002,
          1.8956362048017346,
          1.9427714257196569,
          1.9703339360154895,
          1.5674066844347405,
          1.930145290349263,
          1.8085758542101529,
          1.8726760717969013,
          1.7246092514617881,
          1.6522126836483504,
          1.8291898475680148,
          0.4362539528241889,
          1.9964421737391906,
          1.9382346640863395,
          1.7624445760819012,
          1.8962168781788842,
          1.9538013731755188,
          1.9014939816466112,
          1.8948047118284337,
          1.6821620663718424,
          0.9620548007644261,
          1.8156380027165817,
          1.6183806889564867,
          1.8650807703767764,
          1.7367959849341106,
          1.9440323402278077,
          1.8901868463201206,
          1.8929870786621457,
          1.7931771443063171,
          1.7024333511711882,
          1.9972730493080337,
          1.8418633953549761,
          1.7653129225138087,
          1.9467166063786703,
          1.9444155785615211,
          1.640682990224718,
          1.8947583427759553,
          1.9530466581780348,
          1.8154252824668755,
          1.913488101561077,
          1.8608027979351256,
          1.5429448381981965,
          1.7437249580005107,
          1.5798719631078864,
          1.6800098078745558,
          1.6652283965023225,
          1.7884071080739978,
          1.700050732402771,
          1.6059910920444138,
          1.8469136560814043,
          1.4943758988615574,
          1.9270925870415787,
          1.9732830261276502,
          1.7285990931508006,
          1.7763042618775104,
          1.9395444752630215,
          1.9089972261530674,
          1.8716902719285178,
          1.994868261406407,
          1.8336798959815686,
          1.6678487807561941,
          1.6732068633409778,
          1.6147660538978612,
          1.6290203065678526,
          0.8281617635470668,
          1.572998124953956,
          0.5696156763656138,
          1.7022938270410082,
          1.5275130960964043,
          1.6310412532606735,
          1.7456025277173548,
          1.6651125633017807,
          1.8106470399671875,
          1.5896199547417038,
          1.940843729805985,
          1.4565367825646691,
          1.4094817724508781,
          1.231136103919522,
          1.702833330958008,
          1.2943857216285097,
          1.64167260141673,
          1.7684188993452816,
          1.530143825630731,
          1.6056846736691026,
          1.148449079908304,
          1.8762627407101242,
          1.9273214921268056,
          1.9210552774689458,
          1.987784372049627,
          1.9782856922143854,
          1.9729145731458064,
          1.99935362127229,
          1.955609807295467,
          1.9546534641912952,
          1.9610313096164815,
          1.9318779926659913,
          1.9005275751682589,
          1.9994581105932427,
          1.9523960075666291,
          1.8670064835971225,
          1.910247109657164,
          1.9595686944831916,
          1.9645198923744362,
          1.9088421386503824,
          1.972597656045319,
          1.9736371176177279,
          1.996192488996742,
          1.9598004778171758,
          1.9376194571257197,
          1.857108781676703,
          1.9945448980397333,
          1.9811640543626419,
          1.9957911719643615,
          1.9984410216252335,
          1.9187032370052315,
          1.8832022380530524,
          1.9975574119355541,
          1.9479868632616144,
          1.9675340440944726,
          1.92529896007953,
          1.970111990341358,
          1.879164893098864,
          1.960471683267793,
          1.9211808349644734,
          1.8560955821476866,
          1.8279504187411253,
          1.9974607567965037,
          1.956883484670687,
          1.9200742791557648,
          1.997063038469882,
          1.9628316414947815,
          1.8947104967061976,
          1.930565039547028,
          1.9996412367603194,
          1.8864172724588395,
          1.9469552397995906,
          1.9197679226712236,
          1.9649336846758534,
          1.9111864381773558,
          1.9664468107860933,
          1.847272882612149,
          1.9276176566431715,
          1.9604058665461144,
          1.8896457399334867,
          0.002423212933105434,
          1.8990124523659748,
          1.884144907662886,
          1.9341492818975723,
          1.9479135025796956,
          1.9235121317800814,
          1.96476764191432,
          1.8665888101919146,
          1.8623997930558394,
          1.8239285623868542,
          1.8946562740620025,
          1.9606454607375359,
          1.9293332362511837,
          1.9687858205274347,
          1.8708406614071382,
          1.9060580619764773,
          1.9948758170910208,
          1.9300922210280247,
          1.826152298709048,
          1.8122086775201667,
          1.8507130454819765,
          1.8864663594003392,
          1.9659421106342345,
          1.930879077761309,
          1.996714464817969,
          1.8411310953562816,
          1.904810291877748,
          1.95826644491093,
          1.9286488083329076,
          1.8925010972950012,
          1.8523376188263183,
          1.9623604885114911,
          1.8066354964707998,
          0.32726746922919125,
          1.9254491173073618,
          1.9992342723750522,
          1.8715726476043915,
          1.9455131509999488,
          1.9025255444835127,
          1.966179806138145,
          1.9570245508384574,
          1.9659304276917162,
          1.9977375114673068,
          1.9165075484887928,
          1.9948166690017741,
          1.9449715757116866,
          1.9131090240095225,
          1.9049364264912292,
          1.9981616804441251,
          1.9137186009900544,
          1.7945552601558497,
          0.9983532755801567,
          1.8730047949106265,
          1.9345309969535156,
          1.8391723293241946,
          1.8308558960788477,
          1.9319526450492734,
          1.8862219806768115,
          1.9979429455026108,
          1.9605401381080478,
          1.908914208819851,
          0.9125511471373855,
          1.8474366165412972,
          1.951622898890034,
          1.9247298991955941,
          1.9981591120528068,
          0.690925610498851,
          1.0740184346185186,
          1.797907907187886,
          1.8938418189086224,
          1.875653821521089
         ],
         "y": [
          0.5105520384385376,
          0.5117557283045034,
          0.5111011715378173,
          0.5118251280472446,
          0.508688780799259,
          0.502422904200309,
          0.5077450702120048,
          0.5068761017811202,
          0.5179582842847459,
          0.5041228822467456,
          0.5065805115929254,
          0.5176581525972694,
          0.5151565334557799,
          0.5129692082172743,
          0.5164989676666533,
          0.5115633400743305,
          0.5103259450785704,
          0.5143034486183181,
          0.5101669518821805,
          0.5088250492990645,
          0.5108948679683327,
          0.5116036064725434,
          0.5155016479535784,
          0.510535702490257,
          0.5176288711755088,
          0.5099963209272349,
          0.5209281164695178,
          0.5119003000826531,
          0.5194116618109963,
          0.5154183986030842,
          0.5192545221998903,
          0.5216443392582002,
          0.5175565393363311,
          0.5221885753613213,
          0.5214192472508321,
          0.520258663571547,
          0.507934546219216,
          0.5144321084834816,
          0.512550107924761,
          0.5126574462830329,
          0.5098320886491863,
          0.516208039187437,
          0.5072605259054944,
          0.5060582937500164,
          0.5114366975969721,
          0.5199951608703771,
          0.5047752032363579,
          0.511851921089927,
          0.5147729122231757,
          0.5176114973106606,
          0.518453389547838,
          0.5217101359476163,
          0.5123151903999825,
          0.5119921010454067,
          0.515251271509416,
          0.5183016653341725,
          0.509261235466214,
          0.5213435969209237,
          0.5171737688956782,
          0.5050027300511264,
          0.507280772968143,
          0.5099694443005853,
          0.5240374780797992,
          0.511590259584645,
          0.5087932800047491,
          0.5230586545896388,
          0.5132513891227479,
          0.5098103453359499,
          0.5157279215753718,
          0.5152726176474335,
          0.5225464601674759,
          0.5220841141027321,
          0.5091231410192523,
          0.5215321924854998,
          0.5212797769915154,
          0.5143363715819702,
          0.5164757006184351,
          0.5093911015325832,
          0.5067424105619299,
          0.516765408587688,
          0.5111266759045212,
          0.5150135753000192,
          0.5201262570677527,
          0.5106156117748067,
          0.5224459235948542,
          0.5236512177349909,
          0.5121052316174268,
          0.5242701123559599,
          0.5120137655914996,
          0.5084158391936504,
          0.5189906519867217,
          0.5080132892873349,
          0.5131127323272895,
          0.5152081884060504,
          0.5172362340305938,
          0.5180434369228605,
          0.508333394491373,
          0.5117905247464768,
          0.5258155547240804,
          0.5165582208410217,
          0.5219119530327474,
          0.5135416728734973,
          0.5223757315068067,
          0.5229275046148683,
          0.5161874711262271,
          0.5103741407716541,
          0.5097420776720515,
          0.5123884829898353,
          0.5102043845090245,
          0.517798235827628,
          0.5098875786883744,
          0.5164440034326456,
          0.5086955761365709,
          0.5201959162903123,
          0.5135490878543777,
          0.5200518162681492,
          0.5193742430872418,
          0.5040191914871861,
          0.5243879932034385,
          0.5177610027061672,
          0.5100611495045697,
          0.5142877513540358,
          0.5180457437454238,
          0.5207735526030238,
          0.5205132949767838,
          0.5081068805542177,
          0.5157313710768465,
          0.5149509514241815,
          0.5162873299995328,
          0.5237566087952517,
          0.5093142675321157,
          0.514853631496738,
          0.5213482432174852,
          0.5185606346031333,
          0.519244187335907,
          0.5136123527021536,
          0.525640566238093,
          0.5024431245909005,
          0.5073738631222062,
          0.5199327054709793,
          0.5201118380119076,
          0.5110277614617761,
          0.517156421719933,
          0.5186610436218262,
          0.5133938983050848,
          0.5221408567789763,
          0.5167605774911128,
          0.5221386115830129,
          0.5124721808844308,
          0.5165720421517848,
          0.52099212190779,
          0.5112984228761679,
          0.5154339440299425,
          0.5125469943684621,
          0.5143488945909076,
          0.5121362800823374,
          0.515322990844354,
          0.5179339296857333,
          0.5194087831357227,
          0.5156250280122842,
          0.5225590248178609,
          0.5050398419941429,
          0.509339953785729,
          0.5156587221489015,
          0.5061620241253206,
          0.5185193764332539,
          0.5178886562971992,
          0.5129917969792106,
          0.5147348741896289,
          0.51083839966018,
          0.5204726461198668,
          0.5235899703151645,
          0.5193811900649881,
          0.5232329443387898,
          0.5238545776457524,
          0.5227184016112215,
          0.5220015207479076,
          0.5224004529156445,
          0.507820499299539,
          0.5119125085162162,
          0.5155688567052932,
          0.5192405964972049,
          0.5091816249409542,
          0.5165209496507797,
          0.5206506850527195,
          0.5119362500337372,
          0.5225584818391351,
          0.5200305450117553,
          0.5159643476942259,
          0.5259738901209255,
          0.5230142613624658,
          0.5086739209055744,
          0.5148573365644202,
          0.5155699716625282,
          0.5044805484252756,
          0.5225043171547195,
          0.5241080805830496,
          0.5251587844828959,
          0.5134018599940777,
          0.5181680298823264,
          0.51761636017428,
          0.5197929249352891,
          0.5176094902909323,
          0.5268583669279858,
          0.5169192730156766,
          0.50887553768118,
          0.5044892342289424,
          0.5180498460106935,
          0.5092413484472362,
          0.517283911371078,
          0.5168148841370849,
          0.5200631902956209,
          0.5161146193256285,
          0.5152234287510182,
          0.5097143174248966,
          0.5097652750403154,
          0.5136454471953993,
          0.5149050103885058,
          0.5142289276357395,
          0.5003055308297447,
          0.517644283427416,
          0.523721604495719,
          0.5191429763340554,
          0.514672328637602,
          0.5230284309620132,
          0.5129366389951872,
          0.5200820559932977,
          0.5123067806264059,
          0.5234625817357462,
          0.5135782927078938,
          0.5160065295373328,
          0.5190349190820366,
          0.5261956799260188,
          0.5184555413670273,
          0.5145625996299257,
          0.5246381299406898,
          0.5228726309241455,
          0.5202885794307965,
          0.5165303058418664,
          0.5138974800993763,
          0.5086814640040338,
          0.5214935570061218,
          0.5108196501911317,
          0.5163938129734778,
          0.511049408831927,
          0.5144769896037754,
          0.5140703098558388,
          0.5236734649979744,
          0.5134968579513262,
          0.5195266064234975,
          0.5092153252512164,
          0.5135102703054051,
          0.5158183502042601,
          0.5199723884031293,
          0.5107865074391033,
          0.5172018683028325,
          0.5231946407665196,
          0.5059651078900768,
          0.5141686155792288,
          0.505457912319492,
          0.5137306523814298,
          0.5040617212687775,
          0.5088158723652951,
          0.522051946947798,
          0.5213273362231795,
          0.5134606455182225,
          0.5145954962468724,
          0.5263229342918161,
          0.5253237462981792,
          0.5153207374216776,
          0.5194433628468402,
          0.5255218793956485,
          0.5110797511340589,
          0.5092895571405593,
          0.5084761200803158,
          0.5238922066892246,
          0.5162063022351715,
          0.5123736022262364,
          0.5122398910056385,
          0.5067408717698305,
          0.50661721296526,
          0.5044877222692634,
          0.522209329152687,
          0.5233092307412435,
          0.5140282557283112,
          0.5031485195399605,
          0.5061371841155236,
          0.5155211965868709,
          0.520166157126315,
          0.5214932558615077,
          0.5082050659909071,
          0.5044608865228859,
          0.5141337811363,
          0.5157010220238951,
          0.5175957953371367,
          0.5113060453468672,
          0.5029240243589764,
          0.5144404256443241,
          0.5238114456372589,
          0.5178268681528937
         ]
        }
       ],
       "layout": {
        "autosize": true,
        "template": {
         "data": {
          "bar": [
           {
            "error_x": {
             "color": "#2a3f5f"
            },
            "error_y": {
             "color": "#2a3f5f"
            },
            "marker": {
             "line": {
              "color": "#E5ECF6",
              "width": 0.5
             },
             "pattern": {
              "fillmode": "overlay",
              "size": 10,
              "solidity": 0.2
             }
            },
            "type": "bar"
           }
          ],
          "barpolar": [
           {
            "marker": {
             "line": {
              "color": "#E5ECF6",
              "width": 0.5
             },
             "pattern": {
              "fillmode": "overlay",
              "size": 10,
              "solidity": 0.2
             }
            },
            "type": "barpolar"
           }
          ],
          "carpet": [
           {
            "aaxis": {
             "endlinecolor": "#2a3f5f",
             "gridcolor": "white",
             "linecolor": "white",
             "minorgridcolor": "white",
             "startlinecolor": "#2a3f5f"
            },
            "baxis": {
             "endlinecolor": "#2a3f5f",
             "gridcolor": "white",
             "linecolor": "white",
             "minorgridcolor": "white",
             "startlinecolor": "#2a3f5f"
            },
            "type": "carpet"
           }
          ],
          "choropleth": [
           {
            "colorbar": {
             "outlinewidth": 0,
             "ticks": ""
            },
            "type": "choropleth"
           }
          ],
          "contour": [
           {
            "colorbar": {
             "outlinewidth": 0,
             "ticks": ""
            },
            "colorscale": [
             [
              0,
              "#0d0887"
             ],
             [
              0.1111111111111111,
              "#46039f"
             ],
             [
              0.2222222222222222,
              "#7201a8"
             ],
             [
              0.3333333333333333,
              "#9c179e"
             ],
             [
              0.4444444444444444,
              "#bd3786"
             ],
             [
              0.5555555555555556,
              "#d8576b"
             ],
             [
              0.6666666666666666,
              "#ed7953"
             ],
             [
              0.7777777777777778,
              "#fb9f3a"
             ],
             [
              0.8888888888888888,
              "#fdca26"
             ],
             [
              1,
              "#f0f921"
             ]
            ],
            "type": "contour"
           }
          ],
          "contourcarpet": [
           {
            "colorbar": {
             "outlinewidth": 0,
             "ticks": ""
            },
            "type": "contourcarpet"
           }
          ],
          "heatmap": [
           {
            "colorbar": {
             "outlinewidth": 0,
             "ticks": ""
            },
            "colorscale": [
             [
              0,
              "#0d0887"
             ],
             [
              0.1111111111111111,
              "#46039f"
             ],
             [
              0.2222222222222222,
              "#7201a8"
             ],
             [
              0.3333333333333333,
              "#9c179e"
             ],
             [
              0.4444444444444444,
              "#bd3786"
             ],
             [
              0.5555555555555556,
              "#d8576b"
             ],
             [
              0.6666666666666666,
              "#ed7953"
             ],
             [
              0.7777777777777778,
              "#fb9f3a"
             ],
             [
              0.8888888888888888,
              "#fdca26"
             ],
             [
              1,
              "#f0f921"
             ]
            ],
            "type": "heatmap"
           }
          ],
          "heatmapgl": [
           {
            "colorbar": {
             "outlinewidth": 0,
             "ticks": ""
            },
            "colorscale": [
             [
              0,
              "#0d0887"
             ],
             [
              0.1111111111111111,
              "#46039f"
             ],
             [
              0.2222222222222222,
              "#7201a8"
             ],
             [
              0.3333333333333333,
              "#9c179e"
             ],
             [
              0.4444444444444444,
              "#bd3786"
             ],
             [
              0.5555555555555556,
              "#d8576b"
             ],
             [
              0.6666666666666666,
              "#ed7953"
             ],
             [
              0.7777777777777778,
              "#fb9f3a"
             ],
             [
              0.8888888888888888,
              "#fdca26"
             ],
             [
              1,
              "#f0f921"
             ]
            ],
            "type": "heatmapgl"
           }
          ],
          "histogram": [
           {
            "marker": {
             "pattern": {
              "fillmode": "overlay",
              "size": 10,
              "solidity": 0.2
             }
            },
            "type": "histogram"
           }
          ],
          "histogram2d": [
           {
            "colorbar": {
             "outlinewidth": 0,
             "ticks": ""
            },
            "colorscale": [
             [
              0,
              "#0d0887"
             ],
             [
              0.1111111111111111,
              "#46039f"
             ],
             [
              0.2222222222222222,
              "#7201a8"
             ],
             [
              0.3333333333333333,
              "#9c179e"
             ],
             [
              0.4444444444444444,
              "#bd3786"
             ],
             [
              0.5555555555555556,
              "#d8576b"
             ],
             [
              0.6666666666666666,
              "#ed7953"
             ],
             [
              0.7777777777777778,
              "#fb9f3a"
             ],
             [
              0.8888888888888888,
              "#fdca26"
             ],
             [
              1,
              "#f0f921"
             ]
            ],
            "type": "histogram2d"
           }
          ],
          "histogram2dcontour": [
           {
            "colorbar": {
             "outlinewidth": 0,
             "ticks": ""
            },
            "colorscale": [
             [
              0,
              "#0d0887"
             ],
             [
              0.1111111111111111,
              "#46039f"
             ],
             [
              0.2222222222222222,
              "#7201a8"
             ],
             [
              0.3333333333333333,
              "#9c179e"
             ],
             [
              0.4444444444444444,
              "#bd3786"
             ],
             [
              0.5555555555555556,
              "#d8576b"
             ],
             [
              0.6666666666666666,
              "#ed7953"
             ],
             [
              0.7777777777777778,
              "#fb9f3a"
             ],
             [
              0.8888888888888888,
              "#fdca26"
             ],
             [
              1,
              "#f0f921"
             ]
            ],
            "type": "histogram2dcontour"
           }
          ],
          "mesh3d": [
           {
            "colorbar": {
             "outlinewidth": 0,
             "ticks": ""
            },
            "type": "mesh3d"
           }
          ],
          "parcoords": [
           {
            "line": {
             "colorbar": {
              "outlinewidth": 0,
              "ticks": ""
             }
            },
            "type": "parcoords"
           }
          ],
          "pie": [
           {
            "automargin": true,
            "type": "pie"
           }
          ],
          "scatter": [
           {
            "fillpattern": {
             "fillmode": "overlay",
             "size": 10,
             "solidity": 0.2
            },
            "type": "scatter"
           }
          ],
          "scatter3d": [
           {
            "line": {
             "colorbar": {
              "outlinewidth": 0,
              "ticks": ""
             }
            },
            "marker": {
             "colorbar": {
              "outlinewidth": 0,
              "ticks": ""
             }
            },
            "type": "scatter3d"
           }
          ],
          "scattercarpet": [
           {
            "marker": {
             "colorbar": {
              "outlinewidth": 0,
              "ticks": ""
             }
            },
            "type": "scattercarpet"
           }
          ],
          "scattergeo": [
           {
            "marker": {
             "colorbar": {
              "outlinewidth": 0,
              "ticks": ""
             }
            },
            "type": "scattergeo"
           }
          ],
          "scattergl": [
           {
            "marker": {
             "colorbar": {
              "outlinewidth": 0,
              "ticks": ""
             }
            },
            "type": "scattergl"
           }
          ],
          "scattermapbox": [
           {
            "marker": {
             "colorbar": {
              "outlinewidth": 0,
              "ticks": ""
             }
            },
            "type": "scattermapbox"
           }
          ],
          "scatterpolar": [
           {
            "marker": {
             "colorbar": {
              "outlinewidth": 0,
              "ticks": ""
             }
            },
            "type": "scatterpolar"
           }
          ],
          "scatterpolargl": [
           {
            "marker": {
             "colorbar": {
              "outlinewidth": 0,
              "ticks": ""
             }
            },
            "type": "scatterpolargl"
           }
          ],
          "scatterternary": [
           {
            "marker": {
             "colorbar": {
              "outlinewidth": 0,
              "ticks": ""
             }
            },
            "type": "scatterternary"
           }
          ],
          "surface": [
           {
            "colorbar": {
             "outlinewidth": 0,
             "ticks": ""
            },
            "colorscale": [
             [
              0,
              "#0d0887"
             ],
             [
              0.1111111111111111,
              "#46039f"
             ],
             [
              0.2222222222222222,
              "#7201a8"
             ],
             [
              0.3333333333333333,
              "#9c179e"
             ],
             [
              0.4444444444444444,
              "#bd3786"
             ],
             [
              0.5555555555555556,
              "#d8576b"
             ],
             [
              0.6666666666666666,
              "#ed7953"
             ],
             [
              0.7777777777777778,
              "#fb9f3a"
             ],
             [
              0.8888888888888888,
              "#fdca26"
             ],
             [
              1,
              "#f0f921"
             ]
            ],
            "type": "surface"
           }
          ],
          "table": [
           {
            "cells": {
             "fill": {
              "color": "#EBF0F8"
             },
             "line": {
              "color": "white"
             }
            },
            "header": {
             "fill": {
              "color": "#C8D4E3"
             },
             "line": {
              "color": "white"
             }
            },
            "type": "table"
           }
          ]
         },
         "layout": {
          "annotationdefaults": {
           "arrowcolor": "#2a3f5f",
           "arrowhead": 0,
           "arrowwidth": 1
          },
          "autotypenumbers": "strict",
          "coloraxis": {
           "colorbar": {
            "outlinewidth": 0,
            "ticks": ""
           }
          },
          "colorscale": {
           "diverging": [
            [
             0,
             "#8e0152"
            ],
            [
             0.1,
             "#c51b7d"
            ],
            [
             0.2,
             "#de77ae"
            ],
            [
             0.3,
             "#f1b6da"
            ],
            [
             0.4,
             "#fde0ef"
            ],
            [
             0.5,
             "#f7f7f7"
            ],
            [
             0.6,
             "#e6f5d0"
            ],
            [
             0.7,
             "#b8e186"
            ],
            [
             0.8,
             "#7fbc41"
            ],
            [
             0.9,
             "#4d9221"
            ],
            [
             1,
             "#276419"
            ]
           ],
           "sequential": [
            [
             0,
             "#0d0887"
            ],
            [
             0.1111111111111111,
             "#46039f"
            ],
            [
             0.2222222222222222,
             "#7201a8"
            ],
            [
             0.3333333333333333,
             "#9c179e"
            ],
            [
             0.4444444444444444,
             "#bd3786"
            ],
            [
             0.5555555555555556,
             "#d8576b"
            ],
            [
             0.6666666666666666,
             "#ed7953"
            ],
            [
             0.7777777777777778,
             "#fb9f3a"
            ],
            [
             0.8888888888888888,
             "#fdca26"
            ],
            [
             1,
             "#f0f921"
            ]
           ],
           "sequentialminus": [
            [
             0,
             "#0d0887"
            ],
            [
             0.1111111111111111,
             "#46039f"
            ],
            [
             0.2222222222222222,
             "#7201a8"
            ],
            [
             0.3333333333333333,
             "#9c179e"
            ],
            [
             0.4444444444444444,
             "#bd3786"
            ],
            [
             0.5555555555555556,
             "#d8576b"
            ],
            [
             0.6666666666666666,
             "#ed7953"
            ],
            [
             0.7777777777777778,
             "#fb9f3a"
            ],
            [
             0.8888888888888888,
             "#fdca26"
            ],
            [
             1,
             "#f0f921"
            ]
           ]
          },
          "colorway": [
           "#636efa",
           "#EF553B",
           "#00cc96",
           "#ab63fa",
           "#FFA15A",
           "#19d3f3",
           "#FF6692",
           "#B6E880",
           "#FF97FF",
           "#FECB52"
          ],
          "font": {
           "color": "#2a3f5f"
          },
          "geo": {
           "bgcolor": "white",
           "lakecolor": "white",
           "landcolor": "#E5ECF6",
           "showlakes": true,
           "showland": true,
           "subunitcolor": "white"
          },
          "hoverlabel": {
           "align": "left"
          },
          "hovermode": "closest",
          "mapbox": {
           "style": "light"
          },
          "paper_bgcolor": "white",
          "plot_bgcolor": "#E5ECF6",
          "polar": {
           "angularaxis": {
            "gridcolor": "white",
            "linecolor": "white",
            "ticks": ""
           },
           "bgcolor": "#E5ECF6",
           "radialaxis": {
            "gridcolor": "white",
            "linecolor": "white",
            "ticks": ""
           }
          },
          "scene": {
           "xaxis": {
            "backgroundcolor": "#E5ECF6",
            "gridcolor": "white",
            "gridwidth": 2,
            "linecolor": "white",
            "showbackground": true,
            "ticks": "",
            "zerolinecolor": "white"
           },
           "yaxis": {
            "backgroundcolor": "#E5ECF6",
            "gridcolor": "white",
            "gridwidth": 2,
            "linecolor": "white",
            "showbackground": true,
            "ticks": "",
            "zerolinecolor": "white"
           },
           "zaxis": {
            "backgroundcolor": "#E5ECF6",
            "gridcolor": "white",
            "gridwidth": 2,
            "linecolor": "white",
            "showbackground": true,
            "ticks": "",
            "zerolinecolor": "white"
           }
          },
          "shapedefaults": {
           "line": {
            "color": "#2a3f5f"
           }
          },
          "ternary": {
           "aaxis": {
            "gridcolor": "white",
            "linecolor": "white",
            "ticks": ""
           },
           "baxis": {
            "gridcolor": "white",
            "linecolor": "white",
            "ticks": ""
           },
           "bgcolor": "#E5ECF6",
           "caxis": {
            "gridcolor": "white",
            "linecolor": "white",
            "ticks": ""
           }
          },
          "title": {
           "x": 0.05
          },
          "xaxis": {
           "automargin": true,
           "gridcolor": "white",
           "linecolor": "white",
           "ticks": "",
           "title": {
            "standoff": 15
           },
           "zerolinecolor": "white",
           "zerolinewidth": 2
          },
          "yaxis": {
           "automargin": true,
           "gridcolor": "white",
           "linecolor": "white",
           "ticks": "",
           "title": {
            "standoff": 15
           },
           "zerolinecolor": "white",
           "zerolinewidth": 2
          }
         }
        },
        "title": {
         "text": "Slice Plot"
        },
        "xaxis": {
         "autorange": true,
         "range": [
          -0.11920224364611592,
          2.1212666933395408
         ],
         "title": {
          "text": "bagging_temperature"
         },
         "type": "linear"
        },
        "yaxis": {
         "autorange": true,
         "range": [
          0.49811427736532676,
          0.5290496203924038
         ],
         "title": {
          "text": "Objective Value"
         },
         "type": "linear"
        }
       }
      },
      "image/png": "[encoded data removed]",
      "text/html": [
       "<div>                            <div id=\"55a18338-befb-453c-a82f-5afce8adcf20\" class=\"plotly-graph-div\" style=\"height:525px; width:100%;\"></div>            <script type=\"text/javascript\">                require([\"plotly\"], function(Plotly) {                    window.PLOTLYENV=window.PLOTLYENV || {};                                    if (document.getElementById(\"55a18338-befb-453c-a82f-5afce8adcf20\")) {                    Plotly.newPlot(                        \"55a18338-befb-453c-a82f-5afce8adcf20\",                        [{\"marker\":{\"color\":[0,1,2,3,4,5,6,7,8,9,10,11,12,13,14,15,16,17,18,19,20,21,22,23,24,25,26,27,28,29,30,31,32,33,34,35,36,37,38,39,40,41,42,43,44,45,46,47,48,49,50,51,52,53,54,55,56,57,58,59,60,61,62,63,64,65,66,67,68,69,70,71,72,73,74,75,76,77,78,79,80,81,82,83,84,85,86,87,88,89,90,91,92,93,94,95,96,97,98,99,100,101,102,103,104,105,106,107,108,109,110,111,112,113,114,115,116,117,118,119,120,121,122,123,124,125,126,127,128,129,130,131,132,133,134,135,136,137,138,139,140,141,142,143,144,145,146,147,148,149,150,151,152,153,154,155,156,157,158,159,160,161,162,163,164,165,166,167,168,169,170,171,172,173,174,175,176,177,178,179,180,181,182,183,184,185,186,187,188,189,190,191,192,193,194,195,196,197,198,199,200,201,202,203,204,205,206,207,208,209,210,211,212,213,214,215,216,217,218,219,220,221,222,223,224,225,226,227,228,229,230,231,232,233,234,235,236,237,238,239,240,241,242,243,244,245,246,247,248,249,250,251,252,253,254,255,256,257,258,259,260,261,262,263,264,265,266,267,268,269,270,271,272,273,274,275,276,277,278,279,280,281,282,283,284,285,286,287,288,289,290,291,292,293,294,295,296,297,298,299],\"colorbar\":{\"title\":{\"text\":\"Trial\"},\"x\":1.0,\"xpad\":40},\"colorscale\":[[0.0,\"rgb(247,251,255)\"],[0.125,\"rgb(222,235,247)\"],[0.25,\"rgb(198,219,239)\"],[0.375,\"rgb(158,202,225)\"],[0.5,\"rgb(107,174,214)\"],[0.625,\"rgb(66,146,198)\"],[0.75,\"rgb(33,113,181)\"],[0.875,\"rgb(8,81,156)\"],[1.0,\"rgb(8,48,107)\"]],\"line\":{\"color\":\"Grey\",\"width\":0.5}},\"mode\":\"markers\",\"name\":\"Feasible Trial\",\"showlegend\":false,\"x\":[1.6747241447892711,1.530114089417287,1.2795650210570602,1.1334726158275112,1.7513306161200675,0.4679839214975696,0.6405529505884129,0.8147683063831217,0.08918984682116493,0.3886780654056339,0.0446837289288728,1.1442867404026738,0.07278655822767499,0.986475347936745,1.367939868053039,1.9881140992768895,0.886479244965426,0.28931898342146867,0.6040783020681951,1.212007088734312,0.7676451854984695,1.4728283604166925,1.365267574767873,1.047541930481389,1.4141063288195626,1.812708825570468,1.5667605777131497,1.5876019387701406,1.8908677247935408,1.958457201593243,1.8339908917251906,1.8349764299256972,1.8207380603517722,1.6200118947527717,1.6299409559091707,1.6424574850487321,1.665446686865278,1.5372051882481428,1.7618637491378852,1.689323306649503,1.2511070491061513,1.6238530937640765,1.5231025274596202,1.737645420038219,1.4553324737816566,1.903988576128278,1.3162080794244606,1.6165931024891584,1.7031369708035673,1.5124738385089764,1.582544747912099,1.9197458289328826,1.9034378048402987,1.7765222742292002,1.9271417914941302,1.8472623344279482,1.9881752643662989,1.6633423336237172,1.7349592495092612,1.3652922745233045,1.1208205963350901,1.6655074137344394,1.6296374053943388,1.4451950046622317,1.5454867464608781,1.8658593243689965,1.8378580545226773,1.8578627911108967,1.7832714359937163,1.9796563358948036,1.7161123461604368,1.6833768317032536,1.776619587649391,1.7088230058074383,1.7044143292596987,1.9308528425884042,1.8615624925772747,0.1865443891559455,1.7471999246503094,1.491976644180943,0.6874711675468616,1.604093610764443,1.7965746663822504,1.4147654961576928,1.714477712994255,1.6957340395025002,1.8956362048017346,1.9427714257196569,1.9703339360154895,1.5674066844347405,1.930145290349263,1.8085758542101529,1.8726760717969013,1.7246092514617881,1.6522126836483504,1.8291898475680148,0.4362539528241889,1.9964421737391906,1.9382346640863395,1.7624445760819012,1.8962168781788842,1.9538013731755188,1.9014939816466112,1.8948047118284337,1.6821620663718424,0.9620548007644261,1.8156380027165817,1.6183806889564867,1.8650807703767764,1.7367959849341106,1.9440323402278077,1.8901868463201206,1.8929870786621457,1.7931771443063171,1.7024333511711882,1.9972730493080337,1.8418633953549761,1.7653129225138087,1.9467166063786703,1.9444155785615211,1.640682990224718,1.8947583427759553,1.9530466581780348,1.8154252824668755,1.913488101561077,1.8608027979351256,1.5429448381981965,1.7437249580005107,1.5798719631078864,1.6800098078745558,1.6652283965023225,1.7884071080739978,1.700050732402771,1.6059910920444138,1.8469136560814043,1.4943758988615574,1.9270925870415787,1.9732830261276502,1.7285990931508006,1.7763042618775104,1.9395444752630215,1.9089972261530674,1.8716902719285178,1.994868261406407,1.8336798959815686,1.6678487807561941,1.6732068633409778,1.6147660538978612,1.6290203065678526,0.8281617635470668,1.572998124953956,0.5696156763656138,1.7022938270410082,1.5275130960964043,1.6310412532606735,1.7456025277173548,1.6651125633017807,1.8106470399671875,1.5896199547417038,1.940843729805985,1.4565367825646691,1.4094817724508781,1.231136103919522,1.702833330958008,1.2943857216285097,1.64167260141673,1.7684188993452816,1.530143825630731,1.6056846736691026,1.148449079908304,1.8762627407101242,1.9273214921268056,1.9210552774689458,1.987784372049627,1.9782856922143854,1.9729145731458064,1.99935362127229,1.955609807295467,1.9546534641912952,1.9610313096164815,1.9318779926659913,1.9005275751682589,1.9994581105932427,1.9523960075666291,1.8670064835971225,1.910247109657164,1.9595686944831916,1.9645198923744362,1.9088421386503824,1.972597656045319,1.9736371176177279,1.996192488996742,1.9598004778171758,1.9376194571257197,1.857108781676703,1.9945448980397333,1.9811640543626419,1.9957911719643615,1.9984410216252335,1.9187032370052315,1.8832022380530524,1.9975574119355541,1.9479868632616144,1.9675340440944726,1.92529896007953,1.970111990341358,1.879164893098864,1.960471683267793,1.9211808349644734,1.8560955821476866,1.8279504187411253,1.9974607567965037,1.956883484670687,1.9200742791557648,1.997063038469882,1.9628316414947815,1.8947104967061976,1.930565039547028,1.9996412367603194,1.8864172724588395,1.9469552397995906,1.9197679226712236,1.9649336846758534,1.9111864381773558,1.9664468107860933,1.847272882612149,1.9276176566431715,1.9604058665461144,1.8896457399334867,0.002423212933105434,1.8990124523659748,1.884144907662886,1.9341492818975723,1.9479135025796956,1.9235121317800814,1.96476764191432,1.8665888101919146,1.8623997930558394,1.8239285623868542,1.8946562740620025,1.9606454607375359,1.9293332362511837,1.9687858205274347,1.8708406614071382,1.9060580619764773,1.9948758170910208,1.9300922210280247,1.826152298709048,1.8122086775201667,1.8507130454819765,1.8864663594003392,1.9659421106342345,1.930879077761309,1.996714464817969,1.8411310953562816,1.904810291877748,1.95826644491093,1.9286488083329076,1.8925010972950012,1.8523376188263183,1.9623604885114911,1.8066354964707998,0.32726746922919125,1.9254491173073618,1.9992342723750522,1.8715726476043915,1.9455131509999488,1.9025255444835127,1.966179806138145,1.9570245508384574,1.9659304276917162,1.9977375114673068,1.9165075484887928,1.9948166690017741,1.9449715757116866,1.9131090240095225,1.9049364264912292,1.9981616804441251,1.9137186009900544,1.7945552601558497,0.9983532755801567,1.8730047949106265,1.9345309969535156,1.8391723293241946,1.8308558960788477,1.9319526450492734,1.8862219806768115,1.9979429455026108,1.9605401381080478,1.908914208819851,0.9125511471373855,1.8474366165412972,1.951622898890034,1.9247298991955941,1.9981591120528068,0.690925610498851,1.0740184346185186,1.797907907187886,1.8938418189086224,1.875653821521089],\"y\":[0.5105520384385376,0.5117557283045034,0.5111011715378173,0.5118251280472446,0.508688780799259,0.502422904200309,0.5077450702120048,0.5068761017811202,0.5179582842847459,0.5041228822467456,0.5065805115929254,0.5176581525972694,0.5151565334557799,0.5129692082172743,0.5164989676666533,0.5115633400743305,0.5103259450785704,0.5143034486183181,0.5101669518821805,0.5088250492990645,0.5108948679683327,0.5116036064725434,0.5155016479535784,0.510535702490257,0.5176288711755088,0.5099963209272349,0.5209281164695178,0.5119003000826531,0.5194116618109963,0.5154183986030842,0.5192545221998903,0.5216443392582002,0.5175565393363311,0.5221885753613213,0.5214192472508321,0.520258663571547,0.507934546219216,0.5144321084834816,0.512550107924761,0.5126574462830329,0.5098320886491863,0.516208039187437,0.5072605259054944,0.5060582937500164,0.5114366975969721,0.5199951608703771,0.5047752032363579,0.511851921089927,0.5147729122231757,0.5176114973106606,0.518453389547838,0.5217101359476163,0.5123151903999825,0.5119921010454067,0.515251271509416,0.5183016653341725,0.509261235466214,0.5213435969209237,0.5171737688956782,0.5050027300511264,0.507280772968143,0.5099694443005853,0.5240374780797992,0.511590259584645,0.5087932800047491,0.5230586545896388,0.5132513891227479,0.5098103453359499,0.5157279215753718,0.5152726176474335,0.5225464601674759,0.5220841141027321,0.5091231410192523,0.5215321924854998,0.5212797769915154,0.5143363715819702,0.5164757006184351,0.5093911015325832,0.5067424105619299,0.516765408587688,0.5111266759045212,0.5150135753000192,0.5201262570677527,0.5106156117748067,0.5224459235948542,0.5236512177349909,0.5121052316174268,0.5242701123559599,0.5120137655914996,0.5084158391936504,0.5189906519867217,0.5080132892873349,0.5131127323272895,0.5152081884060504,0.5172362340305938,0.5180434369228605,0.508333394491373,0.5117905247464768,0.5258155547240804,0.5165582208410217,0.5219119530327474,0.5135416728734973,0.5223757315068067,0.5229275046148683,0.5161874711262271,0.5103741407716541,0.5097420776720515,0.5123884829898353,0.5102043845090245,0.517798235827628,0.5098875786883744,0.5164440034326456,0.5086955761365709,0.5201959162903123,0.5135490878543777,0.5200518162681492,0.5193742430872418,0.5040191914871861,0.5243879932034385,0.5177610027061672,0.5100611495045697,0.5142877513540358,0.5180457437454238,0.5207735526030238,0.5205132949767838,0.5081068805542177,0.5157313710768465,0.5149509514241815,0.5162873299995328,0.5237566087952517,0.5093142675321157,0.514853631496738,0.5213482432174852,0.5185606346031333,0.519244187335907,0.5136123527021536,0.525640566238093,0.5024431245909005,0.5073738631222062,0.5199327054709793,0.5201118380119076,0.5110277614617761,0.517156421719933,0.5186610436218262,0.5133938983050848,0.5221408567789763,0.5167605774911128,0.5221386115830129,0.5124721808844308,0.5165720421517848,0.52099212190779,0.5112984228761679,0.5154339440299425,0.5125469943684621,0.5143488945909076,0.5121362800823374,0.515322990844354,0.5179339296857333,0.5194087831357227,0.5156250280122842,0.5225590248178609,0.5050398419941429,0.509339953785729,0.5156587221489015,0.5061620241253206,0.5185193764332539,0.5178886562971992,0.5129917969792106,0.5147348741896289,0.51083839966018,0.5204726461198668,0.5235899703151645,0.5193811900649881,0.5232329443387898,0.5238545776457524,0.5227184016112215,0.5220015207479076,0.5224004529156445,0.507820499299539,0.5119125085162162,0.5155688567052932,0.5192405964972049,0.5091816249409542,0.5165209496507797,0.5206506850527195,0.5119362500337372,0.5225584818391351,0.5200305450117553,0.5159643476942259,0.5259738901209255,0.5230142613624658,0.5086739209055744,0.5148573365644202,0.5155699716625282,0.5044805484252756,0.5225043171547195,0.5241080805830496,0.5251587844828959,0.5134018599940777,0.5181680298823264,0.51761636017428,0.5197929249352891,0.5176094902909323,0.5268583669279858,0.5169192730156766,0.50887553768118,0.5044892342289424,0.5180498460106935,0.5092413484472362,0.517283911371078,0.5168148841370849,0.5200631902956209,0.5161146193256285,0.5152234287510182,0.5097143174248966,0.5097652750403154,0.5136454471953993,0.5149050103885058,0.5142289276357395,0.5003055308297447,0.517644283427416,0.523721604495719,0.5191429763340554,0.514672328637602,0.5230284309620132,0.5129366389951872,0.5200820559932977,0.5123067806264059,0.5234625817357462,0.5135782927078938,0.5160065295373328,0.5190349190820366,0.5261956799260188,0.5184555413670273,0.5145625996299257,0.5246381299406898,0.5228726309241455,0.5202885794307965,0.5165303058418664,0.5138974800993763,0.5086814640040338,0.5214935570061218,0.5108196501911317,0.5163938129734778,0.511049408831927,0.5144769896037754,0.5140703098558388,0.5236734649979744,0.5134968579513262,0.5195266064234975,0.5092153252512164,0.5135102703054051,0.5158183502042601,0.5199723884031293,0.5107865074391033,0.5172018683028325,0.5231946407665196,0.5059651078900768,0.5141686155792288,0.505457912319492,0.5137306523814298,0.5040617212687775,0.5088158723652951,0.522051946947798,0.5213273362231795,0.5134606455182225,0.5145954962468724,0.5263229342918161,0.5253237462981792,0.5153207374216776,0.5194433628468402,0.5255218793956485,0.5110797511340589,0.5092895571405593,0.5084761200803158,0.5238922066892246,0.5162063022351715,0.5123736022262364,0.5122398910056385,0.5067408717698305,0.50661721296526,0.5044877222692634,0.522209329152687,0.5233092307412435,0.5140282557283112,0.5031485195399605,0.5061371841155236,0.5155211965868709,0.520166157126315,0.5214932558615077,0.5082050659909071,0.5044608865228859,0.5141337811363,0.5157010220238951,0.5175957953371367,0.5113060453468672,0.5029240243589764,0.5144404256443241,0.5238114456372589,0.5178268681528937],\"type\":\"scatter\"}],                        {\"title\":{\"text\":\"Slice Plot\"},\"template\":{\"data\":{\"histogram2dcontour\":[{\"type\":\"histogram2dcontour\",\"colorbar\":{\"outlinewidth\":0,\"ticks\":\"\"},\"colorscale\":[[0.0,\"#0d0887\"],[0.1111111111111111,\"#46039f\"],[0.2222222222222222,\"#7201a8\"],[0.3333333333333333,\"#9c179e\"],[0.4444444444444444,\"#bd3786\"],[0.5555555555555556,\"#d8576b\"],[0.6666666666666666,\"#ed7953\"],[0.7777777777777778,\"#fb9f3a\"],[0.8888888888888888,\"#fdca26\"],[1.0,\"#f0f921\"]]}],\"choropleth\":[{\"type\":\"choropleth\",\"colorbar\":{\"outlinewidth\":0,\"ticks\":\"\"}}],\"histogram2d\":[{\"type\":\"histogram2d\",\"colorbar\":{\"outlinewidth\":0,\"ticks\":\"\"},\"colorscale\":[[0.0,\"#0d0887\"],[0.1111111111111111,\"#46039f\"],[0.2222222222222222,\"#7201a8\"],[0.3333333333333333,\"#9c179e\"],[0.4444444444444444,\"#bd3786\"],[0.5555555555555556,\"#d8576b\"],[0.6666666666666666,\"#ed7953\"],[0.7777777777777778,\"#fb9f3a\"],[0.8888888888888888,\"#fdca26\"],[1.0,\"#f0f921\"]]}],\"heatmap\":[{\"type\":\"heatmap\",\"colorbar\":{\"outlinewidth\":0,\"ticks\":\"\"},\"colorscale\":[[0.0,\"#0d0887\"],[0.1111111111111111,\"#46039f\"],[0.2222222222222222,\"#7201a8\"],[0.3333333333333333,\"#9c179e\"],[0.4444444444444444,\"#bd3786\"],[0.5555555555555556,\"#d8576b\"],[0.6666666666666666,\"#ed7953\"],[0.7777777777777778,\"#fb9f3a\"],[0.8888888888888888,\"#fdca26\"],[1.0,\"#f0f921\"]]}],\"heatmapgl\":[{\"type\":\"heatmapgl\",\"colorbar\":{\"outlinewidth\":0,\"ticks\":\"\"},\"colorscale\":[[0.0,\"#0d0887\"],[0.1111111111111111,\"#46039f\"],[0.2222222222222222,\"#7201a8\"],[0.3333333333333333,\"#9c179e\"],[0.4444444444444444,\"#bd3786\"],[0.5555555555555556,\"#d8576b\"],[0.6666666666666666,\"#ed7953\"],[0.7777777777777778,\"#fb9f3a\"],[0.8888888888888888,\"#fdca26\"],[1.0,\"#f0f921\"]]}],\"contourcarpet\":[{\"type\":\"contourcarpet\",\"colorbar\":{\"outlinewidth\":0,\"ticks\":\"\"}}],\"contour\":[{\"type\":\"contour\",\"colorbar\":{\"outlinewidth\":0,\"ticks\":\"\"},\"colorscale\":[[0.0,\"#0d0887\"],[0.1111111111111111,\"#46039f\"],[0.2222222222222222,\"#7201a8\"],[0.3333333333333333,\"#9c179e\"],[0.4444444444444444,\"#bd3786\"],[0.5555555555555556,\"#d8576b\"],[0.6666666666666666,\"#ed7953\"],[0.7777777777777778,\"#fb9f3a\"],[0.8888888888888888,\"#fdca26\"],[1.0,\"#f0f921\"]]}],\"surface\":[{\"type\":\"surface\",\"colorbar\":{\"outlinewidth\":0,\"ticks\":\"\"},\"colorscale\":[[0.0,\"#0d0887\"],[0.1111111111111111,\"#46039f\"],[0.2222222222222222,\"#7201a8\"],[0.3333333333333333,\"#9c179e\"],[0.4444444444444444,\"#bd3786\"],[0.5555555555555556,\"#d8576b\"],[0.6666666666666666,\"#ed7953\"],[0.7777777777777778,\"#fb9f3a\"],[0.8888888888888888,\"#fdca26\"],[1.0,\"#f0f921\"]]}],\"mesh3d\":[{\"type\":\"mesh3d\",\"colorbar\":{\"outlinewidth\":0,\"ticks\":\"\"}}],\"scatter\":[{\"fillpattern\":{\"fillmode\":\"overlay\",\"size\":10,\"solidity\":0.2},\"type\":\"scatter\"}],\"parcoords\":[{\"type\":\"parcoords\",\"line\":{\"colorbar\":{\"outlinewidth\":0,\"ticks\":\"\"}}}],\"scatterpolargl\":[{\"type\":\"scatterpolargl\",\"marker\":{\"colorbar\":{\"outlinewidth\":0,\"ticks\":\"\"}}}],\"bar\":[{\"error_x\":{\"color\":\"#2a3f5f\"},\"error_y\":{\"color\":\"#2a3f5f\"},\"marker\":{\"line\":{\"color\":\"#E5ECF6\",\"width\":0.5},\"pattern\":{\"fillmode\":\"overlay\",\"size\":10,\"solidity\":0.2}},\"type\":\"bar\"}],\"scattergeo\":[{\"type\":\"scattergeo\",\"marker\":{\"colorbar\":{\"outlinewidth\":0,\"ticks\":\"\"}}}],\"scatterpolar\":[{\"type\":\"scatterpolar\",\"marker\":{\"colorbar\":{\"outlinewidth\":0,\"ticks\":\"\"}}}],\"histogram\":[{\"marker\":{\"pattern\":{\"fillmode\":\"overlay\",\"size\":10,\"solidity\":0.2}},\"type\":\"histogram\"}],\"scattergl\":[{\"type\":\"scattergl\",\"marker\":{\"colorbar\":{\"outlinewidth\":0,\"ticks\":\"\"}}}],\"scatter3d\":[{\"type\":\"scatter3d\",\"line\":{\"colorbar\":{\"outlinewidth\":0,\"ticks\":\"\"}},\"marker\":{\"colorbar\":{\"outlinewidth\":0,\"ticks\":\"\"}}}],\"scattermapbox\":[{\"type\":\"scattermapbox\",\"marker\":{\"colorbar\":{\"outlinewidth\":0,\"ticks\":\"\"}}}],\"scatterternary\":[{\"type\":\"scatterternary\",\"marker\":{\"colorbar\":{\"outlinewidth\":0,\"ticks\":\"\"}}}],\"scattercarpet\":[{\"type\":\"scattercarpet\",\"marker\":{\"colorbar\":{\"outlinewidth\":0,\"ticks\":\"\"}}}],\"carpet\":[{\"aaxis\":{\"endlinecolor\":\"#2a3f5f\",\"gridcolor\":\"white\",\"linecolor\":\"white\",\"minorgridcolor\":\"white\",\"startlinecolor\":\"#2a3f5f\"},\"baxis\":{\"endlinecolor\":\"#2a3f5f\",\"gridcolor\":\"white\",\"linecolor\":\"white\",\"minorgridcolor\":\"white\",\"startlinecolor\":\"#2a3f5f\"},\"type\":\"carpet\"}],\"table\":[{\"cells\":{\"fill\":{\"color\":\"#EBF0F8\"},\"line\":{\"color\":\"white\"}},\"header\":{\"fill\":{\"color\":\"#C8D4E3\"},\"line\":{\"color\":\"white\"}},\"type\":\"table\"}],\"barpolar\":[{\"marker\":{\"line\":{\"color\":\"#E5ECF6\",\"width\":0.5},\"pattern\":{\"fillmode\":\"overlay\",\"size\":10,\"solidity\":0.2}},\"type\":\"barpolar\"}],\"pie\":[{\"automargin\":true,\"type\":\"pie\"}]},\"layout\":{\"autotypenumbers\":\"strict\",\"colorway\":[\"#636efa\",\"#EF553B\",\"#00cc96\",\"#ab63fa\",\"#FFA15A\",\"#19d3f3\",\"#FF6692\",\"#B6E880\",\"#FF97FF\",\"#FECB52\"],\"font\":{\"color\":\"#2a3f5f\"},\"hovermode\":\"closest\",\"hoverlabel\":{\"align\":\"left\"},\"paper_bgcolor\":\"white\",\"plot_bgcolor\":\"#E5ECF6\",\"polar\":{\"bgcolor\":\"#E5ECF6\",\"angularaxis\":{\"gridcolor\":\"white\",\"linecolor\":\"white\",\"ticks\":\"\"},\"radialaxis\":{\"gridcolor\":\"white\",\"linecolor\":\"white\",\"ticks\":\"\"}},\"ternary\":{\"bgcolor\":\"#E5ECF6\",\"aaxis\":{\"gridcolor\":\"white\",\"linecolor\":\"white\",\"ticks\":\"\"},\"baxis\":{\"gridcolor\":\"white\",\"linecolor\":\"white\",\"ticks\":\"\"},\"caxis\":{\"gridcolor\":\"white\",\"linecolor\":\"white\",\"ticks\":\"\"}},\"coloraxis\":{\"colorbar\":{\"outlinewidth\":0,\"ticks\":\"\"}},\"colorscale\":{\"sequential\":[[0.0,\"#0d0887\"],[0.1111111111111111,\"#46039f\"],[0.2222222222222222,\"#7201a8\"],[0.3333333333333333,\"#9c179e\"],[0.4444444444444444,\"#bd3786\"],[0.5555555555555556,\"#d8576b\"],[0.6666666666666666,\"#ed7953\"],[0.7777777777777778,\"#fb9f3a\"],[0.8888888888888888,\"#fdca26\"],[1.0,\"#f0f921\"]],\"sequentialminus\":[[0.0,\"#0d0887\"],[0.1111111111111111,\"#46039f\"],[0.2222222222222222,\"#7201a8\"],[0.3333333333333333,\"#9c179e\"],[0.4444444444444444,\"#bd3786\"],[0.5555555555555556,\"#d8576b\"],[0.6666666666666666,\"#ed7953\"],[0.7777777777777778,\"#fb9f3a\"],[0.8888888888888888,\"#fdca26\"],[1.0,\"#f0f921\"]],\"diverging\":[[0,\"#8e0152\"],[0.1,\"#c51b7d\"],[0.2,\"#de77ae\"],[0.3,\"#f1b6da\"],[0.4,\"#fde0ef\"],[0.5,\"#f7f7f7\"],[0.6,\"#e6f5d0\"],[0.7,\"#b8e186\"],[0.8,\"#7fbc41\"],[0.9,\"#4d9221\"],[1,\"#276419\"]]},\"xaxis\":{\"gridcolor\":\"white\",\"linecolor\":\"white\",\"ticks\":\"\",\"title\":{\"standoff\":15},\"zerolinecolor\":\"white\",\"automargin\":true,\"zerolinewidth\":2},\"yaxis\":{\"gridcolor\":\"white\",\"linecolor\":\"white\",\"ticks\":\"\",\"title\":{\"standoff\":15},\"zerolinecolor\":\"white\",\"automargin\":true,\"zerolinewidth\":2},\"scene\":{\"xaxis\":{\"backgroundcolor\":\"#E5ECF6\",\"gridcolor\":\"white\",\"linecolor\":\"white\",\"showbackground\":true,\"ticks\":\"\",\"zerolinecolor\":\"white\",\"gridwidth\":2},\"yaxis\":{\"backgroundcolor\":\"#E5ECF6\",\"gridcolor\":\"white\",\"linecolor\":\"white\",\"showbackground\":true,\"ticks\":\"\",\"zerolinecolor\":\"white\",\"gridwidth\":2},\"zaxis\":{\"backgroundcolor\":\"#E5ECF6\",\"gridcolor\":\"white\",\"linecolor\":\"white\",\"showbackground\":true,\"ticks\":\"\",\"zerolinecolor\":\"white\",\"gridwidth\":2}},\"shapedefaults\":{\"line\":{\"color\":\"#2a3f5f\"}},\"annotationdefaults\":{\"arrowcolor\":\"#2a3f5f\",\"arrowhead\":0,\"arrowwidth\":1},\"geo\":{\"bgcolor\":\"white\",\"landcolor\":\"#E5ECF6\",\"subunitcolor\":\"white\",\"showland\":true,\"showlakes\":true,\"lakecolor\":\"white\"},\"title\":{\"x\":0.05},\"mapbox\":{\"style\":\"light\"}}},\"xaxis\":{\"title\":{\"text\":\"bagging_temperature\"}},\"yaxis\":{\"title\":{\"text\":\"Objective Value\"}}},                        {\"responsive\": true}                    ).then(function(){\n",
       "                            \n",
       "var gd = document.getElementById('55a18338-befb-453c-a82f-5afce8adcf20');\n",
       "var x = new MutationObserver(function (mutations, observer) {{\n",
       "        var display = window.getComputedStyle(gd).display;\n",
       "        if (!display || display === 'none') {{\n",
       "            console.log([gd, 'removed!']);\n",
       "            Plotly.purge(gd);\n",
       "            observer.disconnect();\n",
       "        }}\n",
       "}});\n",
       "\n",
       "// Listen for the removal of the full notebook cells\n",
       "var notebookContainer = gd.closest('#notebook-container');\n",
       "if (notebookContainer) {{\n",
       "    x.observe(notebookContainer, {childList: true});\n",
       "}}\n",
       "\n",
       "// Listen for the clearing of the current output cell\n",
       "var outputEl = gd.closest('.output');\n",
       "if (outputEl) {{\n",
       "    x.observe(outputEl, {childList: true});\n",
       "}}\n",
       "\n",
       "                        })                };                });            </script>        </div>"
      ]
     },
     "metadata": {},
     "output_type": "display_data"
    },
    {
     "data": {
      "application/vnd.plotly.v1+json": {
       "config": {
        "plotlyServerURL": "https://plot.ly"
       },
       "data": [
        {
         "marker": {
          "color": [
           0,
           1,
           2,
           3,
           4,
           5,
           6,
           7,
           8,
           9,
           10,
           11,
           12,
           13,
           14,
           15,
           16,
           17,
           18,
           19,
           20,
           21,
           22,
           23,
           24,
           25,
           26,
           27,
           28,
           29,
           30,
           31,
           32,
           33,
           34,
           35,
           36,
           37,
           38,
           39,
           40,
           41,
           42,
           43,
           44,
           45,
           46,
           47,
           48,
           49,
           50,
           51,
           52,
           53,
           54,
           55,
           56,
           57,
           58,
           59,
           60,
           61,
           62,
           63,
           64,
           65,
           66,
           67,
           68,
           69,
           70,
           71,
           72,
           73,
           74,
           75,
           76,
           77,
           78,
           79,
           80,
           81,
           82,
           83,
           84,
           85,
           86,
           87,
           88,
           89,
           90,
           91,
           92,
           93,
           94,
           95,
           96,
           97,
           98,
           99,
           100,
           101,
           102,
           103,
           104,
           105,
           106,
           107,
           108,
           109,
           110,
           111,
           112,
           113,
           114,
           115,
           116,
           117,
           118,
           119,
           120,
           121,
           122,
           123,
           124,
           125,
           126,
           127,
           128,
           129,
           130,
           131,
           132,
           133,
           134,
           135,
           136,
           137,
           138,
           139,
           140,
           141,
           142,
           143,
           144,
           145,
           146,
           147,
           148,
           149,
           150,
           151,
           152,
           153,
           154,
           155,
           156,
           157,
           158,
           159,
           160,
           161,
           162,
           163,
           164,
           165,
           166,
           167,
           168,
           169,
           170,
           171,
           172,
           173,
           174,
           175,
           176,
           177,
           178,
           179,
           180,
           181,
           182,
           183,
           184,
           185,
           186,
           187,
           188,
           189,
           190,
           191,
           192,
           193,
           194,
           195,
           196,
           197,
           198,
           199,
           200,
           201,
           202,
           203,
           204,
           205,
           206,
           207,
           208,
           209,
           210,
           211,
           212,
           213,
           214,
           215,
           216,
           217,
           218,
           219,
           220,
           221,
           222,
           223,
           224,
           225,
           226,
           227,
           228,
           229,
           230,
           231,
           232,
           233,
           234,
           235,
           236,
           237,
           238,
           239,
           240,
           241,
           242,
           243,
           244,
           245,
           246,
           247,
           248,
           249,
           250,
           251,
           252,
           253,
           254,
           255,
           256,
           257,
           258,
           259,
           260,
           261,
           262,
           263,
           264,
           265,
           266,
           267,
           268,
           269,
           270,
           271,
           272,
           273,
           274,
           275,
           276,
           277,
           278,
           279,
           280,
           281,
           282,
           283,
           284,
           285,
           286,
           287,
           288,
           289,
           290,
           291,
           292,
           293,
           294,
           295,
           296,
           297,
           298,
           299
          ],
          "colorbar": {
           "title": {
            "text": "Trial"
           },
           "x": 1,
           "xpad": 40,
           "y": 0.5
          },
          "colorscale": [
           [
            0,
            "rgb(247,251,255)"
           ],
           [
            0.125,
            "rgb(222,235,247)"
           ],
           [
            0.25,
            "rgb(198,219,239)"
           ],
           [
            0.375,
            "rgb(158,202,225)"
           ],
           [
            0.5,
            "rgb(107,174,214)"
           ],
           [
            0.625,
            "rgb(66,146,198)"
           ],
           [
            0.75,
            "rgb(33,113,181)"
           ],
           [
            0.875,
            "rgb(8,81,156)"
           ],
           [
            1,
            "rgb(8,48,107)"
           ]
          ],
          "line": {
           "color": "Grey",
           "width": 0.5
          }
         },
         "mode": "markers",
         "name": "Feasible Trial",
         "showlegend": false,
         "type": "scatter",
         "x": [
          2.947288124829912,
          1.2810088466563667,
          1.578475662927314,
          2.8642390365072523,
          2.1408178953804113,
          0.15427314776811196,
          2.4625293783819577,
          1.3937019467881036,
          1.9145777118459395,
          0.13521028114080902,
          4.551189370275445,
          3.52050276990459,
          4.226499068578935,
          3.62526125098576,
          3.728272404065801,
          3.400947149966334,
          4.888447381325216,
          1.8542126178908425,
          1.0086183034263694,
          2.996497958190217,
          0.6382271798158046,
          3.9057607500759586,
          3.406244283533444,
          3.9984569122123674,
          2.512775988650302,
          2.3729001541301975,
          1.9836332222282897,
          1.9717638251176757,
          0.872664096721603,
          0.7542341645410193,
          1.7269555156885745,
          1.6657815428256568,
          1.1726827188902436,
          1.5980325206885093,
          0.6734467208822005,
          0.45335870826628377,
          1.4190054759037534,
          1.5143989026915643,
          2.2347328375444,
          0.4278766628405628,
          1.1791206440011026,
          0.5245092531346587,
          0.03717593677681652,
          0.32428374132888216,
          1.6861999496927558,
          2.8457786744046136,
          1.1024087544858283,
          2.0620328729415274,
          2.6474094350138397,
          0.8563845050472405,
          1.3781563858090256,
          3.1655475919811518,
          3.078403639013931,
          0.23057077000312343,
          1.8179834664028882,
          2.251400780339414,
          3.2444945751480594,
          2.691561915984469,
          2.695064145641011,
          2.5390858891867927,
          2.0961708417229583,
          2.8842206775158274,
          1.5324446989712674,
          1.6186542569994962,
          2.3139532367684628,
          1.9441253928150042,
          3.125099987421915,
          1.8484790999523444,
          3.279787944170472,
          1.2977542996868578,
          1.5113806251816824,
          1.5170584190880332,
          0.981446217311851,
          1.5574954097422506,
          1.5811608353492188,
          1.3862898518326794,
          1.7088721530072413,
          1.5407141065315486,
          1.8762156329937163,
          1.2625947137670703,
          1.4682371242200167,
          2.0158650403453744,
          1.102914114469423,
          1.7723289575825807,
          2.1911503106493453,
          1.6173031347742066,
          2.412383177511508,
          2.195412035471441,
          2.1311537036605364,
          2.1900599303721915,
          1.925266342031985,
          1.691842216154363,
          1.3042123533221486,
          4.452525159274145,
          2.0001105696298507,
          1.773133787074253,
          1.6309103110778285,
          1.466740735203683,
          2.3038609452431023,
          2.560430982230795,
          2.321618913358432,
          2.238062221007689,
          2.3330401917001615,
          2.408459514775913,
          2.4360002333567206,
          2.168149159247406,
          1.935371253645014,
          2.8069712517060923,
          2.0806536701946685,
          2.3311012205875836,
          2.5064702676104833,
          2.626770294556029,
          2.375320201203287,
          2.2607432636464493,
          2.765161372242332,
          1.8938152314867525,
          2.1142493317837823,
          1.8209445121888002,
          2.0125906131549827,
          2.033595228208662,
          1.2110777152947048,
          1.3890462565315997,
          2.3251174681465714,
          2.4588923491982415,
          1.7593094973897982,
          2.1836541004220287,
          1.522482175651386,
          1.632122739444556,
          1.9651780099624871,
          2.553073865488473,
          2.9550332145166305,
          2.2981735771860796,
          2.541066527517293,
          2.403080983168506,
          2.6760688775403025,
          2.126203616350386,
          1.870172380983327,
          1.693438556129045,
          1.8638368287904319,
          1.9927256963872764,
          1.7865506888469507,
          2.193036402158368,
          1.509201475334036,
          1.3298063780943836,
          2.5998266949185296,
          2.4016255463663914,
          2.466520196401405,
          2.0578464045728464,
          2.0640626471008083,
          2.253648077609763,
          2.1026660465567275,
          1.6326165928822851,
          1.946945530665812,
          1.4486441753323354,
          1.839172942755889,
          2.362217061266372,
          1.5759037530544684,
          1.721301062351866,
          2.226028108584294,
          2.7342061650895064,
          2.025907192698332,
          2.0320356153029087,
          2.445072403936128,
          2.1742980226606567,
          1.9171687304391887,
          2.04698405167394,
          2.312797263561573,
          1.810843743813086,
          2.5973759490103148,
          1.663480800377696,
          1.3987084545917208,
          2.36612152871279,
          2.410290034523325,
          2.164882887466412,
          2.224290072347503,
          2.5105037480580976,
          2.5313928713755773,
          2.162957149765704,
          2.2224293678230893,
          2.1647999879734945,
          2.2827229967242966,
          2.3105626359713516,
          2.516588320991068,
          2.13972024945845,
          1.9628620543348396,
          2.3864203121006704,
          2.23242897919137,
          2.2102071551140736,
          2.483428896655888,
          2.10326830747587,
          2.0838030305376876,
          2.1153766102918774,
          1.9972182816441029,
          1.8897418311552263,
          2.09683097255085,
          2.270788184707508,
          4.955788095515429,
          4.917159389929141,
          4.705718046541451,
          4.984663303953848,
          4.740114405467855,
          4.279381444777083,
          4.715512607462188,
          2.271974121647787,
          4.941495118816004,
          3.901907376482227,
          1.9971020365555312,
          3.5609761721629756,
          1.9321189230299314,
          2.0789628417104966,
          2.266303352306538,
          4.866266410945368,
          2.337050520704562,
          2.245893681965055,
          2.4181547441137856,
          3.7236793351291024,
          2.2518386082372146,
          2.12379071208695,
          1.8202818620940655,
          2.008035581640661,
          4.782656439203203,
          2.165634228575195,
          2.333814358074119,
          2.1844128653470425,
          4.8683379265049656,
          4.586474303606064,
          4.889507679430798,
          4.971278275879776,
          2.05942390301341,
          4.860502863083495,
          1.9091942047608825,
          2.0351726846084386,
          2.1108241710643556,
          2.13215634645235,
          2.056084625833187,
          2.206539396529653,
          4.814863537851505,
          4.542501364210489,
          4.800359785605176,
          4.845172334582572,
          4.660382170181507,
          4.914341088009227,
          2.134492080255574,
          1.935319413655911,
          4.973576733527515,
          2.056430020124301,
          3.3988044556326393,
          2.3612355333875708,
          2.3710275408083756,
          2.452281208768741,
          2.3156795902150744,
          2.1994610145950273,
          2.558877403716712,
          2.2175172177441422,
          2.4304346679393887,
          2.3148383071307745,
          2.13727930653215,
          2.13481841141102,
          2.1106440607244155,
          1.9881713428304761,
          4.182120654050626,
          1.8416439734109638,
          2.207951077799818,
          2.25642606316991,
          2.0912808929010627,
          1.9194245270447847,
          1.7372352222028435,
          4.800775177243388,
          4.993967886384042,
          4.779054360422251,
          4.984471668197969,
          4.918409607160245,
          4.889656939483071,
          4.901911829832208,
          4.809429927329806,
          4.954588135459559,
          4.982053675288443,
          4.649522304307886,
          4.979814796619102,
          4.988963305110088,
          4.86371592731685,
          2.218748066479808,
          4.713469592134937,
          1.9629180106222546,
          4.778457520069927,
          2.331203420765006,
          2.003388827850153,
          2.163239470674398,
          4.898218778388139,
          1.8448791187738585,
          2.037380683170919,
          4.9929421024957295,
          2.3078316645243975,
          2.1477042475069545,
          2.2546198221650533,
          1.9335054323738154,
          2.366051813865985,
          3.0579559448366203,
          4.538314978091472,
          4.851718388625853
         ],
         "y": [
          0.5105520384385376,
          0.5117557283045034,
          0.5111011715378173,
          0.5118251280472446,
          0.508688780799259,
          0.502422904200309,
          0.5077450702120048,
          0.5068761017811202,
          0.5179582842847459,
          0.5041228822467456,
          0.5065805115929254,
          0.5176581525972694,
          0.5151565334557799,
          0.5129692082172743,
          0.5164989676666533,
          0.5115633400743305,
          0.5103259450785704,
          0.5143034486183181,
          0.5101669518821805,
          0.5088250492990645,
          0.5108948679683327,
          0.5116036064725434,
          0.5155016479535784,
          0.510535702490257,
          0.5176288711755088,
          0.5099963209272349,
          0.5209281164695178,
          0.5119003000826531,
          0.5194116618109963,
          0.5154183986030842,
          0.5192545221998903,
          0.5216443392582002,
          0.5175565393363311,
          0.5221885753613213,
          0.5214192472508321,
          0.520258663571547,
          0.507934546219216,
          0.5144321084834816,
          0.512550107924761,
          0.5126574462830329,
          0.5098320886491863,
          0.516208039187437,
          0.5072605259054944,
          0.5060582937500164,
          0.5114366975969721,
          0.5199951608703771,
          0.5047752032363579,
          0.511851921089927,
          0.5147729122231757,
          0.5176114973106606,
          0.518453389547838,
          0.5217101359476163,
          0.5123151903999825,
          0.5119921010454067,
          0.515251271509416,
          0.5183016653341725,
          0.509261235466214,
          0.5213435969209237,
          0.5171737688956782,
          0.5050027300511264,
          0.507280772968143,
          0.5099694443005853,
          0.5240374780797992,
          0.511590259584645,
          0.5087932800047491,
          0.5230586545896388,
          0.5132513891227479,
          0.5098103453359499,
          0.5157279215753718,
          0.5152726176474335,
          0.5225464601674759,
          0.5220841141027321,
          0.5091231410192523,
          0.5215321924854998,
          0.5212797769915154,
          0.5143363715819702,
          0.5164757006184351,
          0.5093911015325832,
          0.5067424105619299,
          0.516765408587688,
          0.5111266759045212,
          0.5150135753000192,
          0.5201262570677527,
          0.5106156117748067,
          0.5224459235948542,
          0.5236512177349909,
          0.5121052316174268,
          0.5242701123559599,
          0.5120137655914996,
          0.5084158391936504,
          0.5189906519867217,
          0.5080132892873349,
          0.5131127323272895,
          0.5152081884060504,
          0.5172362340305938,
          0.5180434369228605,
          0.508333394491373,
          0.5117905247464768,
          0.5258155547240804,
          0.5165582208410217,
          0.5219119530327474,
          0.5135416728734973,
          0.5223757315068067,
          0.5229275046148683,
          0.5161874711262271,
          0.5103741407716541,
          0.5097420776720515,
          0.5123884829898353,
          0.5102043845090245,
          0.517798235827628,
          0.5098875786883744,
          0.5164440034326456,
          0.5086955761365709,
          0.5201959162903123,
          0.5135490878543777,
          0.5200518162681492,
          0.5193742430872418,
          0.5040191914871861,
          0.5243879932034385,
          0.5177610027061672,
          0.5100611495045697,
          0.5142877513540358,
          0.5180457437454238,
          0.5207735526030238,
          0.5205132949767838,
          0.5081068805542177,
          0.5157313710768465,
          0.5149509514241815,
          0.5162873299995328,
          0.5237566087952517,
          0.5093142675321157,
          0.514853631496738,
          0.5213482432174852,
          0.5185606346031333,
          0.519244187335907,
          0.5136123527021536,
          0.525640566238093,
          0.5024431245909005,
          0.5073738631222062,
          0.5199327054709793,
          0.5201118380119076,
          0.5110277614617761,
          0.517156421719933,
          0.5186610436218262,
          0.5133938983050848,
          0.5221408567789763,
          0.5167605774911128,
          0.5221386115830129,
          0.5124721808844308,
          0.5165720421517848,
          0.52099212190779,
          0.5112984228761679,
          0.5154339440299425,
          0.5125469943684621,
          0.5143488945909076,
          0.5121362800823374,
          0.515322990844354,
          0.5179339296857333,
          0.5194087831357227,
          0.5156250280122842,
          0.5225590248178609,
          0.5050398419941429,
          0.509339953785729,
          0.5156587221489015,
          0.5061620241253206,
          0.5185193764332539,
          0.5178886562971992,
          0.5129917969792106,
          0.5147348741896289,
          0.51083839966018,
          0.5204726461198668,
          0.5235899703151645,
          0.5193811900649881,
          0.5232329443387898,
          0.5238545776457524,
          0.5227184016112215,
          0.5220015207479076,
          0.5224004529156445,
          0.507820499299539,
          0.5119125085162162,
          0.5155688567052932,
          0.5192405964972049,
          0.5091816249409542,
          0.5165209496507797,
          0.5206506850527195,
          0.5119362500337372,
          0.5225584818391351,
          0.5200305450117553,
          0.5159643476942259,
          0.5259738901209255,
          0.5230142613624658,
          0.5086739209055744,
          0.5148573365644202,
          0.5155699716625282,
          0.5044805484252756,
          0.5225043171547195,
          0.5241080805830496,
          0.5251587844828959,
          0.5134018599940777,
          0.5181680298823264,
          0.51761636017428,
          0.5197929249352891,
          0.5176094902909323,
          0.5268583669279858,
          0.5169192730156766,
          0.50887553768118,
          0.5044892342289424,
          0.5180498460106935,
          0.5092413484472362,
          0.517283911371078,
          0.5168148841370849,
          0.5200631902956209,
          0.5161146193256285,
          0.5152234287510182,
          0.5097143174248966,
          0.5097652750403154,
          0.5136454471953993,
          0.5149050103885058,
          0.5142289276357395,
          0.5003055308297447,
          0.517644283427416,
          0.523721604495719,
          0.5191429763340554,
          0.514672328637602,
          0.5230284309620132,
          0.5129366389951872,
          0.5200820559932977,
          0.5123067806264059,
          0.5234625817357462,
          0.5135782927078938,
          0.5160065295373328,
          0.5190349190820366,
          0.5261956799260188,
          0.5184555413670273,
          0.5145625996299257,
          0.5246381299406898,
          0.5228726309241455,
          0.5202885794307965,
          0.5165303058418664,
          0.5138974800993763,
          0.5086814640040338,
          0.5214935570061218,
          0.5108196501911317,
          0.5163938129734778,
          0.511049408831927,
          0.5144769896037754,
          0.5140703098558388,
          0.5236734649979744,
          0.5134968579513262,
          0.5195266064234975,
          0.5092153252512164,
          0.5135102703054051,
          0.5158183502042601,
          0.5199723884031293,
          0.5107865074391033,
          0.5172018683028325,
          0.5231946407665196,
          0.5059651078900768,
          0.5141686155792288,
          0.505457912319492,
          0.5137306523814298,
          0.5040617212687775,
          0.5088158723652951,
          0.522051946947798,
          0.5213273362231795,
          0.5134606455182225,
          0.5145954962468724,
          0.5263229342918161,
          0.5253237462981792,
          0.5153207374216776,
          0.5194433628468402,
          0.5255218793956485,
          0.5110797511340589,
          0.5092895571405593,
          0.5084761200803158,
          0.5238922066892246,
          0.5162063022351715,
          0.5123736022262364,
          0.5122398910056385,
          0.5067408717698305,
          0.50661721296526,
          0.5044877222692634,
          0.522209329152687,
          0.5233092307412435,
          0.5140282557283112,
          0.5031485195399605,
          0.5061371841155236,
          0.5155211965868709,
          0.520166157126315,
          0.5214932558615077,
          0.5082050659909071,
          0.5044608865228859,
          0.5141337811363,
          0.5157010220238951,
          0.5175957953371367,
          0.5113060453468672,
          0.5029240243589764,
          0.5144404256443241,
          0.5238114456372589,
          0.5178268681528937
         ]
        }
       ],
       "layout": {
        "autosize": true,
        "template": {
         "data": {
          "bar": [
           {
            "error_x": {
             "color": "#2a3f5f"
            },
            "error_y": {
             "color": "#2a3f5f"
            },
            "marker": {
             "line": {
              "color": "#E5ECF6",
              "width": 0.5
             },
             "pattern": {
              "fillmode": "overlay",
              "size": 10,
              "solidity": 0.2
             }
            },
            "type": "bar"
           }
          ],
          "barpolar": [
           {
            "marker": {
             "line": {
              "color": "#E5ECF6",
              "width": 0.5
             },
             "pattern": {
              "fillmode": "overlay",
              "size": 10,
              "solidity": 0.2
             }
            },
            "type": "barpolar"
           }
          ],
          "carpet": [
           {
            "aaxis": {
             "endlinecolor": "#2a3f5f",
             "gridcolor": "white",
             "linecolor": "white",
             "minorgridcolor": "white",
             "startlinecolor": "#2a3f5f"
            },
            "baxis": {
             "endlinecolor": "#2a3f5f",
             "gridcolor": "white",
             "linecolor": "white",
             "minorgridcolor": "white",
             "startlinecolor": "#2a3f5f"
            },
            "type": "carpet"
           }
          ],
          "choropleth": [
           {
            "colorbar": {
             "outlinewidth": 0,
             "ticks": ""
            },
            "type": "choropleth"
           }
          ],
          "contour": [
           {
            "colorbar": {
             "outlinewidth": 0,
             "ticks": ""
            },
            "colorscale": [
             [
              0,
              "#0d0887"
             ],
             [
              0.1111111111111111,
              "#46039f"
             ],
             [
              0.2222222222222222,
              "#7201a8"
             ],
             [
              0.3333333333333333,
              "#9c179e"
             ],
             [
              0.4444444444444444,
              "#bd3786"
             ],
             [
              0.5555555555555556,
              "#d8576b"
             ],
             [
              0.6666666666666666,
              "#ed7953"
             ],
             [
              0.7777777777777778,
              "#fb9f3a"
             ],
             [
              0.8888888888888888,
              "#fdca26"
             ],
             [
              1,
              "#f0f921"
             ]
            ],
            "type": "contour"
           }
          ],
          "contourcarpet": [
           {
            "colorbar": {
             "outlinewidth": 0,
             "ticks": ""
            },
            "type": "contourcarpet"
           }
          ],
          "heatmap": [
           {
            "colorbar": {
             "outlinewidth": 0,
             "ticks": ""
            },
            "colorscale": [
             [
              0,
              "#0d0887"
             ],
             [
              0.1111111111111111,
              "#46039f"
             ],
             [
              0.2222222222222222,
              "#7201a8"
             ],
             [
              0.3333333333333333,
              "#9c179e"
             ],
             [
              0.4444444444444444,
              "#bd3786"
             ],
             [
              0.5555555555555556,
              "#d8576b"
             ],
             [
              0.6666666666666666,
              "#ed7953"
             ],
             [
              0.7777777777777778,
              "#fb9f3a"
             ],
             [
              0.8888888888888888,
              "#fdca26"
             ],
             [
              1,
              "#f0f921"
             ]
            ],
            "type": "heatmap"
           }
          ],
          "heatmapgl": [
           {
            "colorbar": {
             "outlinewidth": 0,
             "ticks": ""
            },
            "colorscale": [
             [
              0,
              "#0d0887"
             ],
             [
              0.1111111111111111,
              "#46039f"
             ],
             [
              0.2222222222222222,
              "#7201a8"
             ],
             [
              0.3333333333333333,
              "#9c179e"
             ],
             [
              0.4444444444444444,
              "#bd3786"
             ],
             [
              0.5555555555555556,
              "#d8576b"
             ],
             [
              0.6666666666666666,
              "#ed7953"
             ],
             [
              0.7777777777777778,
              "#fb9f3a"
             ],
             [
              0.8888888888888888,
              "#fdca26"
             ],
             [
              1,
              "#f0f921"
             ]
            ],
            "type": "heatmapgl"
           }
          ],
          "histogram": [
           {
            "marker": {
             "pattern": {
              "fillmode": "overlay",
              "size": 10,
              "solidity": 0.2
             }
            },
            "type": "histogram"
           }
          ],
          "histogram2d": [
           {
            "colorbar": {
             "outlinewidth": 0,
             "ticks": ""
            },
            "colorscale": [
             [
              0,
              "#0d0887"
             ],
             [
              0.1111111111111111,
              "#46039f"
             ],
             [
              0.2222222222222222,
              "#7201a8"
             ],
             [
              0.3333333333333333,
              "#9c179e"
             ],
             [
              0.4444444444444444,
              "#bd3786"
             ],
             [
              0.5555555555555556,
              "#d8576b"
             ],
             [
              0.6666666666666666,
              "#ed7953"
             ],
             [
              0.7777777777777778,
              "#fb9f3a"
             ],
             [
              0.8888888888888888,
              "#fdca26"
             ],
             [
              1,
              "#f0f921"
             ]
            ],
            "type": "histogram2d"
           }
          ],
          "histogram2dcontour": [
           {
            "colorbar": {
             "outlinewidth": 0,
             "ticks": ""
            },
            "colorscale": [
             [
              0,
              "#0d0887"
             ],
             [
              0.1111111111111111,
              "#46039f"
             ],
             [
              0.2222222222222222,
              "#7201a8"
             ],
             [
              0.3333333333333333,
              "#9c179e"
             ],
             [
              0.4444444444444444,
              "#bd3786"
             ],
             [
              0.5555555555555556,
              "#d8576b"
             ],
             [
              0.6666666666666666,
              "#ed7953"
             ],
             [
              0.7777777777777778,
              "#fb9f3a"
             ],
             [
              0.8888888888888888,
              "#fdca26"
             ],
             [
              1,
              "#f0f921"
             ]
            ],
            "type": "histogram2dcontour"
           }
          ],
          "mesh3d": [
           {
            "colorbar": {
             "outlinewidth": 0,
             "ticks": ""
            },
            "type": "mesh3d"
           }
          ],
          "parcoords": [
           {
            "line": {
             "colorbar": {
              "outlinewidth": 0,
              "ticks": ""
             }
            },
            "type": "parcoords"
           }
          ],
          "pie": [
           {
            "automargin": true,
            "type": "pie"
           }
          ],
          "scatter": [
           {
            "fillpattern": {
             "fillmode": "overlay",
             "size": 10,
             "solidity": 0.2
            },
            "type": "scatter"
           }
          ],
          "scatter3d": [
           {
            "line": {
             "colorbar": {
              "outlinewidth": 0,
              "ticks": ""
             }
            },
            "marker": {
             "colorbar": {
              "outlinewidth": 0,
              "ticks": ""
             }
            },
            "type": "scatter3d"
           }
          ],
          "scattercarpet": [
           {
            "marker": {
             "colorbar": {
              "outlinewidth": 0,
              "ticks": ""
             }
            },
            "type": "scattercarpet"
           }
          ],
          "scattergeo": [
           {
            "marker": {
             "colorbar": {
              "outlinewidth": 0,
              "ticks": ""
             }
            },
            "type": "scattergeo"
           }
          ],
          "scattergl": [
           {
            "marker": {
             "colorbar": {
              "outlinewidth": 0,
              "ticks": ""
             }
            },
            "type": "scattergl"
           }
          ],
          "scattermapbox": [
           {
            "marker": {
             "colorbar": {
              "outlinewidth": 0,
              "ticks": ""
             }
            },
            "type": "scattermapbox"
           }
          ],
          "scatterpolar": [
           {
            "marker": {
             "colorbar": {
              "outlinewidth": 0,
              "ticks": ""
             }
            },
            "type": "scatterpolar"
           }
          ],
          "scatterpolargl": [
           {
            "marker": {
             "colorbar": {
              "outlinewidth": 0,
              "ticks": ""
             }
            },
            "type": "scatterpolargl"
           }
          ],
          "scatterternary": [
           {
            "marker": {
             "colorbar": {
              "outlinewidth": 0,
              "ticks": ""
             }
            },
            "type": "scatterternary"
           }
          ],
          "surface": [
           {
            "colorbar": {
             "outlinewidth": 0,
             "ticks": ""
            },
            "colorscale": [
             [
              0,
              "#0d0887"
             ],
             [
              0.1111111111111111,
              "#46039f"
             ],
             [
              0.2222222222222222,
              "#7201a8"
             ],
             [
              0.3333333333333333,
              "#9c179e"
             ],
             [
              0.4444444444444444,
              "#bd3786"
             ],
             [
              0.5555555555555556,
              "#d8576b"
             ],
             [
              0.6666666666666666,
              "#ed7953"
             ],
             [
              0.7777777777777778,
              "#fb9f3a"
             ],
             [
              0.8888888888888888,
              "#fdca26"
             ],
             [
              1,
              "#f0f921"
             ]
            ],
            "type": "surface"
           }
          ],
          "table": [
           {
            "cells": {
             "fill": {
              "color": "#EBF0F8"
             },
             "line": {
              "color": "white"
             }
            },
            "header": {
             "fill": {
              "color": "#C8D4E3"
             },
             "line": {
              "color": "white"
             }
            },
            "type": "table"
           }
          ]
         },
         "layout": {
          "annotationdefaults": {
           "arrowcolor": "#2a3f5f",
           "arrowhead": 0,
           "arrowwidth": 1
          },
          "autotypenumbers": "strict",
          "coloraxis": {
           "colorbar": {
            "outlinewidth": 0,
            "ticks": ""
           }
          },
          "colorscale": {
           "diverging": [
            [
             0,
             "#8e0152"
            ],
            [
             0.1,
             "#c51b7d"
            ],
            [
             0.2,
             "#de77ae"
            ],
            [
             0.3,
             "#f1b6da"
            ],
            [
             0.4,
             "#fde0ef"
            ],
            [
             0.5,
             "#f7f7f7"
            ],
            [
             0.6,
             "#e6f5d0"
            ],
            [
             0.7,
             "#b8e186"
            ],
            [
             0.8,
             "#7fbc41"
            ],
            [
             0.9,
             "#4d9221"
            ],
            [
             1,
             "#276419"
            ]
           ],
           "sequential": [
            [
             0,
             "#0d0887"
            ],
            [
             0.1111111111111111,
             "#46039f"
            ],
            [
             0.2222222222222222,
             "#7201a8"
            ],
            [
             0.3333333333333333,
             "#9c179e"
            ],
            [
             0.4444444444444444,
             "#bd3786"
            ],
            [
             0.5555555555555556,
             "#d8576b"
            ],
            [
             0.6666666666666666,
             "#ed7953"
            ],
            [
             0.7777777777777778,
             "#fb9f3a"
            ],
            [
             0.8888888888888888,
             "#fdca26"
            ],
            [
             1,
             "#f0f921"
            ]
           ],
           "sequentialminus": [
            [
             0,
             "#0d0887"
            ],
            [
             0.1111111111111111,
             "#46039f"
            ],
            [
             0.2222222222222222,
             "#7201a8"
            ],
            [
             0.3333333333333333,
             "#9c179e"
            ],
            [
             0.4444444444444444,
             "#bd3786"
            ],
            [
             0.5555555555555556,
             "#d8576b"
            ],
            [
             0.6666666666666666,
             "#ed7953"
            ],
            [
             0.7777777777777778,
             "#fb9f3a"
            ],
            [
             0.8888888888888888,
             "#fdca26"
            ],
            [
             1,
             "#f0f921"
            ]
           ]
          },
          "colorway": [
           "#636efa",
           "#EF553B",
           "#00cc96",
           "#ab63fa",
           "#FFA15A",
           "#19d3f3",
           "#FF6692",
           "#B6E880",
           "#FF97FF",
           "#FECB52"
          ],
          "font": {
           "color": "#2a3f5f"
          },
          "geo": {
           "bgcolor": "white",
           "lakecolor": "white",
           "landcolor": "#E5ECF6",
           "showlakes": true,
           "showland": true,
           "subunitcolor": "white"
          },
          "hoverlabel": {
           "align": "left"
          },
          "hovermode": "closest",
          "mapbox": {
           "style": "light"
          },
          "paper_bgcolor": "white",
          "plot_bgcolor": "#E5ECF6",
          "polar": {
           "angularaxis": {
            "gridcolor": "white",
            "linecolor": "white",
            "ticks": ""
           },
           "bgcolor": "#E5ECF6",
           "radialaxis": {
            "gridcolor": "white",
            "linecolor": "white",
            "ticks": ""
           }
          },
          "scene": {
           "xaxis": {
            "backgroundcolor": "#E5ECF6",
            "gridcolor": "white",
            "gridwidth": 2,
            "linecolor": "white",
            "showbackground": true,
            "ticks": "",
            "zerolinecolor": "white"
           },
           "yaxis": {
            "backgroundcolor": "#E5ECF6",
            "gridcolor": "white",
            "gridwidth": 2,
            "linecolor": "white",
            "showbackground": true,
            "ticks": "",
            "zerolinecolor": "white"
           },
           "zaxis": {
            "backgroundcolor": "#E5ECF6",
            "gridcolor": "white",
            "gridwidth": 2,
            "linecolor": "white",
            "showbackground": true,
            "ticks": "",
            "zerolinecolor": "white"
           }
          },
          "shapedefaults": {
           "line": {
            "color": "#2a3f5f"
           }
          },
          "ternary": {
           "aaxis": {
            "gridcolor": "white",
            "linecolor": "white",
            "ticks": ""
           },
           "baxis": {
            "gridcolor": "white",
            "linecolor": "white",
            "ticks": ""
           },
           "bgcolor": "#E5ECF6",
           "caxis": {
            "gridcolor": "white",
            "linecolor": "white",
            "ticks": ""
           }
          },
          "title": {
           "x": 0.05
          },
          "xaxis": {
           "automargin": true,
           "gridcolor": "white",
           "linecolor": "white",
           "ticks": "",
           "title": {
            "standoff": 15
           },
           "zerolinecolor": "white",
           "zerolinewidth": 2
          },
          "yaxis": {
           "automargin": true,
           "gridcolor": "white",
           "linecolor": "white",
           "ticks": "",
           "title": {
            "standoff": 15
           },
           "zerolinecolor": "white",
           "zerolinewidth": 2
          }
         }
        },
        "title": {
         "text": "Slice Plot"
        },
        "xaxis": {
         "autorange": true,
         "range": [
          -0.2646799832313158,
          5.295823806392175
         ],
         "title": {
          "text": "random_strength"
         },
         "type": "linear"
        },
        "yaxis": {
         "autorange": true,
         "range": [
          0.49811427736532676,
          0.5290496203924038
         ],
         "title": {
          "text": "Objective Value"
         },
         "type": "linear"
        }
       }
      },
      "image/png": "[encoded data removed]",
      "text/html": [
       "<div>                            <div id=\"9d9502cd-21a1-4d29-964a-58ae37133a7a\" class=\"plotly-graph-div\" style=\"height:525px; width:100%;\"></div>            <script type=\"text/javascript\">                require([\"plotly\"], function(Plotly) {                    window.PLOTLYENV=window.PLOTLYENV || {};                                    if (document.getElementById(\"9d9502cd-21a1-4d29-964a-58ae37133a7a\")) {                    Plotly.newPlot(                        \"9d9502cd-21a1-4d29-964a-58ae37133a7a\",                        [{\"marker\":{\"color\":[0,1,2,3,4,5,6,7,8,9,10,11,12,13,14,15,16,17,18,19,20,21,22,23,24,25,26,27,28,29,30,31,32,33,34,35,36,37,38,39,40,41,42,43,44,45,46,47,48,49,50,51,52,53,54,55,56,57,58,59,60,61,62,63,64,65,66,67,68,69,70,71,72,73,74,75,76,77,78,79,80,81,82,83,84,85,86,87,88,89,90,91,92,93,94,95,96,97,98,99,100,101,102,103,104,105,106,107,108,109,110,111,112,113,114,115,116,117,118,119,120,121,122,123,124,125,126,127,128,129,130,131,132,133,134,135,136,137,138,139,140,141,142,143,144,145,146,147,148,149,150,151,152,153,154,155,156,157,158,159,160,161,162,163,164,165,166,167,168,169,170,171,172,173,174,175,176,177,178,179,180,181,182,183,184,185,186,187,188,189,190,191,192,193,194,195,196,197,198,199,200,201,202,203,204,205,206,207,208,209,210,211,212,213,214,215,216,217,218,219,220,221,222,223,224,225,226,227,228,229,230,231,232,233,234,235,236,237,238,239,240,241,242,243,244,245,246,247,248,249,250,251,252,253,254,255,256,257,258,259,260,261,262,263,264,265,266,267,268,269,270,271,272,273,274,275,276,277,278,279,280,281,282,283,284,285,286,287,288,289,290,291,292,293,294,295,296,297,298,299],\"colorbar\":{\"title\":{\"text\":\"Trial\"},\"x\":1.0,\"xpad\":40},\"colorscale\":[[0.0,\"rgb(247,251,255)\"],[0.125,\"rgb(222,235,247)\"],[0.25,\"rgb(198,219,239)\"],[0.375,\"rgb(158,202,225)\"],[0.5,\"rgb(107,174,214)\"],[0.625,\"rgb(66,146,198)\"],[0.75,\"rgb(33,113,181)\"],[0.875,\"rgb(8,81,156)\"],[1.0,\"rgb(8,48,107)\"]],\"line\":{\"color\":\"Grey\",\"width\":0.5}},\"mode\":\"markers\",\"name\":\"Feasible Trial\",\"showlegend\":false,\"x\":[2.947288124829912,1.2810088466563667,1.578475662927314,2.8642390365072523,2.1408178953804113,0.15427314776811196,2.4625293783819577,1.3937019467881036,1.9145777118459395,0.13521028114080902,4.551189370275445,3.52050276990459,4.226499068578935,3.62526125098576,3.728272404065801,3.400947149966334,4.888447381325216,1.8542126178908425,1.0086183034263694,2.996497958190217,0.6382271798158046,3.9057607500759586,3.406244283533444,3.9984569122123674,2.512775988650302,2.3729001541301975,1.9836332222282897,1.9717638251176757,0.872664096721603,0.7542341645410193,1.7269555156885745,1.6657815428256568,1.1726827188902436,1.5980325206885093,0.6734467208822005,0.45335870826628377,1.4190054759037534,1.5143989026915643,2.2347328375444,0.4278766628405628,1.1791206440011026,0.5245092531346587,0.03717593677681652,0.32428374132888216,1.6861999496927558,2.8457786744046136,1.1024087544858283,2.0620328729415274,2.6474094350138397,0.8563845050472405,1.3781563858090256,3.1655475919811518,3.078403639013931,0.23057077000312343,1.8179834664028882,2.251400780339414,3.2444945751480594,2.691561915984469,2.695064145641011,2.5390858891867927,2.0961708417229583,2.8842206775158274,1.5324446989712674,1.6186542569994962,2.3139532367684628,1.9441253928150042,3.125099987421915,1.8484790999523444,3.279787944170472,1.2977542996868578,1.5113806251816824,1.5170584190880332,0.981446217311851,1.5574954097422506,1.5811608353492188,1.3862898518326794,1.7088721530072413,1.5407141065315486,1.8762156329937163,1.2625947137670703,1.4682371242200167,2.0158650403453744,1.102914114469423,1.7723289575825807,2.1911503106493453,1.6173031347742066,2.412383177511508,2.195412035471441,2.1311537036605364,2.1900599303721915,1.925266342031985,1.691842216154363,1.3042123533221486,4.452525159274145,2.0001105696298507,1.773133787074253,1.6309103110778285,1.466740735203683,2.3038609452431023,2.560430982230795,2.321618913358432,2.238062221007689,2.3330401917001615,2.408459514775913,2.4360002333567206,2.168149159247406,1.935371253645014,2.8069712517060923,2.0806536701946685,2.3311012205875836,2.5064702676104833,2.626770294556029,2.375320201203287,2.2607432636464493,2.765161372242332,1.8938152314867525,2.1142493317837823,1.8209445121888002,2.0125906131549827,2.033595228208662,1.2110777152947048,1.3890462565315997,2.3251174681465714,2.4588923491982415,1.7593094973897982,2.1836541004220287,1.522482175651386,1.632122739444556,1.9651780099624871,2.553073865488473,2.9550332145166305,2.2981735771860796,2.541066527517293,2.403080983168506,2.6760688775403025,2.126203616350386,1.870172380983327,1.693438556129045,1.8638368287904319,1.9927256963872764,1.7865506888469507,2.193036402158368,1.509201475334036,1.3298063780943836,2.5998266949185296,2.4016255463663914,2.466520196401405,2.0578464045728464,2.0640626471008083,2.253648077609763,2.1026660465567275,1.6326165928822851,1.946945530665812,1.4486441753323354,1.839172942755889,2.362217061266372,1.5759037530544684,1.721301062351866,2.226028108584294,2.7342061650895064,2.025907192698332,2.0320356153029087,2.445072403936128,2.1742980226606567,1.9171687304391887,2.04698405167394,2.312797263561573,1.810843743813086,2.5973759490103148,1.663480800377696,1.3987084545917208,2.36612152871279,2.410290034523325,2.164882887466412,2.224290072347503,2.5105037480580976,2.5313928713755773,2.162957149765704,2.2224293678230893,2.1647999879734945,2.2827229967242966,2.3105626359713516,2.516588320991068,2.13972024945845,1.9628620543348396,2.3864203121006704,2.23242897919137,2.2102071551140736,2.483428896655888,2.10326830747587,2.0838030305376876,2.1153766102918774,1.9972182816441029,1.8897418311552263,2.09683097255085,2.270788184707508,4.955788095515429,4.917159389929141,4.705718046541451,4.984663303953848,4.740114405467855,4.279381444777083,4.715512607462188,2.271974121647787,4.941495118816004,3.901907376482227,1.9971020365555312,3.5609761721629756,1.9321189230299314,2.0789628417104966,2.266303352306538,4.866266410945368,2.337050520704562,2.245893681965055,2.4181547441137856,3.7236793351291024,2.2518386082372146,2.12379071208695,1.8202818620940655,2.008035581640661,4.782656439203203,2.165634228575195,2.333814358074119,2.1844128653470425,4.8683379265049656,4.586474303606064,4.889507679430798,4.971278275879776,2.05942390301341,4.860502863083495,1.9091942047608825,2.0351726846084386,2.1108241710643556,2.13215634645235,2.056084625833187,2.206539396529653,4.814863537851505,4.542501364210489,4.800359785605176,4.845172334582572,4.660382170181507,4.914341088009227,2.134492080255574,1.935319413655911,4.973576733527515,2.056430020124301,3.3988044556326393,2.3612355333875708,2.3710275408083756,2.452281208768741,2.3156795902150744,2.1994610145950273,2.558877403716712,2.2175172177441422,2.4304346679393887,2.3148383071307745,2.13727930653215,2.13481841141102,2.1106440607244155,1.9881713428304761,4.182120654050626,1.8416439734109638,2.207951077799818,2.25642606316991,2.0912808929010627,1.9194245270447847,1.7372352222028435,4.800775177243388,4.993967886384042,4.779054360422251,4.984471668197969,4.918409607160245,4.889656939483071,4.901911829832208,4.809429927329806,4.954588135459559,4.982053675288443,4.649522304307886,4.979814796619102,4.988963305110088,4.86371592731685,2.218748066479808,4.713469592134937,1.9629180106222546,4.778457520069927,2.331203420765006,2.003388827850153,2.163239470674398,4.898218778388139,1.8448791187738585,2.037380683170919,4.9929421024957295,2.3078316645243975,2.1477042475069545,2.2546198221650533,1.9335054323738154,2.366051813865985,3.0579559448366203,4.538314978091472,4.851718388625853],\"y\":[0.5105520384385376,0.5117557283045034,0.5111011715378173,0.5118251280472446,0.508688780799259,0.502422904200309,0.5077450702120048,0.5068761017811202,0.5179582842847459,0.5041228822467456,0.5065805115929254,0.5176581525972694,0.5151565334557799,0.5129692082172743,0.5164989676666533,0.5115633400743305,0.5103259450785704,0.5143034486183181,0.5101669518821805,0.5088250492990645,0.5108948679683327,0.5116036064725434,0.5155016479535784,0.510535702490257,0.5176288711755088,0.5099963209272349,0.5209281164695178,0.5119003000826531,0.5194116618109963,0.5154183986030842,0.5192545221998903,0.5216443392582002,0.5175565393363311,0.5221885753613213,0.5214192472508321,0.520258663571547,0.507934546219216,0.5144321084834816,0.512550107924761,0.5126574462830329,0.5098320886491863,0.516208039187437,0.5072605259054944,0.5060582937500164,0.5114366975969721,0.5199951608703771,0.5047752032363579,0.511851921089927,0.5147729122231757,0.5176114973106606,0.518453389547838,0.5217101359476163,0.5123151903999825,0.5119921010454067,0.515251271509416,0.5183016653341725,0.509261235466214,0.5213435969209237,0.5171737688956782,0.5050027300511264,0.507280772968143,0.5099694443005853,0.5240374780797992,0.511590259584645,0.5087932800047491,0.5230586545896388,0.5132513891227479,0.5098103453359499,0.5157279215753718,0.5152726176474335,0.5225464601674759,0.5220841141027321,0.5091231410192523,0.5215321924854998,0.5212797769915154,0.5143363715819702,0.5164757006184351,0.5093911015325832,0.5067424105619299,0.516765408587688,0.5111266759045212,0.5150135753000192,0.5201262570677527,0.5106156117748067,0.5224459235948542,0.5236512177349909,0.5121052316174268,0.5242701123559599,0.5120137655914996,0.5084158391936504,0.5189906519867217,0.5080132892873349,0.5131127323272895,0.5152081884060504,0.5172362340305938,0.5180434369228605,0.508333394491373,0.5117905247464768,0.5258155547240804,0.5165582208410217,0.5219119530327474,0.5135416728734973,0.5223757315068067,0.5229275046148683,0.5161874711262271,0.5103741407716541,0.5097420776720515,0.5123884829898353,0.5102043845090245,0.517798235827628,0.5098875786883744,0.5164440034326456,0.5086955761365709,0.5201959162903123,0.5135490878543777,0.5200518162681492,0.5193742430872418,0.5040191914871861,0.5243879932034385,0.5177610027061672,0.5100611495045697,0.5142877513540358,0.5180457437454238,0.5207735526030238,0.5205132949767838,0.5081068805542177,0.5157313710768465,0.5149509514241815,0.5162873299995328,0.5237566087952517,0.5093142675321157,0.514853631496738,0.5213482432174852,0.5185606346031333,0.519244187335907,0.5136123527021536,0.525640566238093,0.5024431245909005,0.5073738631222062,0.5199327054709793,0.5201118380119076,0.5110277614617761,0.517156421719933,0.5186610436218262,0.5133938983050848,0.5221408567789763,0.5167605774911128,0.5221386115830129,0.5124721808844308,0.5165720421517848,0.52099212190779,0.5112984228761679,0.5154339440299425,0.5125469943684621,0.5143488945909076,0.5121362800823374,0.515322990844354,0.5179339296857333,0.5194087831357227,0.5156250280122842,0.5225590248178609,0.5050398419941429,0.509339953785729,0.5156587221489015,0.5061620241253206,0.5185193764332539,0.5178886562971992,0.5129917969792106,0.5147348741896289,0.51083839966018,0.5204726461198668,0.5235899703151645,0.5193811900649881,0.5232329443387898,0.5238545776457524,0.5227184016112215,0.5220015207479076,0.5224004529156445,0.507820499299539,0.5119125085162162,0.5155688567052932,0.5192405964972049,0.5091816249409542,0.5165209496507797,0.5206506850527195,0.5119362500337372,0.5225584818391351,0.5200305450117553,0.5159643476942259,0.5259738901209255,0.5230142613624658,0.5086739209055744,0.5148573365644202,0.5155699716625282,0.5044805484252756,0.5225043171547195,0.5241080805830496,0.5251587844828959,0.5134018599940777,0.5181680298823264,0.51761636017428,0.5197929249352891,0.5176094902909323,0.5268583669279858,0.5169192730156766,0.50887553768118,0.5044892342289424,0.5180498460106935,0.5092413484472362,0.517283911371078,0.5168148841370849,0.5200631902956209,0.5161146193256285,0.5152234287510182,0.5097143174248966,0.5097652750403154,0.5136454471953993,0.5149050103885058,0.5142289276357395,0.5003055308297447,0.517644283427416,0.523721604495719,0.5191429763340554,0.514672328637602,0.5230284309620132,0.5129366389951872,0.5200820559932977,0.5123067806264059,0.5234625817357462,0.5135782927078938,0.5160065295373328,0.5190349190820366,0.5261956799260188,0.5184555413670273,0.5145625996299257,0.5246381299406898,0.5228726309241455,0.5202885794307965,0.5165303058418664,0.5138974800993763,0.5086814640040338,0.5214935570061218,0.5108196501911317,0.5163938129734778,0.511049408831927,0.5144769896037754,0.5140703098558388,0.5236734649979744,0.5134968579513262,0.5195266064234975,0.5092153252512164,0.5135102703054051,0.5158183502042601,0.5199723884031293,0.5107865074391033,0.5172018683028325,0.5231946407665196,0.5059651078900768,0.5141686155792288,0.505457912319492,0.5137306523814298,0.5040617212687775,0.5088158723652951,0.522051946947798,0.5213273362231795,0.5134606455182225,0.5145954962468724,0.5263229342918161,0.5253237462981792,0.5153207374216776,0.5194433628468402,0.5255218793956485,0.5110797511340589,0.5092895571405593,0.5084761200803158,0.5238922066892246,0.5162063022351715,0.5123736022262364,0.5122398910056385,0.5067408717698305,0.50661721296526,0.5044877222692634,0.522209329152687,0.5233092307412435,0.5140282557283112,0.5031485195399605,0.5061371841155236,0.5155211965868709,0.520166157126315,0.5214932558615077,0.5082050659909071,0.5044608865228859,0.5141337811363,0.5157010220238951,0.5175957953371367,0.5113060453468672,0.5029240243589764,0.5144404256443241,0.5238114456372589,0.5178268681528937],\"type\":\"scatter\"}],                        {\"title\":{\"text\":\"Slice Plot\"},\"template\":{\"data\":{\"histogram2dcontour\":[{\"type\":\"histogram2dcontour\",\"colorbar\":{\"outlinewidth\":0,\"ticks\":\"\"},\"colorscale\":[[0.0,\"#0d0887\"],[0.1111111111111111,\"#46039f\"],[0.2222222222222222,\"#7201a8\"],[0.3333333333333333,\"#9c179e\"],[0.4444444444444444,\"#bd3786\"],[0.5555555555555556,\"#d8576b\"],[0.6666666666666666,\"#ed7953\"],[0.7777777777777778,\"#fb9f3a\"],[0.8888888888888888,\"#fdca26\"],[1.0,\"#f0f921\"]]}],\"choropleth\":[{\"type\":\"choropleth\",\"colorbar\":{\"outlinewidth\":0,\"ticks\":\"\"}}],\"histogram2d\":[{\"type\":\"histogram2d\",\"colorbar\":{\"outlinewidth\":0,\"ticks\":\"\"},\"colorscale\":[[0.0,\"#0d0887\"],[0.1111111111111111,\"#46039f\"],[0.2222222222222222,\"#7201a8\"],[0.3333333333333333,\"#9c179e\"],[0.4444444444444444,\"#bd3786\"],[0.5555555555555556,\"#d8576b\"],[0.6666666666666666,\"#ed7953\"],[0.7777777777777778,\"#fb9f3a\"],[0.8888888888888888,\"#fdca26\"],[1.0,\"#f0f921\"]]}],\"heatmap\":[{\"type\":\"heatmap\",\"colorbar\":{\"outlinewidth\":0,\"ticks\":\"\"},\"colorscale\":[[0.0,\"#0d0887\"],[0.1111111111111111,\"#46039f\"],[0.2222222222222222,\"#7201a8\"],[0.3333333333333333,\"#9c179e\"],[0.4444444444444444,\"#bd3786\"],[0.5555555555555556,\"#d8576b\"],[0.6666666666666666,\"#ed7953\"],[0.7777777777777778,\"#fb9f3a\"],[0.8888888888888888,\"#fdca26\"],[1.0,\"#f0f921\"]]}],\"heatmapgl\":[{\"type\":\"heatmapgl\",\"colorbar\":{\"outlinewidth\":0,\"ticks\":\"\"},\"colorscale\":[[0.0,\"#0d0887\"],[0.1111111111111111,\"#46039f\"],[0.2222222222222222,\"#7201a8\"],[0.3333333333333333,\"#9c179e\"],[0.4444444444444444,\"#bd3786\"],[0.5555555555555556,\"#d8576b\"],[0.6666666666666666,\"#ed7953\"],[0.7777777777777778,\"#fb9f3a\"],[0.8888888888888888,\"#fdca26\"],[1.0,\"#f0f921\"]]}],\"contourcarpet\":[{\"type\":\"contourcarpet\",\"colorbar\":{\"outlinewidth\":0,\"ticks\":\"\"}}],\"contour\":[{\"type\":\"contour\",\"colorbar\":{\"outlinewidth\":0,\"ticks\":\"\"},\"colorscale\":[[0.0,\"#0d0887\"],[0.1111111111111111,\"#46039f\"],[0.2222222222222222,\"#7201a8\"],[0.3333333333333333,\"#9c179e\"],[0.4444444444444444,\"#bd3786\"],[0.5555555555555556,\"#d8576b\"],[0.6666666666666666,\"#ed7953\"],[0.7777777777777778,\"#fb9f3a\"],[0.8888888888888888,\"#fdca26\"],[1.0,\"#f0f921\"]]}],\"surface\":[{\"type\":\"surface\",\"colorbar\":{\"outlinewidth\":0,\"ticks\":\"\"},\"colorscale\":[[0.0,\"#0d0887\"],[0.1111111111111111,\"#46039f\"],[0.2222222222222222,\"#7201a8\"],[0.3333333333333333,\"#9c179e\"],[0.4444444444444444,\"#bd3786\"],[0.5555555555555556,\"#d8576b\"],[0.6666666666666666,\"#ed7953\"],[0.7777777777777778,\"#fb9f3a\"],[0.8888888888888888,\"#fdca26\"],[1.0,\"#f0f921\"]]}],\"mesh3d\":[{\"type\":\"mesh3d\",\"colorbar\":{\"outlinewidth\":0,\"ticks\":\"\"}}],\"scatter\":[{\"fillpattern\":{\"fillmode\":\"overlay\",\"size\":10,\"solidity\":0.2},\"type\":\"scatter\"}],\"parcoords\":[{\"type\":\"parcoords\",\"line\":{\"colorbar\":{\"outlinewidth\":0,\"ticks\":\"\"}}}],\"scatterpolargl\":[{\"type\":\"scatterpolargl\",\"marker\":{\"colorbar\":{\"outlinewidth\":0,\"ticks\":\"\"}}}],\"bar\":[{\"error_x\":{\"color\":\"#2a3f5f\"},\"error_y\":{\"color\":\"#2a3f5f\"},\"marker\":{\"line\":{\"color\":\"#E5ECF6\",\"width\":0.5},\"pattern\":{\"fillmode\":\"overlay\",\"size\":10,\"solidity\":0.2}},\"type\":\"bar\"}],\"scattergeo\":[{\"type\":\"scattergeo\",\"marker\":{\"colorbar\":{\"outlinewidth\":0,\"ticks\":\"\"}}}],\"scatterpolar\":[{\"type\":\"scatterpolar\",\"marker\":{\"colorbar\":{\"outlinewidth\":0,\"ticks\":\"\"}}}],\"histogram\":[{\"marker\":{\"pattern\":{\"fillmode\":\"overlay\",\"size\":10,\"solidity\":0.2}},\"type\":\"histogram\"}],\"scattergl\":[{\"type\":\"scattergl\",\"marker\":{\"colorbar\":{\"outlinewidth\":0,\"ticks\":\"\"}}}],\"scatter3d\":[{\"type\":\"scatter3d\",\"line\":{\"colorbar\":{\"outlinewidth\":0,\"ticks\":\"\"}},\"marker\":{\"colorbar\":{\"outlinewidth\":0,\"ticks\":\"\"}}}],\"scattermapbox\":[{\"type\":\"scattermapbox\",\"marker\":{\"colorbar\":{\"outlinewidth\":0,\"ticks\":\"\"}}}],\"scatterternary\":[{\"type\":\"scatterternary\",\"marker\":{\"colorbar\":{\"outlinewidth\":0,\"ticks\":\"\"}}}],\"scattercarpet\":[{\"type\":\"scattercarpet\",\"marker\":{\"colorbar\":{\"outlinewidth\":0,\"ticks\":\"\"}}}],\"carpet\":[{\"aaxis\":{\"endlinecolor\":\"#2a3f5f\",\"gridcolor\":\"white\",\"linecolor\":\"white\",\"minorgridcolor\":\"white\",\"startlinecolor\":\"#2a3f5f\"},\"baxis\":{\"endlinecolor\":\"#2a3f5f\",\"gridcolor\":\"white\",\"linecolor\":\"white\",\"minorgridcolor\":\"white\",\"startlinecolor\":\"#2a3f5f\"},\"type\":\"carpet\"}],\"table\":[{\"cells\":{\"fill\":{\"color\":\"#EBF0F8\"},\"line\":{\"color\":\"white\"}},\"header\":{\"fill\":{\"color\":\"#C8D4E3\"},\"line\":{\"color\":\"white\"}},\"type\":\"table\"}],\"barpolar\":[{\"marker\":{\"line\":{\"color\":\"#E5ECF6\",\"width\":0.5},\"pattern\":{\"fillmode\":\"overlay\",\"size\":10,\"solidity\":0.2}},\"type\":\"barpolar\"}],\"pie\":[{\"automargin\":true,\"type\":\"pie\"}]},\"layout\":{\"autotypenumbers\":\"strict\",\"colorway\":[\"#636efa\",\"#EF553B\",\"#00cc96\",\"#ab63fa\",\"#FFA15A\",\"#19d3f3\",\"#FF6692\",\"#B6E880\",\"#FF97FF\",\"#FECB52\"],\"font\":{\"color\":\"#2a3f5f\"},\"hovermode\":\"closest\",\"hoverlabel\":{\"align\":\"left\"},\"paper_bgcolor\":\"white\",\"plot_bgcolor\":\"#E5ECF6\",\"polar\":{\"bgcolor\":\"#E5ECF6\",\"angularaxis\":{\"gridcolor\":\"white\",\"linecolor\":\"white\",\"ticks\":\"\"},\"radialaxis\":{\"gridcolor\":\"white\",\"linecolor\":\"white\",\"ticks\":\"\"}},\"ternary\":{\"bgcolor\":\"#E5ECF6\",\"aaxis\":{\"gridcolor\":\"white\",\"linecolor\":\"white\",\"ticks\":\"\"},\"baxis\":{\"gridcolor\":\"white\",\"linecolor\":\"white\",\"ticks\":\"\"},\"caxis\":{\"gridcolor\":\"white\",\"linecolor\":\"white\",\"ticks\":\"\"}},\"coloraxis\":{\"colorbar\":{\"outlinewidth\":0,\"ticks\":\"\"}},\"colorscale\":{\"sequential\":[[0.0,\"#0d0887\"],[0.1111111111111111,\"#46039f\"],[0.2222222222222222,\"#7201a8\"],[0.3333333333333333,\"#9c179e\"],[0.4444444444444444,\"#bd3786\"],[0.5555555555555556,\"#d8576b\"],[0.6666666666666666,\"#ed7953\"],[0.7777777777777778,\"#fb9f3a\"],[0.8888888888888888,\"#fdca26\"],[1.0,\"#f0f921\"]],\"sequentialminus\":[[0.0,\"#0d0887\"],[0.1111111111111111,\"#46039f\"],[0.2222222222222222,\"#7201a8\"],[0.3333333333333333,\"#9c179e\"],[0.4444444444444444,\"#bd3786\"],[0.5555555555555556,\"#d8576b\"],[0.6666666666666666,\"#ed7953\"],[0.7777777777777778,\"#fb9f3a\"],[0.8888888888888888,\"#fdca26\"],[1.0,\"#f0f921\"]],\"diverging\":[[0,\"#8e0152\"],[0.1,\"#c51b7d\"],[0.2,\"#de77ae\"],[0.3,\"#f1b6da\"],[0.4,\"#fde0ef\"],[0.5,\"#f7f7f7\"],[0.6,\"#e6f5d0\"],[0.7,\"#b8e186\"],[0.8,\"#7fbc41\"],[0.9,\"#4d9221\"],[1,\"#276419\"]]},\"xaxis\":{\"gridcolor\":\"white\",\"linecolor\":\"white\",\"ticks\":\"\",\"title\":{\"standoff\":15},\"zerolinecolor\":\"white\",\"automargin\":true,\"zerolinewidth\":2},\"yaxis\":{\"gridcolor\":\"white\",\"linecolor\":\"white\",\"ticks\":\"\",\"title\":{\"standoff\":15},\"zerolinecolor\":\"white\",\"automargin\":true,\"zerolinewidth\":2},\"scene\":{\"xaxis\":{\"backgroundcolor\":\"#E5ECF6\",\"gridcolor\":\"white\",\"linecolor\":\"white\",\"showbackground\":true,\"ticks\":\"\",\"zerolinecolor\":\"white\",\"gridwidth\":2},\"yaxis\":{\"backgroundcolor\":\"#E5ECF6\",\"gridcolor\":\"white\",\"linecolor\":\"white\",\"showbackground\":true,\"ticks\":\"\",\"zerolinecolor\":\"white\",\"gridwidth\":2},\"zaxis\":{\"backgroundcolor\":\"#E5ECF6\",\"gridcolor\":\"white\",\"linecolor\":\"white\",\"showbackground\":true,\"ticks\":\"\",\"zerolinecolor\":\"white\",\"gridwidth\":2}},\"shapedefaults\":{\"line\":{\"color\":\"#2a3f5f\"}},\"annotationdefaults\":{\"arrowcolor\":\"#2a3f5f\",\"arrowhead\":0,\"arrowwidth\":1},\"geo\":{\"bgcolor\":\"white\",\"landcolor\":\"#E5ECF6\",\"subunitcolor\":\"white\",\"showland\":true,\"showlakes\":true,\"lakecolor\":\"white\"},\"title\":{\"x\":0.05},\"mapbox\":{\"style\":\"light\"}}},\"xaxis\":{\"title\":{\"text\":\"random_strength\"}},\"yaxis\":{\"title\":{\"text\":\"Objective Value\"}}},                        {\"responsive\": true}                    ).then(function(){\n",
       "                            \n",
       "var gd = document.getElementById('9d9502cd-21a1-4d29-964a-58ae37133a7a');\n",
       "var x = new MutationObserver(function (mutations, observer) {{\n",
       "        var display = window.getComputedStyle(gd).display;\n",
       "        if (!display || display === 'none') {{\n",
       "            console.log([gd, 'removed!']);\n",
       "            Plotly.purge(gd);\n",
       "            observer.disconnect();\n",
       "        }}\n",
       "}});\n",
       "\n",
       "// Listen for the removal of the full notebook cells\n",
       "var notebookContainer = gd.closest('#notebook-container');\n",
       "if (notebookContainer) {{\n",
       "    x.observe(notebookContainer, {childList: true});\n",
       "}}\n",
       "\n",
       "// Listen for the clearing of the current output cell\n",
       "var outputEl = gd.closest('.output');\n",
       "if (outputEl) {{\n",
       "    x.observe(outputEl, {childList: true});\n",
       "}}\n",
       "\n",
       "                        })                };                });            </script>        </div>"
      ]
     },
     "metadata": {},
     "output_type": "display_data"
    }
   ],
   "source": [
    "for param in meta_study.best_params.keys():\n",
    "    fig = plot_slice(meta_study, params=[param])\n",
    "    fig.show()"
   ]
  },
  {
   "cell_type": "code",
   "execution_count": 166,
   "metadata": {},
   "outputs": [
    {
     "data": {
      "application/vnd.plotly.v1+json": {
       "config": {
        "plotlyServerURL": "https://plot.ly"
       },
       "data": [
        {
         "cliponaxis": false,
         "hovertemplate": [
          "early_stopping_rounds (IntDistribution): 0.07742220004641859<extra></extra>",
          "learning_rate (FloatDistribution): 0.10016333336021259<extra></extra>",
          "random_strength (FloatDistribution): 0.13019113968078147<extra></extra>",
          "bagging_temperature (FloatDistribution): 0.33179306176050116<extra></extra>",
          "l2_leaf_reg (IntDistribution): 0.3604302651520863<extra></extra>"
         ],
         "name": "Objective Value",
         "orientation": "h",
         "text": [
          "0.08",
          "0.10",
          "0.13",
          "0.33",
          "0.36"
         ],
         "textposition": "outside",
         "type": "bar",
         "x": [
          0.07742220004641859,
          0.10016333336021259,
          0.13019113968078147,
          0.33179306176050116,
          0.3604302651520863
         ],
         "y": [
          "early_stopping_rounds",
          "learning_rate",
          "random_strength",
          "bagging_temperature",
          "l2_leaf_reg"
         ]
        }
       ],
       "layout": {
        "autosize": true,
        "template": {
         "data": {
          "bar": [
           {
            "error_x": {
             "color": "#2a3f5f"
            },
            "error_y": {
             "color": "#2a3f5f"
            },
            "marker": {
             "line": {
              "color": "#E5ECF6",
              "width": 0.5
             },
             "pattern": {
              "fillmode": "overlay",
              "size": 10,
              "solidity": 0.2
             }
            },
            "type": "bar"
           }
          ],
          "barpolar": [
           {
            "marker": {
             "line": {
              "color": "#E5ECF6",
              "width": 0.5
             },
             "pattern": {
              "fillmode": "overlay",
              "size": 10,
              "solidity": 0.2
             }
            },
            "type": "barpolar"
           }
          ],
          "carpet": [
           {
            "aaxis": {
             "endlinecolor": "#2a3f5f",
             "gridcolor": "white",
             "linecolor": "white",
             "minorgridcolor": "white",
             "startlinecolor": "#2a3f5f"
            },
            "baxis": {
             "endlinecolor": "#2a3f5f",
             "gridcolor": "white",
             "linecolor": "white",
             "minorgridcolor": "white",
             "startlinecolor": "#2a3f5f"
            },
            "type": "carpet"
           }
          ],
          "choropleth": [
           {
            "colorbar": {
             "outlinewidth": 0,
             "ticks": ""
            },
            "type": "choropleth"
           }
          ],
          "contour": [
           {
            "colorbar": {
             "outlinewidth": 0,
             "ticks": ""
            },
            "colorscale": [
             [
              0,
              "#0d0887"
             ],
             [
              0.1111111111111111,
              "#46039f"
             ],
             [
              0.2222222222222222,
              "#7201a8"
             ],
             [
              0.3333333333333333,
              "#9c179e"
             ],
             [
              0.4444444444444444,
              "#bd3786"
             ],
             [
              0.5555555555555556,
              "#d8576b"
             ],
             [
              0.6666666666666666,
              "#ed7953"
             ],
             [
              0.7777777777777778,
              "#fb9f3a"
             ],
             [
              0.8888888888888888,
              "#fdca26"
             ],
             [
              1,
              "#f0f921"
             ]
            ],
            "type": "contour"
           }
          ],
          "contourcarpet": [
           {
            "colorbar": {
             "outlinewidth": 0,
             "ticks": ""
            },
            "type": "contourcarpet"
           }
          ],
          "heatmap": [
           {
            "colorbar": {
             "outlinewidth": 0,
             "ticks": ""
            },
            "colorscale": [
             [
              0,
              "#0d0887"
             ],
             [
              0.1111111111111111,
              "#46039f"
             ],
             [
              0.2222222222222222,
              "#7201a8"
             ],
             [
              0.3333333333333333,
              "#9c179e"
             ],
             [
              0.4444444444444444,
              "#bd3786"
             ],
             [
              0.5555555555555556,
              "#d8576b"
             ],
             [
              0.6666666666666666,
              "#ed7953"
             ],
             [
              0.7777777777777778,
              "#fb9f3a"
             ],
             [
              0.8888888888888888,
              "#fdca26"
             ],
             [
              1,
              "#f0f921"
             ]
            ],
            "type": "heatmap"
           }
          ],
          "heatmapgl": [
           {
            "colorbar": {
             "outlinewidth": 0,
             "ticks": ""
            },
            "colorscale": [
             [
              0,
              "#0d0887"
             ],
             [
              0.1111111111111111,
              "#46039f"
             ],
             [
              0.2222222222222222,
              "#7201a8"
             ],
             [
              0.3333333333333333,
              "#9c179e"
             ],
             [
              0.4444444444444444,
              "#bd3786"
             ],
             [
              0.5555555555555556,
              "#d8576b"
             ],
             [
              0.6666666666666666,
              "#ed7953"
             ],
             [
              0.7777777777777778,
              "#fb9f3a"
             ],
             [
              0.8888888888888888,
              "#fdca26"
             ],
             [
              1,
              "#f0f921"
             ]
            ],
            "type": "heatmapgl"
           }
          ],
          "histogram": [
           {
            "marker": {
             "pattern": {
              "fillmode": "overlay",
              "size": 10,
              "solidity": 0.2
             }
            },
            "type": "histogram"
           }
          ],
          "histogram2d": [
           {
            "colorbar": {
             "outlinewidth": 0,
             "ticks": ""
            },
            "colorscale": [
             [
              0,
              "#0d0887"
             ],
             [
              0.1111111111111111,
              "#46039f"
             ],
             [
              0.2222222222222222,
              "#7201a8"
             ],
             [
              0.3333333333333333,
              "#9c179e"
             ],
             [
              0.4444444444444444,
              "#bd3786"
             ],
             [
              0.5555555555555556,
              "#d8576b"
             ],
             [
              0.6666666666666666,
              "#ed7953"
             ],
             [
              0.7777777777777778,
              "#fb9f3a"
             ],
             [
              0.8888888888888888,
              "#fdca26"
             ],
             [
              1,
              "#f0f921"
             ]
            ],
            "type": "histogram2d"
           }
          ],
          "histogram2dcontour": [
           {
            "colorbar": {
             "outlinewidth": 0,
             "ticks": ""
            },
            "colorscale": [
             [
              0,
              "#0d0887"
             ],
             [
              0.1111111111111111,
              "#46039f"
             ],
             [
              0.2222222222222222,
              "#7201a8"
             ],
             [
              0.3333333333333333,
              "#9c179e"
             ],
             [
              0.4444444444444444,
              "#bd3786"
             ],
             [
              0.5555555555555556,
              "#d8576b"
             ],
             [
              0.6666666666666666,
              "#ed7953"
             ],
             [
              0.7777777777777778,
              "#fb9f3a"
             ],
             [
              0.8888888888888888,
              "#fdca26"
             ],
             [
              1,
              "#f0f921"
             ]
            ],
            "type": "histogram2dcontour"
           }
          ],
          "mesh3d": [
           {
            "colorbar": {
             "outlinewidth": 0,
             "ticks": ""
            },
            "type": "mesh3d"
           }
          ],
          "parcoords": [
           {
            "line": {
             "colorbar": {
              "outlinewidth": 0,
              "ticks": ""
             }
            },
            "type": "parcoords"
           }
          ],
          "pie": [
           {
            "automargin": true,
            "type": "pie"
           }
          ],
          "scatter": [
           {
            "fillpattern": {
             "fillmode": "overlay",
             "size": 10,
             "solidity": 0.2
            },
            "type": "scatter"
           }
          ],
          "scatter3d": [
           {
            "line": {
             "colorbar": {
              "outlinewidth": 0,
              "ticks": ""
             }
            },
            "marker": {
             "colorbar": {
              "outlinewidth": 0,
              "ticks": ""
             }
            },
            "type": "scatter3d"
           }
          ],
          "scattercarpet": [
           {
            "marker": {
             "colorbar": {
              "outlinewidth": 0,
              "ticks": ""
             }
            },
            "type": "scattercarpet"
           }
          ],
          "scattergeo": [
           {
            "marker": {
             "colorbar": {
              "outlinewidth": 0,
              "ticks": ""
             }
            },
            "type": "scattergeo"
           }
          ],
          "scattergl": [
           {
            "marker": {
             "colorbar": {
              "outlinewidth": 0,
              "ticks": ""
             }
            },
            "type": "scattergl"
           }
          ],
          "scattermapbox": [
           {
            "marker": {
             "colorbar": {
              "outlinewidth": 0,
              "ticks": ""
             }
            },
            "type": "scattermapbox"
           }
          ],
          "scatterpolar": [
           {
            "marker": {
             "colorbar": {
              "outlinewidth": 0,
              "ticks": ""
             }
            },
            "type": "scatterpolar"
           }
          ],
          "scatterpolargl": [
           {
            "marker": {
             "colorbar": {
              "outlinewidth": 0,
              "ticks": ""
             }
            },
            "type": "scatterpolargl"
           }
          ],
          "scatterternary": [
           {
            "marker": {
             "colorbar": {
              "outlinewidth": 0,
              "ticks": ""
             }
            },
            "type": "scatterternary"
           }
          ],
          "surface": [
           {
            "colorbar": {
             "outlinewidth": 0,
             "ticks": ""
            },
            "colorscale": [
             [
              0,
              "#0d0887"
             ],
             [
              0.1111111111111111,
              "#46039f"
             ],
             [
              0.2222222222222222,
              "#7201a8"
             ],
             [
              0.3333333333333333,
              "#9c179e"
             ],
             [
              0.4444444444444444,
              "#bd3786"
             ],
             [
              0.5555555555555556,
              "#d8576b"
             ],
             [
              0.6666666666666666,
              "#ed7953"
             ],
             [
              0.7777777777777778,
              "#fb9f3a"
             ],
             [
              0.8888888888888888,
              "#fdca26"
             ],
             [
              1,
              "#f0f921"
             ]
            ],
            "type": "surface"
           }
          ],
          "table": [
           {
            "cells": {
             "fill": {
              "color": "#EBF0F8"
             },
             "line": {
              "color": "white"
             }
            },
            "header": {
             "fill": {
              "color": "#C8D4E3"
             },
             "line": {
              "color": "white"
             }
            },
            "type": "table"
           }
          ]
         },
         "layout": {
          "annotationdefaults": {
           "arrowcolor": "#2a3f5f",
           "arrowhead": 0,
           "arrowwidth": 1
          },
          "autotypenumbers": "strict",
          "coloraxis": {
           "colorbar": {
            "outlinewidth": 0,
            "ticks": ""
           }
          },
          "colorscale": {
           "diverging": [
            [
             0,
             "#8e0152"
            ],
            [
             0.1,
             "#c51b7d"
            ],
            [
             0.2,
             "#de77ae"
            ],
            [
             0.3,
             "#f1b6da"
            ],
            [
             0.4,
             "#fde0ef"
            ],
            [
             0.5,
             "#f7f7f7"
            ],
            [
             0.6,
             "#e6f5d0"
            ],
            [
             0.7,
             "#b8e186"
            ],
            [
             0.8,
             "#7fbc41"
            ],
            [
             0.9,
             "#4d9221"
            ],
            [
             1,
             "#276419"
            ]
           ],
           "sequential": [
            [
             0,
             "#0d0887"
            ],
            [
             0.1111111111111111,
             "#46039f"
            ],
            [
             0.2222222222222222,
             "#7201a8"
            ],
            [
             0.3333333333333333,
             "#9c179e"
            ],
            [
             0.4444444444444444,
             "#bd3786"
            ],
            [
             0.5555555555555556,
             "#d8576b"
            ],
            [
             0.6666666666666666,
             "#ed7953"
            ],
            [
             0.7777777777777778,
             "#fb9f3a"
            ],
            [
             0.8888888888888888,
             "#fdca26"
            ],
            [
             1,
             "#f0f921"
            ]
           ],
           "sequentialminus": [
            [
             0,
             "#0d0887"
            ],
            [
             0.1111111111111111,
             "#46039f"
            ],
            [
             0.2222222222222222,
             "#7201a8"
            ],
            [
             0.3333333333333333,
             "#9c179e"
            ],
            [
             0.4444444444444444,
             "#bd3786"
            ],
            [
             0.5555555555555556,
             "#d8576b"
            ],
            [
             0.6666666666666666,
             "#ed7953"
            ],
            [
             0.7777777777777778,
             "#fb9f3a"
            ],
            [
             0.8888888888888888,
             "#fdca26"
            ],
            [
             1,
             "#f0f921"
            ]
           ]
          },
          "colorway": [
           "#636efa",
           "#EF553B",
           "#00cc96",
           "#ab63fa",
           "#FFA15A",
           "#19d3f3",
           "#FF6692",
           "#B6E880",
           "#FF97FF",
           "#FECB52"
          ],
          "font": {
           "color": "#2a3f5f"
          },
          "geo": {
           "bgcolor": "white",
           "lakecolor": "white",
           "landcolor": "#E5ECF6",
           "showlakes": true,
           "showland": true,
           "subunitcolor": "white"
          },
          "hoverlabel": {
           "align": "left"
          },
          "hovermode": "closest",
          "mapbox": {
           "style": "light"
          },
          "paper_bgcolor": "white",
          "plot_bgcolor": "#E5ECF6",
          "polar": {
           "angularaxis": {
            "gridcolor": "white",
            "linecolor": "white",
            "ticks": ""
           },
           "bgcolor": "#E5ECF6",
           "radialaxis": {
            "gridcolor": "white",
            "linecolor": "white",
            "ticks": ""
           }
          },
          "scene": {
           "xaxis": {
            "backgroundcolor": "#E5ECF6",
            "gridcolor": "white",
            "gridwidth": 2,
            "linecolor": "white",
            "showbackground": true,
            "ticks": "",
            "zerolinecolor": "white"
           },
           "yaxis": {
            "backgroundcolor": "#E5ECF6",
            "gridcolor": "white",
            "gridwidth": 2,
            "linecolor": "white",
            "showbackground": true,
            "ticks": "",
            "zerolinecolor": "white"
           },
           "zaxis": {
            "backgroundcolor": "#E5ECF6",
            "gridcolor": "white",
            "gridwidth": 2,
            "linecolor": "white",
            "showbackground": true,
            "ticks": "",
            "zerolinecolor": "white"
           }
          },
          "shapedefaults": {
           "line": {
            "color": "#2a3f5f"
           }
          },
          "ternary": {
           "aaxis": {
            "gridcolor": "white",
            "linecolor": "white",
            "ticks": ""
           },
           "baxis": {
            "gridcolor": "white",
            "linecolor": "white",
            "ticks": ""
           },
           "bgcolor": "#E5ECF6",
           "caxis": {
            "gridcolor": "white",
            "linecolor": "white",
            "ticks": ""
           }
          },
          "title": {
           "x": 0.05
          },
          "xaxis": {
           "automargin": true,
           "gridcolor": "white",
           "linecolor": "white",
           "ticks": "",
           "title": {
            "standoff": 15
           },
           "zerolinecolor": "white",
           "zerolinewidth": 2
          },
          "yaxis": {
           "automargin": true,
           "gridcolor": "white",
           "linecolor": "white",
           "ticks": "",
           "title": {
            "standoff": 15
           },
           "zerolinecolor": "white",
           "zerolinewidth": 2
          }
         }
        },
        "title": {
         "text": "Hyperparameter Importances"
        },
        "xaxis": {
         "autorange": true,
         "range": [
          0,
          0.37940027910745927
         ],
         "title": {
          "text": "Hyperparameter Importance"
         },
         "type": "linear"
        },
        "yaxis": {
         "autorange": true,
         "range": [
          -0.5,
          4.5
         ],
         "title": {
          "text": "Hyperparameter"
         },
         "type": "category"
        }
       }
      },
      "image/png": "[encoded data removed]",
      "text/html": [
       "<div>                            <div id=\"b26f8bbe-1a5b-45b4-a51a-bff089f7bcf6\" class=\"plotly-graph-div\" style=\"height:525px; width:100%;\"></div>            <script type=\"text/javascript\">                require([\"plotly\"], function(Plotly) {                    window.PLOTLYENV=window.PLOTLYENV || {};                                    if (document.getElementById(\"b26f8bbe-1a5b-45b4-a51a-bff089f7bcf6\")) {                    Plotly.newPlot(                        \"b26f8bbe-1a5b-45b4-a51a-bff089f7bcf6\",                        [{\"cliponaxis\":false,\"hovertemplate\":[\"early_stopping_rounds (IntDistribution): 0.07742220004641859\\u003cextra\\u003e\\u003c\\u002fextra\\u003e\",\"learning_rate (FloatDistribution): 0.10016333336021259\\u003cextra\\u003e\\u003c\\u002fextra\\u003e\",\"random_strength (FloatDistribution): 0.13019113968078147\\u003cextra\\u003e\\u003c\\u002fextra\\u003e\",\"bagging_temperature (FloatDistribution): 0.33179306176050116\\u003cextra\\u003e\\u003c\\u002fextra\\u003e\",\"l2_leaf_reg (IntDistribution): 0.3604302651520863\\u003cextra\\u003e\\u003c\\u002fextra\\u003e\"],\"name\":\"Objective Value\",\"orientation\":\"h\",\"text\":[\"0.08\",\"0.10\",\"0.13\",\"0.33\",\"0.36\"],\"textposition\":\"outside\",\"x\":[0.07742220004641859,0.10016333336021259,0.13019113968078147,0.33179306176050116,0.3604302651520863],\"y\":[\"early_stopping_rounds\",\"learning_rate\",\"random_strength\",\"bagging_temperature\",\"l2_leaf_reg\"],\"type\":\"bar\"}],                        {\"title\":{\"text\":\"Hyperparameter Importances\"},\"xaxis\":{\"title\":{\"text\":\"Hyperparameter Importance\"}},\"yaxis\":{\"title\":{\"text\":\"Hyperparameter\"}},\"template\":{\"data\":{\"histogram2dcontour\":[{\"type\":\"histogram2dcontour\",\"colorbar\":{\"outlinewidth\":0,\"ticks\":\"\"},\"colorscale\":[[0.0,\"#0d0887\"],[0.1111111111111111,\"#46039f\"],[0.2222222222222222,\"#7201a8\"],[0.3333333333333333,\"#9c179e\"],[0.4444444444444444,\"#bd3786\"],[0.5555555555555556,\"#d8576b\"],[0.6666666666666666,\"#ed7953\"],[0.7777777777777778,\"#fb9f3a\"],[0.8888888888888888,\"#fdca26\"],[1.0,\"#f0f921\"]]}],\"choropleth\":[{\"type\":\"choropleth\",\"colorbar\":{\"outlinewidth\":0,\"ticks\":\"\"}}],\"histogram2d\":[{\"type\":\"histogram2d\",\"colorbar\":{\"outlinewidth\":0,\"ticks\":\"\"},\"colorscale\":[[0.0,\"#0d0887\"],[0.1111111111111111,\"#46039f\"],[0.2222222222222222,\"#7201a8\"],[0.3333333333333333,\"#9c179e\"],[0.4444444444444444,\"#bd3786\"],[0.5555555555555556,\"#d8576b\"],[0.6666666666666666,\"#ed7953\"],[0.7777777777777778,\"#fb9f3a\"],[0.8888888888888888,\"#fdca26\"],[1.0,\"#f0f921\"]]}],\"heatmap\":[{\"type\":\"heatmap\",\"colorbar\":{\"outlinewidth\":0,\"ticks\":\"\"},\"colorscale\":[[0.0,\"#0d0887\"],[0.1111111111111111,\"#46039f\"],[0.2222222222222222,\"#7201a8\"],[0.3333333333333333,\"#9c179e\"],[0.4444444444444444,\"#bd3786\"],[0.5555555555555556,\"#d8576b\"],[0.6666666666666666,\"#ed7953\"],[0.7777777777777778,\"#fb9f3a\"],[0.8888888888888888,\"#fdca26\"],[1.0,\"#f0f921\"]]}],\"heatmapgl\":[{\"type\":\"heatmapgl\",\"colorbar\":{\"outlinewidth\":0,\"ticks\":\"\"},\"colorscale\":[[0.0,\"#0d0887\"],[0.1111111111111111,\"#46039f\"],[0.2222222222222222,\"#7201a8\"],[0.3333333333333333,\"#9c179e\"],[0.4444444444444444,\"#bd3786\"],[0.5555555555555556,\"#d8576b\"],[0.6666666666666666,\"#ed7953\"],[0.7777777777777778,\"#fb9f3a\"],[0.8888888888888888,\"#fdca26\"],[1.0,\"#f0f921\"]]}],\"contourcarpet\":[{\"type\":\"contourcarpet\",\"colorbar\":{\"outlinewidth\":0,\"ticks\":\"\"}}],\"contour\":[{\"type\":\"contour\",\"colorbar\":{\"outlinewidth\":0,\"ticks\":\"\"},\"colorscale\":[[0.0,\"#0d0887\"],[0.1111111111111111,\"#46039f\"],[0.2222222222222222,\"#7201a8\"],[0.3333333333333333,\"#9c179e\"],[0.4444444444444444,\"#bd3786\"],[0.5555555555555556,\"#d8576b\"],[0.6666666666666666,\"#ed7953\"],[0.7777777777777778,\"#fb9f3a\"],[0.8888888888888888,\"#fdca26\"],[1.0,\"#f0f921\"]]}],\"surface\":[{\"type\":\"surface\",\"colorbar\":{\"outlinewidth\":0,\"ticks\":\"\"},\"colorscale\":[[0.0,\"#0d0887\"],[0.1111111111111111,\"#46039f\"],[0.2222222222222222,\"#7201a8\"],[0.3333333333333333,\"#9c179e\"],[0.4444444444444444,\"#bd3786\"],[0.5555555555555556,\"#d8576b\"],[0.6666666666666666,\"#ed7953\"],[0.7777777777777778,\"#fb9f3a\"],[0.8888888888888888,\"#fdca26\"],[1.0,\"#f0f921\"]]}],\"mesh3d\":[{\"type\":\"mesh3d\",\"colorbar\":{\"outlinewidth\":0,\"ticks\":\"\"}}],\"scatter\":[{\"fillpattern\":{\"fillmode\":\"overlay\",\"size\":10,\"solidity\":0.2},\"type\":\"scatter\"}],\"parcoords\":[{\"type\":\"parcoords\",\"line\":{\"colorbar\":{\"outlinewidth\":0,\"ticks\":\"\"}}}],\"scatterpolargl\":[{\"type\":\"scatterpolargl\",\"marker\":{\"colorbar\":{\"outlinewidth\":0,\"ticks\":\"\"}}}],\"bar\":[{\"error_x\":{\"color\":\"#2a3f5f\"},\"error_y\":{\"color\":\"#2a3f5f\"},\"marker\":{\"line\":{\"color\":\"#E5ECF6\",\"width\":0.5},\"pattern\":{\"fillmode\":\"overlay\",\"size\":10,\"solidity\":0.2}},\"type\":\"bar\"}],\"scattergeo\":[{\"type\":\"scattergeo\",\"marker\":{\"colorbar\":{\"outlinewidth\":0,\"ticks\":\"\"}}}],\"scatterpolar\":[{\"type\":\"scatterpolar\",\"marker\":{\"colorbar\":{\"outlinewidth\":0,\"ticks\":\"\"}}}],\"histogram\":[{\"marker\":{\"pattern\":{\"fillmode\":\"overlay\",\"size\":10,\"solidity\":0.2}},\"type\":\"histogram\"}],\"scattergl\":[{\"type\":\"scattergl\",\"marker\":{\"colorbar\":{\"outlinewidth\":0,\"ticks\":\"\"}}}],\"scatter3d\":[{\"type\":\"scatter3d\",\"line\":{\"colorbar\":{\"outlinewidth\":0,\"ticks\":\"\"}},\"marker\":{\"colorbar\":{\"outlinewidth\":0,\"ticks\":\"\"}}}],\"scattermapbox\":[{\"type\":\"scattermapbox\",\"marker\":{\"colorbar\":{\"outlinewidth\":0,\"ticks\":\"\"}}}],\"scatterternary\":[{\"type\":\"scatterternary\",\"marker\":{\"colorbar\":{\"outlinewidth\":0,\"ticks\":\"\"}}}],\"scattercarpet\":[{\"type\":\"scattercarpet\",\"marker\":{\"colorbar\":{\"outlinewidth\":0,\"ticks\":\"\"}}}],\"carpet\":[{\"aaxis\":{\"endlinecolor\":\"#2a3f5f\",\"gridcolor\":\"white\",\"linecolor\":\"white\",\"minorgridcolor\":\"white\",\"startlinecolor\":\"#2a3f5f\"},\"baxis\":{\"endlinecolor\":\"#2a3f5f\",\"gridcolor\":\"white\",\"linecolor\":\"white\",\"minorgridcolor\":\"white\",\"startlinecolor\":\"#2a3f5f\"},\"type\":\"carpet\"}],\"table\":[{\"cells\":{\"fill\":{\"color\":\"#EBF0F8\"},\"line\":{\"color\":\"white\"}},\"header\":{\"fill\":{\"color\":\"#C8D4E3\"},\"line\":{\"color\":\"white\"}},\"type\":\"table\"}],\"barpolar\":[{\"marker\":{\"line\":{\"color\":\"#E5ECF6\",\"width\":0.5},\"pattern\":{\"fillmode\":\"overlay\",\"size\":10,\"solidity\":0.2}},\"type\":\"barpolar\"}],\"pie\":[{\"automargin\":true,\"type\":\"pie\"}]},\"layout\":{\"autotypenumbers\":\"strict\",\"colorway\":[\"#636efa\",\"#EF553B\",\"#00cc96\",\"#ab63fa\",\"#FFA15A\",\"#19d3f3\",\"#FF6692\",\"#B6E880\",\"#FF97FF\",\"#FECB52\"],\"font\":{\"color\":\"#2a3f5f\"},\"hovermode\":\"closest\",\"hoverlabel\":{\"align\":\"left\"},\"paper_bgcolor\":\"white\",\"plot_bgcolor\":\"#E5ECF6\",\"polar\":{\"bgcolor\":\"#E5ECF6\",\"angularaxis\":{\"gridcolor\":\"white\",\"linecolor\":\"white\",\"ticks\":\"\"},\"radialaxis\":{\"gridcolor\":\"white\",\"linecolor\":\"white\",\"ticks\":\"\"}},\"ternary\":{\"bgcolor\":\"#E5ECF6\",\"aaxis\":{\"gridcolor\":\"white\",\"linecolor\":\"white\",\"ticks\":\"\"},\"baxis\":{\"gridcolor\":\"white\",\"linecolor\":\"white\",\"ticks\":\"\"},\"caxis\":{\"gridcolor\":\"white\",\"linecolor\":\"white\",\"ticks\":\"\"}},\"coloraxis\":{\"colorbar\":{\"outlinewidth\":0,\"ticks\":\"\"}},\"colorscale\":{\"sequential\":[[0.0,\"#0d0887\"],[0.1111111111111111,\"#46039f\"],[0.2222222222222222,\"#7201a8\"],[0.3333333333333333,\"#9c179e\"],[0.4444444444444444,\"#bd3786\"],[0.5555555555555556,\"#d8576b\"],[0.6666666666666666,\"#ed7953\"],[0.7777777777777778,\"#fb9f3a\"],[0.8888888888888888,\"#fdca26\"],[1.0,\"#f0f921\"]],\"sequentialminus\":[[0.0,\"#0d0887\"],[0.1111111111111111,\"#46039f\"],[0.2222222222222222,\"#7201a8\"],[0.3333333333333333,\"#9c179e\"],[0.4444444444444444,\"#bd3786\"],[0.5555555555555556,\"#d8576b\"],[0.6666666666666666,\"#ed7953\"],[0.7777777777777778,\"#fb9f3a\"],[0.8888888888888888,\"#fdca26\"],[1.0,\"#f0f921\"]],\"diverging\":[[0,\"#8e0152\"],[0.1,\"#c51b7d\"],[0.2,\"#de77ae\"],[0.3,\"#f1b6da\"],[0.4,\"#fde0ef\"],[0.5,\"#f7f7f7\"],[0.6,\"#e6f5d0\"],[0.7,\"#b8e186\"],[0.8,\"#7fbc41\"],[0.9,\"#4d9221\"],[1,\"#276419\"]]},\"xaxis\":{\"gridcolor\":\"white\",\"linecolor\":\"white\",\"ticks\":\"\",\"title\":{\"standoff\":15},\"zerolinecolor\":\"white\",\"automargin\":true,\"zerolinewidth\":2},\"yaxis\":{\"gridcolor\":\"white\",\"linecolor\":\"white\",\"ticks\":\"\",\"title\":{\"standoff\":15},\"zerolinecolor\":\"white\",\"automargin\":true,\"zerolinewidth\":2},\"scene\":{\"xaxis\":{\"backgroundcolor\":\"#E5ECF6\",\"gridcolor\":\"white\",\"linecolor\":\"white\",\"showbackground\":true,\"ticks\":\"\",\"zerolinecolor\":\"white\",\"gridwidth\":2},\"yaxis\":{\"backgroundcolor\":\"#E5ECF6\",\"gridcolor\":\"white\",\"linecolor\":\"white\",\"showbackground\":true,\"ticks\":\"\",\"zerolinecolor\":\"white\",\"gridwidth\":2},\"zaxis\":{\"backgroundcolor\":\"#E5ECF6\",\"gridcolor\":\"white\",\"linecolor\":\"white\",\"showbackground\":true,\"ticks\":\"\",\"zerolinecolor\":\"white\",\"gridwidth\":2}},\"shapedefaults\":{\"line\":{\"color\":\"#2a3f5f\"}},\"annotationdefaults\":{\"arrowcolor\":\"#2a3f5f\",\"arrowhead\":0,\"arrowwidth\":1},\"geo\":{\"bgcolor\":\"white\",\"landcolor\":\"#E5ECF6\",\"subunitcolor\":\"white\",\"showland\":true,\"showlakes\":true,\"lakecolor\":\"white\"},\"title\":{\"x\":0.05},\"mapbox\":{\"style\":\"light\"}}}},                        {\"responsive\": true}                    ).then(function(){\n",
       "                            \n",
       "var gd = document.getElementById('b26f8bbe-1a5b-45b4-a51a-bff089f7bcf6');\n",
       "var x = new MutationObserver(function (mutations, observer) {{\n",
       "        var display = window.getComputedStyle(gd).display;\n",
       "        if (!display || display === 'none') {{\n",
       "            console.log([gd, 'removed!']);\n",
       "            Plotly.purge(gd);\n",
       "            observer.disconnect();\n",
       "        }}\n",
       "}});\n",
       "\n",
       "// Listen for the removal of the full notebook cells\n",
       "var notebookContainer = gd.closest('#notebook-container');\n",
       "if (notebookContainer) {{\n",
       "    x.observe(notebookContainer, {childList: true});\n",
       "}}\n",
       "\n",
       "// Listen for the clearing of the current output cell\n",
       "var outputEl = gd.closest('.output');\n",
       "if (outputEl) {{\n",
       "    x.observe(outputEl, {childList: true});\n",
       "}}\n",
       "\n",
       "                        })                };                });            </script>        </div>"
      ]
     },
     "metadata": {},
     "output_type": "display_data"
    }
   ],
   "source": [
    "plot_param_importances(meta_study)"
   ]
  },
  {
   "cell_type": "code",
   "execution_count": 167,
   "metadata": {},
   "outputs": [
    {
     "data": {
      "text/plain": [
       "{'learning_rate': 0.5532917118584754,\n",
       " 'l2_leaf_reg': 913,\n",
       " 'early_stopping_rounds': 24,\n",
       " 'bagging_temperature': 1.9675340440944726,\n",
       " 'random_strength': 2.271974121647787}"
      ]
     },
     "execution_count": 167,
     "metadata": {},
     "output_type": "execute_result"
    }
   ],
   "source": [
    "meta_study.best_params"
   ]
  },
  {
   "cell_type": "code",
   "execution_count": 171,
   "metadata": {},
   "outputs": [],
   "source": [
    "meta_params_df = pd.DataFrame({\n",
    "    'iterations': [1500],\n",
    "    'verbose': [0],\n",
    "    'task_type': ['GPU'],\n",
    "    'use_best_model': [True],\n",
    "    'depth': [3],\n",
    "    'learning_rate': [0.5532917118584754],\n",
    "    'l2_leaf_reg': [913],\n",
    "    'early_stopping_rounds': [24],\n",
    "    'bagging_temperature': [1.9675340440944726],\n",
    "    'random_strength': [2.271974121647787]\n",
    "})"
   ]
  },
  {
   "cell_type": "code",
   "execution_count": 172,
   "metadata": {},
   "outputs": [],
   "source": [
    "meta_params_df.to_csv(path + 'meta_params.csv', index=False)"
   ]
  },
  {
   "cell_type": "code",
   "execution_count": 168,
   "metadata": {},
   "outputs": [
    {
     "data": {
      "text/plain": [
       "0.5268583669279858"
      ]
     },
     "execution_count": 168,
     "metadata": {},
     "output_type": "execute_result"
    }
   ],
   "source": [
    "meta_study.best_value"
   ]
  },
  {
   "cell_type": "code",
   "execution_count": 169,
   "metadata": {},
   "outputs": [
    {
     "data": {
      "text/html": [
       "<div>\n",
       "<style scoped>\n",
       "    .dataframe tbody tr th:only-of-type {\n",
       "        vertical-align: middle;\n",
       "    }\n",
       "\n",
       "    .dataframe tbody tr th {\n",
       "        vertical-align: top;\n",
       "    }\n",
       "\n",
       "    .dataframe thead th {\n",
       "        text-align: right;\n",
       "    }\n",
       "</style>\n",
       "<table border=\"1\" class=\"dataframe\">\n",
       "  <thead>\n",
       "    <tr style=\"text-align: right;\">\n",
       "      <th></th>\n",
       "      <th>id</th>\n",
       "      <th>sii</th>\n",
       "    </tr>\n",
       "  </thead>\n",
       "  <tbody>\n",
       "    <tr>\n",
       "      <th>0</th>\n",
       "      <td>00008ff9</td>\n",
       "      <td>1</td>\n",
       "    </tr>\n",
       "    <tr>\n",
       "      <th>1</th>\n",
       "      <td>000fd460</td>\n",
       "      <td>0</td>\n",
       "    </tr>\n",
       "    <tr>\n",
       "      <th>2</th>\n",
       "      <td>00105258</td>\n",
       "      <td>0</td>\n",
       "    </tr>\n",
       "    <tr>\n",
       "      <th>3</th>\n",
       "      <td>00115b9f</td>\n",
       "      <td>0</td>\n",
       "    </tr>\n",
       "    <tr>\n",
       "      <th>4</th>\n",
       "      <td>0016bb22</td>\n",
       "      <td>1</td>\n",
       "    </tr>\n",
       "    <tr>\n",
       "      <th>5</th>\n",
       "      <td>001f3379</td>\n",
       "      <td>1</td>\n",
       "    </tr>\n",
       "    <tr>\n",
       "      <th>6</th>\n",
       "      <td>0038ba98</td>\n",
       "      <td>1</td>\n",
       "    </tr>\n",
       "    <tr>\n",
       "      <th>7</th>\n",
       "      <td>0068a485</td>\n",
       "      <td>1</td>\n",
       "    </tr>\n",
       "    <tr>\n",
       "      <th>8</th>\n",
       "      <td>0069fbed</td>\n",
       "      <td>2</td>\n",
       "    </tr>\n",
       "    <tr>\n",
       "      <th>9</th>\n",
       "      <td>0083e397</td>\n",
       "      <td>2</td>\n",
       "    </tr>\n",
       "    <tr>\n",
       "      <th>10</th>\n",
       "      <td>0087dd65</td>\n",
       "      <td>0</td>\n",
       "    </tr>\n",
       "    <tr>\n",
       "      <th>11</th>\n",
       "      <td>00abe655</td>\n",
       "      <td>0</td>\n",
       "    </tr>\n",
       "    <tr>\n",
       "      <th>12</th>\n",
       "      <td>00ae59c9</td>\n",
       "      <td>2</td>\n",
       "    </tr>\n",
       "    <tr>\n",
       "      <th>13</th>\n",
       "      <td>00af6387</td>\n",
       "      <td>1</td>\n",
       "    </tr>\n",
       "    <tr>\n",
       "      <th>14</th>\n",
       "      <td>00bd4359</td>\n",
       "      <td>2</td>\n",
       "    </tr>\n",
       "    <tr>\n",
       "      <th>15</th>\n",
       "      <td>00c0cd71</td>\n",
       "      <td>1</td>\n",
       "    </tr>\n",
       "    <tr>\n",
       "      <th>16</th>\n",
       "      <td>00d56d4b</td>\n",
       "      <td>0</td>\n",
       "    </tr>\n",
       "    <tr>\n",
       "      <th>17</th>\n",
       "      <td>00d9913d</td>\n",
       "      <td>0</td>\n",
       "    </tr>\n",
       "    <tr>\n",
       "      <th>18</th>\n",
       "      <td>00e6167c</td>\n",
       "      <td>0</td>\n",
       "    </tr>\n",
       "    <tr>\n",
       "      <th>19</th>\n",
       "      <td>00ebc35d</td>\n",
       "      <td>1</td>\n",
       "    </tr>\n",
       "  </tbody>\n",
       "</table>\n",
       "</div>"
      ],
      "text/plain": [
       "          id  sii\n",
       "0   00008ff9    1\n",
       "1   000fd460    0\n",
       "2   00105258    0\n",
       "3   00115b9f    0\n",
       "4   0016bb22    1\n",
       "5   001f3379    1\n",
       "6   0038ba98    1\n",
       "7   0068a485    1\n",
       "8   0069fbed    2\n",
       "9   0083e397    2\n",
       "10  0087dd65    0\n",
       "11  00abe655    0\n",
       "12  00ae59c9    2\n",
       "13  00af6387    1\n",
       "14  00bd4359    2\n",
       "15  00c0cd71    1\n",
       "16  00d56d4b    0\n",
       "17  00d9913d    0\n",
       "18  00e6167c    0\n",
       "19  00ebc35d    1"
      ]
     },
     "execution_count": 169,
     "metadata": {},
     "output_type": "execute_result"
    }
   ],
   "source": [
    "submission_df"
   ]
  },
  {
   "cell_type": "code",
   "execution_count": 170,
   "metadata": {},
   "outputs": [
    {
     "data": {
      "text/plain": [
       "array([0.6880727 , 0.21525306, 0.46082706, 0.4937152 , 0.98930533,\n",
       "       0.66807013, 0.65958823, 0.73793534, 1.19198788, 1.18390876,\n",
       "       0.40837113, 0.38967951, 1.25961214, 0.77551222, 1.16904593,\n",
       "       0.8333068 , 0.13503784, 0.39627331, 0.17416498, 0.86817484])"
      ]
     },
     "execution_count": 170,
     "metadata": {},
     "output_type": "execute_result"
    }
   ],
   "source": [
    "my_test_preds"
   ]
  },
  {
   "cell_type": "code",
   "execution_count": 173,
   "metadata": {},
   "outputs": [],
   "source": [
    "meta_params_df = pd.read_csv(path + 'meta_params.csv')"
   ]
  },
  {
   "cell_type": "code",
   "execution_count": 174,
   "metadata": {},
   "outputs": [],
   "source": [
    "meta_params_dict = create_params_dict(meta_params_df)"
   ]
  },
  {
   "cell_type": "code",
   "execution_count": 175,
   "metadata": {},
   "outputs": [
    {
     "data": {
      "text/plain": [
       "{'iterations': 1500,\n",
       " 'verbose': 0,\n",
       " 'task_type': 'GPU',\n",
       " 'use_best_model': True,\n",
       " 'depth': 3,\n",
       " 'learning_rate': 0.5532917118584754,\n",
       " 'l2_leaf_reg': 913,\n",
       " 'early_stopping_rounds': 24,\n",
       " 'bagging_temperature': 1.9675340440944729,\n",
       " 'random_strength': 2.271974121647787}"
      ]
     },
     "execution_count": 175,
     "metadata": {},
     "output_type": "execute_result"
    }
   ],
   "source": [
    "meta_params_dict"
   ]
  },
  {
   "cell_type": "code",
   "execution_count": 177,
   "metadata": {},
   "outputs": [],
   "source": [
    "def meta_learner(y, xgb_train_meta, lgb_train_meta, cat_train_meta, xgb_test_meta, lgb_test_meta, cat_test_meta, meta_params):\n",
    "    y = y.copy()\n",
    "\n",
    "    X = pd.DataFrame({\n",
    "        'xgb_meta': xgb_train_meta,\n",
    "        'lgb_meta': lgb_train_meta,\n",
    "        'cat_meta': cat_train_meta,\n",
    "    })\n",
    "\n",
    "    test_data = pd.DataFrame({\n",
    "        'xgb_meta': xgb_test_meta,\n",
    "        'lgb_meta': lgb_test_meta,\n",
    "        'cat_meta': cat_test_meta,\n",
    "    })\n",
    "\n",
    "    SKF = StratifiedKFold(n_splits=n_splits, shuffle=True, random_state=6)\n",
    "    \n",
    "    oof_non_rounded = np.zeros(len(y), dtype=float)\n",
    "    test_preds = np.zeros((len(xgb_test_meta), n_splits))\n",
    "\n",
    "    for fold, (train_idx, test_idx) in enumerate(SKF.split(X, y)):\n",
    "        X_train, X_val = X.iloc[train_idx], X.iloc[test_idx]\n",
    "        y_train, y_val = y.iloc[train_idx], y.iloc[test_idx]\n",
    "\n",
    "        model = CatBoostRegressor(\n",
    "            **meta_params\n",
    "        )\n",
    "        \n",
    "        model.fit(X_train, y_train, eval_set=(X_val, y_val), plot=True)\n",
    "\n",
    "        y_train_pred = model.predict(X_train)\n",
    "        y_val_pred = model.predict(X_val)\n",
    "\n",
    "        oof_non_rounded[test_idx] = y_val_pred\n",
    "\n",
    "        train_y_preds_df = pd.DataFrame({'y':y_train, 'preds':y_train_pred})\n",
    "        train_oof_initial_thresholds = train_y_preds_df.groupby('y')['preds'].mean().iloc[1:].values.tolist()\n",
    "\n",
    "        train_KappaOPtimizer = minimize(evaluate_predictions,\n",
    "                                  x0=train_oof_initial_thresholds, args=(y_train, y_train_pred), \n",
    "                                  method='Nelder-Mead')\n",
    "        assert train_KappaOPtimizer.success, \"Train Optimization did not converge.\"\n",
    "\n",
    "        train_pred_tuned = threshold_Rounder(y_train_pred, train_KappaOPtimizer.x)\n",
    "        train_Kappa = quadratic_weighted_kappa(y_train, train_pred_tuned)\n",
    "\n",
    "        print(f\"----> || Train Optimized QWK SCORE :: {Fore.CYAN}{Style.BRIGHT} {train_Kappa:.3f}{Style.RESET_ALL}\")\n",
    "\n",
    "        val_y_preds_df = pd.DataFrame({'y':y_val, 'preds':y_val_pred})\n",
    "        val_oof_initial_thresholds = val_y_preds_df.groupby('y')['preds'].mean().iloc[1:].values.tolist()\n",
    "\n",
    "        val_KappaOPtimizer = minimize(evaluate_predictions,\n",
    "                                  x0=val_oof_initial_thresholds, args=(y_val, y_val_pred), \n",
    "                                  method='Nelder-Mead')\n",
    "        assert val_KappaOPtimizer.success, \"Val Optimization did not converge.\"\n",
    "\n",
    "        val_pred_tuned = threshold_Rounder(y_val_pred, val_KappaOPtimizer.x)\n",
    "        val_Kappa = quadratic_weighted_kappa(y_val, val_pred_tuned)\n",
    "\n",
    "        print(f\"----> || Val Optimized QWK SCORE :: {Fore.CYAN}{Style.BRIGHT} {val_Kappa:.3f}{Style.RESET_ALL}\")\n",
    "\n",
    "        train_optimized_val_pred_tuned = threshold_Rounder(y_val_pred, train_KappaOPtimizer.x)\n",
    "        train_optimized_val_Kappa = quadratic_weighted_kappa(y_val, train_optimized_val_pred_tuned)\n",
    "\n",
    "        print(f\"----> || Train Optimized Val QWK SCORE :: {Fore.CYAN}{Style.BRIGHT} {train_optimized_val_Kappa:.3f}{Style.RESET_ALL}\")\n",
    "\n",
    "        val_optimized_train_pred_tuned = threshold_Rounder(y_train_pred, val_KappaOPtimizer.x)\n",
    "        val_optimized_train_Kappa = quadratic_weighted_kappa(y_train, val_optimized_train_pred_tuned)\n",
    "\n",
    "        print(f\"----> || Val Optimized Train QWK SCORE :: {Fore.CYAN}{Style.BRIGHT} {val_optimized_train_Kappa:.3f}{Style.RESET_ALL}\")\n",
    "        \n",
    "        test_preds[:, fold] = model.predict(test_data)\n",
    "\n",
    "    y_preds_df = pd.DataFrame({'y':y, 'preds':oof_non_rounded})\n",
    "    oof_initial_thresholds = y_preds_df.groupby('y')['preds'].mean().iloc[1:].values.tolist()\n",
    "\n",
    "    KappaOPtimizer = minimize(evaluate_predictions,\n",
    "                              x0=oof_initial_thresholds, args=(y, oof_non_rounded), \n",
    "                              method='Nelder-Mead')\n",
    "    assert KappaOPtimizer.success, \"Optimization did not converge.\"\n",
    "    \n",
    "    oof_tuned = threshold_Rounder(oof_non_rounded, KappaOPtimizer.x)\n",
    "    tKappa = quadratic_weighted_kappa(y, oof_tuned)\n",
    "\n",
    "    print(f\"----> || Optimized QWK SCORE :: {Fore.CYAN}{Style.BRIGHT} {tKappa:.3f}{Style.RESET_ALL}\")\n",
    "\n",
    "    tpm = test_preds.mean(axis=1)\n",
    "    tpTuned = threshold_Rounder(tpm, KappaOPtimizer.x)\n",
    "    \n",
    "    submission = pd.DataFrame({\n",
    "        'id': test_final_df['id'],\n",
    "        'sii': tpTuned\n",
    "    })\n",
    "\n",
    "    return submission"
   ]
  },
  {
   "cell_type": "code",
   "execution_count": 178,
   "metadata": {},
   "outputs": [
    {
     "data": {
      "application/vnd.jupyter.widget-view+json": {
       "model_id": "1cdf425953ef42859afb73b51d278693",
       "version_major": 2,
       "version_minor": 0
      },
      "text/plain": [
       "MetricVisualizer(layout=Layout(align_self='stretch', height='500px'))"
      ]
     },
     "metadata": {},
     "output_type": "display_data"
    },
    {
     "name": "stdout",
     "output_type": "stream",
     "text": [
      "----> || Train Optimized QWK SCORE :: \u001b[36m\u001b[1m 0.517\u001b[0m\n",
      "----> || Val Optimized QWK SCORE :: \u001b[36m\u001b[1m 0.485\u001b[0m\n",
      "----> || Train Optimized Val QWK SCORE :: \u001b[36m\u001b[1m 0.502\u001b[0m\n",
      "----> || Val Optimized Train QWK SCORE :: \u001b[36m\u001b[1m 0.466\u001b[0m\n"
     ]
    },
    {
     "data": {
      "application/vnd.jupyter.widget-view+json": {
       "model_id": "e89ef8342ecf4ef5ab0efd2f71e422f5",
       "version_major": 2,
       "version_minor": 0
      },
      "text/plain": [
       "MetricVisualizer(layout=Layout(align_self='stretch', height='500px'))"
      ]
     },
     "metadata": {},
     "output_type": "display_data"
    },
    {
     "name": "stdout",
     "output_type": "stream",
     "text": [
      "----> || Train Optimized QWK SCORE :: \u001b[36m\u001b[1m 0.529\u001b[0m\n",
      "----> || Val Optimized QWK SCORE :: \u001b[36m\u001b[1m 0.519\u001b[0m\n",
      "----> || Train Optimized Val QWK SCORE :: \u001b[36m\u001b[1m 0.494\u001b[0m\n",
      "----> || Val Optimized Train QWK SCORE :: \u001b[36m\u001b[1m 0.525\u001b[0m\n"
     ]
    },
    {
     "data": {
      "application/vnd.jupyter.widget-view+json": {
       "model_id": "9ecdaa8068174395911db3a3b46ee019",
       "version_major": 2,
       "version_minor": 0
      },
      "text/plain": [
       "MetricVisualizer(layout=Layout(align_self='stretch', height='500px'))"
      ]
     },
     "metadata": {},
     "output_type": "display_data"
    },
    {
     "name": "stdout",
     "output_type": "stream",
     "text": [
      "----> || Train Optimized QWK SCORE :: \u001b[36m\u001b[1m 0.510\u001b[0m\n",
      "----> || Val Optimized QWK SCORE :: \u001b[36m\u001b[1m 0.558\u001b[0m\n",
      "----> || Train Optimized Val QWK SCORE :: \u001b[36m\u001b[1m 0.495\u001b[0m\n",
      "----> || Val Optimized Train QWK SCORE :: \u001b[36m\u001b[1m 0.516\u001b[0m\n"
     ]
    },
    {
     "data": {
      "application/vnd.jupyter.widget-view+json": {
       "model_id": "543eb31fcc01463d8d3a63d34b548693",
       "version_major": 2,
       "version_minor": 0
      },
      "text/plain": [
       "MetricVisualizer(layout=Layout(align_self='stretch', height='500px'))"
      ]
     },
     "metadata": {},
     "output_type": "display_data"
    },
    {
     "name": "stdout",
     "output_type": "stream",
     "text": [
      "----> || Train Optimized QWK SCORE :: \u001b[36m\u001b[1m 0.519\u001b[0m\n",
      "----> || Val Optimized QWK SCORE :: \u001b[36m\u001b[1m 0.598\u001b[0m\n",
      "----> || Train Optimized Val QWK SCORE :: \u001b[36m\u001b[1m 0.552\u001b[0m\n",
      "----> || Val Optimized Train QWK SCORE :: \u001b[36m\u001b[1m 0.504\u001b[0m\n"
     ]
    },
    {
     "data": {
      "application/vnd.jupyter.widget-view+json": {
       "model_id": "64a9ab3d0211451aba24d8063ed19531",
       "version_major": 2,
       "version_minor": 0
      },
      "text/plain": [
       "MetricVisualizer(layout=Layout(align_self='stretch', height='500px'))"
      ]
     },
     "metadata": {},
     "output_type": "display_data"
    },
    {
     "name": "stdout",
     "output_type": "stream",
     "text": [
      "----> || Train Optimized QWK SCORE :: \u001b[36m\u001b[1m 0.561\u001b[0m\n",
      "----> || Val Optimized QWK SCORE :: \u001b[36m\u001b[1m 0.478\u001b[0m\n",
      "----> || Train Optimized Val QWK SCORE :: \u001b[36m\u001b[1m 0.464\u001b[0m\n",
      "----> || Val Optimized Train QWK SCORE :: \u001b[36m\u001b[1m 0.547\u001b[0m\n",
      "----> || Optimized QWK SCORE :: \u001b[36m\u001b[1m 0.527\u001b[0m\n"
     ]
    }
   ],
   "source": [
    "submission_df = meta_learner(\n",
    "    train_final_df['sii'], xgb_train, lgb_train, cat_train, xgb_test, lgb_test, cat_test, meta_params_dict\n",
    ")"
   ]
  },
  {
   "cell_type": "code",
   "execution_count": 179,
   "metadata": {},
   "outputs": [
    {
     "data": {
      "text/html": [
       "<div>\n",
       "<style scoped>\n",
       "    .dataframe tbody tr th:only-of-type {\n",
       "        vertical-align: middle;\n",
       "    }\n",
       "\n",
       "    .dataframe tbody tr th {\n",
       "        vertical-align: top;\n",
       "    }\n",
       "\n",
       "    .dataframe thead th {\n",
       "        text-align: right;\n",
       "    }\n",
       "</style>\n",
       "<table border=\"1\" class=\"dataframe\">\n",
       "  <thead>\n",
       "    <tr style=\"text-align: right;\">\n",
       "      <th></th>\n",
       "      <th>id</th>\n",
       "      <th>sii</th>\n",
       "    </tr>\n",
       "  </thead>\n",
       "  <tbody>\n",
       "    <tr>\n",
       "      <th>0</th>\n",
       "      <td>00008ff9</td>\n",
       "      <td>1</td>\n",
       "    </tr>\n",
       "    <tr>\n",
       "      <th>1</th>\n",
       "      <td>000fd460</td>\n",
       "      <td>0</td>\n",
       "    </tr>\n",
       "    <tr>\n",
       "      <th>2</th>\n",
       "      <td>00105258</td>\n",
       "      <td>0</td>\n",
       "    </tr>\n",
       "    <tr>\n",
       "      <th>3</th>\n",
       "      <td>00115b9f</td>\n",
       "      <td>0</td>\n",
       "    </tr>\n",
       "    <tr>\n",
       "      <th>4</th>\n",
       "      <td>0016bb22</td>\n",
       "      <td>1</td>\n",
       "    </tr>\n",
       "    <tr>\n",
       "      <th>5</th>\n",
       "      <td>001f3379</td>\n",
       "      <td>1</td>\n",
       "    </tr>\n",
       "    <tr>\n",
       "      <th>6</th>\n",
       "      <td>0038ba98</td>\n",
       "      <td>1</td>\n",
       "    </tr>\n",
       "    <tr>\n",
       "      <th>7</th>\n",
       "      <td>0068a485</td>\n",
       "      <td>1</td>\n",
       "    </tr>\n",
       "    <tr>\n",
       "      <th>8</th>\n",
       "      <td>0069fbed</td>\n",
       "      <td>2</td>\n",
       "    </tr>\n",
       "    <tr>\n",
       "      <th>9</th>\n",
       "      <td>0083e397</td>\n",
       "      <td>2</td>\n",
       "    </tr>\n",
       "    <tr>\n",
       "      <th>10</th>\n",
       "      <td>0087dd65</td>\n",
       "      <td>0</td>\n",
       "    </tr>\n",
       "    <tr>\n",
       "      <th>11</th>\n",
       "      <td>00abe655</td>\n",
       "      <td>0</td>\n",
       "    </tr>\n",
       "    <tr>\n",
       "      <th>12</th>\n",
       "      <td>00ae59c9</td>\n",
       "      <td>2</td>\n",
       "    </tr>\n",
       "    <tr>\n",
       "      <th>13</th>\n",
       "      <td>00af6387</td>\n",
       "      <td>1</td>\n",
       "    </tr>\n",
       "    <tr>\n",
       "      <th>14</th>\n",
       "      <td>00bd4359</td>\n",
       "      <td>2</td>\n",
       "    </tr>\n",
       "    <tr>\n",
       "      <th>15</th>\n",
       "      <td>00c0cd71</td>\n",
       "      <td>1</td>\n",
       "    </tr>\n",
       "    <tr>\n",
       "      <th>16</th>\n",
       "      <td>00d56d4b</td>\n",
       "      <td>0</td>\n",
       "    </tr>\n",
       "    <tr>\n",
       "      <th>17</th>\n",
       "      <td>00d9913d</td>\n",
       "      <td>0</td>\n",
       "    </tr>\n",
       "    <tr>\n",
       "      <th>18</th>\n",
       "      <td>00e6167c</td>\n",
       "      <td>0</td>\n",
       "    </tr>\n",
       "    <tr>\n",
       "      <th>19</th>\n",
       "      <td>00ebc35d</td>\n",
       "      <td>1</td>\n",
       "    </tr>\n",
       "  </tbody>\n",
       "</table>\n",
       "</div>"
      ],
      "text/plain": [
       "          id  sii\n",
       "0   00008ff9    1\n",
       "1   000fd460    0\n",
       "2   00105258    0\n",
       "3   00115b9f    0\n",
       "4   0016bb22    1\n",
       "5   001f3379    1\n",
       "6   0038ba98    1\n",
       "7   0068a485    1\n",
       "8   0069fbed    2\n",
       "9   0083e397    2\n",
       "10  0087dd65    0\n",
       "11  00abe655    0\n",
       "12  00ae59c9    2\n",
       "13  00af6387    1\n",
       "14  00bd4359    2\n",
       "15  00c0cd71    1\n",
       "16  00d56d4b    0\n",
       "17  00d9913d    0\n",
       "18  00e6167c    0\n",
       "19  00ebc35d    1"
      ]
     },
     "execution_count": 179,
     "metadata": {},
     "output_type": "execute_result"
    }
   ],
   "source": [
    "submission_df"
   ]
  },
  {
   "cell_type": "code",
   "execution_count": null,
   "metadata": {},
   "outputs": [],
   "source": [
    "submission_df.to_csv('submission.csv', index=False)"
   ]
  },
  {
   "cell_type": "code",
   "execution_count": null,
   "metadata": {},
   "outputs": [],
   "source": []
  },
  {
   "cell_type": "code",
   "execution_count": null,
   "metadata": {},
   "outputs": [],
   "source": []
  }
 ],
 "metadata": {
  "kaggle": {
   "accelerator": "nvidiaTeslaT4",
   "dataSources": [
    {
     "databundleVersionId": 9643020,
     "sourceId": 81933,
     "sourceType": "competition"
    },
    {
     "datasetId": 921302,
     "sourceId": 7453542,
     "sourceType": "datasetVersion"
    }
   ],
   "dockerImageVersionId": 30776,
   "isGpuEnabled": true,
   "isInternetEnabled": false,
   "language": "python",
   "sourceType": "notebook"
  },
  "kernelspec": {
   "display_name": "Python 3 (ipykernel)",
   "language": "python",
   "name": "python3"
  },
  "language_info": {
   "codemirror_mode": {
    "name": "ipython",
    "version": 3
   },
   "file_extension": ".py",
   "mimetype": "text/x-python",
   "name": "python",
   "nbconvert_exporter": "python",
   "pygments_lexer": "ipython3",
   "version": "3.11.9"
  }
 },
 "nbformat": 4,
 "nbformat_minor": 4
}
