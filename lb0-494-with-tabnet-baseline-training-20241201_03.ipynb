{
 "cells": [
  {
   "cell_type": "markdown",
   "metadata": {},
   "source": [
    "# Based\n",
    "- https://www.kaggle.com/code/honganzhu/cmi-piu-competition?scriptVersionId=201912528 Version44 LB0.492\n",
    "\n",
    " If you find this notebook useful, please upvote this and the based one."
   ]
  },
  {
   "cell_type": "code",
   "execution_count": 1,
   "metadata": {},
   "outputs": [
    {
     "data": {
      "text/plain": [
       "polars.config.Config"
      ]
     },
     "execution_count": 1,
     "metadata": {},
     "output_type": "execute_result"
    }
   ],
   "source": [
    "import numpy as np\n",
    "import pandas as pd\n",
    "import os\n",
    "import re\n",
    "from sklearn.base import clone\n",
    "from sklearn.metrics import cohen_kappa_score\n",
    "from sklearn.model_selection import StratifiedKFold\n",
    "from scipy.optimize import minimize\n",
    "from concurrent.futures import ThreadPoolExecutor\n",
    "from tqdm import tqdm\n",
    "import polars as pl\n",
    "import polars.selectors as cs\n",
    "import matplotlib.pyplot as plt\n",
    "from matplotlib.ticker import MaxNLocator, FormatStrFormatter, PercentFormatter\n",
    "import seaborn as sns\n",
    "\n",
    "from sklearn.preprocessing import StandardScaler\n",
    "import matplotlib.pyplot as plt\n",
    "import torch\n",
    "import torch.nn as nn\n",
    "import torch.optim as optim\n",
    "\n",
    "from colorama import Fore, Style\n",
    "from IPython.display import clear_output\n",
    "import warnings\n",
    "from lightgbm import LGBMRegressor\n",
    "from xgboost import XGBRegressor\n",
    "from catboost import CatBoostRegressor\n",
    "from sklearn.ensemble import VotingRegressor, RandomForestRegressor, GradientBoostingRegressor\n",
    "from sklearn.impute import SimpleImputer, KNNImputer\n",
    "from sklearn.pipeline import Pipeline\n",
    "from pytorch_tabnet.tab_model import TabNetRegressor\n",
    "warnings.filterwarnings('ignore')\n",
    "pd.options.display.max_columns = None\n",
    "pd.set_option('display.max_rows', 500)\n",
    "pd.set_option('display.max_columns', 500)\n",
    "pd.set_option('display.max_colwidth', None)\n",
    "\n",
    "pl.Config.set_tbl_rows(-1)\n",
    "pl.Config.set_tbl_cols(-1)\n",
    "pl.Config.set_fmt_str_lengths(10000)"
   ]
  },
  {
   "cell_type": "code",
   "execution_count": 2,
   "metadata": {},
   "outputs": [],
   "source": [
    "SEED = 42\n",
    "n_splits = 5"
   ]
  },
  {
   "cell_type": "markdown",
   "metadata": {},
   "source": [
    "# Feature Engineering\n",
    "\n",
    "- **Feature Selection**: The dataset contains features related to physical characteristics (e.g., BMI, Height, Weight), behavioral aspects (e.g., internet usage), and fitness data (e.g., endurance time). \n",
    "- **Categorical Feature Encoding**: Categorical features are mapped to numerical values using custom mappings for each unique category within the dataset. This ensures compatibility with machine learning algorithms that require numerical input.\n",
    "- **Time Series Aggregation**: Time series statistics (e.g., mean, standard deviation) from the actigraphy data are computed and merged into the main dataset to create additional features for model training.\n"
   ]
  },
  {
   "cell_type": "code",
   "execution_count": 3,
   "metadata": {},
   "outputs": [],
   "source": [
    "def process_file(id_folder, dirname):\n",
    "    files = os.listdir(os.path.join(path, dirname, id_folder))\n",
    "    if len(files) > 1:\n",
    "        df_list = []\n",
    "        for file in files:\n",
    "            df = pd.read_parquet(os.path.join(dirname, id_folder, file))\n",
    "            df_list.append(df)\n",
    "        df = pd.concat(df_list, ignore_index=True)\n",
    "    else:\n",
    "        df = pd.read_parquet(os.path.join(dirname, id_folder, files[0]))\n",
    "    \n",
    "    df.drop('step', axis=1, inplace=True)\n",
    "\n",
    "    df = df[df['non-wear_flag'] == 0].drop('non-wear_flag', axis=1).reset_index(drop=True)\n",
    "\n",
    "    describe_df = df.describe(percentiles=[0.01] + [i*0.5/10 + 0.05 for i in range(19)] + [0.99])\n",
    "    count_mean = describe_df.loc['count', :].mean()\n",
    "    describe_df.drop('count', axis=0, inplace=True)\n",
    "    \n",
    "    return np.append(describe_df.values.reshape(-1), count_mean), id_folder.split('=')[1]\n",
    "\n",
    "def load_time_series(dirname) -> pd.DataFrame:\n",
    "    ids = os.listdir(dirname)\n",
    "    \n",
    "    with ThreadPoolExecutor() as executor:\n",
    "        results = list(tqdm(executor.map(lambda fname: process_file(fname, dirname), ids), total=len(ids)))\n",
    "    \n",
    "    stats, indexes = zip(*results)\n",
    "    \n",
    "    df = pd.DataFrame(stats, columns=[f\"stat_{i}\" for i in range(len(stats[0]))])\n",
    "    df['id'] = indexes\n",
    "    return df\n",
    "\n",
    "\n",
    "class AutoEncoder(nn.Module):\n",
    "    def __init__(self, input_dim, encoding_dim):\n",
    "        super(AutoEncoder, self).__init__()\n",
    "        self.encoder = nn.Sequential(\n",
    "            nn.Linear(input_dim, encoding_dim*4),\n",
    "            nn.ReLU(),\n",
    "            nn.Linear(encoding_dim*4, encoding_dim*2),\n",
    "            nn.ReLU(),\n",
    "            nn.Linear(encoding_dim*2, encoding_dim),\n",
    "            nn.ReLU()\n",
    "        )\n",
    "        self.decoder = nn.Sequential(\n",
    "            nn.Linear(encoding_dim, encoding_dim*2),\n",
    "            nn.ReLU(),\n",
    "            nn.Linear(encoding_dim*2, encoding_dim*4),\n",
    "            nn.ReLU(),\n",
    "            nn.Linear(encoding_dim*4, input_dim),\n",
    "            nn.Sigmoid()\n",
    "        )\n",
    "        \n",
    "    def forward(self, x):\n",
    "        encoded = self.encoder(x)\n",
    "        decoded = self.decoder(encoded)\n",
    "        return decoded\n",
    "\n",
    "\n",
    "def perform_autoencoder(df, encoding_dim=50, epochs=50, batch_size=32):\n",
    "    scaler = StandardScaler()\n",
    "    df_scaled = scaler.fit_transform(df)\n",
    "    \n",
    "    data_tensor = torch.FloatTensor(df_scaled)\n",
    "    \n",
    "    input_dim = data_tensor.shape[1]\n",
    "    autoencoder = AutoEncoder(input_dim, encoding_dim)\n",
    "    \n",
    "    criterion = nn.MSELoss()\n",
    "    optimizer = optim.Adam(autoencoder.parameters())\n",
    "    \n",
    "    for epoch in range(epochs):\n",
    "        for i in range(0, len(data_tensor), batch_size):\n",
    "            batch = data_tensor[i : i + batch_size]\n",
    "            optimizer.zero_grad()\n",
    "            reconstructed = autoencoder(batch)\n",
    "            loss = criterion(reconstructed, batch)\n",
    "            loss.backward()\n",
    "            optimizer.step()\n",
    "            \n",
    "        if (epoch + 1) % 10 == 0:\n",
    "            print(f'Epoch [{epoch + 1}/{epochs}], Loss: {loss.item():.4f}]')\n",
    "                 \n",
    "    with torch.no_grad():\n",
    "        encoded_data = autoencoder.encoder(data_tensor).numpy()\n",
    "        \n",
    "    df_encoded = pd.DataFrame(encoded_data, columns=[f'Enc_{i + 1}' for i in range(encoded_data.shape[1])])\n",
    "    \n",
    "    return df_encoded\n",
    "\n",
    "def feature_engineering(df):\n",
    "    df['BMI_Age'] = df['Physical-BMI'] * df['Basic_Demos-Age']\n",
    "    df['Internet_Hours_Age'] = df['PreInt_EduHx-computerinternet_hoursday'] * df['Basic_Demos-Age']\n",
    "    df['BMI_Internet_Hours'] = df['Physical-BMI'] * df['PreInt_EduHx-computerinternet_hoursday']\n",
    "    df['BFP_BMI'] = df['BIA-BIA_Fat'] / df['BIA-BIA_BMI']\n",
    "    df['FFMI_BFP'] = df['BIA-BIA_FFMI'] / df['BIA-BIA_Fat']\n",
    "    df['FMI_BFP'] = df['BIA-BIA_FMI'] / df['BIA-BIA_Fat']\n",
    "    df['LST_TBW'] = df['BIA-BIA_LST'] / df['BIA-BIA_TBW']\n",
    "    df['BFP_BMR'] = df['BIA-BIA_Fat'] * df['BIA-BIA_BMR']\n",
    "    df['BFP_DEE'] = df['BIA-BIA_Fat'] * df['BIA-BIA_DEE']\n",
    "    df['BMR_Weight'] = df['BIA-BIA_BMR'] / df['Physical-Weight']\n",
    "    df['DEE_Weight'] = df['BIA-BIA_DEE'] / df['Physical-Weight']\n",
    "    df['SMM_Height'] = df['BIA-BIA_SMM'] / df['Physical-Height']\n",
    "    df['Muscle_to_Fat'] = df['BIA-BIA_SMM'] / df['BIA-BIA_FMI']\n",
    "    df['Hydration_Status'] = df['BIA-BIA_TBW'] / df['Physical-Weight']\n",
    "    df['ICW_TBW'] = df['BIA-BIA_ICW'] / df['BIA-BIA_TBW']\n",
    "    \n",
    "    return df"
   ]
  },
  {
   "cell_type": "code",
   "execution_count": 4,
   "metadata": {},
   "outputs": [],
   "source": [
    "path = \"I:/Kaggle/child-mind-institute-problematic-internet-use/\""
   ]
  },
  {
   "cell_type": "code",
   "execution_count": 5,
   "metadata": {},
   "outputs": [],
   "source": [
    "train = pd.read_csv(path + 'train.csv')\n",
    "test = pd.read_csv(path + 'test.csv')\n",
    "sample = pd.read_csv(path + 'sample_submission.csv')"
   ]
  },
  {
   "cell_type": "code",
   "execution_count": 6,
   "metadata": {},
   "outputs": [],
   "source": [
    "def process_file(id_folder, dirname):\n",
    "    files = os.listdir(os.path.join(path, dirname, id_folder))\n",
    "    if len(files) > 1:\n",
    "        df_list = []\n",
    "        for file in files:\n",
    "            df = pd.read_parquet(os.path.join(dirname, id_folder, file))\n",
    "            df_list.append(df)\n",
    "        df = pd.concat(df_list, ignore_index=True)\n",
    "    else:\n",
    "        df = pd.read_parquet(os.path.join(dirname, id_folder, files[0]))\n",
    "\n",
    "    return df\n",
    "    \n",
    "    df.drop('step', axis=1, inplace=True)\n",
    "\n",
    "    df = df[df['non-wear_flag'] == 0].drop('non-wear_flag', axis=1).reset_index(drop=True)\n",
    "\n",
    "    describe_df = df.describe(percentiles=[0.01] + [i*0.5/10 + 0.05 for i in range(19)] + [0.99])\n",
    "    count_mean = describe_df.loc['count', :].mean()\n",
    "    describe_df.drop('count', axis=0, inplace=True)\n",
    "    \n",
    "    return np.append(describe_df.values.reshape(-1), count_mean), id_folder.split('=')[1]\n",
    "\n",
    "def load_time_series(dirname) -> pd.DataFrame:\n",
    "    ids = os.listdir(dirname)\n",
    "    \n",
    "    with ThreadPoolExecutor() as executor:\n",
    "        results = list(tqdm(executor.map(lambda fname: process_file(fname, dirname), ids), total=len(ids)))\n",
    "\n",
    "    return results\n",
    "    \n",
    "    stats, indexes = zip(*results)\n",
    "\n",
    "    \n",
    "    \n",
    "    df = pd.DataFrame(stats, columns=[f\"stat_{i}\" for i in range(len(stats[0]))])\n",
    "    df['id'] = indexes\n",
    "    return df"
   ]
  },
  {
   "cell_type": "code",
   "execution_count": 7,
   "metadata": {},
   "outputs": [
    {
     "name": "stderr",
     "output_type": "stream",
     "text": [
      "100%|████████████████████████████████████████████████████████████████████████████████████| 2/2 [00:00<00:00, 48.55it/s]\n"
     ]
    }
   ],
   "source": [
    "test_ts_eda = load_time_series(path + \"series_test.parquet\")"
   ]
  },
  {
   "cell_type": "code",
   "execution_count": 8,
   "metadata": {},
   "outputs": [
    {
     "data": {
      "text/plain": [
       "2"
      ]
     },
     "execution_count": 8,
     "metadata": {},
     "output_type": "execute_result"
    }
   ],
   "source": [
    "len(test_ts_eda)"
   ]
  },
  {
   "cell_type": "code",
   "execution_count": 9,
   "metadata": {},
   "outputs": [
    {
     "data": {
      "text/html": [
       "<div>\n",
       "<style scoped>\n",
       "    .dataframe tbody tr th:only-of-type {\n",
       "        vertical-align: middle;\n",
       "    }\n",
       "\n",
       "    .dataframe tbody tr th {\n",
       "        vertical-align: top;\n",
       "    }\n",
       "\n",
       "    .dataframe thead th {\n",
       "        text-align: right;\n",
       "    }\n",
       "</style>\n",
       "<table border=\"1\" class=\"dataframe\">\n",
       "  <thead>\n",
       "    <tr style=\"text-align: right;\">\n",
       "      <th></th>\n",
       "      <th>step</th>\n",
       "      <th>X</th>\n",
       "      <th>Y</th>\n",
       "      <th>Z</th>\n",
       "      <th>enmo</th>\n",
       "      <th>anglez</th>\n",
       "      <th>non-wear_flag</th>\n",
       "      <th>light</th>\n",
       "      <th>battery_voltage</th>\n",
       "      <th>time_of_day</th>\n",
       "      <th>weekday</th>\n",
       "      <th>quarter</th>\n",
       "      <th>relative_date_PCIAT</th>\n",
       "    </tr>\n",
       "  </thead>\n",
       "  <tbody>\n",
       "    <tr>\n",
       "      <th>0</th>\n",
       "      <td>0</td>\n",
       "      <td>0.021536</td>\n",
       "      <td>0.022214</td>\n",
       "      <td>-1.022370</td>\n",
       "      <td>0.022853</td>\n",
       "      <td>-88.280762</td>\n",
       "      <td>0.0</td>\n",
       "      <td>53.000000</td>\n",
       "      <td>4188.000000</td>\n",
       "      <td>56940000000000</td>\n",
       "      <td>4</td>\n",
       "      <td>3</td>\n",
       "      <td>41.0</td>\n",
       "    </tr>\n",
       "    <tr>\n",
       "      <th>1</th>\n",
       "      <td>1</td>\n",
       "      <td>0.022005</td>\n",
       "      <td>0.022187</td>\n",
       "      <td>-1.019740</td>\n",
       "      <td>0.020231</td>\n",
       "      <td>-88.241707</td>\n",
       "      <td>0.0</td>\n",
       "      <td>51.666668</td>\n",
       "      <td>4188.166504</td>\n",
       "      <td>56945000000000</td>\n",
       "      <td>4</td>\n",
       "      <td>3</td>\n",
       "      <td>41.0</td>\n",
       "    </tr>\n",
       "    <tr>\n",
       "      <th>2</th>\n",
       "      <td>2</td>\n",
       "      <td>0.022240</td>\n",
       "      <td>0.022005</td>\n",
       "      <td>-1.019401</td>\n",
       "      <td>0.019893</td>\n",
       "      <td>-88.170067</td>\n",
       "      <td>0.0</td>\n",
       "      <td>50.333332</td>\n",
       "      <td>4188.333496</td>\n",
       "      <td>56950000000000</td>\n",
       "      <td>4</td>\n",
       "      <td>3</td>\n",
       "      <td>41.0</td>\n",
       "    </tr>\n",
       "    <tr>\n",
       "      <th>3</th>\n",
       "      <td>3</td>\n",
       "      <td>0.021589</td>\n",
       "      <td>0.022578</td>\n",
       "      <td>-1.018177</td>\n",
       "      <td>0.018667</td>\n",
       "      <td>-88.250031</td>\n",
       "      <td>0.0</td>\n",
       "      <td>50.500000</td>\n",
       "      <td>4188.500000</td>\n",
       "      <td>56955000000000</td>\n",
       "      <td>4</td>\n",
       "      <td>3</td>\n",
       "      <td>41.0</td>\n",
       "    </tr>\n",
       "    <tr>\n",
       "      <th>4</th>\n",
       "      <td>4</td>\n",
       "      <td>0.022005</td>\n",
       "      <td>0.023763</td>\n",
       "      <td>-1.014323</td>\n",
       "      <td>0.016848</td>\n",
       "      <td>-88.130775</td>\n",
       "      <td>0.0</td>\n",
       "      <td>33.166668</td>\n",
       "      <td>4181.000000</td>\n",
       "      <td>57235000000000</td>\n",
       "      <td>4</td>\n",
       "      <td>3</td>\n",
       "      <td>41.0</td>\n",
       "    </tr>\n",
       "  </tbody>\n",
       "</table>\n",
       "</div>"
      ],
      "text/plain": [
       "   step         X         Y         Z      enmo     anglez  non-wear_flag  \\\n",
       "0     0  0.021536  0.022214 -1.022370  0.022853 -88.280762            0.0   \n",
       "1     1  0.022005  0.022187 -1.019740  0.020231 -88.241707            0.0   \n",
       "2     2  0.022240  0.022005 -1.019401  0.019893 -88.170067            0.0   \n",
       "3     3  0.021589  0.022578 -1.018177  0.018667 -88.250031            0.0   \n",
       "4     4  0.022005  0.023763 -1.014323  0.016848 -88.130775            0.0   \n",
       "\n",
       "       light  battery_voltage     time_of_day  weekday  quarter  \\\n",
       "0  53.000000      4188.000000  56940000000000        4        3   \n",
       "1  51.666668      4188.166504  56945000000000        4        3   \n",
       "2  50.333332      4188.333496  56950000000000        4        3   \n",
       "3  50.500000      4188.500000  56955000000000        4        3   \n",
       "4  33.166668      4181.000000  57235000000000        4        3   \n",
       "\n",
       "   relative_date_PCIAT  \n",
       "0                 41.0  \n",
       "1                 41.0  \n",
       "2                 41.0  \n",
       "3                 41.0  \n",
       "4                 41.0  "
      ]
     },
     "execution_count": 9,
     "metadata": {},
     "output_type": "execute_result"
    }
   ],
   "source": [
    "test_ts_eda[0].head()"
   ]
  },
  {
   "cell_type": "code",
   "execution_count": 10,
   "metadata": {},
   "outputs": [
    {
     "name": "stdout",
     "output_type": "stream",
     "text": [
      "<class 'pandas.core.frame.DataFrame'>\n",
      "RangeIndex: 43330 entries, 0 to 43329\n",
      "Data columns (total 13 columns):\n",
      " #   Column               Non-Null Count  Dtype  \n",
      "---  ------               --------------  -----  \n",
      " 0   step                 43330 non-null  uint32 \n",
      " 1   X                    43330 non-null  float32\n",
      " 2   Y                    43330 non-null  float32\n",
      " 3   Z                    43330 non-null  float32\n",
      " 4   enmo                 43330 non-null  float32\n",
      " 5   anglez               43330 non-null  float32\n",
      " 6   non-wear_flag        43330 non-null  float32\n",
      " 7   light                43330 non-null  float32\n",
      " 8   battery_voltage      43330 non-null  float32\n",
      " 9   time_of_day          43330 non-null  int64  \n",
      " 10  weekday              43330 non-null  int8   \n",
      " 11  quarter              43330 non-null  int8   \n",
      " 12  relative_date_PCIAT  43330 non-null  float32\n",
      "dtypes: float32(9), int64(1), int8(2), uint32(1)\n",
      "memory usage: 2.1 MB\n"
     ]
    }
   ],
   "source": [
    "test_ts_eda[0].info()"
   ]
  },
  {
   "cell_type": "code",
   "execution_count": 11,
   "metadata": {},
   "outputs": [
    {
     "data": {
      "text/html": [
       "<div>\n",
       "<style scoped>\n",
       "    .dataframe tbody tr th:only-of-type {\n",
       "        vertical-align: middle;\n",
       "    }\n",
       "\n",
       "    .dataframe tbody tr th {\n",
       "        vertical-align: top;\n",
       "    }\n",
       "\n",
       "    .dataframe thead th {\n",
       "        text-align: right;\n",
       "    }\n",
       "</style>\n",
       "<table border=\"1\" class=\"dataframe\">\n",
       "  <thead>\n",
       "    <tr style=\"text-align: right;\">\n",
       "      <th></th>\n",
       "      <th>step</th>\n",
       "      <th>X</th>\n",
       "      <th>Y</th>\n",
       "      <th>Z</th>\n",
       "      <th>enmo</th>\n",
       "      <th>anglez</th>\n",
       "      <th>non-wear_flag</th>\n",
       "      <th>light</th>\n",
       "      <th>battery_voltage</th>\n",
       "      <th>time_of_day</th>\n",
       "      <th>weekday</th>\n",
       "      <th>quarter</th>\n",
       "      <th>relative_date_PCIAT</th>\n",
       "    </tr>\n",
       "  </thead>\n",
       "  <tbody>\n",
       "    <tr>\n",
       "      <th>count</th>\n",
       "      <td>43330.000000</td>\n",
       "      <td>43330.000000</td>\n",
       "      <td>43330.000000</td>\n",
       "      <td>43330.000000</td>\n",
       "      <td>43330.000000</td>\n",
       "      <td>43330.000000</td>\n",
       "      <td>43330.0</td>\n",
       "      <td>43330.000000</td>\n",
       "      <td>43330.000000</td>\n",
       "      <td>4.333000e+04</td>\n",
       "      <td>43330.000000</td>\n",
       "      <td>43330.0</td>\n",
       "      <td>43330.000000</td>\n",
       "    </tr>\n",
       "    <tr>\n",
       "      <th>mean</th>\n",
       "      <td>21664.500000</td>\n",
       "      <td>-0.316384</td>\n",
       "      <td>0.016009</td>\n",
       "      <td>-0.167890</td>\n",
       "      <td>0.047388</td>\n",
       "      <td>-10.580416</td>\n",
       "      <td>0.0</td>\n",
       "      <td>42.296310</td>\n",
       "      <td>4053.579102</td>\n",
       "      <td>5.046215e+13</td>\n",
       "      <td>4.470182</td>\n",
       "      <td>3.0</td>\n",
       "      <td>53.201683</td>\n",
       "    </tr>\n",
       "    <tr>\n",
       "      <th>std</th>\n",
       "      <td>12508.437919</td>\n",
       "      <td>0.453665</td>\n",
       "      <td>0.502702</td>\n",
       "      <td>0.585710</td>\n",
       "      <td>0.106351</td>\n",
       "      <td>42.947170</td>\n",
       "      <td>0.0</td>\n",
       "      <td>208.168976</td>\n",
       "      <td>112.404045</td>\n",
       "      <td>1.942842e+13</td>\n",
       "      <td>1.931421</td>\n",
       "      <td>0.0</td>\n",
       "      <td>14.244914</td>\n",
       "    </tr>\n",
       "    <tr>\n",
       "      <th>min</th>\n",
       "      <td>0.000000</td>\n",
       "      <td>-1.746094</td>\n",
       "      <td>-2.905339</td>\n",
       "      <td>-1.048372</td>\n",
       "      <td>0.000000</td>\n",
       "      <td>-89.833092</td>\n",
       "      <td>0.0</td>\n",
       "      <td>0.000000</td>\n",
       "      <td>3824.000000</td>\n",
       "      <td>5.500000e+10</td>\n",
       "      <td>1.000000</td>\n",
       "      <td>3.0</td>\n",
       "      <td>41.000000</td>\n",
       "    </tr>\n",
       "    <tr>\n",
       "      <th>25%</th>\n",
       "      <td>10832.250000</td>\n",
       "      <td>-0.684180</td>\n",
       "      <td>-0.309863</td>\n",
       "      <td>-0.649974</td>\n",
       "      <td>0.006432</td>\n",
       "      <td>-41.541863</td>\n",
       "      <td>0.0</td>\n",
       "      <td>2.392969</td>\n",
       "      <td>4028.666748</td>\n",
       "      <td>3.689000e+13</td>\n",
       "      <td>3.000000</td>\n",
       "      <td>3.0</td>\n",
       "      <td>42.000000</td>\n",
       "    </tr>\n",
       "    <tr>\n",
       "      <th>50%</th>\n",
       "      <td>21664.500000</td>\n",
       "      <td>-0.366849</td>\n",
       "      <td>0.024974</td>\n",
       "      <td>-0.245378</td>\n",
       "      <td>0.023637</td>\n",
       "      <td>-15.086617</td>\n",
       "      <td>0.0</td>\n",
       "      <td>6.926828</td>\n",
       "      <td>4070.000000</td>\n",
       "      <td>5.347750e+13</td>\n",
       "      <td>5.000000</td>\n",
       "      <td>3.0</td>\n",
       "      <td>50.000000</td>\n",
       "    </tr>\n",
       "    <tr>\n",
       "      <th>75%</th>\n",
       "      <td>32496.750000</td>\n",
       "      <td>-0.010677</td>\n",
       "      <td>0.400677</td>\n",
       "      <td>0.204727</td>\n",
       "      <td>0.041420</td>\n",
       "      <td>12.220764</td>\n",
       "      <td>0.0</td>\n",
       "      <td>15.000000</td>\n",
       "      <td>4147.000000</td>\n",
       "      <td>6.640875e+13</td>\n",
       "      <td>6.000000</td>\n",
       "      <td>3.0</td>\n",
       "      <td>53.000000</td>\n",
       "    </tr>\n",
       "    <tr>\n",
       "      <th>max</th>\n",
       "      <td>43329.000000</td>\n",
       "      <td>1.507865</td>\n",
       "      <td>1.666354</td>\n",
       "      <td>1.546979</td>\n",
       "      <td>4.004276</td>\n",
       "      <td>89.751656</td>\n",
       "      <td>0.0</td>\n",
       "      <td>2633.250000</td>\n",
       "      <td>4188.500000</td>\n",
       "      <td>8.611000e+13</td>\n",
       "      <td>7.000000</td>\n",
       "      <td>3.0</td>\n",
       "      <td>85.000000</td>\n",
       "    </tr>\n",
       "  </tbody>\n",
       "</table>\n",
       "</div>"
      ],
      "text/plain": [
       "               step             X             Y             Z          enmo  \\\n",
       "count  43330.000000  43330.000000  43330.000000  43330.000000  43330.000000   \n",
       "mean   21664.500000     -0.316384      0.016009     -0.167890      0.047388   \n",
       "std    12508.437919      0.453665      0.502702      0.585710      0.106351   \n",
       "min        0.000000     -1.746094     -2.905339     -1.048372      0.000000   \n",
       "25%    10832.250000     -0.684180     -0.309863     -0.649974      0.006432   \n",
       "50%    21664.500000     -0.366849      0.024974     -0.245378      0.023637   \n",
       "75%    32496.750000     -0.010677      0.400677      0.204727      0.041420   \n",
       "max    43329.000000      1.507865      1.666354      1.546979      4.004276   \n",
       "\n",
       "             anglez  non-wear_flag         light  battery_voltage  \\\n",
       "count  43330.000000        43330.0  43330.000000     43330.000000   \n",
       "mean     -10.580416            0.0     42.296310      4053.579102   \n",
       "std       42.947170            0.0    208.168976       112.404045   \n",
       "min      -89.833092            0.0      0.000000      3824.000000   \n",
       "25%      -41.541863            0.0      2.392969      4028.666748   \n",
       "50%      -15.086617            0.0      6.926828      4070.000000   \n",
       "75%       12.220764            0.0     15.000000      4147.000000   \n",
       "max       89.751656            0.0   2633.250000      4188.500000   \n",
       "\n",
       "        time_of_day       weekday  quarter  relative_date_PCIAT  \n",
       "count  4.333000e+04  43330.000000  43330.0         43330.000000  \n",
       "mean   5.046215e+13      4.470182      3.0            53.201683  \n",
       "std    1.942842e+13      1.931421      0.0            14.244914  \n",
       "min    5.500000e+10      1.000000      3.0            41.000000  \n",
       "25%    3.689000e+13      3.000000      3.0            42.000000  \n",
       "50%    5.347750e+13      5.000000      3.0            50.000000  \n",
       "75%    6.640875e+13      6.000000      3.0            53.000000  \n",
       "max    8.611000e+13      7.000000      3.0            85.000000  "
      ]
     },
     "execution_count": 11,
     "metadata": {},
     "output_type": "execute_result"
    }
   ],
   "source": [
    "test_ts_eda[0].describe()"
   ]
  },
  {
   "cell_type": "code",
   "execution_count": 12,
   "metadata": {},
   "outputs": [
    {
     "data": {
      "text/plain": [
       "0.6590277777777778"
      ]
     },
     "execution_count": 12,
     "metadata": {},
     "output_type": "execute_result"
    }
   ],
   "source": [
    "test_ts_eda[0]['time_of_day'][0] / 86400e9"
   ]
  },
  {
   "cell_type": "code",
   "execution_count": 13,
   "metadata": {},
   "outputs": [
    {
     "data": {
      "text/plain": [
       "<Axes: xlabel='time_of_day', ylabel='Count'>"
      ]
     },
     "execution_count": 13,
     "metadata": {},
     "output_type": "execute_result"
    },
    {
     "data": {
      "image/png": "[encoded data removed]",
      "text/plain": [
       "<Figure size 640x480 with 1 Axes>"
      ]
     },
     "metadata": {},
     "output_type": "display_data"
    }
   ],
   "source": [
    "sns.histplot(test_ts_eda[0]['time_of_day'].apply(lambda x: x / 3600e9), kde=True)"
   ]
  },
  {
   "cell_type": "code",
   "execution_count": 14,
   "metadata": {},
   "outputs": [
    {
     "data": {
      "text/plain": [
       "weekday\n",
       "5    10223\n",
       "7     8566\n",
       "4     6545\n",
       "6     5307\n",
       "1     4780\n",
       "3     3996\n",
       "2     3913\n",
       "Name: count, dtype: int64"
      ]
     },
     "execution_count": 14,
     "metadata": {},
     "output_type": "execute_result"
    }
   ],
   "source": [
    "test_ts_eda[0]['weekday'].value_counts()"
   ]
  },
  {
   "cell_type": "code",
   "execution_count": 16,
   "metadata": {},
   "outputs": [
    {
     "data": {
      "text/plain": [
       "<Axes: xlabel='weekday', ylabel='Count'>"
      ]
     },
     "execution_count": 16,
     "metadata": {},
     "output_type": "execute_result"
    },
    {
     "data": {
      "image/png": "[encoded data removed]",
      "text/plain": [
       "<Figure size 640x480 with 1 Axes>"
      ]
     },
     "metadata": {},
     "output_type": "display_data"
    }
   ],
   "source": [
    "sns.histplot(test_ts_eda[0]['weekday'], kde=True)"
   ]
  },
  {
   "cell_type": "code",
   "execution_count": 17,
   "metadata": {},
   "outputs": [
    {
     "data": {
      "text/plain": [
       "['.ipynb_checkpoints',\n",
       " 'best_tabnet_model.pt.zip',\n",
       " 'catboost_info',\n",
       " 'childmind_eda_20241122.ipynb',\n",
       " 'childmind_eda_20241123.ipynb',\n",
       " 'childmind_eda_20241129.ipynb',\n",
       " 'lb0-494-with-tabnet - Practice.ipynb',\n",
       " 'lb0-494-with-tabnet-autoencoder-data-edited.ipynb',\n",
       " 'lb0-494-with-tabnet-baseline-training-20241129_01.ipynb',\n",
       " 'lb0-494-with-tabnet-baseline-training-20241129_02.ipynb',\n",
       " 'lb0-494-with-tabnet-baseline-training-20241129_03.ipynb',\n",
       " 'lb0-494-with-tabnet-baseline-training-20241130_01.ipynb',\n",
       " 'lb0-494-with-tabnet-baseline-training-20241130_02.ipynb',\n",
       " 'lb0-494-with-tabnet-baseline-training-20241201_01.ipynb',\n",
       " 'lb0-494-with-tabnet-baseline-training-20241201_02.ipynb',\n",
       " 'lb0-494-with-tabnet-baseline-training-20241201_03.ipynb',\n",
       " 'lb0-494-with-tabnet-baseline-training.ipynb',\n",
       " 'lb0-494-with-tabnet-baseline.ipynb',\n",
       " 'lb0-494-with-tabnet.ipynb']"
      ]
     },
     "execution_count": 17,
     "metadata": {},
     "output_type": "execute_result"
    }
   ],
   "source": [
    "os.listdir()"
   ]
  },
  {
   "cell_type": "code",
   "execution_count": null,
   "metadata": {},
   "outputs": [],
   "source": []
  },
  {
   "cell_type": "code",
   "execution_count": null,
   "metadata": {},
   "outputs": [],
   "source": []
  },
  {
   "cell_type": "code",
   "execution_count": null,
   "metadata": {},
   "outputs": [],
   "source": []
  },
  {
   "cell_type": "code",
   "execution_count": null,
   "metadata": {},
   "outputs": [],
   "source": []
  },
  {
   "cell_type": "code",
   "execution_count": null,
   "metadata": {},
   "outputs": [],
   "source": []
  },
  {
   "cell_type": "code",
   "execution_count": null,
   "metadata": {},
   "outputs": [],
   "source": []
  },
  {
   "cell_type": "code",
   "execution_count": null,
   "metadata": {},
   "outputs": [],
   "source": []
  },
  {
   "cell_type": "code",
   "execution_count": null,
   "metadata": {},
   "outputs": [],
   "source": []
  },
  {
   "cell_type": "code",
   "execution_count": null,
   "metadata": {},
   "outputs": [],
   "source": [
    "train_ts = load_time_series(path + \"series_train.parquet\")\n",
    "test_ts = load_time_series(path + \"series_test.parquet\")"
   ]
  },
  {
   "cell_type": "code",
   "execution_count": null,
   "metadata": {},
   "outputs": [],
   "source": [
    "concat_ts = pd.concat([train_ts, test_ts], ignore_index=True)\n",
    "df_concat = concat_ts.drop('id', axis=1)"
   ]
  },
  {
   "cell_type": "code",
   "execution_count": null,
   "metadata": {},
   "outputs": [],
   "source": [
    "for col in df_concat.columns:\n",
    "    if df_concat[col].std() == 0:\n",
    "        df_concat.drop(col, axis=1, inplace=True)"
   ]
  },
  {
   "cell_type": "code",
   "execution_count": null,
   "metadata": {},
   "outputs": [],
   "source": [
    "time_series_cols = df_concat.columns.tolist()\n",
    "df_concat[\"id\"] = concat_ts[\"id\"]\n",
    "train_ts = df_concat.head(train_ts.shape[0]).reset_index(drop=True)\n",
    "test_ts = df_concat.tail(test_ts.shape[0]).reset_index(drop=True)\n",
    "train_merge = pd.merge(train, train_ts, how=\"left\", on='id')\n",
    "test_merge = pd.merge(test, test_ts, how=\"left\", on='id')"
   ]
  },
  {
   "cell_type": "code",
   "execution_count": null,
   "metadata": {
    "scrolled": true
   },
   "outputs": [],
   "source": [
    "data_dict = pd.read_csv(path + 'data_dictionary.csv')\n",
    "print(data_dict.shape)\n",
    "data_dict"
   ]
  },
  {
   "cell_type": "code",
   "execution_count": null,
   "metadata": {},
   "outputs": [],
   "source": [
    "cat_cols = []\n",
    "for i in range(data_dict.shape[0]):\n",
    "    col = data_dict['Field'][i]\n",
    "    if col == 'id':\n",
    "        continue\n",
    "    if (data_dict['Type'][i] == 'str') | ('categori' in data_dict['Type'][i]):\n",
    "        cat_cols.append(col)"
   ]
  },
  {
   "cell_type": "code",
   "execution_count": null,
   "metadata": {},
   "outputs": [],
   "source": [
    "ordinal_variables = ['FGC-FGC_CU_Zone', 'FGC-FGC_CU_Zone', 'FGC-FGC_GSND_Zone', 'FGC-FGC_GSD_Zone', 'FGC-FGC_PU_Zone',\n",
    "                     'FGC-FGC_SRL_Zone', 'FGC-FGC_SRR_Zone', 'FGC-FGC_TL_Zone', 'BIA-BIA_Activity_Level_num', 'BIA-BIA_Frame_num',\n",
    "                     'PreInt_EduHx-computerinternet_hoursday']\n",
    "\n",
    "ordinal_variables += [col for col in cat_cols if (('PCIAT' in col)&('Season' not in col))]\n",
    "print(len(ordinal_variables))\n",
    "ordinal_variables"
   ]
  },
  {
   "cell_type": "code",
   "execution_count": null,
   "metadata": {},
   "outputs": [],
   "source": [
    "cat_cols = list(set(cat_cols) - set(ordinal_variables))\n",
    "print(len(cat_cols))\n",
    "cat_cols"
   ]
  },
  {
   "cell_type": "code",
   "execution_count": null,
   "metadata": {},
   "outputs": [],
   "source": [
    "train_nonan = train_merge.dropna(subset=['sii'], ignore_index=True)\n",
    "print(train_nonan.shape)\n",
    "train_nonan.head()"
   ]
  },
  {
   "cell_type": "code",
   "execution_count": null,
   "metadata": {},
   "outputs": [],
   "source": [
    "train_one_hot = train_nonan.copy()\n",
    "test_one_hot = test_merge.copy()"
   ]
  },
  {
   "cell_type": "code",
   "execution_count": null,
   "metadata": {},
   "outputs": [],
   "source": [
    "for col in cat_cols:\n",
    "    if 'PCIAT' not in col:\n",
    "        train_sr = train_one_hot[col].fillna('Missing').apply(str)        \n",
    "        test_sr = test_one_hot[col].fillna('Missing').apply(str)\n",
    "        train_one_hot[col] = train_sr\n",
    "        test_one_hot[col] = test_sr\n",
    "        concat_sr = pd.concat([train_sr, test_sr])\n",
    "        unique_list = sorted(concat_sr.unique().tolist())\n",
    "\n",
    "        for v in unique_list:\n",
    "            new_col_name = col + '_' + v\n",
    "            train_one_hot[new_col_name] = pd.Series(train_one_hot[col] == v).astype(int)\n",
    "            test_one_hot[new_col_name] = pd.Series(test_one_hot[col] == v).astype(int)\n",
    "    else:\n",
    "        train_sr = train_one_hot[col].fillna('Missing').apply(str)\n",
    "        train_one_hot[col] = train_sr\n",
    "        unique_list = sorted(train_sr.unique().tolist())\n",
    "\n",
    "        for v in unique_list:\n",
    "            new_col_name = col + '_' + v\n",
    "            train_one_hot[new_col_name] = pd.Series(train_one_hot[col] == v).astype(int)\n",
    "\n",
    "train_one_hot.drop(cat_cols, axis=1, inplace=True)\n",
    "test_one_hot.drop([col for col in cat_cols if 'PCIAT' not in col], axis=1, inplace=True)"
   ]
  },
  {
   "cell_type": "code",
   "execution_count": null,
   "metadata": {},
   "outputs": [],
   "source": [
    "print(train_ts.shape)\n",
    "train_ts.head()"
   ]
  },
  {
   "cell_type": "code",
   "execution_count": null,
   "metadata": {},
   "outputs": [],
   "source": [
    "print(train_one_hot.shape)\n",
    "train_one_hot.head()"
   ]
  },
  {
   "cell_type": "code",
   "execution_count": null,
   "metadata": {},
   "outputs": [],
   "source": [
    "print(test_one_hot.shape)\n",
    "test_one_hot.head()"
   ]
  },
  {
   "cell_type": "code",
   "execution_count": null,
   "metadata": {},
   "outputs": [],
   "source": [
    "train_one_hot.drop('id', axis=1, inplace=True)\n",
    "test_one_hot.drop('id', axis=1, inplace=True)"
   ]
  },
  {
   "cell_type": "code",
   "execution_count": null,
   "metadata": {},
   "outputs": [],
   "source": [
    "train = train_one_hot[test_one_hot.columns.tolist() + ['sii']].copy()\n",
    "test = test_one_hot.copy()"
   ]
  },
  {
   "cell_type": "code",
   "execution_count": null,
   "metadata": {},
   "outputs": [],
   "source": [
    "print(train.shape)\n",
    "train.head()"
   ]
  },
  {
   "cell_type": "code",
   "execution_count": null,
   "metadata": {},
   "outputs": [],
   "source": [
    "print(test.shape)\n",
    "test.head()"
   ]
  },
  {
   "cell_type": "code",
   "execution_count": null,
   "metadata": {},
   "outputs": [],
   "source": [
    "concat_df = pd.concat([train[test.columns], test], ignore_index=True)\n",
    "print(concat_df.shape)\n",
    "concat_df.head()"
   ]
  },
  {
   "cell_type": "code",
   "execution_count": null,
   "metadata": {},
   "outputs": [],
   "source": [
    "imputer = KNNImputer(n_neighbors=5)\n",
    "imputed_data_concat = imputer.fit_transform(concat_df)"
   ]
  },
  {
   "cell_type": "code",
   "execution_count": null,
   "metadata": {},
   "outputs": [],
   "source": [
    "concat_imputed = pd.DataFrame(imputed_data_concat, columns=concat_df.columns)\n",
    "print(concat_imputed.shape)\n",
    "concat_imputed.head()"
   ]
  },
  {
   "cell_type": "code",
   "execution_count": null,
   "metadata": {},
   "outputs": [],
   "source": [
    "concat_imputed.isna().sum().sum()"
   ]
  },
  {
   "cell_type": "code",
   "execution_count": null,
   "metadata": {},
   "outputs": [],
   "source": [
    "concat_imputed = feature_engineering(concat_imputed)\n",
    "print(concat_imputed.shape)\n",
    "concat_imputed.head()"
   ]
  },
  {
   "cell_type": "code",
   "execution_count": null,
   "metadata": {},
   "outputs": [],
   "source": [
    "if np.any(np.isinf(concat_imputed)):\n",
    "    print('inf in data')\n",
    "    concat_imputed = concat_imputed.replace([np.inf, -np.inf], np.nan)"
   ]
  },
  {
   "cell_type": "code",
   "execution_count": null,
   "metadata": {},
   "outputs": [],
   "source": [
    "imputer = KNNImputer(n_neighbors=5)\n",
    "imputed_data = imputer.fit_transform(concat_imputed)"
   ]
  },
  {
   "cell_type": "code",
   "execution_count": null,
   "metadata": {},
   "outputs": [],
   "source": [
    "concat_imputed = pd.DataFrame(imputed_data, columns=concat_imputed.columns)\n",
    "print(concat_imputed.shape)\n",
    "concat_imputed.head()"
   ]
  },
  {
   "cell_type": "code",
   "execution_count": null,
   "metadata": {},
   "outputs": [],
   "source": [
    "concat_imputed.isna().sum().sum()"
   ]
  },
  {
   "cell_type": "code",
   "execution_count": null,
   "metadata": {},
   "outputs": [],
   "source": [
    "train_imputed = concat_imputed.head(train.shape[0]).reset_index(drop=True)\n",
    "test_imputed = concat_imputed.tail(test.shape[0]).reset_index(drop=True)"
   ]
  },
  {
   "cell_type": "code",
   "execution_count": null,
   "metadata": {},
   "outputs": [],
   "source": [
    "train_imputed['sii'] = train['sii']"
   ]
  },
  {
   "cell_type": "code",
   "execution_count": null,
   "metadata": {},
   "outputs": [],
   "source": [
    "train_final = train_imputed.copy()\n",
    "test_final = test_imputed.copy()"
   ]
  },
  {
   "cell_type": "code",
   "execution_count": null,
   "metadata": {},
   "outputs": [],
   "source": [
    "print(train_final.shape)\n",
    "print(test_final.shape)"
   ]
  },
  {
   "cell_type": "code",
   "execution_count": null,
   "metadata": {},
   "outputs": [],
   "source": [
    "def quadratic_weighted_kappa(y_true, y_pred):\n",
    "    return cohen_kappa_score(y_true, y_pred, weights='quadratic')\n",
    "\n",
    "def threshold_Rounder(oof_non_rounded, thresholds):\n",
    "    return np.where(oof_non_rounded < thresholds[0], 0,\n",
    "                    np.where(oof_non_rounded < thresholds[1], 1,\n",
    "                             np.where(oof_non_rounded < thresholds[2], 2, 3)))\n",
    "\n",
    "def evaluate_predictions(thresholds, y_true, oof_non_rounded):\n",
    "    rounded_p = threshold_Rounder(oof_non_rounded, thresholds)\n",
    "    return -quadratic_weighted_kappa(y_true, rounded_p)"
   ]
  },
  {
   "cell_type": "markdown",
   "metadata": {},
   "source": [
    "# Model Training and Evaluation\n",
    "\n",
    "- **Model Types**: Various models are used, including:\n",
    "  - **LightGBM**: A gradient-boosting framework known for its speed and efficiency with large datasets.\n",
    "  - **XGBoost**: Another powerful gradient-boosting model used for structured data.\n",
    "  - **CatBoost**: Optimized for categorical features without the need for extensive preprocessing.\n",
    "  - **Voting Regressor**: An ensemble model that combines the predictions of LightGBM, XGBoost, and CatBoost for better accuracy.\n",
    "- **Cross-Validation**: Stratified K-Folds cross-validation is employed to split the data into training and validation sets, ensuring balanced class distribution in each fold.\n",
    "- **Quadratic Weighted Kappa (QWK)**: The performance of the models is evaluated using QWK, which measures the agreement between predicted and actual values, taking into account the ordinal nature of the target variable.\n",
    "- **Threshold Optimization**: The `minimize` function from `scipy.optimize` is used to fine-tune decision thresholds that map continuous predictions to discrete categories (None, Mild, Moderate, Severe).\n"
   ]
  },
  {
   "cell_type": "code",
   "execution_count": null,
   "metadata": {},
   "outputs": [],
   "source": [
    "def TrainML(model_class, train_data, test_data):\n",
    "    X = train_data.drop(['sii'], axis=1)\n",
    "    y = train_data['sii']\n",
    "\n",
    "    SKF = StratifiedKFold(n_splits=n_splits, shuffle=True, random_state=SEED)\n",
    "    \n",
    "    train_S = []\n",
    "    test_S = []\n",
    "    \n",
    "    oof_non_rounded = np.zeros(len(y), dtype=float) \n",
    "    oof_rounded = np.zeros(len(y), dtype=int) \n",
    "    test_preds = np.zeros((len(test_data), n_splits))\n",
    "\n",
    "    for fold, (train_idx, test_idx) in enumerate(tqdm(SKF.split(X, y), desc=\"Training Folds\", total=n_splits)):\n",
    "        X_train, X_val = X.iloc[train_idx], X.iloc[test_idx]\n",
    "        y_train, y_val = y.iloc[train_idx], y.iloc[test_idx]\n",
    "\n",
    "        model = clone(model_class)\n",
    "        model.fit(X_train, y_train)\n",
    "\n",
    "        y_train_pred = model.predict(X_train)\n",
    "        y_val_pred = model.predict(X_val)\n",
    "\n",
    "        oof_non_rounded[test_idx] = y_val_pred\n",
    "        y_val_pred_rounded = y_val_pred.round(0).astype(int)\n",
    "        oof_rounded[test_idx] = y_val_pred_rounded\n",
    "\n",
    "        train_kappa = quadratic_weighted_kappa(y_train, y_train_pred.round(0).astype(int))\n",
    "        val_kappa = quadratic_weighted_kappa(y_val, y_val_pred_rounded)\n",
    "\n",
    "        train_S.append(train_kappa)\n",
    "        test_S.append(val_kappa)\n",
    "        \n",
    "        test_preds[:, fold] = model.predict(test_data)\n",
    "        \n",
    "        print(f\"Fold {fold+1} - Train QWK: {train_kappa:.4f}, Validation QWK: {val_kappa:.4f}\")\n",
    "        clear_output(wait=True)\n",
    "\n",
    "    print(f\"Mean Train QWK --> {np.mean(train_S):.4f}\")\n",
    "    print(f\"Mean Validation QWK ---> {np.mean(test_S):.4f}\")\n",
    "\n",
    "    KappaOPtimizer = minimize(evaluate_predictions,\n",
    "                              x0=[0.5, 1.5, 2.5], args=(y, oof_non_rounded), \n",
    "                              method='Nelder-Mead')\n",
    "    assert KappaOPtimizer.success, \"Optimization did not converge.\"\n",
    "    \n",
    "    oof_tuned = threshold_Rounder(oof_non_rounded, KappaOPtimizer.x)\n",
    "    tKappa = quadratic_weighted_kappa(y, oof_tuned)\n",
    "\n",
    "    print(f\"----> || Optimized QWK SCORE :: {Fore.CYAN}{Style.BRIGHT} {tKappa:.3f}{Style.RESET_ALL}\")\n",
    "\n",
    "    tpm = test_preds.mean(axis=1)\n",
    "    tpTuned = threshold_Rounder(tpm, KappaOPtimizer.x)\n",
    "    \n",
    "    submission = pd.DataFrame({\n",
    "        'id': sample['id'],\n",
    "        'sii': tpTuned\n",
    "    })\n",
    "\n",
    "    return submission"
   ]
  },
  {
   "cell_type": "markdown",
   "metadata": {},
   "source": [
    "\n",
    "# Hyperparameter Tuning\n",
    "\n",
    "- **LightGBM Parameters**: Hyperparameters such as `learning_rate`, `max_depth`, `num_leaves`, and `feature_fraction` are tuned to improve the performance of the LightGBM model. These parameters control the complexity of the model and its ability to generalize to new data.\n",
    "- **XGBoost and CatBoost Parameters**: Similar tuning is applied for XGBoost and CatBoost, adjusting parameters such as `n_estimators`, `max_depth`, `learning_rate`, `subsample`, and `regularization` terms (`reg_alpha`, `reg_lambda`). These help in controlling overfitting and ensuring the model's robustness."
   ]
  },
  {
   "cell_type": "code",
   "execution_count": null,
   "metadata": {},
   "outputs": [],
   "source": [
    "Params7 = {\n",
    "    'learning_rate': 0.03884249148676395,\n",
    "    'max_depth': 12,\n",
    "    'num_leaves': 413,\n",
    "    'min_data_in_leaf': 14,\n",
    "    'feature_fraction': 0.7987976913702801,\n",
    "    'bagging_fraction': 0.7602261703576205,\n",
    "    'bagging_freq': 2,\n",
    "    'lambda_l1': 4.735462555910575,\n",
    "    'lambda_l2': 4.735028557007343e-06\n",
    "} # CV : 0.4094 | LB : 0.471"
   ]
  },
  {
   "cell_type": "code",
   "execution_count": null,
   "metadata": {},
   "outputs": [],
   "source": [
    "Light = LGBMRegressor(**Params7, random_state=SEED, verbose=-1, n_estimators=200)"
   ]
  },
  {
   "cell_type": "code",
   "execution_count": null,
   "metadata": {},
   "outputs": [],
   "source": [
    "Submission1 = TrainML(Light, train_final, test_final)\n",
    "Submission1.to_csv('submission.csv', index=False)\n",
    "\n",
    "Submission1"
   ]
  }
 ],
 "metadata": {
  "kaggle": {
   "accelerator": "nvidiaTeslaT4",
   "dataSources": [
    {
     "databundleVersionId": 9643020,
     "sourceId": 81933,
     "sourceType": "competition"
    },
    {
     "datasetId": 921302,
     "sourceId": 7453542,
     "sourceType": "datasetVersion"
    }
   ],
   "dockerImageVersionId": 30776,
   "isGpuEnabled": true,
   "isInternetEnabled": false,
   "language": "python",
   "sourceType": "notebook"
  },
  "kernelspec": {
   "display_name": "Python 3 (ipykernel)",
   "language": "python",
   "name": "python3"
  },
  "language_info": {
   "codemirror_mode": {
    "name": "ipython",
    "version": 3
   },
   "file_extension": ".py",
   "mimetype": "text/x-python",
   "name": "python",
   "nbconvert_exporter": "python",
   "pygments_lexer": "ipython3",
   "version": "3.11.9"
  }
 },
 "nbformat": 4,
 "nbformat_minor": 4
}
